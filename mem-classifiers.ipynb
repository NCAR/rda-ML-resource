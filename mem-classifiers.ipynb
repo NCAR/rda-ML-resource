{
 "cells": [
  {
   "cell_type": "markdown",
   "id": "99e11c66-6378-4494-bd84-90ffca506a2c",
   "metadata": {},
   "source": [
    "# Intro"
   ]
  },
  {
   "cell_type": "markdown",
   "id": "c512010c-6e20-4a39-bfbf-8e690de8187c",
   "metadata": {},
   "source": [
    "This notebook is used to \n",
    "\n",
    "1. Train classifiers to predict used memory, and then \n",
    "\n",
    "2. Save the trained model along with the data it used. \n",
    "\n",
    "This includes a decision tree, a random forest, a gradient boosted decision tree model, and a logistic regressor.\n",
    "\n",
    "Fully and carefully evaluating the models should be done in test-model.ipynb, but there are some functions here to give a quick idea of whether the models are worth saving."
   ]
  },
  {
   "cell_type": "markdown",
   "id": "65b87cb7-01e5-4bcf-9ae1-d66bb40a2ded",
   "metadata": {},
   "source": [
    "# Notebook options"
   ]
  },
  {
   "cell_type": "markdown",
   "id": "16f1d8f6-521a-40bc-ba3e-8693f4eaaf63",
   "metadata": {},
   "source": [
    "There are 4 options for each model:\n",
    "\n",
    "1. 'train_model': Whether the notebook will train this type of model at all. If False, all other options can be ignored.\n",
    "\n",
    "2. 'grid_search': Whether the notebook will execute a grid search to find the best combination of hyperparameters. If False, the notebook will just use some pre-set parameters (which were found in previous grid searches).\n",
    "\n",
    "3. 'training_mode': Either 'normal', 'test', or 'final'. Data is always split 50-25-25 into training, validation, and test sets. Models are always trained on the training set to begin with. This option indicates whether the model will train on the training data only ('normal' mode), the training data and the validation data ('test' mode), or all three datasets ('final' mode). Note that any extra training data (from validation/test sets) is only introduced at the very end, after the scaling of the X values, and after the grid search.\n",
    "\n",
    "4. 'save_model': Whether the model will be saved after fitting to the data. \n",
    "\n",
    "The random forest model has a fifth option:\n",
    "\n",
    "5. 'n_jobs': How many jobs to run in parallel for training. Only used during the grid search (otherwise this setting would persist when the model is saved). "
   ]
  },
  {
   "cell_type": "code",
   "execution_count": 1,
   "id": "ea92a0f7-d0e4-4ebe-9e9f-76acddb02b79",
   "metadata": {},
   "outputs": [],
   "source": [
    "options = {'tree':   {'train_model': True,\n",
    "                      'grid_search': False,\n",
    "                      'training_mode': 'test',\n",
    "                      'save_model': True},\n",
    "           'forest': {'train_model': False,\n",
    "                      'grid_search': False,\n",
    "                      'training_mode': 'test',\n",
    "                      'save_model': False,\n",
    "                      'n_jobs': 1},\n",
    "           'gboost': {'train_model': False,\n",
    "                      'grid_search': False,\n",
    "                      'training_mode': 'final',\n",
    "                      'save_model': False},\n",
    "           'logist': {'train_model': False,\n",
    "                      'grid_search': False,\n",
    "                      'training_mode': 'normal',\n",
    "                      'save_model': False}\n",
    "          }\n",
    "\n",
    "tree_options = options['tree']\n",
    "forest_options = options['forest']\n",
    "gboost_options = options['gboost']\n",
    "logist_options = options['logist']"
   ]
  },
  {
   "cell_type": "markdown",
   "id": "454ad1f4-51c5-4269-b4c0-250b5415769b",
   "metadata": {},
   "source": [
    "# Imports"
   ]
  },
  {
   "cell_type": "code",
   "execution_count": 2,
   "id": "23c154bd-6209-4f8f-8575-4f0600cfa615",
   "metadata": {},
   "outputs": [
    {
     "name": "stderr",
     "output_type": "stream",
     "text": [
      "/glade/u/home/jdubeau/github/rda-ML-resource/venv/lib/python3.8/site-packages/hypopt/model_selection.py:39: UserWarning: If you want to see estimated completion times\n",
      "    while running methods in cleanlab.pruning, install tqdm\n",
      "    via \"pip install tqdm\".\n",
      "  warnings.warn(w)\n"
     ]
    }
   ],
   "source": [
    "import pandas as pd\n",
    "import numpy as np\n",
    "import math\n",
    "import time\n",
    "from sklearn.model_selection import train_test_split\n",
    "from sklearn.tree import DecisionTreeClassifier\n",
    "from sklearn.ensemble import RandomForestClassifier, \\\n",
    "                             GradientBoostingClassifier\n",
    "from sklearn.linear_model import LogisticRegression\n",
    "from sklearn.metrics import make_scorer\n",
    "from hypopt import GridSearch\n",
    "from preprocessing import get_df, scale, make_category_col\n",
    "from evaluation import score_regressor, \\\n",
    "                       print_feature_importances, \\\n",
    "                       plot_cm, \\\n",
    "                       print_cr, \\\n",
    "                       auc\n",
    "from persistence import model_saver"
   ]
  },
  {
   "cell_type": "markdown",
   "id": "29ca64bc-8359-4065-9f0e-cc99d46e78ce",
   "metadata": {},
   "source": [
    "# Preprocessing"
   ]
  },
  {
   "cell_type": "markdown",
   "id": "d33d7e53-0418-4888-a95a-ef8925f581d0",
   "metadata": {},
   "source": [
    "## General"
   ]
  },
  {
   "cell_type": "markdown",
   "id": "adbc7879-586d-454f-bb14-c925d83eb95e",
   "metadata": {},
   "source": [
    "Much of the general preprocessing work (used for both memory and time models) is handled in preprocessing.py. This includes adding composite features and handling missing values."
   ]
  },
  {
   "cell_type": "code",
   "execution_count": 3,
   "id": "272aac72-790e-4b96-9587-ce5f6108a74f",
   "metadata": {},
   "outputs": [
    {
     "name": "stdout",
     "output_type": "stream",
     "text": [
      "<class 'pandas.core.frame.DataFrame'>\n",
      "Int64Index: 50360 entries, 6132011 to 6785810\n",
      "Data columns (total 39 columns):\n",
      " #   Column           Non-Null Count  Dtype              \n",
      "---  ------           --------------  -----              \n",
      " 0   rinfo            50360 non-null  object             \n",
      " 1   request_type     50360 non-null  object             \n",
      " 2   job_start_at     50360 non-null  datetime64[ns]     \n",
      " 3   job_end_at       50360 non-null  datetime64[ns]     \n",
      " 4   req_mem          50360 non-null  float64            \n",
      " 5   used_mem         50360 non-null  float64            \n",
      " 6   dsnum            50360 non-null  object             \n",
      " 7   rqst_start_at    50327 non-null  datetime64[ns, UTC]\n",
      " 8   rqst_end_at      50248 non-null  datetime64[ns, UTC]\n",
      " 9   dates_init       50360 non-null  bool               \n",
      " 10  slat             32123 non-null  float64            \n",
      " 11  nlat             32123 non-null  float64            \n",
      " 12  wlon             32140 non-null  float64            \n",
      " 13  elon             32140 non-null  float64            \n",
      " 14  gui              50360 non-null  bool               \n",
      " 15  parameters       50194 non-null  object             \n",
      " 16  grid_definition  6902 non-null   object             \n",
      " 17  level            21329 non-null  object             \n",
      " 18  product          20607 non-null  object             \n",
      " 19  station          322 non-null    object             \n",
      " 20  tindex           18416 non-null  float64            \n",
      " 21  format           19638 non-null  object             \n",
      " 22  wall_time        50360 non-null  float64            \n",
      " 23  rqst_timespan    50360 non-null  float64            \n",
      " 24  grid_def_num     50360 non-null  float64            \n",
      " 25  level_num        50360 non-null  float64            \n",
      " 26  product_num      50360 non-null  float64            \n",
      " 27  station_num      50360 non-null  float64            \n",
      " 28  params_num       50360 non-null  float64            \n",
      " 29  rqst_area_rect   50360 non-null  float64            \n",
      " 30  PP               50360 non-null  bool               \n",
      " 31  SP               50360 non-null  bool               \n",
      " 32  BR               50360 non-null  bool               \n",
      " 33  converted        50360 non-null  bool               \n",
      " 34  ds084.1          50360 non-null  bool               \n",
      " 35  ds631.1          50360 non-null  bool               \n",
      " 36  ds083.3          50360 non-null  bool               \n",
      " 37  ds094.0          50360 non-null  bool               \n",
      " 38  ds083.2          50360 non-null  bool               \n",
      "dtypes: bool(11), datetime64[ns, UTC](2), datetime64[ns](2), float64(15), object(9)\n",
      "memory usage: 11.7+ MB\n"
     ]
    }
   ],
   "source": [
    "df = get_df()\n",
    "\n",
    "df.info()"
   ]
  },
  {
   "cell_type": "markdown",
   "id": "28e445cd-2411-4ff7-8348-56715baa8f93",
   "metadata": {},
   "source": [
    "## Categorization"
   ]
  },
  {
   "cell_type": "markdown",
   "id": "6b123ec5-b4d2-4939-bbf7-de38bdcadd5e",
   "metadata": {},
   "source": [
    "The coming blocks add a 'mem_category' column to the dataframe based on the categories we input in the next cell. The function make_category_col comes from preprocessing.py.\n",
    "\n",
    "The dictionary categories_dict holds the upper bound for each category of memory in megabytes."
   ]
  },
  {
   "cell_type": "code",
   "execution_count": 4,
   "id": "1dc3144c-4215-4dc7-9ef1-b49cf7c25420",
   "metadata": {},
   "outputs": [],
   "source": [
    "categories_dict = {0:50, 1:100, 2:200, \n",
    "                   3:500, 4:1000, 5:2000, \n",
    "                   6:10000, 7:20000, 8:50000}\n",
    "num_classes = len(categories_dict)"
   ]
  },
  {
   "cell_type": "code",
   "execution_count": 5,
   "id": "a6fb0e39-85ea-4a6a-9f66-c78dcd9e3c1a",
   "metadata": {},
   "outputs": [],
   "source": [
    "df = make_category_col(df, 'mem', categories_dict)"
   ]
  },
  {
   "cell_type": "markdown",
   "id": "f252873f-e410-46f7-8b41-8f31bcb121f9",
   "metadata": {},
   "source": [
    "The next cell is here to confirm that the categories were calculated correctly."
   ]
  },
  {
   "cell_type": "code",
   "execution_count": 6,
   "id": "a06703a0-59de-4a05-ac47-f1c34e5e93cb",
   "metadata": {},
   "outputs": [
    {
     "data": {
      "text/html": [
       "<div>\n",
       "<style scoped>\n",
       "    .dataframe tbody tr th:only-of-type {\n",
       "        vertical-align: middle;\n",
       "    }\n",
       "\n",
       "    .dataframe tbody tr th {\n",
       "        vertical-align: top;\n",
       "    }\n",
       "\n",
       "    .dataframe thead th {\n",
       "        text-align: right;\n",
       "    }\n",
       "</style>\n",
       "<table border=\"1\" class=\"dataframe\">\n",
       "  <thead>\n",
       "    <tr style=\"text-align: right;\">\n",
       "      <th></th>\n",
       "      <th>used_mem</th>\n",
       "      <th>mem_category</th>\n",
       "    </tr>\n",
       "  </thead>\n",
       "  <tbody>\n",
       "    <tr>\n",
       "      <th>6629547</th>\n",
       "      <td>93.417969</td>\n",
       "      <td>1</td>\n",
       "    </tr>\n",
       "    <tr>\n",
       "      <th>6488274</th>\n",
       "      <td>37.417969</td>\n",
       "      <td>0</td>\n",
       "    </tr>\n",
       "    <tr>\n",
       "      <th>6313144</th>\n",
       "      <td>68.066406</td>\n",
       "      <td>1</td>\n",
       "    </tr>\n",
       "    <tr>\n",
       "      <th>6406252</th>\n",
       "      <td>35.335938</td>\n",
       "      <td>0</td>\n",
       "    </tr>\n",
       "    <tr>\n",
       "      <th>6484913</th>\n",
       "      <td>26.367188</td>\n",
       "      <td>0</td>\n",
       "    </tr>\n",
       "    <tr>\n",
       "      <th>6593746</th>\n",
       "      <td>21.582031</td>\n",
       "      <td>0</td>\n",
       "    </tr>\n",
       "    <tr>\n",
       "      <th>6656432</th>\n",
       "      <td>39.375000</td>\n",
       "      <td>0</td>\n",
       "    </tr>\n",
       "    <tr>\n",
       "      <th>6377500</th>\n",
       "      <td>39.519531</td>\n",
       "      <td>0</td>\n",
       "    </tr>\n",
       "    <tr>\n",
       "      <th>6247410</th>\n",
       "      <td>38.003906</td>\n",
       "      <td>0</td>\n",
       "    </tr>\n",
       "    <tr>\n",
       "      <th>6420198</th>\n",
       "      <td>35.175781</td>\n",
       "      <td>0</td>\n",
       "    </tr>\n",
       "  </tbody>\n",
       "</table>\n",
       "</div>"
      ],
      "text/plain": [
       "          used_mem  mem_category\n",
       "6629547  93.417969             1\n",
       "6488274  37.417969             0\n",
       "6313144  68.066406             1\n",
       "6406252  35.335938             0\n",
       "6484913  26.367188             0\n",
       "6593746  21.582031             0\n",
       "6656432  39.375000             0\n",
       "6377500  39.519531             0\n",
       "6247410  38.003906             0\n",
       "6420198  35.175781             0"
      ]
     },
     "execution_count": 6,
     "metadata": {},
     "output_type": "execute_result"
    }
   ],
   "source": [
    "df[['used_mem', 'mem_category']].sample(10)"
   ]
  },
  {
   "cell_type": "markdown",
   "id": "f52c9665-1bd9-44b0-9fea-561cf19d4013",
   "metadata": {},
   "source": [
    "The next cell shows how many entries occupy each category."
   ]
  },
  {
   "cell_type": "code",
   "execution_count": 7,
   "id": "13a5ade9-8720-46fc-89db-57c188874fdc",
   "metadata": {},
   "outputs": [
    {
     "name": "stdout",
     "output_type": "stream",
     "text": [
      "0: < 50MB (22965 entries)\n",
      "1: >= 50MB and < 100MB (11126 entries)\n",
      "2: >= 100MB and < 200MB (8623 entries)\n",
      "3: >= 200MB and < 500MB (3169 entries)\n",
      "4: >= 500MB and < 1000MB (1639 entries)\n",
      "5: >= 1000MB and < 2000MB (2535 entries)\n",
      "6: >= 2000MB and < 10000MB (248 entries)\n",
      "7: >= 10000MB and < 20000MB (33 entries)\n",
      "8: >= 20000MB and < 50000MB (22 entries)\n"
     ]
    }
   ],
   "source": [
    "def print_category_counts():\n",
    "    bin_sizes = np.bincount(df['mem_category'])\n",
    "    print(f\"0: < {categories_dict[0]}MB ({bin_sizes[0]} entries)\")\n",
    "    for i in range(1, num_classes):\n",
    "        print(f\"{i}: >= {categories_dict[i-1]}MB\"\n",
    "              + f\" and < {categories_dict[i]}MB\"\n",
    "              + f\" ({bin_sizes[i]} entries)\")\n",
    "        \n",
    "print_category_counts()"
   ]
  },
  {
   "cell_type": "markdown",
   "id": "a3910a7e-2153-4ab1-8e6a-65c0a0897ee4",
   "metadata": {},
   "source": [
    "## Feature selection"
   ]
  },
  {
   "cell_type": "markdown",
   "id": "5ff20162-685b-4ff4-a357-f7e41e026207",
   "metadata": {},
   "source": [
    "All columns in X_features will be used to make predictions. \n",
    "\n",
    "Note that we only want to predict one of the columns in y_features (namely mem_category), but we keep the related information req_mem and used_mem there for future testing."
   ]
  },
  {
   "cell_type": "code",
   "execution_count": 8,
   "id": "49cd37f4-861b-42b6-bcab-5ef6540e6587",
   "metadata": {},
   "outputs": [],
   "source": [
    "X_features = ['PP', 'SP', 'BR', 'rqst_timespan', 'rqst_area_rect', 'converted',\n",
    "              'params_num', 'grid_def_num', 'level_num',\n",
    "              'ds084.1', 'ds631.1', 'ds083.3', 'ds094.0', 'ds083.2']\n",
    "y_features = ['req_mem', 'used_mem', 'mem_category']\n",
    "\n",
    "X = df[X_features]\n",
    "y = df[y_features]"
   ]
  },
  {
   "cell_type": "markdown",
   "id": "bf78d5e7-ca51-4adc-84f8-020a2e00c995",
   "metadata": {},
   "source": [
    "## Train/validation/test split"
   ]
  },
  {
   "cell_type": "markdown",
   "id": "67098684-337c-40ff-8294-62571fa80158",
   "metadata": {},
   "source": [
    "We split the data into training, validation, and testing sets according to the proportions in the next cell."
   ]
  },
  {
   "cell_type": "code",
   "execution_count": 9,
   "id": "e0ae54b0-125b-4ba3-8f24-61b2cf89595b",
   "metadata": {},
   "outputs": [],
   "source": [
    "train_amt = 0.5\n",
    "val_amt = 0.25\n",
    "test_amt = 0.25"
   ]
  },
  {
   "cell_type": "code",
   "execution_count": 10,
   "id": "3c8ad88f-fc10-47af-9e2a-28a973a5eea1",
   "metadata": {},
   "outputs": [],
   "source": [
    "X_train, X_target, y_train_full, y_target_full = \\\n",
    "                train_test_split(X, y, \n",
    "                test_size=1-train_amt, \n",
    "                random_state = 3)\n",
    "X_val, X_test, y_val_full, y_test_full = \\\n",
    "                train_test_split(X_target, y_target_full,\n",
    "                                 test_size = test_amt/train_amt,\n",
    "                                 random_state = 3)"
   ]
  },
  {
   "cell_type": "code",
   "execution_count": 11,
   "id": "c99acf27-0f46-495e-a807-d198222e7591",
   "metadata": {},
   "outputs": [],
   "source": [
    "y_train = np.ravel(y_train_full['mem_category'])\n",
    "y_val = np.ravel(y_val_full['mem_category'])\n",
    "y_test = np.ravel(y_test_full['mem_category'])"
   ]
  },
  {
   "cell_type": "markdown",
   "id": "51e93f45-8f55-447a-a2ab-6f1170104d06",
   "metadata": {},
   "source": [
    "## Scaling"
   ]
  },
  {
   "cell_type": "markdown",
   "id": "59a362cb-2306-49b1-961c-89e05f825dc6",
   "metadata": {},
   "source": [
    "The scaling function is from preprocessing.py -- it scales the training, validation, and test input data according to the statistics of the training set only. (This is to prevent data leakage.)"
   ]
  },
  {
   "cell_type": "code",
   "execution_count": 12,
   "id": "855b00ce-5a00-4ea1-a2c8-0699ce44960b",
   "metadata": {},
   "outputs": [],
   "source": [
    "X_train_norm, X_val_norm, X_test_norm = \\\n",
    "    scale(X_train, X_val, X_test)"
   ]
  },
  {
   "cell_type": "markdown",
   "id": "d3b3a979-0c99-4a39-82b0-d52f9aca568c",
   "metadata": {},
   "source": [
    "The data sets at our disposal now are:\n",
    "\n",
    "X_train, X_val, X_test: unscaled input data\n",
    "\n",
    "X_train_norm, X_val_norm, X_test_norm: scaled input data\n",
    "\n",
    "y_train, y_val, y_test: only the output data we want to predict\n",
    "\n",
    "y_train_full, y_val_full, y_test_full: the output data plus some additional info"
   ]
  },
  {
   "cell_type": "markdown",
   "id": "d7714b0d-b01f-4545-b2c1-88435c600b91",
   "metadata": {},
   "source": [
    "# Training"
   ]
  },
  {
   "cell_type": "markdown",
   "id": "c1c7b943-9f48-4579-bbcc-27e1b832b05c",
   "metadata": {},
   "source": [
    "The next cell creates a scorer object (sklearn.metrics._scorer._PredictScorer) which is used during grid searches. It replicates how the models automatically score themselves on the training set when class_weight='balanced' is passed as a parameter."
   ]
  },
  {
   "cell_type": "code",
   "execution_count": 13,
   "id": "dfd8c2c1-73b2-45ea-949a-80af8fb72ea7",
   "metadata": {},
   "outputs": [],
   "source": [
    "def balanced_score(y, y_pred, **kwargs):\n",
    "    n_samples = X_train.shape[0]\n",
    "    class_weights = n_samples / (num_classes * (np.bincount(y_train)))\n",
    "\n",
    "    score = 0\n",
    "    for i in range(len(y)):\n",
    "        if y[i] == y_pred[i]:\n",
    "            score += class_weights[y[i]]\n",
    "        \n",
    "    return score\n",
    "\n",
    "balanced_scorer = make_scorer(score_func=balanced_score,\n",
    "                              greater_is_better=True)"
   ]
  },
  {
   "cell_type": "markdown",
   "id": "32ddecac-cc19-49bd-a419-b253fb3d5717",
   "metadata": {},
   "source": [
    "Now the training begins.\n",
    "\n",
    "For all of the following models:\n",
    "\n",
    "- If the grid search option is on, a grid search will be performed and the optimal parameters will be printed, along with the time it took to execute the grid search. The best model found during the grid search will be fitted to the scaled training data and stored.\n",
    "\n",
    "- Otherwise, a model will be fitted to the scaled training data using whatever parameters are specified in the cell, and stored."
   ]
  },
  {
   "cell_type": "markdown",
   "id": "5ed5110a-ace6-429b-85be-466614642c09",
   "metadata": {},
   "source": [
    "## Trees and ensembles of trees"
   ]
  },
  {
   "cell_type": "markdown",
   "id": "65af00f3-185c-47d9-a64d-ee833aaafde7",
   "metadata": {},
   "source": [
    "### Tree"
   ]
  },
  {
   "cell_type": "code",
   "execution_count": 14,
   "id": "cbb07249-899c-4cda-947f-a050c75d7241",
   "metadata": {},
   "outputs": [],
   "source": [
    "if tree_options['train_model'] and tree_options['grid_search']:\n",
    "    start = time.time()\n",
    "    tree_param_grid = {'random_state':[3], \n",
    "                       'max_depth':range(2,20),\n",
    "                       'min_samples_split':range(2,20),\n",
    "                       'class_weight':['balanced']}\n",
    "    tree_gs = GridSearch(model=DecisionTreeClassifier(), \n",
    "                              param_grid=tree_param_grid,\n",
    "                              parallelize=False)\n",
    "    tree_gs.fit(X_train_norm, y_train, \n",
    "                X_val_norm, y_val, \n",
    "                scoring=balanced_scorer)\n",
    "    \n",
    "    print(tree_gs.best_params)\n",
    "    tree = tree_gs.best_estimator_\n",
    "    \n",
    "    end = time.time()\n",
    "    print(f\"Time = {end-start}\")\n",
    "\n",
    "elif tree_options['train_model']:\n",
    "    tree = DecisionTreeClassifier(class_weight='balanced',\n",
    "                                  max_depth=19, \n",
    "                                  min_samples_split=10,\n",
    "                                  random_state=3)\n",
    "    tree.fit(X_train_norm, y_train)\n",
    "else:\n",
    "    tree = DecisionTreeClassifier()"
   ]
  },
  {
   "cell_type": "markdown",
   "id": "25a2c8ab-e0db-4b5b-bf27-8e627aad5a75",
   "metadata": {},
   "source": [
    "### Forest"
   ]
  },
  {
   "cell_type": "code",
   "execution_count": 15,
   "id": "1b3e4f7f-95bd-4ae2-84e0-1a071cf7728c",
   "metadata": {},
   "outputs": [],
   "source": [
    "if forest_options['train_model'] and forest_options['grid_search']:\n",
    "    start = time.time()\n",
    "    forest_param_grid = {'random_state':[3],\n",
    "                         'max_depth':range(2,20),\n",
    "                         'min_samples_split':range(2,10),\n",
    "                         'n_estimators':range(50,300,50),\n",
    "                         'n_jobs':[forest_options['n_jobs']],\n",
    "                         'class_weight':['balanced']}\n",
    "    forest_gs = GridSearch(model=RandomForestClassifier(), \n",
    "                                param_grid=forest_param_grid,\n",
    "                                parallelize=False)\n",
    "    forest_gs.fit(X_train_norm, y_train,\n",
    "                  X_val_norm, y_val,\n",
    "                  scoring=balanced_scorer)\n",
    "    \n",
    "    print(forest_gs.best_params)\n",
    "    forest = forest_gs.best_estimator_\n",
    "    \n",
    "    end = time.time()\n",
    "    print(f\"Time = {end-start}\")\n",
    "elif forest_options['train_model']:\n",
    "    forest = RandomForestClassifier(class_weight='balanced',\n",
    "                                      max_depth=16,\n",
    "                                      min_samples_split=9,\n",
    "                                      n_estimators=50,\n",
    "                                      random_state=3)\n",
    "    forest.fit(X_train_norm, y_train)\n",
    "else:\n",
    "    forest = RandomForestClassifier()"
   ]
  },
  {
   "cell_type": "markdown",
   "id": "5bb8a78f-723e-49ce-be23-950c05bd84ab",
   "metadata": {},
   "source": [
    "### Gradient boosted trees"
   ]
  },
  {
   "cell_type": "markdown",
   "id": "3a367270-6c60-44d3-b770-8e1ba766d414",
   "metadata": {},
   "source": [
    "Scikit-learn currently has no class_weight parameter for GradientBoostingClassifier, so we use the default scoring metric in training and in the grid search."
   ]
  },
  {
   "cell_type": "code",
   "execution_count": 16,
   "id": "613558b7-d8b2-474a-91ce-b5f5108b0cf2",
   "metadata": {},
   "outputs": [],
   "source": [
    "if gboost_options['train_model'] and gboost_options['grid_search']:\n",
    "    start = time.time()\n",
    "    gboost_param_grid = {'random_state':[3],\n",
    "                         'max_depth':range(2,20),\n",
    "                         'n_estimators':range(50,300,50)}\n",
    "    gboost_gs = GridSearch(model=GradientBoostingClassifier(), \n",
    "                                param_grid=gboost_param_grid,\n",
    "                                parallelize=False)\n",
    "    gboost_gs.fit(X_train_norm, y_train, X_val_norm, y_val)\n",
    "    \n",
    "    print(gboost_gs.best_params)\n",
    "    gboost = gboost_gs.best_estimator_\n",
    "    \n",
    "    end = time.time()\n",
    "    print(f\"Time = {end-start}\")\n",
    "elif gboost_options['train_model']:\n",
    "    gboost = GradientBoostingClassifier(random_state=3,\n",
    "                                        max_depth=14,\n",
    "                                        n_estimators=150)\n",
    "    gboost.fit(X_train_norm, y_train)\n",
    "else:\n",
    "    gboost = GradientBoostingClassifier()"
   ]
  },
  {
   "cell_type": "markdown",
   "id": "f011d694-fa96-4dd8-870a-e3395096bce3",
   "metadata": {},
   "source": [
    "## Logistic regression"
   ]
  },
  {
   "cell_type": "markdown",
   "id": "3600960d-662d-4650-a7c5-4f76e4a390b0",
   "metadata": {},
   "source": [
    "Warning: for this particular problem, usually the training algorithms for logistic regression do not converge -- the result is that we can still train a logistic regression model, but it won't be a particularly great one."
   ]
  },
  {
   "cell_type": "code",
   "execution_count": 17,
   "id": "68999ddf-a8ec-47e4-a245-a7f09475bcfb",
   "metadata": {},
   "outputs": [],
   "source": [
    "if logist_options['train_model'] and logist_options['grid_search']:\n",
    "    start = time.time()\n",
    "    logist_param_grid = {'penalty':['l1', 'l2', 'none'],\n",
    "                         'C':[0.1, 1, 10],\n",
    "                         'max_iter':[200],\n",
    "                         'class_weight':['balanced'],\n",
    "                         'solver':['saga']}\n",
    "    logist_gs = GridSearch(model=LogisticRegression(), \n",
    "                                param_grid=logist_param_grid,\n",
    "                                parallelize=False)\n",
    "    logist_gs.fit(X_train_norm, y_train, \n",
    "                  X_val_norm, y_val,\n",
    "                  scoring=balanced_scorer)\n",
    "    \n",
    "    print(logist_gs.best_params)\n",
    "    logist = logist_gs.best_estimator_\n",
    "    \n",
    "    end = time.time()\n",
    "    print(f\"Time = {end-start}\")\n",
    "\n",
    "elif logist_options['train_model']:\n",
    "    logist = LogisticRegression(max_iter=200,\n",
    "                                class_weight='balanced',\n",
    "                                penalty='none',\n",
    "                                solver='saga')\n",
    "    logist.fit(X_train_norm, y_train)\n",
    "else:\n",
    "    logist = LogisticRegression()"
   ]
  },
  {
   "cell_type": "markdown",
   "id": "aacfc501-87d1-45a7-bb97-56432e0c91ee",
   "metadata": {},
   "source": [
    "# Extra training"
   ]
  },
  {
   "cell_type": "markdown",
   "id": "9434db35-0116-4bfa-a034-0c503edb7c4b",
   "metadata": {},
   "source": [
    "This section trains the models on extra data if their training_mode option is set to either 'test' or 'final'."
   ]
  },
  {
   "cell_type": "code",
   "execution_count": 18,
   "id": "c976b19b-4436-4497-b7a7-fe094f8bc921",
   "metadata": {},
   "outputs": [],
   "source": [
    "models_dict = {'tree': tree,\n",
    "               'forest': forest,\n",
    "               'gboost': gboost,\n",
    "               'logist': logist}"
   ]
  },
  {
   "cell_type": "code",
   "execution_count": 19,
   "id": "89106799-bc1e-43fb-9250-759f8041fbaa",
   "metadata": {},
   "outputs": [],
   "source": [
    "test_mode_X_train_norm = np.concatenate((X_train_norm, X_val_norm))\n",
    "test_mode_y_train = np.ravel(pd.concat([y_train_full,\n",
    "                                  y_val_full])['mem_category'])\n",
    "\n",
    "final_mode_X_train_norm = np.concatenate((X_train_norm,\n",
    "                              X_val_norm,\n",
    "                              X_test_norm))\n",
    "final_mode_y_train = np.ravel(pd.concat([y_train_full,\n",
    "                                  y_val_full,\n",
    "                                  y_test_full])['mem_category'])"
   ]
  },
  {
   "cell_type": "code",
   "execution_count": 20,
   "id": "04e066f6-7076-4ad3-8608-f9e4d1cb0a4c",
   "metadata": {},
   "outputs": [],
   "source": [
    "for model_name in models_dict:\n",
    "    if options[model_name]['train_model']:\n",
    "        if options[model_name]['training_mode'] == 'test':\n",
    "            models_dict[model_name].fit(test_mode_X_train_norm,\n",
    "                                        test_mode_y_train)\n",
    "        elif options[model_name]['training_mode'] == 'final':\n",
    "            models_dict[model_name].fit(final_mode_X_train_norm,\n",
    "                                        final_mode_y_train)"
   ]
  },
  {
   "cell_type": "markdown",
   "id": "16a8a6cb-55f4-4795-9e92-0a62f343f1fc",
   "metadata": {},
   "source": [
    "# Evaluation"
   ]
  },
  {
   "cell_type": "markdown",
   "id": "af1447d7-3abd-4577-ae24-bae0c26cfbee",
   "metadata": {},
   "source": [
    "Here we make some simple graphs and reports to give an idea whether our models are worth saving. Note that all figures and reports are done using the validation data -- if the models are set to 'test' or 'final' training modes, they will have already trained on this data!"
   ]
  },
  {
   "cell_type": "code",
   "execution_count": 22,
   "id": "6cec308b-a890-403f-aa8c-997bf4a5e82b",
   "metadata": {},
   "outputs": [
    {
     "data": {
      "text/plain": [
       "<Figure size 432x288 with 0 Axes>"
      ]
     },
     "metadata": {},
     "output_type": "display_data"
    },
    {
     "data": {
      "image/png": "[encoded data removed]",
      "text/plain": [
       "<Figure size 432x288 with 2 Axes>"
      ]
     },
     "metadata": {
      "needs_background": "light"
     },
     "output_type": "display_data"
    }
   ],
   "source": [
    "for model_name in models_dict:\n",
    "    if options[model_name]['train_model']:\n",
    "        plot_cm(X=X_val_norm, y_true=y_val,\n",
    "                model_name=model_name, \n",
    "                model=models_dict[model_name])"
   ]
  },
  {
   "cell_type": "code",
   "execution_count": 23,
   "id": "3a565c84-08da-434e-b331-0c1cb92aa56b",
   "metadata": {},
   "outputs": [
    {
     "name": "stdout",
     "output_type": "stream",
     "text": [
      "Classification report: tree\n",
      "              precision    recall  f1-score   support\n",
      "\n",
      "           0       0.95      0.88      0.91      5674\n",
      "           1       0.87      0.83      0.85      2778\n",
      "           2       0.85      0.92      0.88      2244\n",
      "           3       0.80      0.88      0.84       775\n",
      "           4       0.63      0.80      0.70       390\n",
      "           5       0.84      0.94      0.88       663\n",
      "           6       0.67      0.95      0.79        58\n",
      "           7       0.33      1.00      0.50         4\n",
      "           8       0.36      1.00      0.53         4\n",
      "\n",
      "    accuracy                           0.88     12590\n",
      "   macro avg       0.70      0.91      0.77     12590\n",
      "weighted avg       0.89      0.88      0.88     12590\n",
      "\n"
     ]
    }
   ],
   "source": [
    "for model_name in models_dict:\n",
    "    if options[model_name]['train_model']:\n",
    "        print(f\"Classification report: {model_name}\")\n",
    "        print_cr(X_val_norm, y_val, models_dict[model_name])"
   ]
  },
  {
   "cell_type": "markdown",
   "id": "d2f71d79-7cc9-4185-ad11-2a5a5573c8a9",
   "metadata": {},
   "source": [
    "# Persistence"
   ]
  },
  {
   "cell_type": "markdown",
   "id": "86649f7c-f9f9-46d0-80f0-577a4e5899d1",
   "metadata": {},
   "source": [
    "This section saves the models using the model_saver object from persistence.py. We begin by creating a 'notes' string for each model we intend to save, which by default just specifies which notebook options were used for that model."
   ]
  },
  {
   "cell_type": "code",
   "execution_count": 24,
   "id": "0cb0e480-e893-481e-bd8a-aadf7ea4b616",
   "metadata": {},
   "outputs": [
    {
     "name": "stdout",
     "output_type": "stream",
     "text": [
      "{'tree': 'Decision Tree Classifier. Trained on training and validation data. Grid search not performed. X values NOT scaled.'}\n"
     ]
    }
   ],
   "source": [
    "full_model_names = {'tree': 'Decision Tree Classifier',\n",
    "                    'forest': 'Random Forest Classifier',\n",
    "                    'gboost': 'Gradient Boosting Classifier',\n",
    "                    'logist': 'Logistic Regression'}\n",
    "\n",
    "training_data_names = {'normal': 'training',\n",
    "                       'test': 'training and validation',\n",
    "                       'final': 'training, validation, and testing'}\n",
    "\n",
    "model_notes = {}\n",
    "\n",
    "for model_name in models_dict:\n",
    "    if options[model_name]['train_model'] and options[model_name]['save_model']:\n",
    "        data_name = training_data_names[options[model_name]['training_mode']]\n",
    "        grid_search = options[model_name]['grid_search']\n",
    "        notes = f\"{full_model_names[model_name]}. \" \\\n",
    "                 + f\"Trained on {data_name} data. \" \\\n",
    "                 + f\"Grid search {'not ' if not grid_search else ''}performed. \" \\\n",
    "                 + \"X values NOT scaled.\"\n",
    "        model_notes[model_name] = notes\n",
    "        \n",
    "print(model_notes)"
   ]
  },
  {
   "cell_type": "markdown",
   "id": "fe38dbd4-c98a-4012-8c38-6f5ed48b9029",
   "metadata": {},
   "source": [
    "Now we save all the desired models. Note that by passing folder_path=None as a parameter to the model_saver object, models will be saved at the default path found in persistence.py, that is, /glade/work/jdubeau/model-saves/.\n",
    "\n",
    "This creates a folder for each model, e.g. /glade/work/jdubeau/model-saves/mem_class_forest_test2021-07-01-16:04/"
   ]
  },
  {
   "cell_type": "code",
   "execution_count": 25,
   "id": "d82c4723-693a-451d-9772-8ce7b193a538",
   "metadata": {},
   "outputs": [],
   "source": [
    "for model_name in models_dict:\n",
    "    if options[model_name]['train_model'] and options[model_name]['save_model']:\n",
    "        save_name = 'mem_class_' \\\n",
    "                    + model_name \\\n",
    "                    + '_' \\\n",
    "                    + options[model_name]['training_mode']\n",
    "        ms = model_saver(save_name, \n",
    "                         model_notes[model_name],\n",
    "                         models_dict[model_name], \n",
    "                         df, \n",
    "                         categories_dict,\n",
    "                         X_features,\n",
    "                         X_train, y_train_full,\n",
    "                         X_val, y_val_full,\n",
    "                         X_test, y_test_full,\n",
    "                         folder_path=None)\n",
    "        ms.save()"
   ]
  },
  {
   "cell_type": "code",
   "execution_count": null,
   "id": "a689bd43-12f0-4843-8476-14eba73107d6",
   "metadata": {},
   "outputs": [],
   "source": []
  }
 ],
 "metadata": {
  "kernelspec": {
   "display_name": "Python (venv)",
   "language": "python",
   "name": "venv"
  },
  "language_info": {
   "codemirror_mode": {
    "name": "ipython",
    "version": 3
   },
   "file_extension": ".py",
   "mimetype": "text/x-python",
   "name": "python",
   "nbconvert_exporter": "python",
   "pygments_lexer": "ipython3",
   "version": "3.8.8"
  },
  "toc-showmarkdowntxt": false
 },
 "nbformat": 4,
 "nbformat_minor": 5
}
