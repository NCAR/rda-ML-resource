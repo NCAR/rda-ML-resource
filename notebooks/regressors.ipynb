{
 "cells": [
  {
   "cell_type": "markdown",
   "id": "b541fb5d-0bfb-4d05-a015-446150a9f783",
   "metadata": {},
   "source": [
    "# Notebook options"
   ]
  },
  {
   "cell_type": "code",
   "execution_count": 1,
   "id": "b9a83d24-218b-4e66-ad1b-12e74c61fdd8",
   "metadata": {},
   "outputs": [],
   "source": [
    "grid_search = True\n",
    "save_model = True\n",
    "training_mode = 'normal'"
   ]
  },
  {
   "cell_type": "markdown",
   "id": "a2f1bd63-3433-43f2-a8a8-e080eaa3965d",
   "metadata": {},
   "source": [
    "# Imports and display options"
   ]
  },
  {
   "cell_type": "code",
   "execution_count": 2,
   "id": "29148f7e-2410-4938-81bf-51fdcfc44148",
   "metadata": {},
   "outputs": [
    {
     "name": "stderr",
     "output_type": "stream",
     "text": [
      "/glade/u/home/jdubeau/github/rda-ML-resource/venv/lib/python3.8/site-packages/hypopt/model_selection.py:39: UserWarning: If you want to see estimated completion times\n",
      "    while running methods in cleanlab.pruning, install tqdm\n",
      "    via \"pip install tqdm\".\n",
      "  warnings.warn(w)\n"
     ]
    }
   ],
   "source": [
    "import pandas as pd\n",
    "import numpy as np\n",
    "from sklearn.model_selection import train_test_split\n",
    "from sklearn.tree import DecisionTreeRegressor\n",
    "from sklearn.ensemble import RandomForestRegressor\n",
    "from sklearn.ensemble import GradientBoostingRegressor\n",
    "from sklearn.experimental import enable_hist_gradient_boosting\n",
    "from sklearn.ensemble import HistGradientBoostingRegressor\n",
    "from sklearn.metrics import mean_squared_error\n",
    "from sklearn.linear_model import LinearRegression\n",
    "from sklearn.linear_model import Ridge\n",
    "from sklearn.linear_model import Lasso\n",
    "from sklearn.neural_network import MLPRegressor\n",
    "from hypopt import GridSearch\n",
    "from preprocessing import get_df\n",
    "from preprocessing import scale\n",
    "from persistence import model_saver\n",
    "from evaluation import score_model, plot_performance\n",
    "import time"
   ]
  },
  {
   "cell_type": "code",
   "execution_count": 3,
   "id": "497120df-4c2f-4e51-ab7c-cb3f78ac0b4c",
   "metadata": {},
   "outputs": [],
   "source": [
    "pd.options.display.max_columns = None\n",
    "pd.options.display.max_rows = 75"
   ]
  },
  {
   "cell_type": "markdown",
   "id": "d60c6f60-6e4a-495e-974e-1bf8b453c971",
   "metadata": {},
   "source": [
    "# Load data"
   ]
  },
  {
   "cell_type": "code",
   "execution_count": 4,
   "id": "ada90513-1c9b-44c8-934d-e138540577d3",
   "metadata": {},
   "outputs": [],
   "source": [
    "df = get_df()"
   ]
  },
  {
   "cell_type": "code",
   "execution_count": 5,
   "id": "298c7610-c25c-4a2b-80da-1c636dec192c",
   "metadata": {},
   "outputs": [
    {
     "name": "stdout",
     "output_type": "stream",
     "text": [
      "<class 'pandas.core.frame.DataFrame'>\n",
      "Int64Index: 50360 entries, 6132011 to 6785810\n",
      "Data columns (total 39 columns):\n",
      " #   Column           Non-Null Count  Dtype              \n",
      "---  ------           --------------  -----              \n",
      " 0   rinfo            50360 non-null  object             \n",
      " 1   request_type     50360 non-null  object             \n",
      " 2   job_start_at     50360 non-null  datetime64[ns]     \n",
      " 3   job_end_at       50360 non-null  datetime64[ns]     \n",
      " 4   req_mem          50360 non-null  float64            \n",
      " 5   used_mem         50360 non-null  float64            \n",
      " 6   dsnum            48150 non-null  object             \n",
      " 7   rqst_start_at    50327 non-null  datetime64[ns, UTC]\n",
      " 8   rqst_end_at      50248 non-null  datetime64[ns, UTC]\n",
      " 9   dates_init       50360 non-null  bool               \n",
      " 10  slat             32123 non-null  float64            \n",
      " 11  nlat             32123 non-null  float64            \n",
      " 12  wlon             32140 non-null  float64            \n",
      " 13  elon             32140 non-null  float64            \n",
      " 14  gui              50360 non-null  bool               \n",
      " 15  parameters       50194 non-null  object             \n",
      " 16  grid_definition  6902 non-null   object             \n",
      " 17  level            21329 non-null  object             \n",
      " 18  product          20607 non-null  object             \n",
      " 19  station          322 non-null    object             \n",
      " 20  tindex           18416 non-null  float64            \n",
      " 21  format           19638 non-null  object             \n",
      " 22  wall_time        50360 non-null  float64            \n",
      " 23  rqst_timespan    50360 non-null  float64            \n",
      " 24  grid_def_num     50360 non-null  int64              \n",
      " 25  level_num        50360 non-null  int64              \n",
      " 26  product_num      50360 non-null  int64              \n",
      " 27  station_num      50360 non-null  int64              \n",
      " 28  params_num       50360 non-null  int64              \n",
      " 29  rqst_area_rect   50360 non-null  float64            \n",
      " 30  PP               50360 non-null  bool               \n",
      " 31  SP               50360 non-null  bool               \n",
      " 32  BR               50360 non-null  bool               \n",
      " 33  converted        50360 non-null  bool               \n",
      " 34  ds084.1          50360 non-null  bool               \n",
      " 35  ds631.1          50360 non-null  bool               \n",
      " 36  ds083.3          50360 non-null  bool               \n",
      " 37  ds094.0          50360 non-null  bool               \n",
      " 38  ds083.2          50360 non-null  bool               \n",
      "dtypes: bool(11), datetime64[ns, UTC](2), datetime64[ns](2), float64(10), int64(5), object(9)\n",
      "memory usage: 11.7+ MB\n"
     ]
    }
   ],
   "source": [
    "df.info()"
   ]
  },
  {
   "cell_type": "markdown",
   "id": "66ea349d-af55-4429-b25f-7806c637c6ad",
   "metadata": {
    "tags": []
   },
   "source": [
    "# Wall time models"
   ]
  },
  {
   "cell_type": "markdown",
   "id": "5aa3bf03-783b-4820-a851-4f685bc99026",
   "metadata": {
    "toc-hr-collapsed": true
   },
   "source": [
    "## Feature selection"
   ]
  },
  {
   "cell_type": "code",
   "execution_count": 6,
   "id": "ac30de8c-9d70-4e62-a06c-ce96713d6ced",
   "metadata": {},
   "outputs": [],
   "source": [
    "X_features = ['PP', 'SP', 'BR', 'rqst_timespan', 'rqst_area_rect', 'converted',\n",
    "              'params_num', 'grid_def_num', 'level_num',\n",
    "              'ds084.1', 'ds631.1', 'ds083.3', 'ds094.0', 'ds083.2']\n",
    "y_features = ['wall_time']\n",
    "\n",
    "X = df[X_features]\n",
    "y = df[y_features]"
   ]
  },
  {
   "cell_type": "code",
   "execution_count": 7,
   "id": "0c809527-7bc2-4232-890c-940fc2bc4166",
   "metadata": {},
   "outputs": [
    {
     "data": {
      "text/plain": [
       "(50360, 39)"
      ]
     },
     "execution_count": 7,
     "metadata": {},
     "output_type": "execute_result"
    }
   ],
   "source": [
    "df.shape"
   ]
  },
  {
   "cell_type": "markdown",
   "id": "821a4030-f739-48b3-8e4b-ea83d3e7a8d0",
   "metadata": {},
   "source": [
    "## Train/validation/test split"
   ]
  },
  {
   "cell_type": "code",
   "execution_count": 8,
   "id": "8d00a03e-e1b4-445a-a108-08ff00bd1e3b",
   "metadata": {},
   "outputs": [],
   "source": [
    "train_amt = 0.5\n",
    "val_amt = 0.25\n",
    "test_amt = 0.25"
   ]
  },
  {
   "cell_type": "code",
   "execution_count": 9,
   "id": "9db63f93-0f85-4924-9603-eb3d76b9f740",
   "metadata": {},
   "outputs": [],
   "source": [
    "X_train, X_target, y_train_full, y_target_full = \\\n",
    "                train_test_split(X, y, \n",
    "                test_size=1-train_amt, \n",
    "                random_state = 3)\n",
    "X_val, X_test,y_val_full, y_test_full = \\\n",
    "                train_test_split(X_target, y_target_full,\n",
    "                                 test_size = test_amt/train_amt,\n",
    "                                 random_state = 3)\n"
   ]
  },
  {
   "cell_type": "code",
   "execution_count": 10,
   "id": "63757e4b-fb07-4db9-8cad-b72a6ab1ffae",
   "metadata": {},
   "outputs": [],
   "source": [
    "y_train = np.ravel(y_train_full)\n",
    "y_val = np.ravel(y_val_full)\n",
    "y_test = np.ravel(y_test_full)"
   ]
  },
  {
   "cell_type": "code",
   "execution_count": 11,
   "id": "283dd0f6-3d4a-4786-a675-30cc0bc85f17",
   "metadata": {},
   "outputs": [],
   "source": [
    "log_y_train = np.log10(y_train)\n",
    "log_y_val = np.log10(y_val)\n",
    "log_y_test = np.log10(y_test)"
   ]
  },
  {
   "cell_type": "markdown",
   "id": "a54208d4-3dbb-4dde-846c-e10edd47716a",
   "metadata": {},
   "source": [
    "## Scaling"
   ]
  },
  {
   "cell_type": "code",
   "execution_count": 12,
   "id": "0680a23c-1623-4f33-b51a-7ac338623ee1",
   "metadata": {},
   "outputs": [],
   "source": [
    "X_train_norm, X_val_norm, X_test_norm = \\\n",
    "        scale(X_train, X_val, X_test)"
   ]
  },
  {
   "cell_type": "markdown",
   "id": "f8d04ca9-815e-44ee-a02c-c6ae79b3c6dd",
   "metadata": {
    "toc-hr-collapsed": true
   },
   "source": [
    "## Trees, Forest, Gradient Boosts"
   ]
  },
  {
   "cell_type": "markdown",
   "id": "5ff99ed5-6561-4412-bc8a-6e805d237f5d",
   "metadata": {},
   "source": [
    "### Tree"
   ]
  },
  {
   "cell_type": "code",
   "execution_count": 12,
   "id": "914b3e3f-9b0f-4b4e-b0aa-2f4964586a5b",
   "metadata": {},
   "outputs": [],
   "source": [
    "if grid_search:\n",
    "    tree_param_grid = {'random_state':[3], 'max_depth':range(2,15)}\n",
    "    tree_gs = GridSearch(model=DecisionTreeRegressor(), \n",
    "                              param_grid=tree_param_grid,\n",
    "                              parallelize=False)\n",
    "    tree_gs.fit(X_train_norm, y_train, X_val_norm, y_val)\n",
    "    print(tree_gs.best_params)\n",
    "    tree = tree_gs.best_estimator_\n",
    "    \n",
    "else:\n",
    "    tree_params = {'max_depth': 14, 'random_state': 3}\n",
    "    tree = DecisionTreeRegressor(**tree_params)\n",
    "    tree.fit(X_train_norm, y_train)"
   ]
  },
  {
   "cell_type": "markdown",
   "id": "1ba23fad-4a62-442a-9010-b611d64d2ecf",
   "metadata": {},
   "source": [
    "### Forest"
   ]
  },
  {
   "cell_type": "code",
   "execution_count": 18,
   "id": "43954ae6-66cb-45a3-b3b2-207fdce81d5c",
   "metadata": {},
   "outputs": [
    {
     "name": "stdout",
     "output_type": "stream",
     "text": [
      "Time = 221.86210823059082\n",
      "{'max_depth': 14, 'min_samples_split': 5, 'n_estimators': 250, 'n_jobs': 20, 'random_state': 3}\n"
     ]
    }
   ],
   "source": [
    "if grid_search:\n",
    "    start = time.time()\n",
    "    forest_param_grid = {'random_state':[3], 'max_depth':range(2,15),\n",
    "                              'n_jobs':[20],\n",
    "                              'n_estimators':[50, 75, 100, 125, 150, \n",
    "                                              175, 200, 225, 250],\n",
    "                              'min_samples_split':range(5,30, 5)}\n",
    "    forest_gs = GridSearch(model=RandomForestRegressor(), \n",
    "                                param_grid=forest_param_grid,\n",
    "                                parallelize=False)\n",
    "    forest_gs.fit(X_train_norm, log_y_train, X_val_norm, log_y_val)\n",
    "    end = time.time()\n",
    "    print(f\"Time = {end-start}\")\n",
    "    print(forest_gs.best_params)\n",
    "    forest = forest_gs.best_estimator_\n",
    "    \n",
    "else:\n",
    "    forest_params = {'max_depth': 14, 'n_estimators': 250,\n",
    "                     'min_samples_split':5, 'random_state': 3}\n",
    "    forest = RandomForestRegressor(**forest_params)\n",
    "    forest.fit(X_train_norm, log_y_train)"
   ]
  },
  {
   "cell_type": "markdown",
   "id": "576d4656-05ba-4ad6-a25e-93c93a50504e",
   "metadata": {},
   "source": [
    "### Gradient boosted trees"
   ]
  },
  {
   "cell_type": "code",
   "execution_count": 14,
   "id": "c08b78db-9b7f-4c96-8111-526e17233ddd",
   "metadata": {},
   "outputs": [
    {
     "name": "stdout",
     "output_type": "stream",
     "text": [
      "Time = 282.89883685112\n",
      "{'max_depth': 11, 'n_estimators': 200, 'random_state': 3}\n"
     ]
    }
   ],
   "source": [
    "if grid_search:\n",
    "    start = time.time()\n",
    "    gboost_param_grid = {'random_state':[3], \n",
    "                         'max_depth':range(2,15),\n",
    "                         'n_estimators':range(50,300,50)}\n",
    "    gboost_gs = GridSearch(model=GradientBoostingRegressor(),\n",
    "                                param_grid=gboost_param_grid,\n",
    "                                parallelize=False)\n",
    "    gboost_gs.fit(X_train_norm, log_y_train, X_val_norm, log_y_val)\n",
    "    end = time.time()\n",
    "    print(f\"Time = {end-start}\")\n",
    "    print(gboost_gs.best_params)\n",
    "    gboost = gboost_gs.best_estimator_\n",
    "\n",
    "else:\n",
    "    gboost_params = {'max_depth': 1, 'n_estimators': 200, 'random_state': 3}\n",
    "    gboost = GradientBoostingRegressor(**gboost_params)\n",
    "    gboost.fit(X_train_norm, log_y_train)"
   ]
  },
  {
   "cell_type": "code",
   "execution_count": 15,
   "id": "7313dd9c-488e-4203-ad8d-1d2f059ea36b",
   "metadata": {},
   "outputs": [],
   "source": [
    "if grid_search:\n",
    "    hist_gboost_param_grid = {'random_state':[3],\n",
    "                               'max_depth':range(8,20),\n",
    "                               'min_samples_leaf':range(15,35,5),\n",
    "                               'max_iter':[100,150, 200, 250, 300],\n",
    "                               'l2_regularization':[0.0, 0.1, 1.0, 10.0]}\n",
    "    hist_gboost_gs = GridSearch(model=HistGradientBoostingRegressor(), \n",
    "                                param_grid=hist_gboost_param_grid,\n",
    "                                parallelize=False)\n",
    "    hist_gboost_gs.fit(X_train_norm, y_train, \n",
    "                       X_val_norm, y_val)\n",
    "    print(hist_gboost_gs.best_params)\n",
    "    hist_gboost = hist_gboost_gs.best_estimator_\n",
    "else:\n",
    "    hist_gboost = HistGradientBoostingRegressor(random_state=3,\n",
    "                                        max_depth=15,\n",
    "                                        max_iter=1000,\n",
    "                                        min_samples_leaf=15,\n",
    "                                        l2_regularization=1.0)\n",
    "    hist_gboost.fit(X_train_norm, y_train)"
   ]
  },
  {
   "cell_type": "markdown",
   "id": "d3bfff1d-f918-4e5a-97af-80123c82f4d8",
   "metadata": {
    "toc-hr-collapsed": true
   },
   "source": [
    "## Linear regressors"
   ]
  },
  {
   "cell_type": "markdown",
   "id": "9bb38995-76b0-4736-a33b-0e399c364f58",
   "metadata": {},
   "source": [
    "### Basic linear regression"
   ]
  },
  {
   "cell_type": "code",
   "execution_count": 16,
   "id": "7b41d710-f82a-4f77-bcae-29e4022261b6",
   "metadata": {},
   "outputs": [],
   "source": [
    "linear = LinearRegression().fit(X_train_norm, y_train)"
   ]
  },
  {
   "cell_type": "markdown",
   "id": "da5e0aad-023d-493d-b58a-9dfff7972f6e",
   "metadata": {},
   "source": [
    "### Ridge regression"
   ]
  },
  {
   "cell_type": "code",
   "execution_count": 17,
   "id": "e260bf01-cc68-4819-88ee-748f8e909c2c",
   "metadata": {},
   "outputs": [],
   "source": [
    "ridge10 = Ridge(alpha=10).fit(X_train_norm, y_train)\n",
    "ridge1 = Ridge(alpha=1).fit(X_train_norm, y_train)\n",
    "ridge01 = Ridge(alpha=0.1).fit(X_train_norm, y_train)"
   ]
  },
  {
   "cell_type": "markdown",
   "id": "ecab0381-f2fb-483f-839a-580af5b923cc",
   "metadata": {},
   "source": [
    "### Lasso regression"
   ]
  },
  {
   "cell_type": "code",
   "execution_count": 18,
   "id": "a8b1171f-4d31-4fa4-a0c6-22326d00ddd8",
   "metadata": {},
   "outputs": [],
   "source": [
    "lasso = Lasso(alpha=0.01, max_iter=100000).fit(X_train_norm, y_train)"
   ]
  },
  {
   "cell_type": "markdown",
   "id": "d9db0eb7-a3b1-4c87-9615-e7f40c823908",
   "metadata": {},
   "source": [
    "## Neural nets"
   ]
  },
  {
   "cell_type": "code",
   "execution_count": 19,
   "id": "b200d02c-457a-4e84-93f2-8f15e98b17df",
   "metadata": {},
   "outputs": [
    {
     "name": "stderr",
     "output_type": "stream",
     "text": [
      "/glade/u/home/jdubeau/anaconda3/lib/python3.8/site-packages/sklearn/neural_network/_multilayer_perceptron.py:619: UserWarning: Training interrupted by user.\n",
      "  warnings.warn(\"Training interrupted by user.\")\n"
     ]
    },
    {
     "data": {
      "text/plain": [
       "MLPRegressor(hidden_layer_sizes=(200, 200, 200, 200), max_iter=500,\n",
       "             random_state=3)"
      ]
     },
     "execution_count": 19,
     "metadata": {},
     "output_type": "execute_result"
    }
   ],
   "source": [
    "net = MLPRegressor(random_state=3,\n",
    "                   hidden_layer_sizes=(200,200,200,200),\n",
    "                   max_iter=500)\n",
    "net.fit(X_train_norm, log_y_train)"
   ]
  },
  {
   "cell_type": "markdown",
   "id": "b1fdf762-b720-437a-9aa6-a0844574444b",
   "metadata": {},
   "source": [
    "# Extra training"
   ]
  },
  {
   "cell_type": "code",
   "execution_count": 30,
   "id": "72140a9d-31fe-4c3c-8671-3f920c8b7f75",
   "metadata": {},
   "outputs": [],
   "source": [
    "test_mode_X_train_norm = np.concatenate((X_train_norm, X_val_norm))\n",
    "log_test_mode_y_train = np.log10(np.ravel(pd.concat([y_train_full,\n",
    "                                  y_val_full])['wall_time']))\n",
    "\n",
    "final_mode_X_train_norm = np.concatenate((X_train_norm,\n",
    "                              X_val_norm,\n",
    "                              X_test_norm))\n",
    "log_final_mode_y_train = np.log10(np.ravel(pd.concat([y_train_full,\n",
    "                                  y_val_full,\n",
    "                                  y_test_full])['wall_time']))"
   ]
  },
  {
   "cell_type": "code",
   "execution_count": 36,
   "id": "ba5f68be-94e6-493f-9331-bc107dfb8380",
   "metadata": {},
   "outputs": [
    {
     "data": {
      "text/plain": [
       "GradientBoostingRegressor(max_depth=11, n_estimators=200, random_state=3)"
      ]
     },
     "execution_count": 36,
     "metadata": {},
     "output_type": "execute_result"
    }
   ],
   "source": [
    "gboost.fit(final_mode_X_train_norm, log_final_mode_y_train)"
   ]
  },
  {
   "cell_type": "markdown",
   "id": "182bf681-b499-41e1-8a5e-926fe88abb01",
   "metadata": {},
   "source": [
    "# Model evaluation"
   ]
  },
  {
   "cell_type": "code",
   "execution_count": 41,
   "id": "f201f400-5cc0-4e5b-a65e-d1afcb303a54",
   "metadata": {},
   "outputs": [
    {
     "name": "stdout",
     "output_type": "stream",
     "text": [
      "Training score: 0.9429\n",
      "Validation score: 0.9471\n"
     ]
    }
   ],
   "source": [
    "score_model(X_train_norm, log_y_train, X_val_norm, log_y_val, gboost)"
   ]
  },
  {
   "cell_type": "code",
   "execution_count": 38,
   "id": "4593ee37-649d-4768-a4ed-4fe2706f38aa",
   "metadata": {},
   "outputs": [
    {
     "name": "stdout",
     "output_type": "stream",
     "text": [
      "Training score: 0.841\n",
      "Validation score: 0.8101\n"
     ]
    }
   ],
   "source": [
    "score_model(X_train_norm, log_y_train, \n",
    "            X_val_norm, log_y_val, \n",
    "            forest)"
   ]
  },
  {
   "cell_type": "code",
   "execution_count": 39,
   "id": "80eb07a7-e863-4ed4-b348-594c80ea7fde",
   "metadata": {},
   "outputs": [
    {
     "data": {
      "image/png": "[encoded data removed]",
      "text/plain": [
       "<Figure size 432x288 with 1 Axes>"
      ]
     },
     "metadata": {
      "needs_background": "light"
     },
     "output_type": "display_data"
    }
   ],
   "source": [
    "plot_performance(X_val_norm, log_y_val, gboost)"
   ]
  },
  {
   "cell_type": "markdown",
   "id": "d3f9b465-97ee-4e1d-8641-d610a014c828",
   "metadata": {},
   "source": [
    "# Model persistence"
   ]
  },
  {
   "cell_type": "code",
   "execution_count": 42,
   "id": "be6df13c-1410-4891-9a38-29cb6af6ec49",
   "metadata": {},
   "outputs": [
    {
     "name": "stdout",
     "output_type": "stream",
     "text": [
      "Gradient Boosting Regressor. Trained on training, validation, and test data. Grid search performed. y values transformed with log. X values NOT scaled.\n"
     ]
    }
   ],
   "source": [
    "notes = \"Gradient Boosting Regressor. \" \\\n",
    "         + \"Trained on training, validation, and test data. \" \\\n",
    "         + f\"Grid search {'not ' if not grid_search else ''}performed. \" \\\n",
    "         + \"y values transformed with log. \" \\\n",
    "         + \"X values NOT scaled.\"\n",
    "\n",
    "print(notes)"
   ]
  },
  {
   "cell_type": "code",
   "execution_count": 43,
   "id": "b1ab0cf3-cc39-45b9-b49a-0eb3f422b565",
   "metadata": {},
   "outputs": [],
   "source": [
    "if save_model:\n",
    "    ms = model_saver('time_regr_log_gboost_final', notes,\n",
    "                   gboost, df,\n",
    "                   None,\n",
    "                   X_features,\n",
    "                   X_train, y_train_full,\n",
    "                   X_val, y_val_full,\n",
    "                   X_test, y_test_full)\n",
    "    ms.save()"
   ]
  },
  {
   "cell_type": "code",
   "execution_count": null,
   "id": "e767ac19-02ef-4f7a-8abc-b3db487bdc42",
   "metadata": {},
   "outputs": [],
   "source": []
  }
 ],
 "metadata": {
  "kernelspec": {
   "display_name": "Python (venv)",
   "language": "python",
   "name": "venv"
  },
  "language_info": {
   "codemirror_mode": {
    "name": "ipython",
    "version": 3
   },
   "file_extension": ".py",
   "mimetype": "text/x-python",
   "name": "python",
   "nbconvert_exporter": "python",
   "pygments_lexer": "ipython3",
   "version": "3.8.8"
  }
 },
 "nbformat": 4,
 "nbformat_minor": 5
}
