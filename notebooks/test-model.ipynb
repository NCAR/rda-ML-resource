{
 "cells": [
  {
   "cell_type": "markdown",
   "id": "08d5eedb-eaf9-46b7-a6d9-6dbf7bdd2e6e",
   "metadata": {},
   "source": [
    "# Intro"
   ]
  },
  {
   "cell_type": "markdown",
   "id": "2c6de6af-7f19-4a8c-9d3f-5f8df943d88f",
   "metadata": {},
   "source": [
    "This notebook is used to do in-depth tests and exploration of trained models. It supports one of each type of model at a time: memory (classification), time (classification), and time (regression). "
   ]
  },
  {
   "cell_type": "markdown",
   "id": "c00e2ca3-28a8-4fd2-b3a7-4d6eb8dcd7a9",
   "metadata": {},
   "source": [
    "# Notebook options"
   ]
  },
  {
   "cell_type": "markdown",
   "id": "e2f5193a-5c1b-4f4f-8004-ad8627eee050",
   "metadata": {},
   "source": [
    "There are 3 options for each model:\n",
    "\n",
    "1. 'explore_model': Whether the notebook will explore this model at all. If False, all other options can be ignored.\n",
    "\n",
    "2. 'path': Either 'auto', or a path to the folder creating the model's data (as saved by the model_saver object from persistence.py). If set to 'auto', the notebook will load the path from model_config.json (the same path used for apply_model.py).\n",
    "\n",
    "3. 'training_mode': Either 'normal', 'test', or 'final'. Whether the model was trained on training data only ('normal'), training data and validation data ('test'), or training validation and testing data ('final'). This changes what data the evaluation reports and graphs are based on. In normal mode, the model will be evaluated using validation data; in test mode, the model will be evaluated using testing data; in final mode, we still use testing data, but these evaluations are practically meaningless since the model has trained on that data!"
   ]
  },
  {
   "cell_type": "code",
   "execution_count": 1,
   "id": "982b8b5c-0d48-416f-9933-d5a949e8ba3c",
   "metadata": {
    "tags": []
   },
   "outputs": [],
   "source": [
    "options = {'mem':       {'explore_model': True,\n",
    "                         'path': '/glade/work/jdubeau/model-saves/mem_class_tree_test2021-07-21-17:09/',\n",
    "                         'training_mode': 'test'},\n",
    "           'time':      {'explore_model': False,\n",
    "                         'path': 'auto',\n",
    "                         'training_mode': 'final'},\n",
    "           'time_regr': {'explore_model': True,\n",
    "                         'path': 'auto',\n",
    "                         'training_mode': 'final'}\n",
    "          }\n",
    "\n",
    "model_types = ['mem', 'time', 'time_regr']\n",
    "mem_options = options['mem']\n",
    "time_options = options['time']\n",
    "time_regr_options = options['time_regr']"
   ]
  },
  {
   "cell_type": "markdown",
   "id": "d91dca4d-1838-4a9f-8aa1-5be3f2d3e46e",
   "metadata": {},
   "source": [
    "# Imports and display options"
   ]
  },
  {
   "cell_type": "code",
   "execution_count": 2,
   "id": "b60e5a1c-e1a5-4497-8cdb-281f2e56ba44",
   "metadata": {},
   "outputs": [],
   "source": [
    "from math import exp\n",
    "import pandas as pd\n",
    "import pickle\n",
    "import numpy as np\n",
    "import matplotlib.pyplot as plt\n",
    "from itertools import product\n",
    "from preprocessing import scale\n",
    "from preprocessing import scale_other\n",
    "from persistence import model_saver\n",
    "from evaluation import print_feature_importances, \\\n",
    "                       plot_cm, print_cr, auc, \\\n",
    "                       plot_regr_performance, \\\n",
    "                       score_regressor\n",
    "from apply_model import get_settings, predict_for_testing, \\\n",
    "                        custom_predict, predict_regr, \\\n",
    "                        translate_predictions, \\\n",
    "                        scale_predictions"
   ]
  },
  {
   "cell_type": "code",
   "execution_count": 3,
   "id": "9e323b25-d336-40c2-b7ae-13fef11aaff9",
   "metadata": {},
   "outputs": [],
   "source": [
    "from matplotlib import rcParams\n",
    "rcParams.update({'figure.autolayout': True})"
   ]
  },
  {
   "cell_type": "markdown",
   "id": "a121cbc4-3c12-49a0-b10b-e22250f12a8a",
   "metadata": {},
   "source": [
    "# Loading models and associated data"
   ]
  },
  {
   "cell_type": "markdown",
   "id": "dcc1e7a6-4a0d-41fd-a1a5-17c0d65b8ef3",
   "metadata": {},
   "source": [
    "First we load the settings used in apply_model.py. We primarily need the paths to each model and the scaling options."
   ]
  },
  {
   "cell_type": "code",
   "execution_count": 4,
   "id": "766a7864-b4fa-4134-8e0c-8ca8f07d6193",
   "metadata": {},
   "outputs": [],
   "source": [
    "settings = get_settings()"
   ]
  },
  {
   "cell_type": "code",
   "execution_count": 5,
   "id": "86aaddcf-00b1-4c89-9e2d-a2da843e0540",
   "metadata": {},
   "outputs": [],
   "source": [
    "model_data = {}\n",
    "\n",
    "for mtype in model_types:\n",
    "    if options[mtype]['path'] == 'auto':\n",
    "        model_path = settings['model_paths'][mtype]\n",
    "    else:\n",
    "        model_path = options[mtype]['path']\n",
    "        \n",
    "    ms = model_saver()\n",
    "    ms.load(model_path)\n",
    "    \n",
    "    data_names = ['notes', 'model', 'model_df', 'categories_dict',\n",
    "                  'X_features', 'X_train', 'y_train_full', 'X_val',\n",
    "                  'y_val_full', 'X_test', 'y_test_full']\n",
    "    data = ms.get_all()\n",
    "    \n",
    "    model_data[mtype] = {data_names[i]: data[i] for i in range(len(data))}\n",
    "    \n",
    "mem_data = model_data['mem']\n",
    "time_data = model_data['time']\n",
    "time_regr_data = model_data['time_regr']"
   ]
  },
  {
   "cell_type": "code",
   "execution_count": 6,
   "id": "24af49d9-56ab-4102-9a71-6f26903a6994",
   "metadata": {},
   "outputs": [],
   "source": [
    "full_names = {'mem': \"Memory Classifier\",\n",
    "              'time': \"Time Classifier\",\n",
    "              'time_regr': \"Time Regressor\"}"
   ]
  },
  {
   "cell_type": "markdown",
   "id": "a58b4d3a-8eb4-428e-aeef-1dc441e2dea7",
   "metadata": {},
   "source": [
    "# Exploration"
   ]
  },
  {
   "cell_type": "markdown",
   "id": "2e1954bd-bb0d-4267-b621-5efcdfc2b465",
   "metadata": {},
   "source": [
    "## Notes"
   ]
  },
  {
   "cell_type": "code",
   "execution_count": 7,
   "id": "0b2cae56-e305-48ad-867d-866d12fb5d35",
   "metadata": {},
   "outputs": [
    {
     "name": "stdout",
     "output_type": "stream",
     "text": [
      "Memory Classifier notes:\n",
      "Decision Tree Classifier. Trained on training and validation data. Grid search not performed. X values NOT scaled.\n",
      "-------\n",
      "Time Regressor notes:\n",
      "Gradient Boosting Regressor. Trained on training, validation, and test data. Grid search performed. y values transformed with log. X values NOT scaled.\n",
      "-------\n"
     ]
    }
   ],
   "source": [
    "for mtype in model_types:\n",
    "    if options[mtype]['explore_model']:\n",
    "        print(f\"{full_names[mtype]} notes:\")\n",
    "        print(model_data[mtype]['notes'])\n",
    "        print(\"-------\")"
   ]
  },
  {
   "cell_type": "markdown",
   "id": "02df38bf-edab-4f53-90a4-f2ddc4bad263",
   "metadata": {},
   "source": [
    "## Feature Importances"
   ]
  },
  {
   "cell_type": "code",
   "execution_count": 8,
   "id": "d379c811-1741-422c-b7fd-f243f11e2fcb",
   "metadata": {},
   "outputs": [
    {
     "name": "stdout",
     "output_type": "stream",
     "text": [
      "Memory Classifier feature importances:\n",
      "('PP', 0.496)\n",
      "('SP', 10.27)\n",
      "('BR', 1.169)\n",
      "('rqst_timespan', 33.649)\n",
      "('rqst_area_rect', 13.668)\n",
      "('converted', 6.693)\n",
      "('params_num', 14.932)\n",
      "('grid_def_num', 1.518)\n",
      "('level_num', 7.599)\n",
      "('ds084.1', 4.826)\n",
      "('ds631.1', 0.268)\n",
      "('ds083.3', 2.581)\n",
      "('ds094.0', 1.43)\n",
      "('ds083.2', 0.899)\n",
      "-------\n",
      "Time Regressor feature importances:\n",
      "('PP', 3.381)\n",
      "('SP', 1.98)\n",
      "('BR', 1.65)\n",
      "('rqst_timespan', 28.603)\n",
      "('rqst_area_rect', 17.979)\n",
      "('converted', 2.885)\n",
      "('params_num', 15.603)\n",
      "('grid_def_num', 2.753)\n",
      "('level_num', 5.112)\n",
      "('ds084.1', 1.662)\n",
      "('ds631.1', 11.052)\n",
      "('ds083.3', 0.445)\n",
      "('ds094.0', 4.402)\n",
      "('ds083.2', 2.493)\n",
      "-------\n"
     ]
    }
   ],
   "source": [
    "for mtype in model_types:\n",
    "    if options[mtype]['explore_model']:\n",
    "        X_features = model_data[mtype]['X_features']\n",
    "        model = model_data[mtype]['model']\n",
    "        \n",
    "        print(f\"{full_names[mtype]} feature importances:\")\n",
    "        print_feature_importances(X_features, model)\n",
    "        print(\"-------\")"
   ]
  },
  {
   "cell_type": "markdown",
   "id": "6adedd77-1860-4692-bbf9-bbaa912afe62",
   "metadata": {},
   "source": [
    "# Performance"
   ]
  },
  {
   "cell_type": "markdown",
   "id": "d717dc86-5123-42ff-b044-52d8c1fb3f32",
   "metadata": {},
   "source": [
    "The following cells setup the relevant arrays (X_eval, y_eval, etc). to evaluate the models based on the indicated training modes."
   ]
  },
  {
   "cell_type": "code",
   "execution_count": 9,
   "id": "bacdb007-e4c2-4ac9-a86e-1ab7492d6b68",
   "metadata": {},
   "outputs": [],
   "source": [
    "for mtype in model_types:\n",
    "    if options[mtype]['explore_model']:\n",
    "        X_train = model_data[mtype]['X_train']\n",
    "        X_val = model_data[mtype]['X_val']\n",
    "        X_test = model_data[mtype]['X_test']\n",
    "        \n",
    "        model_data[mtype]['X_train_norm'], \\\n",
    "        model_data[mtype]['X_val_norm'], \\\n",
    "        model_data[mtype]['X_test_norm'] = scale(X_train, X_val, X_test)"
   ]
  },
  {
   "cell_type": "code",
   "execution_count": 10,
   "id": "d52bea58-05bc-48bf-b83a-16007f5c917d",
   "metadata": {},
   "outputs": [],
   "source": [
    "for mtype in model_types:\n",
    "    if options[mtype]['explore_model']:\n",
    "        y_train_full = model_data[mtype]['y_train_full']\n",
    "        y_val_full = model_data[mtype]['y_val_full']\n",
    "        y_test_full = model_data[mtype]['y_test_full']\n",
    "        if mtype in ['mem', 'time']:\n",
    "            y_train = np.ravel(y_train_full[mtype+'_category'])\n",
    "            y_val = np.ravel(y_val_full[mtype+'_category'])\n",
    "            y_test = np.ravel(y_test_full[mtype+'_category'])\n",
    "        else:\n",
    "            y_train = np.log10(np.ravel(y_train_full))\n",
    "            y_val = np.log10(np.ravel(y_val_full))\n",
    "            y_test = np.log10(np.ravel(y_test_full))\n",
    "\n",
    "        model_data[mtype]['y_train'] = y_train\n",
    "        model_data[mtype]['y_val'] = y_val\n",
    "        model_data[mtype]['y_test'] = y_test"
   ]
  },
  {
   "cell_type": "code",
   "execution_count": 11,
   "id": "1e9b0d35-5466-4177-acd3-945f41b725cc",
   "metadata": {},
   "outputs": [],
   "source": [
    "for mtype in model_types:\n",
    "    if options[mtype]['explore_model']:\n",
    "        if options[mtype]['training_mode'] == 'normal':\n",
    "            X = model_data[mtype]['X_val_norm']\n",
    "            y = model_data[mtype]['y_val']\n",
    "        else:\n",
    "            X = model_data[mtype]['X_test_norm']\n",
    "            y = model_data[mtype]['y_test']\n",
    "\n",
    "        model_data[mtype]['X_eval'] = X\n",
    "        model_data[mtype]['y_eval'] = y"
   ]
  },
  {
   "cell_type": "markdown",
   "id": "737d4ad3-56ee-4e8d-b018-e6f92b7cd7df",
   "metadata": {},
   "source": [
    "## Without custom predictions / scaling"
   ]
  },
  {
   "cell_type": "markdown",
   "id": "1890bfee-76bb-45d3-a4f1-c3ad16fb0a0d",
   "metadata": {},
   "source": [
    "### Confusion matrix"
   ]
  },
  {
   "cell_type": "markdown",
   "id": "87f123f8-7ddb-4abb-882d-949bb6e1bd5c",
   "metadata": {},
   "source": [
    "The following cell plots the confusion matrix for a classification model. Note that the displayed percentages are taken over each row.\n",
    "\n",
    "Quick example: If the possible classes are 0, 1, and 2, and row 1 reads [0.30, 0.60, 0.10], that means that when the correct class was 1, the model guessed class 0 30% of the time, class 1 60% of the time, and class 2 10% of the time."
   ]
  },
  {
   "cell_type": "code",
   "execution_count": 12,
   "id": "5ece72f6-c2de-4e4e-b8af-2a9ba1e021a6",
   "metadata": {},
   "outputs": [
    {
     "data": {
      "text/plain": [
       "<Figure size 432x288 with 0 Axes>"
      ]
     },
     "metadata": {},
     "output_type": "display_data"
    },
    {
     "data": {
      "image/png": "[encoded data removed]",
      "text/plain": [
       "<Figure size 432x288 with 2 Axes>"
      ]
     },
     "metadata": {
      "needs_background": "light"
     },
     "output_type": "display_data"
    }
   ],
   "source": [
    "for mtype in ['mem', 'time']:\n",
    "    if options[mtype]['explore_model']:\n",
    "        X = model_data[mtype]['X_eval']\n",
    "        y = model_data[mtype]['y_eval']\n",
    "        plot_cm(X, y, model = model_data[mtype]['model'], \n",
    "                model_name = full_names[mtype],\n",
    "                save=False, path='')"
   ]
  },
  {
   "cell_type": "markdown",
   "id": "cb7b8eb8-e2fc-4255-ad48-1837636d2866",
   "metadata": {},
   "source": [
    "### Classification report"
   ]
  },
  {
   "cell_type": "markdown",
   "id": "521faf57-0640-4fff-a166-29ec5e65412f",
   "metadata": {},
   "source": [
    "The next cell prints a classification report for each classifying model. To understand the statistics shown, consider the row corresponding to category 2:\n",
    "\n",
    "Precision = what percentage of the entries for which the model guessed category 2 were actually in category 2\n",
    "\n",
    "Recall = what percentage of the entries which were in category 2 were guessed as category 2 by the model\n",
    "\n",
    "f1-Score = a weighted average of precision (P) and recall (R) for category 2, specifically (2PR)/(P+R). Ranges from 0.0 (worst) to 1.0 (best).\n",
    "\n",
    "Support = how many entries belonged to category 2."
   ]
  },
  {
   "cell_type": "code",
   "execution_count": 13,
   "id": "945d2f61-ca42-4089-9843-e693c71cf304",
   "metadata": {},
   "outputs": [
    {
     "name": "stdout",
     "output_type": "stream",
     "text": [
      "Memory Classifier classification report:\n",
      "              precision    recall  f1-score   support\n",
      "\n",
      "           0       0.94      0.87      0.90      5738\n",
      "           1       0.83      0.80      0.82      2758\n",
      "           2       0.81      0.88      0.85      2139\n",
      "           3       0.74      0.80      0.77       820\n",
      "           4       0.54      0.72      0.62       395\n",
      "           5       0.80      0.88      0.84       651\n",
      "           6       0.56      0.70      0.62        71\n",
      "           7       0.21      0.44      0.29         9\n",
      "           8       0.20      0.56      0.29         9\n",
      "\n",
      "    accuracy                           0.85     12590\n",
      "   macro avg       0.63      0.74      0.67     12590\n",
      "weighted avg       0.86      0.85      0.85     12590\n",
      "\n"
     ]
    }
   ],
   "source": [
    "for mtype in ['mem', 'time']:\n",
    "    if options[mtype]['explore_model']:\n",
    "        X = model_data[mtype]['X_eval']\n",
    "        y = model_data[mtype]['y_eval']\n",
    "        \n",
    "        print(f\"{full_names[mtype]} classification report:\")\n",
    "        print_cr(X, y, model = model_data[mtype]['model'])"
   ]
  },
  {
   "cell_type": "markdown",
   "id": "d64267f6-25b4-4af8-8216-0440ed3f0e49",
   "metadata": {},
   "source": [
    "### ROC AUC score"
   ]
  },
  {
   "cell_type": "markdown",
   "id": "f24b3e73-de61-4dff-a641-6eb9d49d860a",
   "metadata": {},
   "source": [
    "The following cell prints ROC AUC scores for the two classifying models, that is, the area under the curve (AUC) of the Receiver Operating Characteristic curver (ROC). \n",
    "\n",
    "This is an average of ROC AUC scores for each individual category. The ROC AUC score for one category, say category 5 for example, represents the probability that when the model is given two random entries, one belonging to category 5 and one not, the model will assign a higher probability of being in category 5 to the entry that is actually in category 5. \n",
    "\n",
    "Hence the ROC AUC is always a score between 0.0 (worst) and 1.0 (best). "
   ]
  },
  {
   "cell_type": "code",
   "execution_count": 14,
   "id": "eea1f687-3b01-452d-a289-39d50dffa3e3",
   "metadata": {},
   "outputs": [
    {
     "name": "stdout",
     "output_type": "stream",
     "text": [
      "Memory Classifier ROC AUC score:\n",
      "0.9617\n"
     ]
    }
   ],
   "source": [
    "for mtype in ['mem', 'time']:\n",
    "    if options[mtype]['explore_model']:            \n",
    "        X = model_data[mtype]['X_eval']\n",
    "        y = model_data[mtype]['y_eval']\n",
    "            \n",
    "        print(f\"{full_names[mtype]} ROC AUC score:\")\n",
    "        auc(X, y, model = model_data[mtype]['model'])"
   ]
  },
  {
   "cell_type": "markdown",
   "id": "bf995de0-4ee7-4358-a153-1757e35d4b35",
   "metadata": {},
   "source": [
    "### Regression accuracy score"
   ]
  },
  {
   "cell_type": "markdown",
   "id": "12a57edd-b4f0-4eca-b58c-947f6f6f8708",
   "metadata": {},
   "source": [
    "The next cell prints the training and evaluation score of the regression model.\n",
    "    \n",
    "The score in this case R^2 coefficient, defined as 1 - u/v, where u is the sum over all samples of (y_true - y_pred)^2, and v is the sum over all samples of (y_true - y_mean)^2. \n",
    "\n",
    "The best possible score is 1.0, and scores can be negative, which would indicate that the model is worse than the strategy of always predicting the average value.\n",
    "\n",
    "If the training score is much higher than the evaluation score, that's evidence that the model was overfitting."
   ]
  },
  {
   "cell_type": "code",
   "execution_count": 15,
   "id": "5bb8c3cb-cd54-4cdd-a137-cd7b03bd74a6",
   "metadata": {},
   "outputs": [
    {
     "name": "stdout",
     "output_type": "stream",
     "text": [
      "Training score: 0.9429\n",
      "Evaluation score: 0.9442\n"
     ]
    }
   ],
   "source": [
    "if options['time_regr']['explore_model']:\n",
    "    X_train_norm = model_data['time_regr']['X_train_norm']\n",
    "    y_train = model_data['time_regr']['y_train']\n",
    "    X_eval = model_data['time_regr']['X_eval']\n",
    "    y_eval = model_data['time_regr']['y_eval']\n",
    "    score_regressor(X_train_norm, y_train, X_eval, y_eval, \n",
    "                    model=model_data['time_regr']['model'])"
   ]
  },
  {
   "cell_type": "markdown",
   "id": "50fc8b5d-6559-4cac-82b3-2a28eb802ad3",
   "metadata": {},
   "source": [
    "### Performance plot"
   ]
  },
  {
   "cell_type": "code",
   "execution_count": 16,
   "id": "17d21dbd-6baf-47b6-bcf4-b92004756a71",
   "metadata": {},
   "outputs": [
    {
     "data": {
      "image/png": "[encoded data removed]",
      "text/plain": [
       "<Figure size 432x288 with 1 Axes>"
      ]
     },
     "metadata": {
      "needs_background": "light"
     },
     "output_type": "display_data"
    }
   ],
   "source": [
    "if options['time_regr']['explore_model']:\n",
    "    X = model_data['time_regr']['X_eval']\n",
    "    y = model_data['time_regr']['y_eval']\n",
    "    plot_regr_performance(X, y, model=model_data['time_regr']['model'],\n",
    "                     model_name=full_names['time_regr'], \n",
    "                     save=False, path='performance-plot.png')"
   ]
  },
  {
   "cell_type": "markdown",
   "id": "3a278d78-2ae3-4953-8e4a-96e1403b4010",
   "metadata": {},
   "source": [
    "## With custom predictions / scaling"
   ]
  },
  {
   "cell_type": "markdown",
   "id": "0b5aa97a-e9c9-49dd-a21d-d50f0366053b",
   "metadata": {},
   "source": [
    "The predictions in this section are designed to get a realistic idea of how the classification models perform, after the predictions are made in a custom way and the values are scaled how we like."
   ]
  },
  {
   "cell_type": "markdown",
   "id": "fc913467-b040-43a2-8a47-5cea19f5fdfe",
   "metadata": {},
   "source": [
    "This next cell sets up several useful arrays for simulating these predictions ('custom_preds', 'custom_values', and 'eval_values'). The first array represents the predicted categories using custom prediction; the second array represents the predicted values (translating and scaling the predicted categories); and the third array represents the actual correct values (used_mem and wall_time from the original data)."
   ]
  },
  {
   "cell_type": "code",
   "execution_count": 17,
   "id": "14efa739-f9bb-46f8-988e-e572fd15dfee",
   "metadata": {},
   "outputs": [],
   "source": [
    "for mtype in ['mem', 'time']:\n",
    "    if options[mtype]['explore_model']:\n",
    "        X = model_data[mtype]['X_eval']\n",
    "        custom_preds = custom_predict(X, model_data[mtype]['model'])\n",
    "        model_data[mtype]['custom_preds'] = custom_preds\n",
    "        \n",
    "        categories_dict = model_data[mtype]['categories_dict']\n",
    "        custom_values = scale_predictions(translate_predictions(custom_preds, \n",
    "                                                                categories_dict),\n",
    "                                          **settings[mtype+'_scaling'])\n",
    "        model_data[mtype]['custom_values'] = custom_values\n",
    "        \n",
    "        if mtype == 'mem':\n",
    "            target_name = 'used_mem'\n",
    "        else:\n",
    "            target_name = 'wall_time'\n",
    "        if options[mtype]['training_mode'] == 'normal':\n",
    "            eval_values = np.ravel(model_data[mtype]['y_val_full'][target_name])\n",
    "        else:\n",
    "            eval_values = np.ravel(model_data[mtype]['y_test_full'][target_name])\n",
    "\n",
    "        model_data[mtype]['eval_values'] = eval_values"
   ]
  },
  {
   "cell_type": "markdown",
   "id": "66b2c90e-f0bf-4829-af8e-af698cfbd876",
   "metadata": {},
   "source": [
    "Here we show some example entries from the arrays we just made."
   ]
  },
  {
   "cell_type": "code",
   "execution_count": 18,
   "id": "9ca50c0c-4020-45fa-8415-a24c95caeca5",
   "metadata": {},
   "outputs": [
    {
     "name": "stdout",
     "output_type": "stream",
     "text": [
      "[2 2 0 3 0]\n",
      "[2 0 2 3 4]\n",
      "[144.88671875 141.91015625  39.23046875 271.46484375  23.23046875]\n",
      "[357, 108, 357, 681, 1100]\n"
     ]
    }
   ],
   "source": [
    "print(model_data['mem']['y_eval'][:5])\n",
    "print(model_data['mem']['custom_preds'][:5])\n",
    "print(model_data['mem']['eval_values'][:5])\n",
    "print(model_data['mem']['custom_values'][:5])"
   ]
  },
  {
   "cell_type": "markdown",
   "id": "ebdcf682-b4e4-450c-9a3e-1430b9fe7592",
   "metadata": {},
   "source": [
    "The next cell creates a dataframe containing all the relevant information for simulating the classifiers' behavior.\n",
    "\n",
    "In the evaluation dataframe for the time classifier, we ignore entries where the wall time was reportedly more than 12 hours (we are not interested in predicting those)."
   ]
  },
  {
   "cell_type": "code",
   "execution_count": 19,
   "id": "2f14378a-b827-4d26-8282-9b43f7d08426",
   "metadata": {},
   "outputs": [],
   "source": [
    "def evaluation_df(mtype):\n",
    "    if options[mtype]['training_mode'] == 'normal':\n",
    "        df = model_data[mtype]['y_val_full'].copy()\n",
    "    else:\n",
    "        df = model_data[mtype]['y_test_full'].copy()\n",
    "    if mtype == 'mem':\n",
    "        df['old_delta'] = df.apply(lambda row: \n",
    "                               row['req_mem'] - row['used_mem'],\n",
    "                               axis=1)\n",
    "        df['pred_cat'] = model_data[mtype]['custom_preds']\n",
    "        df['pred_value'] = model_data[mtype]['custom_values']\n",
    "        \n",
    "        df['pred_delta'] = df.apply(lambda row: row['pred_value'] - row['used_mem'],\n",
    "                                    axis=1)\n",
    "    else:\n",
    "        df['time_delta'] = df.apply(lambda row: \n",
    "                               43200 - row['wall_time'],\n",
    "                               axis=1)\n",
    "        df['pred_cat'] = model_data[mtype]['custom_preds']\n",
    "        df['pred_value'] = model_data[mtype]['custom_values']\n",
    "        \n",
    "        df['pred_delta'] = df.apply(lambda row: row['pred_value'] - row['wall_time'],\n",
    "                                    axis=1)\n",
    "        df = df[df.wall_time <= 43200]\n",
    "        \n",
    "    return df"
   ]
  },
  {
   "cell_type": "markdown",
   "id": "f72e5d69-db38-49d2-b507-6e44469baad7",
   "metadata": {},
   "source": [
    "Here we show an example of what this dataframe looks like."
   ]
  },
  {
   "cell_type": "code",
   "execution_count": 20,
   "id": "33f9f627-894f-44de-ad66-256c263e1a01",
   "metadata": {},
   "outputs": [
    {
     "data": {
      "text/html": [
       "<div>\n",
       "<style scoped>\n",
       "    .dataframe tbody tr th:only-of-type {\n",
       "        vertical-align: middle;\n",
       "    }\n",
       "\n",
       "    .dataframe tbody tr th {\n",
       "        vertical-align: top;\n",
       "    }\n",
       "\n",
       "    .dataframe thead th {\n",
       "        text-align: right;\n",
       "    }\n",
       "</style>\n",
       "<table border=\"1\" class=\"dataframe\">\n",
       "  <thead>\n",
       "    <tr style=\"text-align: right;\">\n",
       "      <th></th>\n",
       "      <th>req_mem</th>\n",
       "      <th>used_mem</th>\n",
       "      <th>mem_category</th>\n",
       "      <th>old_delta</th>\n",
       "      <th>pred_cat</th>\n",
       "      <th>pred_value</th>\n",
       "      <th>pred_delta</th>\n",
       "    </tr>\n",
       "  </thead>\n",
       "  <tbody>\n",
       "    <tr>\n",
       "      <th>6146464</th>\n",
       "      <td>2048.0</td>\n",
       "      <td>144.886719</td>\n",
       "      <td>2</td>\n",
       "      <td>1903.113281</td>\n",
       "      <td>2</td>\n",
       "      <td>357</td>\n",
       "      <td>212.113281</td>\n",
       "    </tr>\n",
       "    <tr>\n",
       "      <th>6380917</th>\n",
       "      <td>1024.0</td>\n",
       "      <td>141.910156</td>\n",
       "      <td>2</td>\n",
       "      <td>882.089844</td>\n",
       "      <td>0</td>\n",
       "      <td>108</td>\n",
       "      <td>-33.910156</td>\n",
       "    </tr>\n",
       "    <tr>\n",
       "      <th>6732079</th>\n",
       "      <td>1024.0</td>\n",
       "      <td>39.230469</td>\n",
       "      <td>0</td>\n",
       "      <td>984.769531</td>\n",
       "      <td>2</td>\n",
       "      <td>357</td>\n",
       "      <td>317.769531</td>\n",
       "    </tr>\n",
       "    <tr>\n",
       "      <th>6512102</th>\n",
       "      <td>2048.0</td>\n",
       "      <td>271.464844</td>\n",
       "      <td>3</td>\n",
       "      <td>1776.535156</td>\n",
       "      <td>3</td>\n",
       "      <td>681</td>\n",
       "      <td>409.535156</td>\n",
       "    </tr>\n",
       "    <tr>\n",
       "      <th>6153542</th>\n",
       "      <td>1024.0</td>\n",
       "      <td>23.230469</td>\n",
       "      <td>0</td>\n",
       "      <td>1000.769531</td>\n",
       "      <td>4</td>\n",
       "      <td>1100</td>\n",
       "      <td>1076.769531</td>\n",
       "    </tr>\n",
       "  </tbody>\n",
       "</table>\n",
       "</div>"
      ],
      "text/plain": [
       "         req_mem    used_mem  mem_category    old_delta  pred_cat  pred_value  \\\n",
       "6146464   2048.0  144.886719             2  1903.113281         2         357   \n",
       "6380917   1024.0  141.910156             2   882.089844         0         108   \n",
       "6732079   1024.0   39.230469             0   984.769531         2         357   \n",
       "6512102   2048.0  271.464844             3  1776.535156         3         681   \n",
       "6153542   1024.0   23.230469             0  1000.769531         4        1100   \n",
       "\n",
       "          pred_delta  \n",
       "6146464   212.113281  \n",
       "6380917   -33.910156  \n",
       "6732079   317.769531  \n",
       "6512102   409.535156  \n",
       "6153542  1076.769531  "
      ]
     },
     "execution_count": 20,
     "metadata": {},
     "output_type": "execute_result"
    }
   ],
   "source": [
    "evaluation_df('mem').head()"
   ]
  },
  {
   "cell_type": "markdown",
   "id": "3fcd9bd2-a912-4709-925b-ddafc8aa9717",
   "metadata": {},
   "source": [
    "The next two cells do the simulation we have been preparing for throughout this section."
   ]
  },
  {
   "cell_type": "code",
   "execution_count": 21,
   "id": "4eb6459b-1772-4f2b-a31e-ba5c9e25a348",
   "metadata": {},
   "outputs": [],
   "source": [
    "def total_loss_info(mtype):\n",
    "    df = evaluation_df(mtype)\n",
    "    print(f\"Number of entries predicted: {df.shape[0]}\")\n",
    "    print(\"--------\")\n",
    "    num_bad_jobs = df[df.pred_delta < 0].shape[0]\n",
    "    print(\"Number of jobs using more resources than predicted: \"\n",
    "          + f\"{num_bad_jobs}\")\n",
    "    print(\"Average delta for jobs using more resources than predicted: \"\n",
    "          + f\"{round(df[df.pred_delta<0]['pred_delta'].mean(), 2)}\")\n",
    "    print(\"Sample of jobs using more resources than predicted: \")\n",
    "    if mtype == 'mem':\n",
    "        print(df[df.pred_delta < 0].sample(min(5, num_bad_jobs)))\n",
    "        print(\"--------\")\n",
    "        print(\"Total unused memory in GB (original): \"\n",
    "              + f\"{round(df['old_delta'].sum()/1024)}\")\n",
    "        print(\"Total unused memory in GB (predicted): \"\n",
    "              + f\"{round(df[df.pred_delta >= 0]['pred_delta'].sum()/1024)}\")\n",
    "    else:\n",
    "        print(df[df.pred_delta < 0].sample(min(5, num_bad_jobs)))\n",
    "        print(\"--------\")\n",
    "        print(\"Total unused time in years (original): \"\n",
    "              + f\"{round(df['time_delta'].sum()/31536000, 4)}\")\n",
    "        print(\"Total unused time in years (predicted): \"\n",
    "              + f\"{round(df[df.pred_delta >= 0]['pred_delta'].sum()/31536000, 4)}\")"
   ]
  },
  {
   "cell_type": "code",
   "execution_count": 22,
   "id": "4bef6465-d2fe-4413-9898-bb0b93454e7d",
   "metadata": {},
   "outputs": [
    {
     "name": "stdout",
     "output_type": "stream",
     "text": [
      "Total loss info for Memory Classifier:\n",
      "Number of entries predicted: 12590\n",
      "--------\n",
      "Number of jobs using more resources than predicted: 103\n",
      "Average delta for jobs using more resources than predicted: -1822.99\n",
      "Sample of jobs using more resources than predicted: \n",
      "         req_mem      used_mem  mem_category     old_delta  pred_cat  \\\n",
      "6542555   4096.0   1260.742188             5   2835.257812         3   \n",
      "6205850  30720.0   3622.652344             6  27097.347656         5   \n",
      "6178029  51200.0  14350.226562             7  36849.773438         6   \n",
      "6145098   1024.0    888.980469             4    135.019531         0   \n",
      "6377236    512.0    241.691406             3    270.308594         1   \n",
      "\n",
      "         pred_value   pred_delta  \n",
      "6542555         681  -579.742188  \n",
      "6205850        2015 -1607.652344  \n",
      "6178029       10000 -4350.226562  \n",
      "6145098         108  -780.980469  \n",
      "6377236         201   -40.691406  \n",
      "--------\n",
      "Total unused memory in GB (original): 67751\n",
      "Total unused memory in GB (predicted): 4744\n",
      "------------------\n"
     ]
    }
   ],
   "source": [
    "for mtype in ['mem', 'time']:\n",
    "    if options[mtype]['explore_model']:\n",
    "        print(f\"Total loss info for {full_names[mtype]}:\")\n",
    "        total_loss_info(mtype)\n",
    "        print('------------------')"
   ]
  },
  {
   "cell_type": "code",
   "execution_count": null,
   "id": "5f93af62-44f7-4252-8c18-45f98d66d132",
   "metadata": {},
   "outputs": [],
   "source": []
  }
 ],
 "metadata": {
  "kernelspec": {
   "display_name": "Python (venv)",
   "language": "python",
   "name": "venv"
  },
  "language_info": {
   "codemirror_mode": {
    "name": "ipython",
    "version": 3
   },
   "file_extension": ".py",
   "mimetype": "text/x-python",
   "name": "python",
   "nbconvert_exporter": "python",
   "pygments_lexer": "ipython3",
   "version": "3.8.8"
  }
 },
 "nbformat": 4,
 "nbformat_minor": 5
}
