{
 "cells": [
  {
   "cell_type": "markdown",
   "id": "295f06f3-de7f-49c0-82cb-12b70d1b7ade",
   "metadata": {},
   "source": [
    "# Imports"
   ]
  },
  {
   "cell_type": "code",
   "execution_count": 1,
   "id": "inclusive-sleeping",
   "metadata": {},
   "outputs": [],
   "source": [
    "import pandas as pd\n",
    "import numpy as np\n",
    "import math\n",
    "import matplotlib.pyplot as plt\n",
    "from sklearn.model_selection import train_test_split\n",
    "from sklearn.tree import DecisionTreeRegressor\n",
    "from sklearn.tree import DecisionTreeClassifier\n",
    "from sklearn.ensemble import RandomForestRegressor\n",
    "from sklearn.ensemble import RandomForestClassifier\n",
    "from sklearn.ensemble import GradientBoostingRegressor\n",
    "from sklearn.ensemble import GradientBoostingClassifier\n",
    "from sklearn.multiclass import OneVsRestClassifier\n",
    "from sklearn.metrics import mean_squared_error\n",
    "from sklearn.metrics import confusion_matrix\n",
    "from sklearn.metrics import plot_confusion_matrix\n",
    "from sklearn.metrics import precision_recall_curve\n",
    "from sklearn.metrics import plot_precision_recall_curve\n",
    "from sklearn.metrics import classification_report\n",
    "from sklearn.metrics import roc_auc_score\n",
    "from sklearn.preprocessing import StandardScaler\n",
    "from sklearn.preprocessing import label_binarize\n",
    "from sklearn.linear_model import LinearRegression\n",
    "from sklearn.linear_model import Ridge\n",
    "from sklearn.linear_model import Lasso\n",
    "from sklearn.linear_model import LogisticRegression\n",
    "from hypopt import GridSearch\n",
    "from datetime import datetime\n",
    "from datetime import date\n",
    "import pickle\n",
    "import os"
   ]
  },
  {
   "cell_type": "code",
   "execution_count": 2,
   "id": "8dc655d1-b202-4aad-bb22-6601aa209abf",
   "metadata": {},
   "outputs": [],
   "source": [
    "import preprocessing"
   ]
  },
  {
   "cell_type": "code",
   "execution_count": 3,
   "id": "circular-pattern",
   "metadata": {},
   "outputs": [],
   "source": [
    "pd.options.display.max_columns = None\n",
    "pd.options.display.max_rows = 75\n",
    "\n",
    "from matplotlib import rcParams\n",
    "rcParams.update({'figure.autolayout': True})"
   ]
  },
  {
   "cell_type": "markdown",
   "id": "8c98004f-9e90-4d0a-81d4-35d6897fc737",
   "metadata": {},
   "source": [
    "# Preprocessing"
   ]
  },
  {
   "cell_type": "code",
   "execution_count": 4,
   "id": "eight-dispatch",
   "metadata": {},
   "outputs": [
    {
     "name": "stdout",
     "output_type": "stream",
     "text": [
      "<class 'pandas.core.frame.DataFrame'>\n",
      "Int64Index: 50360 entries, 6132011 to 6785810\n",
      "Data columns (total 21 columns):\n",
      " #   Column           Non-Null Count  Dtype              \n",
      "---  ------           --------------  -----              \n",
      " 0   request_type     50360 non-null  object             \n",
      " 1   job_start_at     50360 non-null  datetime64[ns]     \n",
      " 2   job_end_at       50360 non-null  datetime64[ns]     \n",
      " 3   req_mem          50360 non-null  float64            \n",
      " 4   used_mem         50360 non-null  float64            \n",
      " 5   dsnum            48150 non-null  object             \n",
      " 6   rqst_start_at    50327 non-null  datetime64[ns, UTC]\n",
      " 7   rqst_end_at      50248 non-null  datetime64[ns, UTC]\n",
      " 8   dates_init       50360 non-null  bool               \n",
      " 9   slat             32123 non-null  float64            \n",
      " 10  nlat             32123 non-null  float64            \n",
      " 11  wlon             32140 non-null  float64            \n",
      " 12  elon             32140 non-null  float64            \n",
      " 13  gui              50360 non-null  bool               \n",
      " 14  parameters       50194 non-null  object             \n",
      " 15  grid_definition  6902 non-null   object             \n",
      " 16  level            21329 non-null  object             \n",
      " 17  product          20607 non-null  object             \n",
      " 18  station          322 non-null    object             \n",
      " 19  tindex           18416 non-null  float64            \n",
      " 20  format           19638 non-null  object             \n",
      "dtypes: bool(2), datetime64[ns, UTC](2), datetime64[ns](2), float64(7), object(8)\n",
      "memory usage: 7.8+ MB\n"
     ]
    }
   ],
   "source": [
    "training_path = '/glade/work/jdubeau/job-metrics-training.json'\n",
    "data_types = {'dsnum':'object'}\n",
    "\n",
    "df = pd.read_json(training_path, dtype = data_types)\n",
    "df.info()"
   ]
  },
  {
   "cell_type": "markdown",
   "id": "competent-appliance",
   "metadata": {},
   "source": [
    "## Adding new features"
   ]
  },
  {
   "cell_type": "markdown",
   "id": "welsh-poster",
   "metadata": {},
   "source": [
    "Adding wall time (time from job start to job end).\n",
    "This will be measured in seconds."
   ]
  },
  {
   "cell_type": "code",
   "execution_count": 5,
   "id": "subjective-birmingham",
   "metadata": {},
   "outputs": [],
   "source": [
    "def calculate_walltime(row):\n",
    "    end = row['job_end_at']\n",
    "    start = row['job_start_at']\n",
    "    return (end - start) / np.timedelta64(1, 's')\n",
    "\n",
    "df['wall_time'] = df.apply(lambda row: calculate_walltime(row),\n",
    "                            axis = 1)\n"
   ]
  },
  {
   "cell_type": "markdown",
   "id": "wooden-diving",
   "metadata": {},
   "source": [
    "Adding request timespan (length of time requested in the data).\n",
    "This will be measured in days."
   ]
  },
  {
   "cell_type": "code",
   "execution_count": 6,
   "id": "perfect-legislation",
   "metadata": {},
   "outputs": [],
   "source": [
    "df['rqst_timespan'] = df.apply(lambda row:\n",
    "                               (row['rqst_end_at'] - row['rqst_start_at']) / np.timedelta64(1, 'D'),\n",
    "                               axis = 1)\n"
   ]
  },
  {
   "cell_type": "markdown",
   "id": "toxic-myrtle",
   "metadata": {},
   "source": [
    "Adding a number of features which are just the length of a list. This includes \n",
    "number of grid definitions, number of levels, number of products, and number\n",
    "of stations."
   ]
  },
  {
   "cell_type": "code",
   "execution_count": 7,
   "id": "behind-messaging",
   "metadata": {},
   "outputs": [],
   "source": [
    "def list_length_feature(feature, row, sep = ','):\n",
    "    if row[feature] != None:\n",
    "        return len(row[feature].split(sep))\n",
    "    else:\n",
    "        return 0"
   ]
  },
  {
   "cell_type": "code",
   "execution_count": 8,
   "id": "respected-cursor",
   "metadata": {},
   "outputs": [],
   "source": [
    "df['grid_def_num'] = df.apply(lambda row: list_length_feature('grid_definition', row), axis = 1)\n",
    "df['level_num'] = df.apply(lambda row: list_length_feature('level', row), axis = 1)\n",
    "df['product_num'] = df.apply(lambda row: list_length_feature('product', row), axis = 1)\n",
    "df['station_num'] = df.apply(lambda row: list_length_feature('station', row, sep = ' '), axis = 1)"
   ]
  },
  {
   "cell_type": "markdown",
   "id": "emerging-crisis",
   "metadata": {},
   "source": [
    "Number of parameters is similar to the four features above, but the parameters could be separated by either spaces or commas."
   ]
  },
  {
   "cell_type": "code",
   "execution_count": 9,
   "id": "cosmetic-immigration",
   "metadata": {},
   "outputs": [],
   "source": [
    "def make_params_num(row):\n",
    "    if row['parameters'] != None:\n",
    "        sep = ',' if ',' in row['parameters'] else ' '\n",
    "        return list_length_feature('parameters', row, sep = sep)\n",
    "    else:\n",
    "        return 0\n",
    "\n",
    "df['params_num'] = df.apply(lambda row: make_params_num(row), axis = 1)"
   ]
  },
  {
   "cell_type": "markdown",
   "id": "accessory-gilbert",
   "metadata": {},
   "source": [
    "We also add the rectangle area of the subset of data requested."
   ]
  },
  {
   "cell_type": "code",
   "execution_count": 10,
   "id": "announced-slave",
   "metadata": {},
   "outputs": [],
   "source": [
    "def request_area(row):\n",
    "    return abs((row['nlat'] - row['slat']) * (row['elon'] - row['wlon']))\n",
    "\n",
    "df['rqst_area_rect'] = df.apply(lambda row: request_area(row), axis = 1)"
   ]
  },
  {
   "cell_type": "markdown",
   "id": "upper-irrigation",
   "metadata": {},
   "source": [
    "We add three columns which encode what type of request the job was.\n",
    "(Purge requests can be identified from the other three columns -- \n",
    "they are neither PP, SP, nor BR.)"
   ]
  },
  {
   "cell_type": "code",
   "execution_count": 11,
   "id": "crucial-rover",
   "metadata": {},
   "outputs": [],
   "source": [
    "for rtype in ['PP', 'SP', 'BR']:\n",
    "    df[rtype] = df.apply(lambda row: True if row['request_type'] == rtype else False, axis = 1)"
   ]
  },
  {
   "cell_type": "markdown",
   "id": "located-animation",
   "metadata": {},
   "source": [
    "Next we add a boolean column representing whether the data was converted to a different format (which is true if and only if a value for \"format\" was present in the rinfo string)."
   ]
  },
  {
   "cell_type": "code",
   "execution_count": 12,
   "id": "weird-airline",
   "metadata": {},
   "outputs": [],
   "source": [
    "df['converted'] = df.apply(lambda row: True if row['format'] != None else False,\n",
    "                           axis = 1)"
   ]
  },
  {
   "cell_type": "markdown",
   "id": "reverse-entertainment",
   "metadata": {},
   "source": [
    "Now we add boolean columns to encode the dataset: one column for each of the \n",
    "five most common datasets (so a False value in all five columsn means \"other.\")"
   ]
  },
  {
   "cell_type": "code",
   "execution_count": 13,
   "id": "wooden-signal",
   "metadata": {},
   "outputs": [],
   "source": [
    "most_common = df['dsnum'].value_counts()[:5].index.tolist()\n",
    "\n",
    "for common_id in most_common:\n",
    "    column_name = 'ds' + common_id\n",
    "    df[column_name] = df.apply(lambda row: row['dsnum'] == common_id, axis = 1)\n"
   ]
  },
  {
   "cell_type": "markdown",
   "id": "4222c036-05c7-41e3-b364-b42a6446b924",
   "metadata": {},
   "source": [
    "## Handling missing values"
   ]
  },
  {
   "cell_type": "markdown",
   "id": "3b383c98-a93c-4eb1-b4bd-f3ac8d5fc0a3",
   "metadata": {},
   "source": [
    "If rqst_area_rect is null, just fill it with zero (experimental)"
   ]
  },
  {
   "cell_type": "code",
   "execution_count": 14,
   "id": "033cbad3-7417-4a14-a6ea-098db284c0a9",
   "metadata": {},
   "outputs": [],
   "source": [
    "df['rqst_area_rect'] = df.apply(lambda row: \n",
    "                                0 if row['rqst_area_rect'] != row['rqst_area_rect'] \n",
    "                                else row['rqst_area_rect'], \n",
    "                                axis=1)"
   ]
  },
  {
   "cell_type": "code",
   "execution_count": 15,
   "id": "dab46cac-d150-4adc-9b43-fd24815f120e",
   "metadata": {},
   "outputs": [],
   "source": [
    "other_df = preprocessing.get_df()"
   ]
  },
  {
   "cell_type": "markdown",
   "id": "011574da-164e-43e5-a71d-cf18b33b0941",
   "metadata": {},
   "source": [
    "# Exploration / visualization"
   ]
  },
  {
   "cell_type": "code",
   "execution_count": 19,
   "id": "84ec6de8-e314-453f-9d5f-a172ba312e7f",
   "metadata": {},
   "outputs": [
    {
     "data": {
      "text/html": [
       "<div>\n",
       "<style scoped>\n",
       "    .dataframe tbody tr th:only-of-type {\n",
       "        vertical-align: middle;\n",
       "    }\n",
       "\n",
       "    .dataframe tbody tr th {\n",
       "        vertical-align: top;\n",
       "    }\n",
       "\n",
       "    .dataframe thead th {\n",
       "        text-align: right;\n",
       "    }\n",
       "</style>\n",
       "<table border=\"1\" class=\"dataframe\">\n",
       "  <thead>\n",
       "    <tr style=\"text-align: right;\">\n",
       "      <th></th>\n",
       "      <th>request_type</th>\n",
       "      <th>job_start_at</th>\n",
       "      <th>job_end_at</th>\n",
       "      <th>req_mem</th>\n",
       "      <th>used_mem</th>\n",
       "      <th>dsnum</th>\n",
       "      <th>rqst_start_at</th>\n",
       "      <th>rqst_end_at</th>\n",
       "      <th>dates_init</th>\n",
       "      <th>slat</th>\n",
       "      <th>nlat</th>\n",
       "      <th>wlon</th>\n",
       "      <th>elon</th>\n",
       "      <th>gui</th>\n",
       "      <th>parameters</th>\n",
       "      <th>grid_definition</th>\n",
       "      <th>level</th>\n",
       "      <th>product</th>\n",
       "      <th>station</th>\n",
       "      <th>tindex</th>\n",
       "      <th>format</th>\n",
       "      <th>wall_time</th>\n",
       "      <th>rqst_timespan</th>\n",
       "      <th>grid_def_num</th>\n",
       "      <th>level_num</th>\n",
       "      <th>product_num</th>\n",
       "      <th>station_num</th>\n",
       "      <th>params_num</th>\n",
       "      <th>rqst_area_rect</th>\n",
       "      <th>PP</th>\n",
       "      <th>SP</th>\n",
       "      <th>BR</th>\n",
       "      <th>converted</th>\n",
       "      <th>ds084.1</th>\n",
       "      <th>ds631.1</th>\n",
       "      <th>ds083.3</th>\n",
       "      <th>ds094.0</th>\n",
       "      <th>ds083.2</th>\n",
       "    </tr>\n",
       "  </thead>\n",
       "  <tbody>\n",
       "    <tr>\n",
       "      <th>6478982</th>\n",
       "      <td>PP</td>\n",
       "      <td>2021-02-05 00:09:40</td>\n",
       "      <td>2021-02-05 00:11:01</td>\n",
       "      <td>1024.0</td>\n",
       "      <td>35.679688</td>\n",
       "      <td>631.1</td>\n",
       "      <td>2000-01-01 00:00:00+00:00</td>\n",
       "      <td>2016-12-31 21:00:00+00:00</td>\n",
       "      <td>False</td>\n",
       "      <td>NaN</td>\n",
       "      <td>NaN</td>\n",
       "      <td>NaN</td>\n",
       "      <td>NaN</td>\n",
       "      <td>True</td>\n",
       "      <td>8!ds631.1:SH2O,8!ds631.1:SMOIS,8!ds631.1:TSLB,...</td>\n",
       "      <td>None</td>\n",
       "      <td>None</td>\n",
       "      <td>None</td>\n",
       "      <td>None</td>\n",
       "      <td>5.0</td>\n",
       "      <td>None</td>\n",
       "      <td>81.0</td>\n",
       "      <td>6209.875</td>\n",
       "      <td>0</td>\n",
       "      <td>0</td>\n",
       "      <td>0</td>\n",
       "      <td>0</td>\n",
       "      <td>29</td>\n",
       "      <td>0.0</td>\n",
       "      <td>True</td>\n",
       "      <td>False</td>\n",
       "      <td>False</td>\n",
       "      <td>False</td>\n",
       "      <td>False</td>\n",
       "      <td>True</td>\n",
       "      <td>False</td>\n",
       "      <td>False</td>\n",
       "      <td>False</td>\n",
       "    </tr>\n",
       "    <tr>\n",
       "      <th>6603844</th>\n",
       "      <td>PP</td>\n",
       "      <td>2021-03-04 22:58:48</td>\n",
       "      <td>2021-03-04 23:01:01</td>\n",
       "      <td>1024.0</td>\n",
       "      <td>32.773438</td>\n",
       "      <td>094.0</td>\n",
       "      <td>2011-01-01 00:00:00+00:00</td>\n",
       "      <td>2021-03-04 03:00:00+00:00</td>\n",
       "      <td>False</td>\n",
       "      <td>-10.0</td>\n",
       "      <td>31.0</td>\n",
       "      <td>97.0</td>\n",
       "      <td>145.0</td>\n",
       "      <td>True</td>\n",
       "      <td>3!7-4.2-1:0.1.211</td>\n",
       "      <td>63</td>\n",
       "      <td>None</td>\n",
       "      <td>944</td>\n",
       "      <td>None</td>\n",
       "      <td>NaN</td>\n",
       "      <td>netCDF</td>\n",
       "      <td>133.0</td>\n",
       "      <td>3715.125</td>\n",
       "      <td>1</td>\n",
       "      <td>0</td>\n",
       "      <td>1</td>\n",
       "      <td>0</td>\n",
       "      <td>1</td>\n",
       "      <td>1968.0</td>\n",
       "      <td>True</td>\n",
       "      <td>False</td>\n",
       "      <td>False</td>\n",
       "      <td>True</td>\n",
       "      <td>False</td>\n",
       "      <td>False</td>\n",
       "      <td>False</td>\n",
       "      <td>True</td>\n",
       "      <td>False</td>\n",
       "    </tr>\n",
       "    <tr>\n",
       "      <th>6367269</th>\n",
       "      <td>PP</td>\n",
       "      <td>2021-01-08 01:11:25</td>\n",
       "      <td>2021-01-08 01:12:39</td>\n",
       "      <td>1024.0</td>\n",
       "      <td>21.824219</td>\n",
       "      <td>094.0</td>\n",
       "      <td>2011-01-01 00:00:00+00:00</td>\n",
       "      <td>2021-01-08 03:00:00+00:00</td>\n",
       "      <td>False</td>\n",
       "      <td>19.0</td>\n",
       "      <td>44.0</td>\n",
       "      <td>117.0</td>\n",
       "      <td>142.0</td>\n",
       "      <td>True</td>\n",
       "      <td>3!7-0.2-1:0.1.7</td>\n",
       "      <td>68</td>\n",
       "      <td>None</td>\n",
       "      <td>944</td>\n",
       "      <td>None</td>\n",
       "      <td>NaN</td>\n",
       "      <td>netCDF</td>\n",
       "      <td>74.0</td>\n",
       "      <td>3660.125</td>\n",
       "      <td>1</td>\n",
       "      <td>0</td>\n",
       "      <td>1</td>\n",
       "      <td>0</td>\n",
       "      <td>1</td>\n",
       "      <td>625.0</td>\n",
       "      <td>True</td>\n",
       "      <td>False</td>\n",
       "      <td>False</td>\n",
       "      <td>True</td>\n",
       "      <td>False</td>\n",
       "      <td>False</td>\n",
       "      <td>False</td>\n",
       "      <td>True</td>\n",
       "      <td>False</td>\n",
       "    </tr>\n",
       "    <tr>\n",
       "      <th>6485340</th>\n",
       "      <td>PP</td>\n",
       "      <td>2021-02-07 10:46:47</td>\n",
       "      <td>2021-02-07 10:47:55</td>\n",
       "      <td>1024.0</td>\n",
       "      <td>35.476562</td>\n",
       "      <td>631.1</td>\n",
       "      <td>2000-01-01 00:00:00+00:00</td>\n",
       "      <td>2016-12-31 21:00:00+00:00</td>\n",
       "      <td>False</td>\n",
       "      <td>NaN</td>\n",
       "      <td>NaN</td>\n",
       "      <td>NaN</td>\n",
       "      <td>NaN</td>\n",
       "      <td>True</td>\n",
       "      <td>8!ds631.1:SH2O,8!ds631.1:SMOIS,8!ds631.1:TSLB,...</td>\n",
       "      <td>None</td>\n",
       "      <td>None</td>\n",
       "      <td>None</td>\n",
       "      <td>None</td>\n",
       "      <td>5.0</td>\n",
       "      <td>None</td>\n",
       "      <td>68.0</td>\n",
       "      <td>6209.875</td>\n",
       "      <td>0</td>\n",
       "      <td>0</td>\n",
       "      <td>0</td>\n",
       "      <td>0</td>\n",
       "      <td>29</td>\n",
       "      <td>0.0</td>\n",
       "      <td>True</td>\n",
       "      <td>False</td>\n",
       "      <td>False</td>\n",
       "      <td>False</td>\n",
       "      <td>False</td>\n",
       "      <td>True</td>\n",
       "      <td>False</td>\n",
       "      <td>False</td>\n",
       "      <td>False</td>\n",
       "    </tr>\n",
       "    <tr>\n",
       "      <th>6378861</th>\n",
       "      <td>PP</td>\n",
       "      <td>2021-01-12 21:47:32</td>\n",
       "      <td>2021-01-12 21:49:20</td>\n",
       "      <td>1024.0</td>\n",
       "      <td>29.910156</td>\n",
       "      <td>093.0</td>\n",
       "      <td>1979-01-01 00:00:00+00:00</td>\n",
       "      <td>2011-01-01 03:00:00+00:00</td>\n",
       "      <td>False</td>\n",
       "      <td>25.0</td>\n",
       "      <td>50.0</td>\n",
       "      <td>60.0</td>\n",
       "      <td>120.0</td>\n",
       "      <td>True</td>\n",
       "      <td>3!7-0.2-1:0.3.9</td>\n",
       "      <td>57</td>\n",
       "      <td>None</td>\n",
       "      <td>119,3</td>\n",
       "      <td>None</td>\n",
       "      <td>NaN</td>\n",
       "      <td>netCDF</td>\n",
       "      <td>108.0</td>\n",
       "      <td>11688.125</td>\n",
       "      <td>1</td>\n",
       "      <td>0</td>\n",
       "      <td>2</td>\n",
       "      <td>0</td>\n",
       "      <td>1</td>\n",
       "      <td>1500.0</td>\n",
       "      <td>True</td>\n",
       "      <td>False</td>\n",
       "      <td>False</td>\n",
       "      <td>True</td>\n",
       "      <td>False</td>\n",
       "      <td>False</td>\n",
       "      <td>False</td>\n",
       "      <td>False</td>\n",
       "      <td>False</td>\n",
       "    </tr>\n",
       "  </tbody>\n",
       "</table>\n",
       "</div>"
      ],
      "text/plain": [
       "        request_type        job_start_at          job_end_at  req_mem  \\\n",
       "6478982           PP 2021-02-05 00:09:40 2021-02-05 00:11:01   1024.0   \n",
       "6603844           PP 2021-03-04 22:58:48 2021-03-04 23:01:01   1024.0   \n",
       "6367269           PP 2021-01-08 01:11:25 2021-01-08 01:12:39   1024.0   \n",
       "6485340           PP 2021-02-07 10:46:47 2021-02-07 10:47:55   1024.0   \n",
       "6378861           PP 2021-01-12 21:47:32 2021-01-12 21:49:20   1024.0   \n",
       "\n",
       "          used_mem  dsnum             rqst_start_at               rqst_end_at  \\\n",
       "6478982  35.679688  631.1 2000-01-01 00:00:00+00:00 2016-12-31 21:00:00+00:00   \n",
       "6603844  32.773438  094.0 2011-01-01 00:00:00+00:00 2021-03-04 03:00:00+00:00   \n",
       "6367269  21.824219  094.0 2011-01-01 00:00:00+00:00 2021-01-08 03:00:00+00:00   \n",
       "6485340  35.476562  631.1 2000-01-01 00:00:00+00:00 2016-12-31 21:00:00+00:00   \n",
       "6378861  29.910156  093.0 1979-01-01 00:00:00+00:00 2011-01-01 03:00:00+00:00   \n",
       "\n",
       "         dates_init  slat  nlat   wlon   elon   gui  \\\n",
       "6478982       False   NaN   NaN    NaN    NaN  True   \n",
       "6603844       False -10.0  31.0   97.0  145.0  True   \n",
       "6367269       False  19.0  44.0  117.0  142.0  True   \n",
       "6485340       False   NaN   NaN    NaN    NaN  True   \n",
       "6378861       False  25.0  50.0   60.0  120.0  True   \n",
       "\n",
       "                                                parameters grid_definition  \\\n",
       "6478982  8!ds631.1:SH2O,8!ds631.1:SMOIS,8!ds631.1:TSLB,...            None   \n",
       "6603844                                  3!7-4.2-1:0.1.211              63   \n",
       "6367269                                    3!7-0.2-1:0.1.7              68   \n",
       "6485340  8!ds631.1:SH2O,8!ds631.1:SMOIS,8!ds631.1:TSLB,...            None   \n",
       "6378861                                    3!7-0.2-1:0.3.9              57   \n",
       "\n",
       "        level product station  tindex  format  wall_time  rqst_timespan  \\\n",
       "6478982  None    None    None     5.0    None       81.0       6209.875   \n",
       "6603844  None     944    None     NaN  netCDF      133.0       3715.125   \n",
       "6367269  None     944    None     NaN  netCDF       74.0       3660.125   \n",
       "6485340  None    None    None     5.0    None       68.0       6209.875   \n",
       "6378861  None   119,3    None     NaN  netCDF      108.0      11688.125   \n",
       "\n",
       "         grid_def_num  level_num  product_num  station_num  params_num  \\\n",
       "6478982             0          0            0            0          29   \n",
       "6603844             1          0            1            0           1   \n",
       "6367269             1          0            1            0           1   \n",
       "6485340             0          0            0            0          29   \n",
       "6378861             1          0            2            0           1   \n",
       "\n",
       "         rqst_area_rect    PP     SP     BR  converted  ds084.1  ds631.1  \\\n",
       "6478982             0.0  True  False  False      False    False     True   \n",
       "6603844          1968.0  True  False  False       True    False    False   \n",
       "6367269           625.0  True  False  False       True    False    False   \n",
       "6485340             0.0  True  False  False      False    False     True   \n",
       "6378861          1500.0  True  False  False       True    False    False   \n",
       "\n",
       "         ds083.3  ds094.0  ds083.2  \n",
       "6478982    False    False    False  \n",
       "6603844    False     True    False  \n",
       "6367269    False     True    False  \n",
       "6485340    False    False    False  \n",
       "6378861    False    False    False  "
      ]
     },
     "execution_count": 19,
     "metadata": {},
     "output_type": "execute_result"
    }
   ],
   "source": [
    "df.sample(5, random_state=3)"
   ]
  },
  {
   "cell_type": "code",
   "execution_count": 18,
   "id": "f2eb38f9-3de4-4544-8ec2-58b042976915",
   "metadata": {},
   "outputs": [
    {
     "data": {
      "text/html": [
       "<div>\n",
       "<style scoped>\n",
       "    .dataframe tbody tr th:only-of-type {\n",
       "        vertical-align: middle;\n",
       "    }\n",
       "\n",
       "    .dataframe tbody tr th {\n",
       "        vertical-align: top;\n",
       "    }\n",
       "\n",
       "    .dataframe thead th {\n",
       "        text-align: right;\n",
       "    }\n",
       "</style>\n",
       "<table border=\"1\" class=\"dataframe\">\n",
       "  <thead>\n",
       "    <tr style=\"text-align: right;\">\n",
       "      <th></th>\n",
       "      <th>request_type</th>\n",
       "      <th>job_start_at</th>\n",
       "      <th>job_end_at</th>\n",
       "      <th>req_mem</th>\n",
       "      <th>used_mem</th>\n",
       "      <th>dsnum</th>\n",
       "      <th>rqst_start_at</th>\n",
       "      <th>rqst_end_at</th>\n",
       "      <th>dates_init</th>\n",
       "      <th>slat</th>\n",
       "      <th>nlat</th>\n",
       "      <th>wlon</th>\n",
       "      <th>elon</th>\n",
       "      <th>gui</th>\n",
       "      <th>parameters</th>\n",
       "      <th>grid_definition</th>\n",
       "      <th>level</th>\n",
       "      <th>product</th>\n",
       "      <th>station</th>\n",
       "      <th>tindex</th>\n",
       "      <th>format</th>\n",
       "      <th>wall_time</th>\n",
       "      <th>rqst_timespan</th>\n",
       "      <th>grid_def_num</th>\n",
       "      <th>level_num</th>\n",
       "      <th>product_num</th>\n",
       "      <th>station_num</th>\n",
       "      <th>params_num</th>\n",
       "      <th>rqst_area_rect</th>\n",
       "      <th>PP</th>\n",
       "      <th>SP</th>\n",
       "      <th>BR</th>\n",
       "      <th>converted</th>\n",
       "      <th>ds084.1</th>\n",
       "      <th>ds631.1</th>\n",
       "      <th>ds083.3</th>\n",
       "      <th>ds094.0</th>\n",
       "      <th>ds083.2</th>\n",
       "    </tr>\n",
       "  </thead>\n",
       "  <tbody>\n",
       "    <tr>\n",
       "      <th>6478982</th>\n",
       "      <td>PP</td>\n",
       "      <td>2021-02-05 00:09:40</td>\n",
       "      <td>2021-02-05 00:11:01</td>\n",
       "      <td>1024.0</td>\n",
       "      <td>35.679688</td>\n",
       "      <td>631.1</td>\n",
       "      <td>2000-01-01 00:00:00+00:00</td>\n",
       "      <td>2016-12-31 21:00:00+00:00</td>\n",
       "      <td>False</td>\n",
       "      <td>NaN</td>\n",
       "      <td>NaN</td>\n",
       "      <td>NaN</td>\n",
       "      <td>NaN</td>\n",
       "      <td>True</td>\n",
       "      <td>8!ds631.1:SH2O,8!ds631.1:SMOIS,8!ds631.1:TSLB,...</td>\n",
       "      <td>None</td>\n",
       "      <td>None</td>\n",
       "      <td>None</td>\n",
       "      <td>None</td>\n",
       "      <td>5.0</td>\n",
       "      <td>None</td>\n",
       "      <td>81.0</td>\n",
       "      <td>6209.875</td>\n",
       "      <td>0</td>\n",
       "      <td>0</td>\n",
       "      <td>0</td>\n",
       "      <td>0</td>\n",
       "      <td>29</td>\n",
       "      <td>0.0</td>\n",
       "      <td>True</td>\n",
       "      <td>False</td>\n",
       "      <td>False</td>\n",
       "      <td>False</td>\n",
       "      <td>False</td>\n",
       "      <td>True</td>\n",
       "      <td>False</td>\n",
       "      <td>False</td>\n",
       "      <td>False</td>\n",
       "    </tr>\n",
       "    <tr>\n",
       "      <th>6603844</th>\n",
       "      <td>PP</td>\n",
       "      <td>2021-03-04 22:58:48</td>\n",
       "      <td>2021-03-04 23:01:01</td>\n",
       "      <td>1024.0</td>\n",
       "      <td>32.773438</td>\n",
       "      <td>094.0</td>\n",
       "      <td>2011-01-01 00:00:00+00:00</td>\n",
       "      <td>2021-03-04 03:00:00+00:00</td>\n",
       "      <td>False</td>\n",
       "      <td>-10.0</td>\n",
       "      <td>31.0</td>\n",
       "      <td>97.0</td>\n",
       "      <td>145.0</td>\n",
       "      <td>True</td>\n",
       "      <td>3!7-4.2-1:0.1.211</td>\n",
       "      <td>63</td>\n",
       "      <td>None</td>\n",
       "      <td>944</td>\n",
       "      <td>None</td>\n",
       "      <td>NaN</td>\n",
       "      <td>netCDF</td>\n",
       "      <td>133.0</td>\n",
       "      <td>3715.125</td>\n",
       "      <td>1</td>\n",
       "      <td>0</td>\n",
       "      <td>1</td>\n",
       "      <td>0</td>\n",
       "      <td>1</td>\n",
       "      <td>1968.0</td>\n",
       "      <td>True</td>\n",
       "      <td>False</td>\n",
       "      <td>False</td>\n",
       "      <td>True</td>\n",
       "      <td>False</td>\n",
       "      <td>False</td>\n",
       "      <td>False</td>\n",
       "      <td>True</td>\n",
       "      <td>False</td>\n",
       "    </tr>\n",
       "    <tr>\n",
       "      <th>6367269</th>\n",
       "      <td>PP</td>\n",
       "      <td>2021-01-08 01:11:25</td>\n",
       "      <td>2021-01-08 01:12:39</td>\n",
       "      <td>1024.0</td>\n",
       "      <td>21.824219</td>\n",
       "      <td>094.0</td>\n",
       "      <td>2011-01-01 00:00:00+00:00</td>\n",
       "      <td>2021-01-08 03:00:00+00:00</td>\n",
       "      <td>False</td>\n",
       "      <td>19.0</td>\n",
       "      <td>44.0</td>\n",
       "      <td>117.0</td>\n",
       "      <td>142.0</td>\n",
       "      <td>True</td>\n",
       "      <td>3!7-0.2-1:0.1.7</td>\n",
       "      <td>68</td>\n",
       "      <td>None</td>\n",
       "      <td>944</td>\n",
       "      <td>None</td>\n",
       "      <td>NaN</td>\n",
       "      <td>netCDF</td>\n",
       "      <td>74.0</td>\n",
       "      <td>3660.125</td>\n",
       "      <td>1</td>\n",
       "      <td>0</td>\n",
       "      <td>1</td>\n",
       "      <td>0</td>\n",
       "      <td>1</td>\n",
       "      <td>625.0</td>\n",
       "      <td>True</td>\n",
       "      <td>False</td>\n",
       "      <td>False</td>\n",
       "      <td>True</td>\n",
       "      <td>False</td>\n",
       "      <td>False</td>\n",
       "      <td>False</td>\n",
       "      <td>True</td>\n",
       "      <td>False</td>\n",
       "    </tr>\n",
       "    <tr>\n",
       "      <th>6485340</th>\n",
       "      <td>PP</td>\n",
       "      <td>2021-02-07 10:46:47</td>\n",
       "      <td>2021-02-07 10:47:55</td>\n",
       "      <td>1024.0</td>\n",
       "      <td>35.476562</td>\n",
       "      <td>631.1</td>\n",
       "      <td>2000-01-01 00:00:00+00:00</td>\n",
       "      <td>2016-12-31 21:00:00+00:00</td>\n",
       "      <td>False</td>\n",
       "      <td>NaN</td>\n",
       "      <td>NaN</td>\n",
       "      <td>NaN</td>\n",
       "      <td>NaN</td>\n",
       "      <td>True</td>\n",
       "      <td>8!ds631.1:SH2O,8!ds631.1:SMOIS,8!ds631.1:TSLB,...</td>\n",
       "      <td>None</td>\n",
       "      <td>None</td>\n",
       "      <td>None</td>\n",
       "      <td>None</td>\n",
       "      <td>5.0</td>\n",
       "      <td>None</td>\n",
       "      <td>68.0</td>\n",
       "      <td>6209.875</td>\n",
       "      <td>0</td>\n",
       "      <td>0</td>\n",
       "      <td>0</td>\n",
       "      <td>0</td>\n",
       "      <td>29</td>\n",
       "      <td>0.0</td>\n",
       "      <td>True</td>\n",
       "      <td>False</td>\n",
       "      <td>False</td>\n",
       "      <td>False</td>\n",
       "      <td>False</td>\n",
       "      <td>True</td>\n",
       "      <td>False</td>\n",
       "      <td>False</td>\n",
       "      <td>False</td>\n",
       "    </tr>\n",
       "    <tr>\n",
       "      <th>6378861</th>\n",
       "      <td>PP</td>\n",
       "      <td>2021-01-12 21:47:32</td>\n",
       "      <td>2021-01-12 21:49:20</td>\n",
       "      <td>1024.0</td>\n",
       "      <td>29.910156</td>\n",
       "      <td>093.0</td>\n",
       "      <td>1979-01-01 00:00:00+00:00</td>\n",
       "      <td>2011-01-01 03:00:00+00:00</td>\n",
       "      <td>False</td>\n",
       "      <td>25.0</td>\n",
       "      <td>50.0</td>\n",
       "      <td>60.0</td>\n",
       "      <td>120.0</td>\n",
       "      <td>True</td>\n",
       "      <td>3!7-0.2-1:0.3.9</td>\n",
       "      <td>57</td>\n",
       "      <td>None</td>\n",
       "      <td>119,3</td>\n",
       "      <td>None</td>\n",
       "      <td>NaN</td>\n",
       "      <td>netCDF</td>\n",
       "      <td>108.0</td>\n",
       "      <td>11688.125</td>\n",
       "      <td>1</td>\n",
       "      <td>0</td>\n",
       "      <td>2</td>\n",
       "      <td>0</td>\n",
       "      <td>1</td>\n",
       "      <td>1500.0</td>\n",
       "      <td>True</td>\n",
       "      <td>False</td>\n",
       "      <td>False</td>\n",
       "      <td>True</td>\n",
       "      <td>False</td>\n",
       "      <td>False</td>\n",
       "      <td>False</td>\n",
       "      <td>False</td>\n",
       "      <td>False</td>\n",
       "    </tr>\n",
       "  </tbody>\n",
       "</table>\n",
       "</div>"
      ],
      "text/plain": [
       "        request_type        job_start_at          job_end_at  req_mem  \\\n",
       "6478982           PP 2021-02-05 00:09:40 2021-02-05 00:11:01   1024.0   \n",
       "6603844           PP 2021-03-04 22:58:48 2021-03-04 23:01:01   1024.0   \n",
       "6367269           PP 2021-01-08 01:11:25 2021-01-08 01:12:39   1024.0   \n",
       "6485340           PP 2021-02-07 10:46:47 2021-02-07 10:47:55   1024.0   \n",
       "6378861           PP 2021-01-12 21:47:32 2021-01-12 21:49:20   1024.0   \n",
       "\n",
       "          used_mem  dsnum             rqst_start_at               rqst_end_at  \\\n",
       "6478982  35.679688  631.1 2000-01-01 00:00:00+00:00 2016-12-31 21:00:00+00:00   \n",
       "6603844  32.773438  094.0 2011-01-01 00:00:00+00:00 2021-03-04 03:00:00+00:00   \n",
       "6367269  21.824219  094.0 2011-01-01 00:00:00+00:00 2021-01-08 03:00:00+00:00   \n",
       "6485340  35.476562  631.1 2000-01-01 00:00:00+00:00 2016-12-31 21:00:00+00:00   \n",
       "6378861  29.910156  093.0 1979-01-01 00:00:00+00:00 2011-01-01 03:00:00+00:00   \n",
       "\n",
       "         dates_init  slat  nlat   wlon   elon   gui  \\\n",
       "6478982       False   NaN   NaN    NaN    NaN  True   \n",
       "6603844       False -10.0  31.0   97.0  145.0  True   \n",
       "6367269       False  19.0  44.0  117.0  142.0  True   \n",
       "6485340       False   NaN   NaN    NaN    NaN  True   \n",
       "6378861       False  25.0  50.0   60.0  120.0  True   \n",
       "\n",
       "                                                parameters grid_definition  \\\n",
       "6478982  8!ds631.1:SH2O,8!ds631.1:SMOIS,8!ds631.1:TSLB,...            None   \n",
       "6603844                                  3!7-4.2-1:0.1.211              63   \n",
       "6367269                                    3!7-0.2-1:0.1.7              68   \n",
       "6485340  8!ds631.1:SH2O,8!ds631.1:SMOIS,8!ds631.1:TSLB,...            None   \n",
       "6378861                                    3!7-0.2-1:0.3.9              57   \n",
       "\n",
       "        level product station  tindex  format  wall_time  rqst_timespan  \\\n",
       "6478982  None    None    None     5.0    None       81.0       6209.875   \n",
       "6603844  None     944    None     NaN  netCDF      133.0       3715.125   \n",
       "6367269  None     944    None     NaN  netCDF       74.0       3660.125   \n",
       "6485340  None    None    None     5.0    None       68.0       6209.875   \n",
       "6378861  None   119,3    None     NaN  netCDF      108.0      11688.125   \n",
       "\n",
       "         grid_def_num  level_num  product_num  station_num  params_num  \\\n",
       "6478982             0          0            0            0          29   \n",
       "6603844             1          0            1            0           1   \n",
       "6367269             1          0            1            0           1   \n",
       "6485340             0          0            0            0          29   \n",
       "6378861             1          0            2            0           1   \n",
       "\n",
       "         rqst_area_rect    PP     SP     BR  converted  ds084.1  ds631.1  \\\n",
       "6478982             0.0  True  False  False      False    False     True   \n",
       "6603844          1968.0  True  False  False       True    False    False   \n",
       "6367269           625.0  True  False  False       True    False    False   \n",
       "6485340             0.0  True  False  False      False    False     True   \n",
       "6378861          1500.0  True  False  False       True    False    False   \n",
       "\n",
       "         ds083.3  ds094.0  ds083.2  \n",
       "6478982    False    False    False  \n",
       "6603844    False     True    False  \n",
       "6367269    False     True    False  \n",
       "6485340    False    False    False  \n",
       "6378861    False    False    False  "
      ]
     },
     "execution_count": 18,
     "metadata": {},
     "output_type": "execute_result"
    }
   ],
   "source": [
    "other_df.sample(5, random_state=3)"
   ]
  },
  {
   "cell_type": "code",
   "execution_count": 15,
   "id": "8afddf04-e5cc-4fb8-a25a-7742aeb0d78c",
   "metadata": {},
   "outputs": [
    {
     "data": {
      "image/png": "[encoded data removed]",
      "text/plain": [
       "<Figure size 432x288 with 1 Axes>"
      ]
     },
     "metadata": {
      "needs_background": "light"
     },
     "output_type": "display_data"
    }
   ],
   "source": [
    "plt.hist(np.log10(df['used_mem']), bins=50)\n",
    "plt.show()"
   ]
  },
  {
   "cell_type": "code",
   "execution_count": 16,
   "id": "15347f25-8adb-41ef-8fdb-3533b8ae915c",
   "metadata": {},
   "outputs": [
    {
     "data": {
      "image/png": "[encoded data removed]",
      "text/plain": [
       "<Figure size 432x288 with 1 Axes>"
      ]
     },
     "metadata": {
      "needs_background": "light"
     },
     "output_type": "display_data"
    }
   ],
   "source": [
    "plt.scatter(range(df.shape[0]), df['used_mem'], s=1, color='rosybrown')\n",
    "plt.xlabel('')\n",
    "plt.show()"
   ]
  },
  {
   "cell_type": "code",
   "execution_count": 17,
   "id": "9d174b7a-5eb8-4d20-9dc4-cf9a20b34ac0",
   "metadata": {},
   "outputs": [
    {
     "data": {
      "text/plain": [
       "303"
      ]
     },
     "execution_count": 17,
     "metadata": {},
     "output_type": "execute_result"
    }
   ],
   "source": [
    "df[df.used_mem > 2000].shape[0]"
   ]
  },
  {
   "cell_type": "code",
   "execution_count": 18,
   "id": "d522db38-a1c7-4922-9e6a-d43b9a6f4576",
   "metadata": {},
   "outputs": [
    {
     "data": {
      "image/png": "[encoded data removed]",
      "text/plain": [
       "<Figure size 432x288 with 1 Axes>"
      ]
     },
     "metadata": {
      "needs_background": "light"
     },
     "output_type": "display_data"
    }
   ],
   "source": [
    "plt.hist(df['wall_time'], bins=50)\n",
    "plt.show()"
   ]
  },
  {
   "cell_type": "code",
   "execution_count": 19,
   "id": "f3f3f650-8d40-4afd-8721-d8c59c4a9858",
   "metadata": {},
   "outputs": [
    {
     "data": {
      "image/png": "[encoded data removed]",
      "text/plain": [
       "<Figure size 432x288 with 1 Axes>"
      ]
     },
     "metadata": {
      "needs_background": "light"
     },
     "output_type": "display_data"
    }
   ],
   "source": [
    "plt.scatter(df.index, df['wall_time'], s=1)\n",
    "plt.show()"
   ]
  },
  {
   "cell_type": "code",
   "execution_count": 20,
   "id": "c5b51cab-d1ad-4212-8a37-800602bc07c0",
   "metadata": {},
   "outputs": [
    {
     "data": {
      "text/plain": [
       "388"
      ]
     },
     "execution_count": 20,
     "metadata": {},
     "output_type": "execute_result"
    }
   ],
   "source": [
    "df[df.wall_time > 25000].shape[0]"
   ]
  },
  {
   "cell_type": "markdown",
   "id": "interim-athletics",
   "metadata": {
    "tags": []
   },
   "source": [
    "# Wall time model"
   ]
  },
  {
   "cell_type": "markdown",
   "id": "540b50d0-95e5-4b88-b786-89771f8d3c31",
   "metadata": {
    "toc-hr-collapsed": true
   },
   "source": [
    "## Feature selection"
   ]
  },
  {
   "cell_type": "code",
   "execution_count": null,
   "id": "transparent-participant",
   "metadata": {},
   "outputs": [],
   "source": [
    "time_df = df[df.rqst_timespan.notnull() & df.rqst_area_rect.notnull()]\n",
    "time_X_features = ['PP', 'SP', 'BR', 'rqst_timespan', 'rqst_area_rect', 'converted',\n",
    "              'params_num', 'grid_def_num', 'level_num',\n",
    "              'ds084.1', 'ds631.1', 'ds083.3', 'ds094.0', 'ds083.2']\n",
    "time_y_features = ['wall_time']\n",
    "\n",
    "time_X = time_df[time_X_features]\n",
    "time_y = time_df[time_y_features]"
   ]
  },
  {
   "cell_type": "markdown",
   "id": "blocked-grant",
   "metadata": {},
   "source": [
    "## Train/validation/test split"
   ]
  },
  {
   "cell_type": "code",
   "execution_count": null,
   "id": "damaged-madonna",
   "metadata": {},
   "outputs": [],
   "source": [
    "time_train_amt = 0.5\n",
    "time_val_amt = 0.25\n",
    "time_test_amt = 0.25"
   ]
  },
  {
   "cell_type": "code",
   "execution_count": null,
   "id": "olympic-luxembourg",
   "metadata": {},
   "outputs": [],
   "source": [
    "time_X_train, time_X_target, time_y_train, time_y_target = \\\n",
    "                train_test_split(time_X, time_y, \n",
    "                test_size=1-time_train_amt, \n",
    "                random_state = 3)\n",
    "time_X_val, time_X_test, time_y_val, time_y_test = \\\n",
    "                train_test_split(time_X_target, time_y_target,\n",
    "                                 test_size = time_test_amt/time_train_amt,\n",
    "                                 random_state = 3)\n"
   ]
  },
  {
   "cell_type": "code",
   "execution_count": null,
   "id": "integrated-remove",
   "metadata": {},
   "outputs": [],
   "source": [
    "time_y_train = np.ravel(time_y_train)\n",
    "time_y_val = np.ravel(time_y_val)\n",
    "time_y_test = np.ravel(time_y_test)"
   ]
  },
  {
   "cell_type": "markdown",
   "id": "thermal-exclusive",
   "metadata": {},
   "source": [
    "## Scaling"
   ]
  },
  {
   "cell_type": "code",
   "execution_count": null,
   "id": "worth-relationship",
   "metadata": {},
   "outputs": [],
   "source": [
    "time_scaler = StandardScaler()\n",
    "time_scaler.fit(time_X_train)\n",
    "\n",
    "time_X_train_norm = time_scaler.transform(time_X_train)\n",
    "time_X_val_norm = time_scaler.transform(time_X_val)\n",
    "time_X_test_norm = time_scaler.transform(time_X_test)"
   ]
  },
  {
   "cell_type": "markdown",
   "id": "b5e12ec5-4ad9-4bc0-a726-22ca56d9a748",
   "metadata": {
    "toc-hr-collapsed": true
   },
   "source": [
    "## Trees, Forest, Gradient Boosts"
   ]
  },
  {
   "cell_type": "markdown",
   "id": "iraqi-disney",
   "metadata": {},
   "source": [
    "### Tree"
   ]
  },
  {
   "cell_type": "code",
   "execution_count": null,
   "id": "infectious-church",
   "metadata": {},
   "outputs": [],
   "source": [
    "time_tree_param_grid = {'random_state':[3], 'max_depth':range(2,15)}\n",
    "time_tree_gs = GridSearch(model=DecisionTreeRegressor(), \n",
    "                          param_grid=time_tree_param_grid,\n",
    "                          parallelize=False)\n",
    "time_tree_gs.fit(time_X_train_norm, time_y_train, time_X_val_norm, time_y_val)"
   ]
  },
  {
   "cell_type": "code",
   "execution_count": null,
   "id": "1b380d7f-9ecb-4f05-87d8-e7fa43b27b40",
   "metadata": {},
   "outputs": [],
   "source": [
    "time_tree_gs.best_params"
   ]
  },
  {
   "cell_type": "code",
   "execution_count": null,
   "id": "1df01bed-f3bf-4d05-9a68-a337766ac91d",
   "metadata": {},
   "outputs": [],
   "source": [
    "time_tree = DecisionTreeRegressor(**time_tree_gs.best_params)\n",
    "#time_tree_params = {'max_depth': 14, 'random_state': 3}\n",
    "time_tree = DecisionTreeRegressor(**time_tree_params)\n",
    "time_tree.fit(time_X_train_norm, time_y_train)"
   ]
  },
  {
   "cell_type": "markdown",
   "id": "13d2ee3a-3de4-44de-b139-dfedaeee9659",
   "metadata": {},
   "source": [
    "### Forest"
   ]
  },
  {
   "cell_type": "code",
   "execution_count": null,
   "id": "imported-globe",
   "metadata": {},
   "outputs": [],
   "source": [
    "time_forest_param_grid = {'random_state':[3], 'max_depth':range(2,15),\n",
    "                     'n_estimators':[100,200,300,500]}\n",
    "time_forest_gs = GridSearch(model=RandomForestRegressor(), \n",
    "                            param_grid=time_forest_param_grid,\n",
    "                            parallelize=False)\n",
    "time_forest_gs.fit(time_X_train_norm, time_y_train, time_X_val_norm, time_y_val)"
   ]
  },
  {
   "cell_type": "code",
   "execution_count": null,
   "id": "similar-possibility",
   "metadata": {},
   "outputs": [],
   "source": [
    "time_forest_gs.best_params"
   ]
  },
  {
   "cell_type": "code",
   "execution_count": null,
   "id": "located-energy",
   "metadata": {},
   "outputs": [],
   "source": [
    "time_forest = RandomForestRegressor(**time_forest_gs.best_params)\n",
    "time_forest_params = {'max_depth': 14, 'n_estimators': 500, 'random_state': 3}\n",
    "#time_forest = RandomForestRegressor(**time_forest_params)\n",
    "time_forest.fit(time_X_train_norm, time_y_train)"
   ]
  },
  {
   "cell_type": "markdown",
   "id": "faf76739-27cc-404e-afca-7d2377c9f74c",
   "metadata": {},
   "source": [
    "### Gradient boosted trees"
   ]
  },
  {
   "cell_type": "code",
   "execution_count": null,
   "id": "fifteen-istanbul",
   "metadata": {},
   "outputs": [],
   "source": [
    "time_gboost_param_grid = {'random_state':[3], \n",
    "                          'max_depth':range(2,15),\n",
    "                          'n_estimators':[100,200,300,500]}\n",
    "time_gboost_gs = GridSearch(model=GradientBoostingRegressor(),\n",
    "                            param_grid=time_gboost_param_grid,\n",
    "                            parallelize=False)\n",
    "time_gboost_gs.fit(time_X_train_norm, time_y_train, time_X_val_norm, time_y_val)"
   ]
  },
  {
   "cell_type": "code",
   "execution_count": null,
   "id": "f5588749-8844-414b-9bf0-599a06c93ec0",
   "metadata": {},
   "outputs": [],
   "source": [
    "time_gboost_gs.best_params"
   ]
  },
  {
   "cell_type": "code",
   "execution_count": null,
   "id": "912ef36d-04cd-421d-ab3f-80b9a5b3b13f",
   "metadata": {},
   "outputs": [],
   "source": [
    "time_gboost = GradientBoostingRegressor(**time_gboost_gs.best_params)\n",
    "time_gboost_params = {'max_depth': 9, 'n_estimators': 200, 'random_state': 3}\n",
    "#time_gboost = GradientBoostingRegressor(**time_gboost_params)\n",
    "time_gboost.fit(time_X_train_norm, time_y_train)"
   ]
  },
  {
   "cell_type": "markdown",
   "id": "6b008359-1211-459e-a0a2-3f28402c6d4f",
   "metadata": {
    "toc-hr-collapsed": true
   },
   "source": [
    "## Linear regressors"
   ]
  },
  {
   "cell_type": "markdown",
   "id": "ideal-warren",
   "metadata": {},
   "source": [
    "### Basic linear regression"
   ]
  },
  {
   "cell_type": "code",
   "execution_count": null,
   "id": "absolute-territory",
   "metadata": {},
   "outputs": [],
   "source": [
    "linear = LinearRegression().fit(time_X_train_norm, time_y_train)"
   ]
  },
  {
   "cell_type": "code",
   "execution_count": null,
   "id": "annoying-bowling",
   "metadata": {},
   "outputs": [],
   "source": [
    "linear.coef_"
   ]
  },
  {
   "cell_type": "markdown",
   "id": "ebe844e4-1fcb-4c84-8d6b-216fe4c60ee7",
   "metadata": {},
   "source": [
    "### Ridge regression"
   ]
  },
  {
   "cell_type": "code",
   "execution_count": null,
   "id": "breathing-trance",
   "metadata": {},
   "outputs": [],
   "source": [
    "ridge10 = Ridge(alpha=10).fit(time_X_train_norm, time_y_train)\n",
    "ridge1 = Ridge(alpha=1).fit(time_X_train_norm, time_y_train)\n",
    "ridge01 = Ridge(alpha=0.1).fit(time_X_train_norm, time_y_train)"
   ]
  },
  {
   "cell_type": "code",
   "execution_count": null,
   "id": "public-rotation",
   "metadata": {},
   "outputs": [],
   "source": [
    "ridge10.coef_"
   ]
  },
  {
   "cell_type": "markdown",
   "id": "18344f60-709a-4dd5-bcf3-e11c432d761c",
   "metadata": {},
   "source": [
    "### Lasso regression"
   ]
  },
  {
   "cell_type": "code",
   "execution_count": null,
   "id": "ethical-network",
   "metadata": {},
   "outputs": [],
   "source": [
    "lasso = Lasso(alpha=0.01, max_iter=100000).fit(time_X_train_norm, time_y_train)"
   ]
  },
  {
   "cell_type": "code",
   "execution_count": null,
   "id": "working-reggae",
   "metadata": {},
   "outputs": [],
   "source": [
    "lasso.coef_"
   ]
  },
  {
   "cell_type": "markdown",
   "id": "infinite-relief",
   "metadata": {
    "toc-hr-collapsed": true
   },
   "source": [
    "# Used memory model"
   ]
  },
  {
   "cell_type": "code",
   "execution_count": null,
   "id": "lucky-train",
   "metadata": {},
   "outputs": [],
   "source": [
    "mem_df = df[df.rqst_timespan.notnull() & df.rqst_area_rect.notnull()]\n",
    "mem_X_features = ['PP', 'SP', 'BR', 'rqst_timespan', 'rqst_area_rect', 'converted',\n",
    "              'params_num', 'grid_def_num', 'level_num',\n",
    "              'ds084.1', 'ds631.1', 'ds083.3', 'ds094.0', 'ds083.2']\n",
    "mem_y_features = ['used_mem']\n",
    "\n",
    "mem_X = mem_df[mem_X_features]\n",
    "mem_y = mem_df[mem_y_features]"
   ]
  },
  {
   "cell_type": "markdown",
   "id": "photographic-learning",
   "metadata": {},
   "source": [
    "## Train/validation/test split"
   ]
  },
  {
   "cell_type": "code",
   "execution_count": null,
   "id": "worst-cowboy",
   "metadata": {},
   "outputs": [],
   "source": [
    "mem_train_amt = 0.5\n",
    "mem_val_amt = 0.25\n",
    "mem_test_amt = 0.25"
   ]
  },
  {
   "cell_type": "code",
   "execution_count": null,
   "id": "incorrect-festival",
   "metadata": {},
   "outputs": [],
   "source": [
    "mem_X_train, mem_X_target, mem_y_train, mem_y_target = \\\n",
    "                        train_test_split(mem_X, mem_y, \n",
    "                                         test_size=1-mem_train_amt, \n",
    "                                         random_state = 3)\n",
    "mem_X_val, mem_X_test, mem_y_val, mem_y_test = \\\n",
    "                        train_test_split(mem_X_target, mem_y_target,\n",
    "                                         test_size = mem_test_amt/mem_train_amt,\n",
    "                                         random_state = 3)\n"
   ]
  },
  {
   "cell_type": "code",
   "execution_count": null,
   "id": "boring-palestine",
   "metadata": {},
   "outputs": [],
   "source": [
    "mem_y_train = np.ravel(mem_y_train)\n",
    "mem_y_val = np.ravel(mem_y_val)\n",
    "mem_y_test = np.ravel(mem_y_test)"
   ]
  },
  {
   "cell_type": "markdown",
   "id": "still-party",
   "metadata": {},
   "source": [
    "## Scaling"
   ]
  },
  {
   "cell_type": "code",
   "execution_count": null,
   "id": "gentle-spell",
   "metadata": {},
   "outputs": [],
   "source": [
    "mem_scaler = StandardScaler()\n",
    "mem_scaler.fit(mem_X_train)\n",
    "\n",
    "mem_X_train_norm = mem_scaler.transform(mem_X_train)\n",
    "mem_X_val_norm = mem_scaler.transform(mem_X_val)\n",
    "mem_X_test_norm = mem_scaler.transform(mem_X_test)"
   ]
  },
  {
   "cell_type": "markdown",
   "id": "linear-familiar",
   "metadata": {},
   "source": [
    "## Trees, Forest, Gradient Boosts"
   ]
  },
  {
   "cell_type": "markdown",
   "id": "05c56ed4-d4ea-4053-9fc1-f1ca702fd17d",
   "metadata": {},
   "source": [
    "### Tree"
   ]
  },
  {
   "cell_type": "code",
   "execution_count": null,
   "id": "commercial-brisbane",
   "metadata": {},
   "outputs": [],
   "source": [
    "mem_tree_param_grid = {'random_state':[3], 'max_depth':range(2,15)}\n",
    "mem_tree_gs = GridSearch(model=DecisionTreeRegressor(), \n",
    "                         param_grid=mem_tree_param_grid,\n",
    "                         parallelize=False)\n",
    "mem_tree_gs.fit(mem_X_train_norm, mem_y_train, mem_X_val_norm, mem_y_val)\n"
   ]
  },
  {
   "cell_type": "code",
   "execution_count": null,
   "id": "20273b1d-4961-48d2-9011-71dc5220c9c8",
   "metadata": {},
   "outputs": [],
   "source": [
    "mem_tree_gs.best_params"
   ]
  },
  {
   "cell_type": "code",
   "execution_count": null,
   "id": "ca6c1ab5-0f11-4ab9-b6c0-15f1b85474f6",
   "metadata": {},
   "outputs": [],
   "source": [
    "mem_tree_params = {'max_depth': 11, 'random_state': 3}\n",
    "mem_tree = DecisionTreeRegressor(**mem_tree_gs.best_params)\n",
    "#mem_tree = DecisionTreeRegressor(**mem_tree_params)\n",
    "mem_tree.fit(mem_X_train_norm, mem_y_train)"
   ]
  },
  {
   "cell_type": "markdown",
   "id": "a890fc56-d434-4b7a-ae86-33bfdef83f6d",
   "metadata": {},
   "source": [
    "### Forest"
   ]
  },
  {
   "cell_type": "code",
   "execution_count": null,
   "id": "expired-ireland",
   "metadata": {},
   "outputs": [],
   "source": [
    "mem_forest_param_grid = {'random_state':[3], 'max_depth':range(2,15),\n",
    "                     'n_estimators':[100,200,300,500]}\n",
    "mem_forest_gs = GridSearch(model=RandomForestRegressor(), \n",
    "                           param_grid=mem_forest_param_grid,\n",
    "                           parallelize=False)\n",
    "mem_forest_gs.fit(mem_X_train_norm, mem_y_train, mem_X_val_norm, mem_y_val)"
   ]
  },
  {
   "cell_type": "code",
   "execution_count": null,
   "id": "average-favorite",
   "metadata": {},
   "outputs": [],
   "source": [
    "mem_forest_gs.best_params"
   ]
  },
  {
   "cell_type": "code",
   "execution_count": null,
   "id": "pressing-experiment",
   "metadata": {},
   "outputs": [],
   "source": [
    "mem_forest = RandomForestRegressor(**mem_forest_gs.best_params)\n",
    "mem_forest_params = {'max_depth': 13, 'n_estimators': 100, 'random_state': 3}\n",
    "#mem_forest = RandomForestRegressor(**mem_forest_params)\n",
    "mem_forest.fit(mem_X_train_norm, mem_y_train)"
   ]
  },
  {
   "cell_type": "markdown",
   "id": "8539033c-71fa-4c2e-af06-f718af0e799d",
   "metadata": {},
   "source": [
    "### Gradient boosted trees"
   ]
  },
  {
   "cell_type": "code",
   "execution_count": null,
   "id": "9df32d02-bf81-469c-b06d-0f55c138c4d7",
   "metadata": {},
   "outputs": [],
   "source": [
    "mem_gboost_param_grid = {'random_state':[3], \n",
    "                          'max_depth':range(2,15),\n",
    "                          'n_estimators':[100,200,300,500]}\n",
    "mem_gboost_gs = GridSearch(model=GradientBoostingRegressor(),\n",
    "                            param_grid=mem_gboost_param_grid,\n",
    "                            parallelize=False)\n",
    "mem_gboost_gs.fit(mem_X_train_norm, mem_y_train, mem_X_val_norm, mem_y_val)"
   ]
  },
  {
   "cell_type": "code",
   "execution_count": null,
   "id": "79f2d77d-c5b4-4501-bffe-51a9d85b98a0",
   "metadata": {},
   "outputs": [],
   "source": [
    "mem_gboost_gs.best_params"
   ]
  },
  {
   "cell_type": "markdown",
   "id": "aa6395c6-8dbb-4645-8ce7-58c76dae9b31",
   "metadata": {},
   "source": [
    "# Classification problem"
   ]
  },
  {
   "cell_type": "markdown",
   "id": "80bf6d74-6d74-46e3-92ae-b47607b0b1ff",
   "metadata": {},
   "source": [
    "## Memory categories"
   ]
  },
  {
   "cell_type": "code",
   "execution_count": 15,
   "id": "096f2465-abc8-4a69-83d6-4802939c955b",
   "metadata": {},
   "outputs": [],
   "source": [
    "mem_bin_cutoffs = [50, 100, 200, 500, 1000, 2000, 10000, 20000, 50000, 100000]\n",
    "\n",
    "bin_sizes = [df[df.used_mem < mem_bin_cutoffs[0]].shape[0]]\n",
    "for i in range(1, len(mem_bin_cutoffs)):\n",
    "    current_bin_size = df[(df.used_mem >= mem_bin_cutoffs[i-1])\n",
    "                        & (df.used_mem < mem_bin_cutoffs[i])].shape[0]\n",
    "    bin_sizes.append(current_bin_size)\n"
   ]
  },
  {
   "cell_type": "code",
   "execution_count": 16,
   "id": "94d649af-8ee2-4e38-9741-97427b1ab895",
   "metadata": {},
   "outputs": [],
   "source": [
    "def print_mem_categories():\n",
    "    print(f\"0: < {mem_bin_cutoffs[0]}MB ({bin_sizes[0]} entries)\")\n",
    "    for i in range(1, len(mem_bin_cutoffs)):\n",
    "        print(f\"{i}: >= {mem_bin_cutoffs[i-1]}MB\"\n",
    "              + f\" and < {mem_bin_cutoffs[i]}MB\"\n",
    "              + f\" ({bin_sizes[i]} entries)\")"
   ]
  },
  {
   "cell_type": "code",
   "execution_count": 17,
   "id": "fa213c19-d7b6-45c4-bb8a-2e26cf2c0548",
   "metadata": {},
   "outputs": [
    {
     "name": "stdout",
     "output_type": "stream",
     "text": [
      "0: < 50MB (22965 entries)\n",
      "1: >= 50MB and < 100MB (11126 entries)\n",
      "2: >= 100MB and < 200MB (8623 entries)\n",
      "3: >= 200MB and < 500MB (3169 entries)\n",
      "4: >= 500MB and < 1000MB (1639 entries)\n",
      "5: >= 1000MB and < 2000MB (2535 entries)\n",
      "6: >= 2000MB and < 10000MB (248 entries)\n",
      "7: >= 10000MB and < 20000MB (33 entries)\n",
      "8: >= 20000MB and < 50000MB (22 entries)\n",
      "9: >= 50000MB and < 100000MB (0 entries)\n"
     ]
    }
   ],
   "source": [
    "print_mem_categories()"
   ]
  },
  {
   "cell_type": "code",
   "execution_count": 18,
   "id": "5f3c03f3-4e5b-4c0e-867f-81ab53da4360",
   "metadata": {},
   "outputs": [],
   "source": [
    "def mem_category(row):\n",
    "    mem = row['used_mem']\n",
    "    if mem < mem_bin_cutoffs[0]:\n",
    "        return 0\n",
    "    for i in range(1, len(mem_bin_cutoffs)):\n",
    "        if mem >= mem_bin_cutoffs[i-1] and mem < mem_bin_cutoffs[i]:\n",
    "            return i\n",
    "    return None"
   ]
  },
  {
   "cell_type": "code",
   "execution_count": 19,
   "id": "78ff4acc-5682-4d0f-8d30-dd8272fc7409",
   "metadata": {},
   "outputs": [],
   "source": [
    "df['mem_category'] = df.apply(lambda row: mem_category(row), axis=1)"
   ]
  },
  {
   "cell_type": "markdown",
   "id": "7e3ec598-4a56-4147-add9-7b13ce2aaacf",
   "metadata": {},
   "source": [
    "## Feature selection"
   ]
  },
  {
   "cell_type": "code",
   "execution_count": 20,
   "id": "01314cbc-2a7b-4299-ab9a-ef05f3a68a75",
   "metadata": {},
   "outputs": [],
   "source": [
    "class_df = df[df.rqst_timespan.notnull() & df.rqst_area_rect.notnull()]\n",
    "class_X_features = ['PP', 'SP', 'BR', 'rqst_timespan', 'rqst_area_rect', 'converted',\n",
    "              'params_num', 'grid_def_num', 'level_num',\n",
    "              'ds084.1', 'ds631.1', 'ds083.3', 'ds094.0', 'ds083.2']\n",
    "class_y_features = ['req_mem', 'used_mem', 'mem_category']\n",
    "\n",
    "class_X = class_df[class_X_features]\n",
    "class_y = class_df[class_y_features]"
   ]
  },
  {
   "cell_type": "markdown",
   "id": "c5bc5a19-d728-437e-ba16-dacb82098ac4",
   "metadata": {},
   "source": [
    "## Train/validation/test split"
   ]
  },
  {
   "cell_type": "code",
   "execution_count": 21,
   "id": "5c6b06aa-0d1b-4a78-81bb-2deb840b7956",
   "metadata": {},
   "outputs": [],
   "source": [
    "class_train_amt = 0.5\n",
    "class_val_amt = 0.25\n",
    "class_test_amt = 0.25"
   ]
  },
  {
   "cell_type": "code",
   "execution_count": 22,
   "id": "a173d973-58ef-4691-998b-349bbda61124",
   "metadata": {},
   "outputs": [],
   "source": [
    "class_X_train, class_X_target, class_y_train_full, class_y_target_full = \\\n",
    "                train_test_split(class_X, class_y, \n",
    "                test_size=1-class_train_amt, \n",
    "                random_state = 3)\n",
    "class_X_val, class_X_test, class_y_val_full, class_y_test_full = \\\n",
    "                train_test_split(class_X_target, class_y_target_full,\n",
    "                                 test_size = class_test_amt/class_train_amt,\n",
    "                                 random_state = 3)"
   ]
  },
  {
   "cell_type": "code",
   "execution_count": 23,
   "id": "5965ee47-c151-4aa9-8d5f-3a2ee1d702c2",
   "metadata": {},
   "outputs": [
    {
     "name": "stdout",
     "output_type": "stream",
     "text": [
      "         req_mem    used_mem  mem_category\n",
      "6220696   1024.0   61.992188             1\n",
      "6332429   4096.0  160.144531             2\n",
      "6410021   2048.0   66.574219             1\n",
      "6197047  20480.0  490.234375             3\n",
      "6222743  20480.0   36.976562             0\n"
     ]
    }
   ],
   "source": [
    "print(class_y_train_full[:5])"
   ]
  },
  {
   "cell_type": "code",
   "execution_count": 24,
   "id": "99189c34-e022-49de-9bb2-f1d6c8fadb2a",
   "metadata": {},
   "outputs": [],
   "source": [
    "class_y_train = np.ravel(class_y_train_full['mem_category'])\n",
    "class_y_val = np.ravel(class_y_val_full['mem_category'])\n",
    "class_y_test = np.ravel(class_y_test_full['mem_category'])"
   ]
  },
  {
   "cell_type": "code",
   "execution_count": 25,
   "id": "aec9cd31-bbc2-404a-9e9b-01a78cedeaea",
   "metadata": {},
   "outputs": [
    {
     "name": "stdout",
     "output_type": "stream",
     "text": [
      "[1 2 1 3 0]\n"
     ]
    }
   ],
   "source": [
    "print(class_y_train[:5])"
   ]
  },
  {
   "cell_type": "markdown",
   "id": "d8fb1e2e-4a06-47e4-bfb1-8d7f619fc124",
   "metadata": {},
   "source": [
    "## Scaling"
   ]
  },
  {
   "cell_type": "code",
   "execution_count": 26,
   "id": "77bf0ac5-311f-4894-9f41-0944b71e746b",
   "metadata": {},
   "outputs": [],
   "source": [
    "class_scaler = StandardScaler()\n",
    "class_scaler.fit(class_X_train)\n",
    "\n",
    "class_X_train_norm = class_scaler.transform(class_X_train)\n",
    "class_X_val_norm = class_scaler.transform(class_X_val)\n",
    "class_X_test_norm = class_scaler.transform(class_X_test)"
   ]
  },
  {
   "cell_type": "markdown",
   "id": "790ad2cc-4806-4c48-8eea-97176ac0abf8",
   "metadata": {},
   "source": [
    "## Trees, Forest, Gradient Boosts"
   ]
  },
  {
   "cell_type": "markdown",
   "id": "a42b026c-b289-4de6-8fde-044a6757a133",
   "metadata": {},
   "source": [
    "### Tree"
   ]
  },
  {
   "cell_type": "code",
   "execution_count": 38,
   "id": "f93e07e5-c8ec-403f-a5bc-25d53a17be2e",
   "metadata": {},
   "outputs": [
    {
     "data": {
      "text/plain": [
       "DecisionTreeClassifier(class_weight='balanced', max_depth=19, random_state=3)"
      ]
     },
     "execution_count": 38,
     "metadata": {},
     "output_type": "execute_result"
    }
   ],
   "source": [
    "class_tree_param_grid = {'random_state':[3], 'max_depth':range(2,20), 'class_weight':['balanced']}\n",
    "class_tree_gs = GridSearch(model=DecisionTreeClassifier(), \n",
    "                          param_grid=class_tree_param_grid,\n",
    "                          parallelize=False)\n",
    "class_tree_gs.fit(class_X_train_norm, class_y_train, class_X_val_norm, class_y_val)"
   ]
  },
  {
   "cell_type": "code",
   "execution_count": 39,
   "id": "e6039a1b-e2d2-4543-b363-0cea25ab264e",
   "metadata": {},
   "outputs": [
    {
     "data": {
      "text/plain": [
       "{'class_weight': 'balanced', 'max_depth': 19, 'random_state': 3}"
      ]
     },
     "execution_count": 39,
     "metadata": {},
     "output_type": "execute_result"
    }
   ],
   "source": [
    "class_tree_gs.best_params"
   ]
  },
  {
   "cell_type": "code",
   "execution_count": 40,
   "id": "fab7bfb9-87a9-4be8-a2a0-68e5acddaa8d",
   "metadata": {},
   "outputs": [],
   "source": [
    "class_tree = class_tree_gs.best_estimator_"
   ]
  },
  {
   "cell_type": "markdown",
   "id": "0c3b1014-6a20-4ef9-9981-cb5bb660067c",
   "metadata": {},
   "source": [
    "### Forest"
   ]
  },
  {
   "cell_type": "code",
   "execution_count": 42,
   "id": "0e849f75-b1ed-463a-ac80-257298c67bb2",
   "metadata": {},
   "outputs": [
    {
     "data": {
      "text/plain": [
       "RandomForestClassifier(class_weight='balanced', max_depth=14, n_estimators=500,\n",
       "                       random_state=3)"
      ]
     },
     "execution_count": 42,
     "metadata": {},
     "output_type": "execute_result"
    }
   ],
   "source": [
    "class_forest_param_grid = {'random_state':[3], 'max_depth':range(2,15),\n",
    "                     'n_estimators':[100,200,300,500], 'class_weight':['balanced']}\n",
    "class_forest_gs = GridSearch(model=RandomForestClassifier(), \n",
    "                            param_grid=class_forest_param_grid,\n",
    "                            parallelize=False)\n",
    "class_forest_gs.fit(class_X_train_norm, class_y_train, class_X_val_norm, class_y_val)"
   ]
  },
  {
   "cell_type": "code",
   "execution_count": 43,
   "id": "2e9e309b-7f6d-4d2f-b6fa-b21e90fb3840",
   "metadata": {},
   "outputs": [
    {
     "data": {
      "text/plain": [
       "{'class_weight': 'balanced',\n",
       " 'max_depth': 14,\n",
       " 'n_estimators': 300,\n",
       " 'random_state': 3}"
      ]
     },
     "execution_count": 43,
     "metadata": {},
     "output_type": "execute_result"
    }
   ],
   "source": [
    "class_forest_gs.best_params"
   ]
  },
  {
   "cell_type": "code",
   "execution_count": 27,
   "id": "420e5e13-666c-463c-9d14-7961eff6ed71",
   "metadata": {},
   "outputs": [
    {
     "data": {
      "text/plain": [
       "RandomForestClassifier(class_weight='balanced', max_depth=14, n_estimators=300,\n",
       "                       random_state=3)"
      ]
     },
     "execution_count": 27,
     "metadata": {},
     "output_type": "execute_result"
    }
   ],
   "source": [
    "#class_forest = class_forest_gs.best_estimator_\n",
    "class_forest = RandomForestClassifier(class_weight='balanced',\n",
    "                                      max_depth=14,\n",
    "                                      n_estimators=300,\n",
    "                                      random_state=3)\n",
    "class_forest.fit(class_X_train_norm, class_y_train)"
   ]
  },
  {
   "cell_type": "markdown",
   "id": "f08eae47-da79-4973-93c2-e6bc792b8d64",
   "metadata": {},
   "source": [
    "### Gradient boosted trees"
   ]
  },
  {
   "cell_type": "code",
   "execution_count": null,
   "id": "fbb71164-f525-4252-bae0-51af11ab8e82",
   "metadata": {},
   "outputs": [],
   "source": [
    "class_gboost_param_grid = {'random_state':[3], 'max_depth':range(2,15),\n",
    "                     'n_estimators':[100,200,300,500]}\n",
    "class_gboost_gs = GridSearch(model=GradientBoostingClassifier(), \n",
    "                            param_grid=class_gboost_param_grid,\n",
    "                            parallelize=False)\n",
    "class_gboost_gs.fit(class_X_train_norm, class_y_train, class_X_val_norm, class_y_val)"
   ]
  },
  {
   "cell_type": "code",
   "execution_count": null,
   "id": "b9064a10-a967-42db-a7bb-b2b247b84c42",
   "metadata": {},
   "outputs": [],
   "source": [
    "class_gboost_gs.best_params"
   ]
  },
  {
   "cell_type": "code",
   "execution_count": null,
   "id": "114d151a-e135-4841-9a08-3325b839f5f7",
   "metadata": {},
   "outputs": [],
   "source": [
    "class_gboost = class_gboost_gs.best_estimator_"
   ]
  },
  {
   "cell_type": "code",
   "execution_count": 44,
   "id": "0de853d7-2aae-4c4b-841b-35a540254cf1",
   "metadata": {},
   "outputs": [
    {
     "data": {
      "text/plain": [
       "GradientBoostingClassifier(max_depth=14, n_estimators=150, random_state=3)"
      ]
     },
     "execution_count": 44,
     "metadata": {},
     "output_type": "execute_result"
    }
   ],
   "source": [
    "class_gboost = GradientBoostingClassifier(random_state=3, max_depth=14, n_estimators=150)\n",
    "class_gboost.fit(class_X_train_norm, class_y_train)"
   ]
  },
  {
   "cell_type": "markdown",
   "id": "d1d75672-09b7-4165-b7ca-f332373d80ca",
   "metadata": {},
   "source": [
    "## Linear regressors"
   ]
  },
  {
   "cell_type": "code",
   "execution_count": 29,
   "id": "d739c17a-885c-4d11-8bad-8baad1a9ba2c",
   "metadata": {},
   "outputs": [
    {
     "data": {
      "text/plain": [
       "LogisticRegression(class_weight='balanced', max_iter=1000)"
      ]
     },
     "execution_count": 29,
     "metadata": {},
     "output_type": "execute_result"
    }
   ],
   "source": [
    "logist = LogisticRegression(max_iter=1000, class_weight='balanced')\n",
    "logist.fit(class_X_train_norm, class_y_train)"
   ]
  },
  {
   "cell_type": "markdown",
   "id": "affiliated-routine",
   "metadata": {},
   "source": [
    "# Model evaluation"
   ]
  },
  {
   "cell_type": "code",
   "execution_count": 28,
   "id": "7ba49d67-c289-4bd5-a167-2ed8b7d653e8",
   "metadata": {},
   "outputs": [],
   "source": [
    "def score_model(target, model):\n",
    "    if target == 'time':\n",
    "        train_score = round(model.score(time_X_train_norm, time_y_train), 4)\n",
    "        val_score = round(model.score(time_X_val_norm, time_y_val), 4)\n",
    "    elif target == 'mem':\n",
    "        train_score = round(model.score(mem_X_train_norm, mem_y_train), 4)\n",
    "        val_score = round(model.score(mem_X_val_norm, mem_y_val), 4)\n",
    "    elif target == 'class':\n",
    "        train_score = round(model.score(class_X_train_norm, class_y_train), 4)\n",
    "        val_score = round(model.score(class_X_val_norm, class_y_val), 4)\n",
    "    print(f\"Training score: {train_score}\")\n",
    "    print(f\"Validation score: {val_score}\")"
   ]
  },
  {
   "cell_type": "code",
   "execution_count": 29,
   "id": "regular-white",
   "metadata": {},
   "outputs": [],
   "source": [
    "def print_feature_importances(target, model):\n",
    "    if target == 'time':\n",
    "        X_features = time_X_features\n",
    "    elif target == 'mem':\n",
    "        X_features = mem_X_features\n",
    "    elif target == 'class':\n",
    "        X_features = class_X_features\n",
    "        \n",
    "    name_val_pairs = list(zip(X_features, \n",
    "                              [round(100*val,3) \n",
    "                               for val in model.feature_importances_]\n",
    "                              ))\n",
    "    \n",
    "    print('\\n'.join([str(item) for item in name_val_pairs]))"
   ]
  },
  {
   "cell_type": "code",
   "execution_count": 30,
   "id": "sudden-circuit",
   "metadata": {},
   "outputs": [],
   "source": [
    "def plot_performance(target, model, scale='linear', goal_line=True):\n",
    "    ax = plt.gca()\n",
    "    \n",
    "    if target == 'time':\n",
    "        pred = model.predict(time_X_val_norm)\n",
    "        val = time_y_val\n",
    "        \n",
    "    else:\n",
    "        pred = model.predict(mem_X_val_norm)\n",
    "        val = mem_y_val\n",
    "        \n",
    "    ax.scatter(pred, val, color='blueviolet', s=1.2)\n",
    "        \n",
    "    if goal_line:\n",
    "        max_value = int(max(np.amax(pred), np.amax(val)))\n",
    "        x = np.array(range(0,max_value))\n",
    "        plt.plot(x, x, color='blue')\n",
    "        \n",
    "    plt.xscale(scale)\n",
    "    plt.yscale(scale)\n",
    "    plt.xlabel(\"Predicted value\")\n",
    "    plt.ylabel(\"Actual value\")"
   ]
  },
  {
   "cell_type": "code",
   "execution_count": 31,
   "id": "a20a17d7-1a1f-4a53-bfbb-9c72ad65037e",
   "metadata": {},
   "outputs": [],
   "source": [
    "def plot_cm(model):\n",
    "    plot_confusion_matrix(model, class_X_val_norm, \n",
    "                          class_y_val, normalize='true', \n",
    "                          values_format='.2f')"
   ]
  },
  {
   "cell_type": "code",
   "execution_count": 32,
   "id": "c8556009-3a6c-4421-8677-9635a3527f44",
   "metadata": {},
   "outputs": [],
   "source": [
    "def print_cr(model):\n",
    "    print(classification_report(class_y_val, model.predict(class_X_val_norm)))"
   ]
  },
  {
   "cell_type": "code",
   "execution_count": 33,
   "id": "68df5456-90bd-4ecb-a952-55f9b71a36b1",
   "metadata": {},
   "outputs": [],
   "source": [
    "def auc(model):\n",
    "    print(roc_auc_score(class_y_val, \n",
    "                        model.predict_proba(class_X_val_norm),\n",
    "                        average='weighted',\n",
    "                        multi_class='ovr'))"
   ]
  },
  {
   "cell_type": "code",
   "execution_count": 34,
   "id": "71475c70-31d6-4c1b-b4dd-066e1e1fd58f",
   "metadata": {},
   "outputs": [
    {
     "name": "stdout",
     "output_type": "stream",
     "text": [
      "0.9718435717819608\n"
     ]
    }
   ],
   "source": [
    "auc(class_forest)"
   ]
  },
  {
   "cell_type": "code",
   "execution_count": 35,
   "id": "4e96b950-9621-4ee4-a2f0-d1d4940fbfeb",
   "metadata": {},
   "outputs": [
    {
     "name": "stdout",
     "output_type": "stream",
     "text": [
      "Training score: 0.8894\n",
      "Validation score: 0.8451\n"
     ]
    }
   ],
   "source": [
    "score_model('class', class_forest)"
   ]
  },
  {
   "cell_type": "code",
   "execution_count": 36,
   "id": "964d4e7c-b143-4b10-bcb5-20a87fb91b7b",
   "metadata": {},
   "outputs": [
    {
     "data": {
      "image/png": "[encoded data removed]",
      "text/plain": [
       "<Figure size 432x288 with 2 Axes>"
      ]
     },
     "metadata": {
      "needs_background": "light"
     },
     "output_type": "display_data"
    }
   ],
   "source": [
    "plot_cm(class_forest)"
   ]
  },
  {
   "cell_type": "code",
   "execution_count": 37,
   "id": "95b80487-30ee-4d1b-a204-afbfc9aead50",
   "metadata": {},
   "outputs": [
    {
     "name": "stdout",
     "output_type": "stream",
     "text": [
      "('PP', 5.428)\n",
      "('SP', 7.407)\n",
      "('BR', 3.271)\n",
      "('rqst_timespan', 27.742)\n",
      "('rqst_area_rect', 14.062)\n",
      "('converted', 6.821)\n",
      "('params_num', 15.014)\n",
      "('grid_def_num', 3.055)\n",
      "('level_num', 7.526)\n",
      "('ds084.1', 4.638)\n",
      "('ds631.1', 1.42)\n",
      "('ds083.3', 1.387)\n",
      "('ds094.0', 0.918)\n",
      "('ds083.2', 1.311)\n"
     ]
    }
   ],
   "source": [
    "print_feature_importances('class', class_forest)"
   ]
  },
  {
   "cell_type": "markdown",
   "id": "44e4045e-f74d-4873-ae67-b1614537c7bb",
   "metadata": {},
   "source": [
    "# Model persistence"
   ]
  },
  {
   "cell_type": "code",
   "execution_count": 38,
   "id": "f25bda82-ef11-4543-81e8-3028a042a9c7",
   "metadata": {},
   "outputs": [],
   "source": [
    "save_path = '/glade/work/jdubeau/model-saves/'\n",
    "\n",
    "def save_trained_model(name, date=True\n",
    "                       model, model_df, \n",
    "                       X_train, y_train_full, \n",
    "                       X_val, y_val_full, \n",
    "                       X_test, y_test_full):\n",
    "    \n",
    "    folder_path = save_path + name\n",
    "    if date:\n",
    "        day = date.today()\n",
    "        time = datetime.now().strftime(\"%H:%M\")\n",
    "        folder_path = folder_path + str(day)+ '-' +str(time) + '/'\n",
    "\n",
    "    os.makedirs(os.path.dirname(folder_path), exist_ok=True)\n",
    "    \n",
    "    pickle.dump(model, open(folder_path+'model.pkl', 'wb'))\n",
    "    pickle.dump(model_df, open(folder_path+'model_df.pkl', 'wb'))\n",
    "    pickle.dump(X_train, open(folder_path+'X_train.pkl', 'wb'))\n",
    "    pickle.dump(y_train_full, open(folder_path+'y_train_full.pkl', 'wb'))\n",
    "    pickle.dump(X_val, open(folder_path+'X_val.pkl', 'wb'))\n",
    "    pickle.dump(y_val_full, open(folder_path+'y_val_full.pkl', 'wb'))\n",
    "    pickle.dump(X_test, open(folder_path+'X_test.pkl', 'wb'))\n",
    "    pickle.dump(y_test_full, open(folder_path+'y_test_full.pkl', 'wb'))"
   ]
  },
  {
   "cell_type": "code",
   "execution_count": 39,
   "id": "ac0073b4-4d64-42d6-97f8-1c014a9c547a",
   "metadata": {},
   "outputs": [],
   "source": [
    "save_trained_model('class_forest',\n",
    "                   class_forest, class_df,\n",
    "                   class_X_train_norm, class_y_train_full,\n",
    "                   class_X_val_norm, class_y_val_full,\n",
    "                   class_X_test_norm, class_y_test_full)"
   ]
  }
 ],
 "metadata": {
  "kernelspec": {
   "display_name": "fixed-python-path",
   "language": "python",
   "name": "fixed-python-path"
  },
  "language_info": {
   "codemirror_mode": {
    "name": "ipython",
    "version": 3
   },
   "file_extension": ".py",
   "mimetype": "text/x-python",
   "name": "python",
   "nbconvert_exporter": "python",
   "pygments_lexer": "ipython3",
   "version": "3.8.8"
  }
 },
 "nbformat": 4,
 "nbformat_minor": 5
}
