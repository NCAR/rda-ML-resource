{
 "cells": [
  {
   "cell_type": "markdown",
   "id": "b541fb5d-0bfb-4d05-a015-446150a9f783",
   "metadata": {},
   "source": [
    "# Notebook options"
   ]
  },
  {
   "cell_type": "code",
   "execution_count": 42,
   "id": "b9a83d24-218b-4e66-ad1b-12e74c61fdd8",
   "metadata": {},
   "outputs": [],
   "source": [
    "grid_search = False"
   ]
  },
  {
   "cell_type": "markdown",
   "id": "a2f1bd63-3433-43f2-a8a8-e080eaa3965d",
   "metadata": {},
   "source": [
    "# Imports and display options"
   ]
  },
  {
   "cell_type": "code",
   "execution_count": 1,
   "id": "29148f7e-2410-4938-81bf-51fdcfc44148",
   "metadata": {},
   "outputs": [],
   "source": [
    "import pandas as pd\n",
    "import numpy as np\n",
    "from sklearn.model_selection import train_test_split\n",
    "from sklearn.tree import DecisionTreeRegressor\n",
    "from sklearn.ensemble import RandomForestRegressor\n",
    "from sklearn.ensemble import GradientBoostingRegressor\n",
    "from sklearn.metrics import mean_squared_error\n",
    "from sklearn.linear_model import LinearRegression\n",
    "from sklearn.linear_model import Ridge\n",
    "from sklearn.linear_model import Lasso\n",
    "from hypopt import GridSearch\n",
    "from preprocessing import get_df\n",
    "from preprocessing import scale"
   ]
  },
  {
   "cell_type": "code",
   "execution_count": 2,
   "id": "497120df-4c2f-4e51-ab7c-cb3f78ac0b4c",
   "metadata": {},
   "outputs": [],
   "source": [
    "pd.options.display.max_columns = None\n",
    "pd.options.display.max_rows = 75"
   ]
  },
  {
   "cell_type": "markdown",
   "id": "d60c6f60-6e4a-495e-974e-1bf8b453c971",
   "metadata": {},
   "source": [
    "# Load data"
   ]
  },
  {
   "cell_type": "code",
   "execution_count": 3,
   "id": "ada90513-1c9b-44c8-934d-e138540577d3",
   "metadata": {},
   "outputs": [],
   "source": [
    "df = get_df()"
   ]
  },
  {
   "cell_type": "markdown",
   "id": "66ea349d-af55-4429-b25f-7806c637c6ad",
   "metadata": {
    "tags": []
   },
   "source": [
    "# Wall time models"
   ]
  },
  {
   "cell_type": "markdown",
   "id": "5aa3bf03-783b-4820-a851-4f685bc99026",
   "metadata": {
    "toc-hr-collapsed": true
   },
   "source": [
    "## Feature selection"
   ]
  },
  {
   "cell_type": "code",
   "execution_count": 4,
   "id": "ac30de8c-9d70-4e62-a06c-ce96713d6ced",
   "metadata": {},
   "outputs": [],
   "source": [
    "time_df = df[df.rqst_timespan.notnull() & df.rqst_area_rect.notnull()]\n",
    "time_X_features = ['PP', 'SP', 'BR', 'rqst_timespan', 'rqst_area_rect', 'converted',\n",
    "              'params_num', 'grid_def_num', 'level_num',\n",
    "              'ds084.1', 'ds631.1', 'ds083.3', 'ds094.0', 'ds083.2']\n",
    "time_y_features = ['wall_time']\n",
    "\n",
    "time_X = time_df[time_X_features]\n",
    "time_y = time_df[time_y_features]"
   ]
  },
  {
   "cell_type": "markdown",
   "id": "821a4030-f739-48b3-8e4b-ea83d3e7a8d0",
   "metadata": {},
   "source": [
    "## Train/validation/test split"
   ]
  },
  {
   "cell_type": "code",
   "execution_count": 5,
   "id": "8d00a03e-e1b4-445a-a108-08ff00bd1e3b",
   "metadata": {},
   "outputs": [],
   "source": [
    "time_train_amt = 0.5\n",
    "time_val_amt = 0.25\n",
    "time_test_amt = 0.25"
   ]
  },
  {
   "cell_type": "code",
   "execution_count": 6,
   "id": "9db63f93-0f85-4924-9603-eb3d76b9f740",
   "metadata": {},
   "outputs": [],
   "source": [
    "time_X_train, time_X_target, time_y_train, time_y_target = \\\n",
    "                train_test_split(time_X, time_y, \n",
    "                test_size=1-time_train_amt, \n",
    "                random_state = 3)\n",
    "time_X_val, time_X_test, time_y_val, time_y_test = \\\n",
    "                train_test_split(time_X_target, time_y_target,\n",
    "                                 test_size = time_test_amt/time_train_amt,\n",
    "                                 random_state = 3)\n"
   ]
  },
  {
   "cell_type": "code",
   "execution_count": 7,
   "id": "63757e4b-fb07-4db9-8cad-b72a6ab1ffae",
   "metadata": {},
   "outputs": [],
   "source": [
    "time_y_train = np.ravel(time_y_train)\n",
    "time_y_val = np.ravel(time_y_val)\n",
    "time_y_test = np.ravel(time_y_test)"
   ]
  },
  {
   "cell_type": "markdown",
   "id": "a54208d4-3dbb-4dde-846c-e10edd47716a",
   "metadata": {},
   "source": [
    "## Scaling"
   ]
  },
  {
   "cell_type": "code",
   "execution_count": 9,
   "id": "0680a23c-1623-4f33-b51a-7ac338623ee1",
   "metadata": {},
   "outputs": [],
   "source": [
    "time_X_train_norm, time_X_val_norm, time_X_test_norm = \\\n",
    "        scale(time_X_train, time_X_val, time_X_test)"
   ]
  },
  {
   "cell_type": "markdown",
   "id": "f8d04ca9-815e-44ee-a02c-c6ae79b3c6dd",
   "metadata": {
    "toc-hr-collapsed": true
   },
   "source": [
    "## Trees, Forest, Gradient Boosts"
   ]
  },
  {
   "cell_type": "markdown",
   "id": "5ff99ed5-6561-4412-bc8a-6e805d237f5d",
   "metadata": {},
   "source": [
    "### Tree"
   ]
  },
  {
   "cell_type": "code",
   "execution_count": 43,
   "id": "914b3e3f-9b0f-4b4e-b0aa-2f4964586a5b",
   "metadata": {},
   "outputs": [],
   "source": [
    "if grid_search:\n",
    "    time_tree_param_grid = {'random_state':[3], 'max_depth':range(2,15)}\n",
    "    time_tree_gs = GridSearch(model=DecisionTreeRegressor(), \n",
    "                              param_grid=time_tree_param_grid,\n",
    "                              parallelize=False)\n",
    "    time_tree_gs.fit(time_X_train_norm, time_y_train, time_X_val_norm, time_y_val)\n",
    "    print(time_tree_gs.best_params)\n",
    "    time_tree = time_tree_gs.best_estimator_\n",
    "    \n",
    "else:\n",
    "    time_tree_params = {'max_depth': 14, 'random_state': 3}\n",
    "    time_tree = DecisionTreeRegressor(**time_tree_params)\n",
    "    time_tree.fit(time_X_train_norm, time_y_train)"
   ]
  },
  {
   "cell_type": "markdown",
   "id": "1ba23fad-4a62-442a-9010-b611d64d2ecf",
   "metadata": {},
   "source": [
    "### Forest"
   ]
  },
  {
   "cell_type": "code",
   "execution_count": 44,
   "id": "43954ae6-66cb-45a3-b3b2-207fdce81d5c",
   "metadata": {},
   "outputs": [],
   "source": [
    "if grid_search:\n",
    "    time_forest_param_grid = {'random_state':[3], 'max_depth':range(2,15),\n",
    "                         'n_estimators':[100,200,300,500]}\n",
    "    time_forest_gs = GridSearch(model=RandomForestRegressor(), \n",
    "                                param_grid=time_forest_param_grid,\n",
    "                                parallelize=False)\n",
    "    time_forest_gs.fit(time_X_train_norm, time_y_train, time_X_val_norm, time_y_val)\n",
    "    print(time_forest_gs.best_params)\n",
    "    time_forest = time_forest_gs.best_estimator_\n",
    "    \n",
    "else:\n",
    "    time_forest_params = {'max_depth': 14, 'n_estimators': 500, 'random_state': 3}\n",
    "    time_forest = RandomForestRegressor(**time_forest_params)\n",
    "    time_forest.fit(time_X_train_norm, time_y_train)"
   ]
  },
  {
   "cell_type": "markdown",
   "id": "576d4656-05ba-4ad6-a25e-93c93a50504e",
   "metadata": {},
   "source": [
    "### Gradient boosted trees"
   ]
  },
  {
   "cell_type": "code",
   "execution_count": 45,
   "id": "c08b78db-9b7f-4c96-8111-526e17233ddd",
   "metadata": {},
   "outputs": [],
   "source": [
    "if grid_search:\n",
    "    time_gboost_param_grid = {'random_state':[3], \n",
    "                              'max_depth':range(2,15),\n",
    "                              'n_estimators':[100,200,300,500]}\n",
    "    time_gboost_gs = GridSearch(model=GradientBoostingRegressor(),\n",
    "                                param_grid=time_gboost_param_grid,\n",
    "                                parallelize=False)\n",
    "    time_gboost_gs.fit(time_X_train_norm, time_y_train, time_X_val_norm, time_y_val)\n",
    "    print(time_gboost_gs.best_params)\n",
    "    time_gboost = time_gboost_gs.best_estimator_\n",
    "\n",
    "else:\n",
    "    time_gboost_params = {'max_depth': 9, 'n_estimators': 100, 'random_state': 3}\n",
    "    time_gboost = GradientBoostingRegressor(**time_gboost_params)\n",
    "    time_gboost.fit(time_X_train_norm, time_y_train)"
   ]
  },
  {
   "cell_type": "markdown",
   "id": "d3bfff1d-f918-4e5a-97af-80123c82f4d8",
   "metadata": {
    "toc-hr-collapsed": true
   },
   "source": [
    "## Linear regressors"
   ]
  },
  {
   "cell_type": "markdown",
   "id": "9bb38995-76b0-4736-a33b-0e399c364f58",
   "metadata": {},
   "source": [
    "### Basic linear regression"
   ]
  },
  {
   "cell_type": "code",
   "execution_count": 23,
   "id": "7b41d710-f82a-4f77-bcae-29e4022261b6",
   "metadata": {},
   "outputs": [],
   "source": [
    "linear = LinearRegression().fit(time_X_train_norm, time_y_train)"
   ]
  },
  {
   "cell_type": "markdown",
   "id": "da5e0aad-023d-493d-b58a-9dfff7972f6e",
   "metadata": {},
   "source": [
    "### Ridge regression"
   ]
  },
  {
   "cell_type": "code",
   "execution_count": 24,
   "id": "e260bf01-cc68-4819-88ee-748f8e909c2c",
   "metadata": {},
   "outputs": [],
   "source": [
    "ridge10 = Ridge(alpha=10).fit(time_X_train_norm, time_y_train)\n",
    "ridge1 = Ridge(alpha=1).fit(time_X_train_norm, time_y_train)\n",
    "ridge01 = Ridge(alpha=0.1).fit(time_X_train_norm, time_y_train)"
   ]
  },
  {
   "cell_type": "markdown",
   "id": "ecab0381-f2fb-483f-839a-580af5b923cc",
   "metadata": {},
   "source": [
    "### Lasso regression"
   ]
  },
  {
   "cell_type": "code",
   "execution_count": 25,
   "id": "a8b1171f-4d31-4fa4-a0c6-22326d00ddd8",
   "metadata": {},
   "outputs": [],
   "source": [
    "lasso = Lasso(alpha=0.01, max_iter=100000).fit(time_X_train_norm, time_y_train)"
   ]
  },
  {
   "cell_type": "markdown",
   "id": "c038d1a1-57e0-449f-b510-7df850402f53",
   "metadata": {
    "toc-hr-collapsed": true
   },
   "source": [
    "# Used memory models"
   ]
  },
  {
   "cell_type": "code",
   "execution_count": 26,
   "id": "84fb3869-4189-428a-a690-caeb94f58445",
   "metadata": {},
   "outputs": [],
   "source": [
    "mem_df = df[df.rqst_timespan.notnull() & df.rqst_area_rect.notnull()]\n",
    "mem_X_features = ['PP', 'SP', 'BR', 'rqst_timespan', 'rqst_area_rect', 'converted',\n",
    "              'params_num', 'grid_def_num', 'level_num',\n",
    "              'ds084.1', 'ds631.1', 'ds083.3', 'ds094.0', 'ds083.2']\n",
    "mem_y_features = ['used_mem']\n",
    "\n",
    "mem_X = mem_df[mem_X_features]\n",
    "mem_y = mem_df[mem_y_features]"
   ]
  },
  {
   "cell_type": "markdown",
   "id": "6d625e46-6d74-417a-a737-3590aabbea61",
   "metadata": {},
   "source": [
    "## Train/validation/test split"
   ]
  },
  {
   "cell_type": "code",
   "execution_count": 27,
   "id": "7603049d-9582-4dd9-b136-ed4dbcd2593e",
   "metadata": {},
   "outputs": [],
   "source": [
    "mem_train_amt = 0.5\n",
    "mem_val_amt = 0.25\n",
    "mem_test_amt = 0.25"
   ]
  },
  {
   "cell_type": "code",
   "execution_count": 28,
   "id": "055d755d-d1a8-45a1-9796-d1c77994b36c",
   "metadata": {},
   "outputs": [],
   "source": [
    "mem_X_train, mem_X_target, mem_y_train, mem_y_target = \\\n",
    "                        train_test_split(mem_X, mem_y, \n",
    "                                         test_size=1-mem_train_amt, \n",
    "                                         random_state = 3)\n",
    "mem_X_val, mem_X_test, mem_y_val, mem_y_test = \\\n",
    "                        train_test_split(mem_X_target, mem_y_target,\n",
    "                                         test_size = mem_test_amt/mem_train_amt,\n",
    "                                         random_state = 3)\n"
   ]
  },
  {
   "cell_type": "code",
   "execution_count": 29,
   "id": "41b2337f-fb69-445e-b3eb-7a7b38b03bfd",
   "metadata": {},
   "outputs": [],
   "source": [
    "mem_y_train = np.ravel(mem_y_train)\n",
    "mem_y_val = np.ravel(mem_y_val)\n",
    "mem_y_test = np.ravel(mem_y_test)"
   ]
  },
  {
   "cell_type": "markdown",
   "id": "43b60431-cca9-4d1d-95e2-638e4e5007f8",
   "metadata": {},
   "source": [
    "## Scaling"
   ]
  },
  {
   "cell_type": "code",
   "execution_count": 30,
   "id": "47f3b1e8-c5fa-43ba-9d72-d48ece1361a7",
   "metadata": {},
   "outputs": [],
   "source": [
    "mem_X_train_norm, mem_X_val_norm, mem_X_test_norm = \\\n",
    "        scale(mem_X_train, mem_X_val, mem_X_test)"
   ]
  },
  {
   "cell_type": "markdown",
   "id": "93b326d7-5f44-488f-97dd-e8c2831e6ed2",
   "metadata": {},
   "source": [
    "## Trees, Forest, Gradient Boosts"
   ]
  },
  {
   "cell_type": "markdown",
   "id": "28a74989-1ac0-45e7-9ef4-8cad86db651a",
   "metadata": {},
   "source": [
    "### Tree"
   ]
  },
  {
   "cell_type": "code",
   "execution_count": 31,
   "id": "1be20525-e178-4e26-b647-ddcf5a18be0f",
   "metadata": {},
   "outputs": [
    {
     "data": {
      "text/plain": [
       "DecisionTreeRegressor(max_depth=14, random_state=3)"
      ]
     },
     "execution_count": 31,
     "metadata": {},
     "output_type": "execute_result"
    }
   ],
   "source": [
    "mem_tree_param_grid = {'random_state':[3], 'max_depth':range(2,15)}\n",
    "mem_tree_gs = GridSearch(model=DecisionTreeRegressor(), \n",
    "                         param_grid=mem_tree_param_grid,\n",
    "                         parallelize=False)\n",
    "mem_tree_gs.fit(mem_X_train_norm, mem_y_train, mem_X_val_norm, mem_y_val)\n"
   ]
  },
  {
   "cell_type": "code",
   "execution_count": 32,
   "id": "f06485aa-8a7e-45e5-baaa-ad4ab5d773a6",
   "metadata": {},
   "outputs": [
    {
     "data": {
      "text/plain": [
       "{'max_depth': 13, 'random_state': 3}"
      ]
     },
     "execution_count": 32,
     "metadata": {},
     "output_type": "execute_result"
    }
   ],
   "source": [
    "mem_tree_gs.best_params"
   ]
  },
  {
   "cell_type": "code",
   "execution_count": 33,
   "id": "6bc26de1-172a-428b-a341-2a2e1716125e",
   "metadata": {},
   "outputs": [],
   "source": [
    "mem_tree = mem_tree_gs.best_estimator_"
   ]
  },
  {
   "cell_type": "code",
   "execution_count": null,
   "id": "cdde711d-aa33-4f19-8f67-081a73a4d87f",
   "metadata": {},
   "outputs": [],
   "source": [
    "#mem_tree_params = {'max_depth': 13, 'random_state': 3}\n",
    "#mem_tree = DecisionTreeRegressor(**mem_tree_params)\n",
    "#mem_tree.fit(mem_X_train_norm, mem_y_train)"
   ]
  },
  {
   "cell_type": "markdown",
   "id": "6e9d047d-2f66-4270-8feb-3db966b9f425",
   "metadata": {},
   "source": [
    "### Forest"
   ]
  },
  {
   "cell_type": "code",
   "execution_count": 34,
   "id": "4b8fae45-0694-43c5-adb1-3109fbb47458",
   "metadata": {},
   "outputs": [
    {
     "data": {
      "text/plain": [
       "RandomForestRegressor(max_depth=14, n_estimators=500, random_state=3)"
      ]
     },
     "execution_count": 34,
     "metadata": {},
     "output_type": "execute_result"
    }
   ],
   "source": [
    "mem_forest_param_grid = {'random_state':[3], 'max_depth':range(2,15),\n",
    "                     'n_estimators':[100,200,300,500]}\n",
    "mem_forest_gs = GridSearch(model=RandomForestRegressor(), \n",
    "                           param_grid=mem_forest_param_grid,\n",
    "                           parallelize=False)\n",
    "mem_forest_gs.fit(mem_X_train_norm, mem_y_train, mem_X_val_norm, mem_y_val)"
   ]
  },
  {
   "cell_type": "code",
   "execution_count": 35,
   "id": "8ddc914a-daf0-4908-8e8c-d58f67e47c81",
   "metadata": {},
   "outputs": [
    {
     "data": {
      "text/plain": [
       "{'max_depth': 9, 'n_estimators': 200, 'random_state': 3}"
      ]
     },
     "execution_count": 35,
     "metadata": {},
     "output_type": "execute_result"
    }
   ],
   "source": [
    "mem_forest_gs.best_params"
   ]
  },
  {
   "cell_type": "code",
   "execution_count": 36,
   "id": "14ccf235-b574-4a33-9232-fc2e29bac2aa",
   "metadata": {},
   "outputs": [],
   "source": [
    "mem_forest = mem_forest_gs.best_estimator_"
   ]
  },
  {
   "cell_type": "code",
   "execution_count": 37,
   "id": "809bc696-2382-456e-9d7c-c42536240c64",
   "metadata": {},
   "outputs": [],
   "source": [
    "#mem_forest_params = {'max_depth': 9, 'n_estimators': 200, 'random_state': 3}\n",
    "#mem_forest = RandomForestRegressor(**mem_forest_params)\n",
    "#mem_forest.fit(mem_X_train_norm, mem_y_train)"
   ]
  },
  {
   "cell_type": "markdown",
   "id": "f85d4f80-451e-4e92-9427-3bd1bbae54ef",
   "metadata": {},
   "source": [
    "### Gradient boosted trees"
   ]
  },
  {
   "cell_type": "code",
   "execution_count": 38,
   "id": "ebba53a6-0bb2-469f-b79e-c86761704eb5",
   "metadata": {},
   "outputs": [
    {
     "data": {
      "text/plain": [
       "GradientBoostingRegressor(max_depth=14, n_estimators=500, random_state=3)"
      ]
     },
     "execution_count": 38,
     "metadata": {},
     "output_type": "execute_result"
    }
   ],
   "source": [
    "mem_gboost_param_grid = {'random_state':[3], \n",
    "                          'max_depth':range(2,15),\n",
    "                          'n_estimators':[100,200,300,500]}\n",
    "mem_gboost_gs = GridSearch(model=GradientBoostingRegressor(),\n",
    "                            param_grid=mem_gboost_param_grid,\n",
    "                            parallelize=False)\n",
    "mem_gboost_gs.fit(mem_X_train_norm, mem_y_train, mem_X_val_norm, mem_y_val)"
   ]
  },
  {
   "cell_type": "code",
   "execution_count": 39,
   "id": "ff3c64c8-8aa5-4310-ba62-727af45d3887",
   "metadata": {},
   "outputs": [
    {
     "data": {
      "text/plain": [
       "{'max_depth': 4, 'n_estimators': 500, 'random_state': 3}"
      ]
     },
     "execution_count": 39,
     "metadata": {},
     "output_type": "execute_result"
    }
   ],
   "source": [
    "mem_gboost_gs.best_params"
   ]
  },
  {
   "cell_type": "code",
   "execution_count": 40,
   "id": "6f0e2703-bd7d-4c1c-a3a3-821c5ec3663d",
   "metadata": {},
   "outputs": [],
   "source": [
    "mem_gboost = mem_gboost_gs.best_estimator_"
   ]
  },
  {
   "cell_type": "code",
   "execution_count": 41,
   "id": "cb513c6a-47ea-44bf-8727-3d591f335e2c",
   "metadata": {},
   "outputs": [],
   "source": [
    "#mem_gboost_params = {'max_depth': 4, 'n_estimators': 500, 'random_state': 3}\n",
    "#mem_gboost = GradientBoostingRegressor(**mem_gboost_params)\n",
    "#mem_gboost.fit(mem_X_train_norm, mem_y_train)"
   ]
  }
 ],
 "metadata": {
  "kernelspec": {
   "display_name": "Python [conda env:root]",
   "language": "python",
   "name": "conda-root-py"
  },
  "language_info": {
   "codemirror_mode": {
    "name": "ipython",
    "version": 3
   },
   "file_extension": ".py",
   "mimetype": "text/x-python",
   "name": "python",
   "nbconvert_exporter": "python",
   "pygments_lexer": "ipython3",
   "version": "3.8.8"
  }
 },
 "nbformat": 4,
 "nbformat_minor": 5
}
