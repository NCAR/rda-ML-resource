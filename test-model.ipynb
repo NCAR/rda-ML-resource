{
 "cells": [
  {
   "cell_type": "code",
   "execution_count": 1,
   "id": "44e3969c-51d0-4824-8db8-8e7c2b0b0b21",
   "metadata": {},
   "outputs": [],
   "source": [
    "target = 'time'\n",
    "training_mode = 'test'"
   ]
  },
  {
   "cell_type": "code",
   "execution_count": 2,
   "id": "b60e5a1c-e1a5-4497-8cdb-281f2e56ba44",
   "metadata": {},
   "outputs": [],
   "source": [
    "import pandas as pd\n",
    "import numpy as np\n",
    "import math\n",
    "import matplotlib.pyplot as plt\n",
    "import pickle\n",
    "from math import exp\n",
    "from evaluation import print_feature_importances\n",
    "from evaluation import plot_cm\n",
    "from evaluation import print_cr\n",
    "from evaluation import auc\n",
    "from persistence import model_saver\n",
    "from preprocessing import scale\n",
    "from preprocessing import scale_other\n",
    "from itertools import product\n",
    "from apply_model import predict_for_testing"
   ]
  },
  {
   "cell_type": "code",
   "execution_count": 3,
   "id": "544241d1-c82f-447f-ae4d-fe345fb4c364",
   "metadata": {},
   "outputs": [],
   "source": [
    "mem_bin_cutoffs = [50, 100, 200, 500, 1000, 2000, 10000, 20000, 50000, 100000]\n",
    "mem_categories = {i:mem_bin_cutoffs[i] for i in range(len(mem_bin_cutoffs))}"
   ]
  },
  {
   "cell_type": "code",
   "execution_count": 4,
   "id": "ee7e9457-93c3-45d8-be55-5fdc8f638fa0",
   "metadata": {},
   "outputs": [
    {
     "name": "stdout",
     "output_type": "stream",
     "text": [
      "{0: 50, 1: 100, 2: 200, 3: 500, 4: 1000, 5: 2000, 6: 10000, 7: 20000, 8: 50000, 9: 100000}\n"
     ]
    }
   ],
   "source": [
    "print(mem_categories)"
   ]
  },
  {
   "cell_type": "code",
   "execution_count": 5,
   "id": "2befef03-6984-458e-ae54-cd622c69e8c7",
   "metadata": {},
   "outputs": [],
   "source": [
    "time_bin_cutoffs = [60, 120, 300, 600, 1800, 3600, 14400, 43200]\n",
    "time_categories = {i:time_bin_cutoffs[i] for i in range(len(time_bin_cutoffs))}"
   ]
  },
  {
   "cell_type": "code",
   "execution_count": 6,
   "id": "d03a6672-28c0-402e-98c8-b9d38902658b",
   "metadata": {},
   "outputs": [
    {
     "name": "stdout",
     "output_type": "stream",
     "text": [
      "{0: 60, 1: 120, 2: 300, 3: 600, 4: 1800, 5: 3600, 6: 14400, 7: 43200}\n"
     ]
    }
   ],
   "source": [
    "print(time_categories)"
   ]
  },
  {
   "cell_type": "markdown",
   "id": "a121cbc4-3c12-49a0-b10b-e22250f12a8a",
   "metadata": {},
   "source": [
    "# Loading model and associated data"
   ]
  },
  {
   "cell_type": "code",
   "execution_count": 7,
   "id": "8c39ce6c-d9cd-4161-967a-2c899c65c037",
   "metadata": {},
   "outputs": [],
   "source": [
    "save_path = '/glade/work/jdubeau/model-saves/time_forest_final2021-07-12-14:03/'"
   ]
  },
  {
   "cell_type": "code",
   "execution_count": 8,
   "id": "e3fe672b-538b-4209-90e4-f5a7bd91d80c",
   "metadata": {},
   "outputs": [],
   "source": [
    "ms = model_saver()\n",
    "ms.load(save_path)"
   ]
  },
  {
   "cell_type": "code",
   "execution_count": 9,
   "id": "3202b3f7-662c-449b-a89b-4799ffcf3921",
   "metadata": {},
   "outputs": [],
   "source": [
    "notes, \\\n",
    "    model, model_df, \\\n",
    "    categories_dict, \\\n",
    "    X_features, X_train, \\\n",
    "    y_train_full, X_val, \\\n",
    "    y_val_full, X_test, \\\n",
    "    y_test_full = ms.get_all()"
   ]
  },
  {
   "cell_type": "code",
   "execution_count": 10,
   "id": "f4a6adc5-ac59-4f46-8bca-616f645844c8",
   "metadata": {},
   "outputs": [
    {
     "name": "stdout",
     "output_type": "stream",
     "text": [
      "Time class forest, filling missing lat/lon with max value. Trained on train + val + test data. Grid searched on Casper Batch job. X values NOT scaled. Uses balanced class weights.\n"
     ]
    }
   ],
   "source": [
    "print(notes)"
   ]
  },
  {
   "cell_type": "code",
   "execution_count": 11,
   "id": "fa2ba0b0-7f47-4964-ae64-9a659385e1c4",
   "metadata": {},
   "outputs": [
    {
     "data": {
      "text/plain": [
       "{'bootstrap': True,\n",
       " 'ccp_alpha': 0.0,\n",
       " 'class_weight': 'balanced',\n",
       " 'criterion': 'gini',\n",
       " 'max_depth': 19,\n",
       " 'max_features': 'auto',\n",
       " 'max_leaf_nodes': None,\n",
       " 'max_samples': None,\n",
       " 'min_impurity_decrease': 0.0,\n",
       " 'min_impurity_split': None,\n",
       " 'min_samples_leaf': 1,\n",
       " 'min_samples_split': 5,\n",
       " 'min_weight_fraction_leaf': 0.0,\n",
       " 'n_estimators': 225,\n",
       " 'n_jobs': None,\n",
       " 'oob_score': False,\n",
       " 'random_state': 3,\n",
       " 'verbose': 0,\n",
       " 'warm_start': False}"
      ]
     },
     "execution_count": 11,
     "metadata": {},
     "output_type": "execute_result"
    }
   ],
   "source": [
    "model.get_params()"
   ]
  },
  {
   "cell_type": "code",
   "execution_count": 12,
   "id": "21a448bd-98c6-44d2-a5b6-e6921752a608",
   "metadata": {},
   "outputs": [
    {
     "name": "stdout",
     "output_type": "stream",
     "text": [
      "('PP', 1.961)\n",
      "('SP', 1.171)\n",
      "('BR', 0.928)\n",
      "('rqst_timespan', 35.894)\n",
      "('rqst_area_rect', 20.6)\n",
      "('converted', 3.931)\n",
      "('params_num', 16.379)\n",
      "('grid_def_num', 2.064)\n",
      "('level_num', 8.133)\n",
      "('ds084.1', 2.465)\n",
      "('ds631.1', 2.679)\n",
      "('ds083.3', 1.427)\n",
      "('ds094.0', 0.945)\n",
      "('ds083.2', 1.424)\n"
     ]
    }
   ],
   "source": [
    "print_feature_importances(X_features, model)"
   ]
  },
  {
   "cell_type": "code",
   "execution_count": 13,
   "id": "bacdb007-e4c2-4ac9-a86e-1ab7492d6b68",
   "metadata": {},
   "outputs": [],
   "source": [
    "X_train_norm, X_val_norm, X_test_norm = scale(X_train, X_val, X_test)"
   ]
  },
  {
   "cell_type": "code",
   "execution_count": 14,
   "id": "d52bea58-05bc-48bf-b83a-16007f5c917d",
   "metadata": {},
   "outputs": [],
   "source": [
    "if target == 'mem':\n",
    "    y_train = np.ravel(y_train_full['mem_category'])\n",
    "    y_val = np.ravel(y_val_full['mem_category'])\n",
    "    y_test = np.ravel(y_test_full['mem_category'])\n",
    "else:\n",
    "    y_train = np.ravel(y_train_full['time_category'])\n",
    "    y_val = np.ravel(y_val_full['time_category'])\n",
    "    y_test = np.ravel(y_test_full['time_category'])"
   ]
  },
  {
   "cell_type": "code",
   "execution_count": 15,
   "id": "5ece72f6-c2de-4e4e-b8af-2a9ba1e021a6",
   "metadata": {},
   "outputs": [
    {
     "data": {
      "text/plain": [
       "<Figure size 432x288 with 0 Axes>"
      ]
     },
     "metadata": {},
     "output_type": "display_data"
    },
    {
     "data": {
      "image/png": "[encoded data removed]",
      "text/plain": [
       "<Figure size 432x288 with 2 Axes>"
      ]
     },
     "metadata": {
      "needs_background": "light"
     },
     "output_type": "display_data"
    }
   ],
   "source": [
    "if training_mode == 'test':\n",
    "    plot_cm(X_test_norm, y_test, model, save=False, path='class-forest-balanced.png')\n",
    "else:\n",
    "    plot_cm(X_val_norm, y_val, model)"
   ]
  },
  {
   "cell_type": "code",
   "execution_count": 16,
   "id": "945d2f61-ca42-4089-9843-e693c71cf304",
   "metadata": {},
   "outputs": [
    {
     "name": "stdout",
     "output_type": "stream",
     "text": [
      "              precision    recall  f1-score   support\n",
      "\n",
      "           0       0.75      0.73      0.74      1813\n",
      "           1       0.79      0.78      0.78      2681\n",
      "           2       0.83      0.86      0.85      1947\n",
      "           3       0.79      0.80      0.79      1401\n",
      "           4       0.91      0.82      0.86      1983\n",
      "           5       0.79      0.88      0.83       995\n",
      "           6       0.89      0.79      0.84      1392\n",
      "           7       0.56      0.95      0.71       342\n",
      "\n",
      "    accuracy                           0.81     12554\n",
      "   macro avg       0.79      0.83      0.80     12554\n",
      "weighted avg       0.81      0.81      0.81     12554\n",
      "\n"
     ]
    }
   ],
   "source": [
    "if training_mode == 'test':\n",
    "    print_cr(X_test_norm, y_test, model)\n",
    "else:\n",
    "    print_cr(X_val_norm, y_val, model)"
   ]
  },
  {
   "cell_type": "code",
   "execution_count": 17,
   "id": "eea1f687-3b01-452d-a289-39d50dffa3e3",
   "metadata": {},
   "outputs": [
    {
     "name": "stdout",
     "output_type": "stream",
     "text": [
      "0.9783540624378664\n"
     ]
    }
   ],
   "source": [
    "if training_mode == 'test':\n",
    "    auc(X_test_norm, y_test, model)\n",
    "else:\n",
    "    auc(X_val_norm, y_val, model)"
   ]
  },
  {
   "cell_type": "code",
   "execution_count": 18,
   "id": "acd1d664-e821-4947-bb04-513c83c5b670",
   "metadata": {},
   "outputs": [],
   "source": [
    "def custom_predict(X, model):\n",
    "    probas = model.predict_proba(X)\n",
    "    preds = []\n",
    "    for entry in probas:\n",
    "        first_guess = np.argmax(entry)\n",
    "        first_proba = np.amax(entry)\n",
    "        \n",
    "        entry[first_guess] = 0\n",
    "        second_guess = np.argmax(entry)\n",
    "        second_proba = np.amax(entry)\n",
    "        \n",
    "        entry[second_guess] = 0\n",
    "        third_guess = np.argmax(entry)\n",
    "        third_proba = np.amax(entry)\n",
    "        \n",
    "        if first_proba > 0.7:\n",
    "            preds.append(first_guess)\n",
    "        else:\n",
    "            preds.append(max([first_guess, second_guess, third_guess]))\n",
    "    return np.array(preds)"
   ]
  },
  {
   "cell_type": "code",
   "execution_count": 19,
   "id": "7616aa42-8cdb-4de7-b637-8c111a174f56",
   "metadata": {},
   "outputs": [
    {
     "name": "stdout",
     "output_type": "stream",
     "text": [
      "Probas:\n",
      "[0.0, 100.0, 0.0, 0.0, 0.0, 0.0, 0.0, 0.0]\n",
      "Normal prediction:\n",
      "1\n",
      "Custom prediction:\n",
      "1\n",
      "-------\n",
      "Probas:\n",
      "[0.0, 1.9, 98.0, 0.1, 0.0, 0.0, 0.0, 0.0]\n",
      "Normal prediction:\n",
      "2\n",
      "Custom prediction:\n",
      "2\n",
      "-------\n",
      "Probas:\n",
      "[0.0, 0.0, 1.4, 3.1, 94.9, 0.1, 0.5, 0.0]\n",
      "Normal prediction:\n",
      "4\n",
      "Custom prediction:\n",
      "4\n",
      "-------\n",
      "Probas:\n",
      "[5.4, 12.7, 71.5, 6.8, 2.9, 0.0, 0.4, 0.4]\n",
      "Normal prediction:\n",
      "2\n",
      "Custom prediction:\n",
      "2\n",
      "-------\n",
      "Probas:\n",
      "[46.7, 10.4, 28.4, 7.1, 3.6, 1.5, 2.1, 0.3]\n",
      "Normal prediction:\n",
      "0\n",
      "Custom prediction:\n",
      "2\n",
      "-------\n"
     ]
    }
   ],
   "source": [
    "dat = X_train_norm[:5]\n",
    "pred = model.predict(dat)\n",
    "prob = model.predict_proba(dat)\n",
    "cpred = custom_predict(dat, model)\n",
    "\n",
    "for i in range(5):\n",
    "    print(\"Probas:\")\n",
    "    print([round(100*val, 1) for val in prob[i]])\n",
    "    print(\"Normal prediction:\")\n",
    "    print(pred[i])\n",
    "    print(\"Custom prediction:\")\n",
    "    print(cpred[i])\n",
    "    print('-------')"
   ]
  },
  {
   "cell_type": "code",
   "execution_count": 20,
   "id": "50b59afc-9e92-4926-bec7-55be68031cba",
   "metadata": {},
   "outputs": [],
   "source": [
    "def scale_predictions(preds, init_val=2.31, ten_pct_pt=1000):\n",
    "    '''Scales predictions.\n",
    "    \n",
    "       First interprets the predicted category as a memory\n",
    "       value.\n",
    "       \n",
    "       Then multiplies by a scaling value which begins\n",
    "       at the init_val and decays for higher memory values,\n",
    "       reaching a value of 1.1 (thus scaling by 10%) at the \n",
    "       given value called ten_pct_pt. \n",
    "       '''\n",
    "    \n",
    "    a = init_val - 1\n",
    "    b = (1/ten_pct_pt)*math.log(0.1/a)\n",
    "    \n",
    "    sc_predictions = []\n",
    "    for cat in preds:\n",
    "        if target == 'mem':\n",
    "            val = mem_categories[cat]\n",
    "        else:\n",
    "            val = time_categories[cat]\n",
    "        val *= 1 + a*exp(b*val)\n",
    "        val = round(val)\n",
    "        sc_predictions.append(val)\n",
    "    return sc_predictions"
   ]
  },
  {
   "cell_type": "code",
   "execution_count": 21,
   "id": "2f14378a-b827-4d26-8282-9b43f7d08426",
   "metadata": {},
   "outputs": [],
   "source": [
    "def evaluation_df(X, y_full, model, init_val=2.31, ten_pct_pt=1000):\n",
    "    df = y_full.copy()\n",
    "    if target == 'mem':\n",
    "        df['mem_delta'] = df.apply(lambda row: \n",
    "                               row['req_mem'] - row['used_mem'],\n",
    "                               axis=1)\n",
    "        df['pred_cat'] = custom_predict(X, model)\n",
    "        df['pred_mem'] = scale_predictions(df['pred_cat'],\n",
    "                                           init_val=init_val,\n",
    "                                           ten_pct_pt=ten_pct_pt)\n",
    "        df['pred_delta'] = df.apply(lambda row: row['pred_mem'] - row['used_mem'],\n",
    "                                    axis=1)\n",
    "    else:\n",
    "        df['time_delta'] = df.apply(lambda row: \n",
    "                               43200 - row['wall_time'],\n",
    "                               axis=1)\n",
    "        df['pred_cat'] = custom_predict(X, model)\n",
    "        df['pred_time'] = np.array([min(43200, x) \n",
    "                                    for  x in\n",
    "                                    scale_predictions(df['pred_cat'],\n",
    "                                           init_val=init_val,\n",
    "                                           ten_pct_pt=ten_pct_pt)])\n",
    "        df['pred_delta'] = df.apply(lambda row: row['pred_time'] - row['wall_time'],\n",
    "                                    axis=1)\n",
    "    return df"
   ]
  },
  {
   "cell_type": "code",
   "execution_count": 22,
   "id": "e1f01839-7907-4c37-8fd4-a6fa8d95dc98",
   "metadata": {},
   "outputs": [
    {
     "data": {
      "text/html": [
       "<div>\n",
       "<style scoped>\n",
       "    .dataframe tbody tr th:only-of-type {\n",
       "        vertical-align: middle;\n",
       "    }\n",
       "\n",
       "    .dataframe tbody tr th {\n",
       "        vertical-align: top;\n",
       "    }\n",
       "\n",
       "    .dataframe thead th {\n",
       "        text-align: right;\n",
       "    }\n",
       "</style>\n",
       "<table border=\"1\" class=\"dataframe\">\n",
       "  <thead>\n",
       "    <tr style=\"text-align: right;\">\n",
       "      <th></th>\n",
       "      <th>wall_time</th>\n",
       "      <th>time_category</th>\n",
       "      <th>time_delta</th>\n",
       "      <th>pred_cat</th>\n",
       "      <th>pred_time</th>\n",
       "      <th>pred_delta</th>\n",
       "    </tr>\n",
       "  </thead>\n",
       "  <tbody>\n",
       "    <tr>\n",
       "      <th>6234797</th>\n",
       "      <td>149.0</td>\n",
       "      <td>2</td>\n",
       "      <td>43051.0</td>\n",
       "      <td>2</td>\n",
       "      <td>1742</td>\n",
       "      <td>1593.0</td>\n",
       "    </tr>\n",
       "    <tr>\n",
       "      <th>6542009</th>\n",
       "      <td>4109.0</td>\n",
       "      <td>6</td>\n",
       "      <td>39091.0</td>\n",
       "      <td>6</td>\n",
       "      <td>25411</td>\n",
       "      <td>21302.0</td>\n",
       "    </tr>\n",
       "    <tr>\n",
       "      <th>6319438</th>\n",
       "      <td>1070.0</td>\n",
       "      <td>4</td>\n",
       "      <td>42130.0</td>\n",
       "      <td>4</td>\n",
       "      <td>8917</td>\n",
       "      <td>7847.0</td>\n",
       "    </tr>\n",
       "    <tr>\n",
       "      <th>6764801</th>\n",
       "      <td>156.0</td>\n",
       "      <td>2</td>\n",
       "      <td>43044.0</td>\n",
       "      <td>2</td>\n",
       "      <td>1742</td>\n",
       "      <td>1586.0</td>\n",
       "    </tr>\n",
       "    <tr>\n",
       "      <th>6325955</th>\n",
       "      <td>35.0</td>\n",
       "      <td>0</td>\n",
       "      <td>43165.0</td>\n",
       "      <td>3</td>\n",
       "      <td>3374</td>\n",
       "      <td>3339.0</td>\n",
       "    </tr>\n",
       "    <tr>\n",
       "      <th>6225621</th>\n",
       "      <td>37.0</td>\n",
       "      <td>0</td>\n",
       "      <td>43163.0</td>\n",
       "      <td>0</td>\n",
       "      <td>358</td>\n",
       "      <td>321.0</td>\n",
       "    </tr>\n",
       "    <tr>\n",
       "      <th>6605834</th>\n",
       "      <td>155.0</td>\n",
       "      <td>2</td>\n",
       "      <td>43045.0</td>\n",
       "      <td>2</td>\n",
       "      <td>1742</td>\n",
       "      <td>1587.0</td>\n",
       "    </tr>\n",
       "    <tr>\n",
       "      <th>6444966</th>\n",
       "      <td>59.0</td>\n",
       "      <td>0</td>\n",
       "      <td>43141.0</td>\n",
       "      <td>2</td>\n",
       "      <td>1742</td>\n",
       "      <td>1683.0</td>\n",
       "    </tr>\n",
       "    <tr>\n",
       "      <th>6480085</th>\n",
       "      <td>48.0</td>\n",
       "      <td>0</td>\n",
       "      <td>43152.0</td>\n",
       "      <td>0</td>\n",
       "      <td>358</td>\n",
       "      <td>310.0</td>\n",
       "    </tr>\n",
       "    <tr>\n",
       "      <th>6618638</th>\n",
       "      <td>102.0</td>\n",
       "      <td>1</td>\n",
       "      <td>43098.0</td>\n",
       "      <td>3</td>\n",
       "      <td>3374</td>\n",
       "      <td>3272.0</td>\n",
       "    </tr>\n",
       "  </tbody>\n",
       "</table>\n",
       "</div>"
      ],
      "text/plain": [
       "         wall_time  time_category  time_delta  pred_cat  pred_time  pred_delta\n",
       "6234797      149.0              2     43051.0         2       1742      1593.0\n",
       "6542009     4109.0              6     39091.0         6      25411     21302.0\n",
       "6319438     1070.0              4     42130.0         4       8917      7847.0\n",
       "6764801      156.0              2     43044.0         2       1742      1586.0\n",
       "6325955       35.0              0     43165.0         3       3374      3339.0\n",
       "6225621       37.0              0     43163.0         0        358       321.0\n",
       "6605834      155.0              2     43045.0         2       1742      1587.0\n",
       "6444966       59.0              0     43141.0         2       1742      1683.0\n",
       "6480085       48.0              0     43152.0         0        358       310.0\n",
       "6618638      102.0              1     43098.0         3       3374      3272.0"
      ]
     },
     "execution_count": 22,
     "metadata": {},
     "output_type": "execute_result"
    }
   ],
   "source": [
    "init_val = 6.0\n",
    "ten_pct_pt = 30000\n",
    "\n",
    "if training_mode == 'test':\n",
    "    df = evaluation_df(X_test_norm, y_test_full, model, init_val=init_val, ten_pct_pt=ten_pct_pt)\n",
    "else:\n",
    "    df = evaluation_df(X_val_norm, y_val_full, model, init_val=init_val, ten_pct_pt=ten_pct_pt)\n",
    "    \n",
    "df.sample(10)"
   ]
  },
  {
   "cell_type": "code",
   "execution_count": 24,
   "id": "4eb6459b-1772-4f2b-a31e-ba5c9e25a348",
   "metadata": {},
   "outputs": [],
   "source": [
    "def total_loss_info():\n",
    "    print(f\"Number of entries predicted: {df.shape[0]}\")\n",
    "    print(\"--------\")\n",
    "    print(\"Number of jobs using more mem/time than predicted: \"\n",
    "          + f\"{df[df.pred_delta < 0].shape[0]}\")\n",
    "    print(\"Average delta for jobs using more than predicted: \"\n",
    "          + f\"{round(df[df.pred_delta<0]['pred_delta'].mean(), 2)}\")\n",
    "    print(\"Sample of jobs using more mem/time than predicted: \")\n",
    "    if target == 'mem':\n",
    "        #print(df[df.pred_delta < 0][['used_mem', 'mem_category',\n",
    "                                    #'pred_cat', 'pred_mem',\n",
    "                                    #'pred_delta']].sample(5))\n",
    "        print(\"--------\")\n",
    "        print(\"Total unused memory in GB (original): \"\n",
    "              + f\"{round(df['mem_delta'].sum()/1024)}\")\n",
    "        print(\"Total unused memory in GB (predicted): \"\n",
    "              + f\"{round(df[df.pred_delta >= 0]['pred_delta'].sum()/1024)}\")\n",
    "    else:\n",
    "        print(df[df.pred_delta < 0][['wall_time', 'time_category',\n",
    "                                    'pred_cat', 'pred_time',\n",
    "                                    'pred_delta']].sample(5))\n",
    "        print(\"--------\")\n",
    "        print(\"Total unused time in years (original): \"\n",
    "              + f\"{round(df['time_delta'].sum()/31536000, 4)}\")\n",
    "        print(\"Total unused time in years (predicted): \"\n",
    "              + f\"{round(df[df.pred_delta >= 0]['pred_delta'].sum()/31536000, 4)}\")"
   ]
  },
  {
   "cell_type": "code",
   "execution_count": 25,
   "id": "4bef6465-d2fe-4413-9898-bb0b93454e7d",
   "metadata": {},
   "outputs": [
    {
     "name": "stdout",
     "output_type": "stream",
     "text": [
      "Number of entries predicted: 12554\n",
      "--------\n",
      "Number of jobs using more mem/time than predicted: 55\n",
      "Average delta for jobs using more than predicted: -23929.6\n",
      "Sample of jobs using more mem/time than predicted: \n",
      "         wall_time  time_category  pred_cat  pred_time  pred_delta\n",
      "6223141    82116.0              7         7      43200    -38916.0\n",
      "6778768    78291.0              7         7      43200    -35091.0\n",
      "6213310    50951.0              7         7      43200     -7751.0\n",
      "6738690    52700.0              7         7      43200     -9500.0\n",
      "6219603    48511.0              7         7      43200     -5311.0\n",
      "--------\n",
      "Total unused time in years (original): 16.3936\n",
      "Total unused time in years (predicted): 5.8409\n"
     ]
    }
   ],
   "source": [
    "total_loss_info()"
   ]
  },
  {
   "cell_type": "code",
   "execution_count": 27,
   "id": "2ccb3ac6-572e-4dcc-b584-c26ea440ffdb",
   "metadata": {},
   "outputs": [
    {
     "data": {
      "text/html": [
       "<div>\n",
       "<style scoped>\n",
       "    .dataframe tbody tr th:only-of-type {\n",
       "        vertical-align: middle;\n",
       "    }\n",
       "\n",
       "    .dataframe tbody tr th {\n",
       "        vertical-align: top;\n",
       "    }\n",
       "\n",
       "    .dataframe thead th {\n",
       "        text-align: right;\n",
       "    }\n",
       "</style>\n",
       "<table border=\"1\" class=\"dataframe\">\n",
       "  <thead>\n",
       "    <tr style=\"text-align: right;\">\n",
       "      <th></th>\n",
       "      <th>wall_time</th>\n",
       "      <th>time_category</th>\n",
       "      <th>time_delta</th>\n",
       "      <th>pred_cat</th>\n",
       "      <th>pred_time</th>\n",
       "      <th>pred_delta</th>\n",
       "    </tr>\n",
       "  </thead>\n",
       "  <tbody>\n",
       "    <tr>\n",
       "      <th>6236202</th>\n",
       "      <td>85608.0</td>\n",
       "      <td>7</td>\n",
       "      <td>-42408.0</td>\n",
       "      <td>7</td>\n",
       "      <td>43200</td>\n",
       "      <td>-42408.0</td>\n",
       "    </tr>\n",
       "    <tr>\n",
       "      <th>6242925</th>\n",
       "      <td>85336.0</td>\n",
       "      <td>7</td>\n",
       "      <td>-42136.0</td>\n",
       "      <td>7</td>\n",
       "      <td>43200</td>\n",
       "      <td>-42136.0</td>\n",
       "    </tr>\n",
       "    <tr>\n",
       "      <th>6246420</th>\n",
       "      <td>84688.0</td>\n",
       "      <td>7</td>\n",
       "      <td>-41488.0</td>\n",
       "      <td>7</td>\n",
       "      <td>43200</td>\n",
       "      <td>-41488.0</td>\n",
       "    </tr>\n",
       "    <tr>\n",
       "      <th>6772472</th>\n",
       "      <td>84084.0</td>\n",
       "      <td>7</td>\n",
       "      <td>-40884.0</td>\n",
       "      <td>7</td>\n",
       "      <td>43200</td>\n",
       "      <td>-40884.0</td>\n",
       "    </tr>\n",
       "    <tr>\n",
       "      <th>6236402</th>\n",
       "      <td>83832.0</td>\n",
       "      <td>7</td>\n",
       "      <td>-40632.0</td>\n",
       "      <td>7</td>\n",
       "      <td>43200</td>\n",
       "      <td>-40632.0</td>\n",
       "    </tr>\n",
       "  </tbody>\n",
       "</table>\n",
       "</div>"
      ],
      "text/plain": [
       "         wall_time  time_category  time_delta  pred_cat  pred_time  pred_delta\n",
       "6236202    85608.0              7    -42408.0         7      43200    -42408.0\n",
       "6242925    85336.0              7    -42136.0         7      43200    -42136.0\n",
       "6246420    84688.0              7    -41488.0         7      43200    -41488.0\n",
       "6772472    84084.0              7    -40884.0         7      43200    -40884.0\n",
       "6236402    83832.0              7    -40632.0         7      43200    -40632.0"
      ]
     },
     "execution_count": 27,
     "metadata": {},
     "output_type": "execute_result"
    }
   ],
   "source": [
    "df.sort_values(by='pred_delta').head()"
   ]
  },
  {
   "cell_type": "raw",
   "id": "0b3c9128-677c-45e1-804d-f7215f8411af",
   "metadata": {},
   "source": [
    "used_mems = np.ravel(y_test_full['used_mem'])\n",
    "\n",
    "def total_loss(X, y_full, init_val, ten_pct_pt):\n",
    "    preds = scale_predictions(custom_predict(X, model), init_val, ten_pct_pt)\n",
    "    loss = 0.0\n",
    "    count = 0\n",
    "    for i in range(len(preds)):\n",
    "        pred_delta = preds[i] - used_mems[i]\n",
    "        if pred_delta >= 0:\n",
    "            loss += pred_delta\n",
    "        else:\n",
    "            # Every improperly classified point is worth 100GB?\n",
    "            loss += 102400\n",
    "    return loss/1024\n",
    "\n",
    "#total_loss(X_test_norm, y_test_full, 1.2, 10000)    \n"
   ]
  },
  {
   "cell_type": "code",
   "execution_count": 28,
   "id": "1ac85795-ab61-4684-9c51-c51c4f56b992",
   "metadata": {},
   "outputs": [
    {
     "data": {
      "text/plain": [
       "numpy.ndarray"
      ]
     },
     "execution_count": 28,
     "metadata": {},
     "output_type": "execute_result"
    }
   ],
   "source": [
    "type(X_train_norm)"
   ]
  },
  {
   "cell_type": "code",
   "execution_count": 29,
   "id": "463c25b4-cd99-4de0-b972-b909cdff7f47",
   "metadata": {},
   "outputs": [
    {
     "name": "stdout",
     "output_type": "stream",
     "text": [
      "[[ 0.45511025 -0.25862096 -0.34957241 -0.24856708 -0.81473114  1.24456177\n",
      "  -0.51416695 -0.38445327 -0.28309505  1.34441332 -0.35805261 -0.25500837\n",
      "  -0.25358807 -0.25571628]\n",
      " [ 0.45511025 -0.25862096 -0.34957241 -0.24856708 -0.81473114  1.24456177\n",
      "  -0.51416695 -0.38445327 -0.28309505  1.34441332 -0.35805261 -0.25500837\n",
      "  -0.25358807 -0.25571628]\n",
      " [ 0.45511025 -0.25862096 -0.34957241 -0.24856708 -0.81473114  1.24456177\n",
      "  -0.51416695 -0.38445327 -0.28309505  1.34441332 -0.35805261 -0.25500837\n",
      "  -0.25358807 -0.25571628]\n",
      " [ 0.45511025 -0.25862096 -0.34957241 -0.24856708 -0.81473114  1.24456177\n",
      "  -0.51416695 -0.38445327 -0.28309505  1.34441332 -0.35805261 -0.25500837\n",
      "  -0.25358807 -0.25571628]\n",
      " [ 0.45511025 -0.25862096 -0.34957241 -0.24856708 -0.81473114  1.24456177\n",
      "  -0.51416695 -0.38445327 -0.28309505  1.34441332 -0.35805261 -0.25500837\n",
      "  -0.25358807 -0.25571628]]\n",
      "           PP     SP     BR  rqst_timespan  rqst_area_rect  converted  \\\n",
      "6132011  True  False  False         2132.5             0.0       True   \n",
      "6132012  True  False  False         2132.5             0.0       True   \n",
      "6132013  True  False  False         2132.5             0.0       True   \n",
      "6132014  True  False  False         2132.5             0.0       True   \n",
      "6132015  True  False  False         2132.5             0.0       True   \n",
      "\n",
      "         params_num  grid_def_num  level_num  ds084.1  ds631.1  ds083.3  \\\n",
      "6132011           2             0          0     True    False    False   \n",
      "6132012           2             0          0     True    False    False   \n",
      "6132013           2             0          0     True    False    False   \n",
      "6132014           2             0          0     True    False    False   \n",
      "6132015           2             0          0     True    False    False   \n",
      "\n",
      "         ds094.0  ds083.2  \n",
      "6132011    False    False  \n",
      "6132012    False    False  \n",
      "6132013    False    False  \n",
      "6132014    False    False  \n",
      "6132015    False    False  \n"
     ]
    }
   ],
   "source": [
    "testing_df = model_df.copy()\n",
    "testing_X = scale_other(testing_df[X_features], X_train)\n",
    "print(testing_X[:5])\n",
    "print(testing_df[X_features].head(5))\n",
    "testing_df['pred_time_nb'] = scale_predictions(custom_predict(testing_X, \n",
    "                                                            model),\n",
    "                                             init_val=6,\n",
    "                                             ten_pct_pt=30000)"
   ]
  },
  {
   "cell_type": "code",
   "execution_count": 30,
   "id": "96e5605e-f6bd-46d0-984d-bc8466801c2e",
   "metadata": {},
   "outputs": [],
   "source": [
    "testing_df = predict_for_testing(testing_df)"
   ]
  },
  {
   "cell_type": "code",
   "execution_count": 32,
   "id": "6ea9f293-1b9f-4874-9ec3-899b3ca7afa8",
   "metadata": {},
   "outputs": [
    {
     "data": {
      "text/plain": [
       "(61, 44)"
      ]
     },
     "execution_count": 32,
     "metadata": {},
     "output_type": "execute_result"
    }
   ],
   "source": [
    "testing_df[testing_df.pred_time_script != testing_df.pred_time_nb].shape"
   ]
  },
  {
   "cell_type": "raw",
   "id": "18af1fa8-cfcf-48a9-bf05-327083d14062",
   "metadata": {},
   "source": [
    "param_grid = {'X':[X_test_norm],\n",
    "              'y_full':[y_test_full],\n",
    "              'init_val':[x/100 for x in range(111, 500, 10)],\n",
    "              'ten_pct_pt':range(500, 20000, 500)}\n",
    "\n",
    "all_combos = (dict(zip(param_grid.keys(), values)) for values in product(*param_grid.values()))\n",
    "\n",
    "smallest_loss = 50000\n",
    "best_combo = None\n",
    "counter = 0\n",
    "for combo in all_combos:\n",
    "    if counter % 50 == 0:\n",
    "        print(counter)\n",
    "    current_loss = total_loss(**combo)\n",
    "    if current_loss < smallest_loss:\n",
    "        smallest_loss = current_loss\n",
    "        best_combo = combo\n",
    "    counter += 1\n",
    "        \n",
    "print(smallest_loss)\n",
    "print(best_combo)"
   ]
  }
 ],
 "metadata": {
  "kernelspec": {
   "display_name": "Python (venv)",
   "language": "python",
   "name": "venv"
  },
  "language_info": {
   "codemirror_mode": {
    "name": "ipython",
    "version": 3
   },
   "file_extension": ".py",
   "mimetype": "text/x-python",
   "name": "python",
   "nbconvert_exporter": "python",
   "pygments_lexer": "ipython3",
   "version": "3.8.8"
  }
 },
 "nbformat": 4,
 "nbformat_minor": 5
}
