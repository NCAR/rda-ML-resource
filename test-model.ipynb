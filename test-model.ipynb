{
 "cells": [
  {
   "cell_type": "code",
   "execution_count": 1,
   "id": "b60e5a1c-e1a5-4497-8cdb-281f2e56ba44",
   "metadata": {},
   "outputs": [],
   "source": [
    "import pandas as pd\n",
    "import numpy as np\n",
    "import math\n",
    "import matplotlib.pyplot as plt\n",
    "from sklearn.model_selection import train_test_split\n",
    "from sklearn.tree import DecisionTreeClassifier\n",
    "from sklearn.ensemble import RandomForestClassifier\n",
    "from sklearn.ensemble import GradientBoostingClassifier\n",
    "from sklearn.metrics import confusion_matrix\n",
    "from sklearn.metrics import plot_confusion_matrix\n",
    "from sklearn.metrics import precision_recall_curve\n",
    "from sklearn.metrics import plot_precision_recall_curve\n",
    "from sklearn.metrics import classification_report\n",
    "from sklearn.metrics import roc_auc_score\n",
    "from sklearn.preprocessing import StandardScaler\n",
    "from sklearn.linear_model import LogisticRegression\n",
    "from datetime import datetime\n",
    "from datetime import date\n",
    "import pickle\n",
    "import os\n",
    "from math import exp"
   ]
  },
  {
   "cell_type": "code",
   "execution_count": 2,
   "id": "544241d1-c82f-447f-ae4d-fe345fb4c364",
   "metadata": {},
   "outputs": [],
   "source": [
    "mem_bin_cutoffs = [50, 100, 200, 500, 1000, 2000, 10000, 20000, 50000, 100000]\n",
    "mem_categories = {i:mem_bin_cutoffs[i] for i in range(len(mem_bin_cutoffs))}"
   ]
  },
  {
   "cell_type": "code",
   "execution_count": 3,
   "id": "ee7e9457-93c3-45d8-be55-5fdc8f638fa0",
   "metadata": {},
   "outputs": [
    {
     "name": "stdout",
     "output_type": "stream",
     "text": [
      "{0: 50, 1: 100, 2: 200, 3: 500, 4: 1000, 5: 2000, 6: 10000, 7: 20000, 8: 50000, 9: 100000}\n"
     ]
    }
   ],
   "source": [
    "print(mem_categories)"
   ]
  },
  {
   "cell_type": "code",
   "execution_count": 4,
   "id": "b2b1a85d-eb39-40b4-9140-d688c9945094",
   "metadata": {},
   "outputs": [],
   "source": [
    "save_folder_path = '/glade/work/jdubeau/model-saves/class_forest2021-06-23-13:58/'"
   ]
  },
  {
   "cell_type": "code",
   "execution_count": 5,
   "id": "7df21075-e082-41c0-beff-72a45e05ec19",
   "metadata": {},
   "outputs": [],
   "source": [
    "model = pickle.load(open(save_folder_path+'model.pkl','rb'))\n",
    "model_df = pickle.load(open(save_folder_path+'model_df.pkl', 'rb'))\n",
    "X_train = pickle.load(open(save_folder_path+'X_train.pkl', 'rb'))\n",
    "y_train_full = pickle.load(open(save_folder_path+'y_train_full.pkl', 'rb'))\n",
    "X_val = pickle.load(open(save_folder_path+'X_val.pkl', 'rb'))\n",
    "y_val_full = pickle.load(open(save_folder_path+'y_val_full.pkl', 'rb'))\n",
    "X_test = pickle.load(open(save_folder_path+'X_test.pkl', 'rb'))\n",
    "y_test_full = pickle.load(open(save_folder_path+'y_test_full.pkl', 'rb'))"
   ]
  },
  {
   "cell_type": "code",
   "execution_count": 6,
   "id": "d52bea58-05bc-48bf-b83a-16007f5c917d",
   "metadata": {},
   "outputs": [],
   "source": [
    "y_train = y_train_full['mem_category']\n",
    "y_val = y_val_full['mem_category']\n",
    "y_test = y_test_full['mem_category']"
   ]
  },
  {
   "cell_type": "code",
   "execution_count": 7,
   "id": "7e726395-e783-4c4e-8be1-3e5a34d26af9",
   "metadata": {},
   "outputs": [
    {
     "name": "stdout",
     "output_type": "stream",
     "text": [
      "<class 'pandas.core.frame.DataFrame'>\n",
      "Int64Index: 25107 entries, 6220696 to 6203484\n",
      "Data columns (total 3 columns):\n",
      " #   Column        Non-Null Count  Dtype  \n",
      "---  ------        --------------  -----  \n",
      " 0   req_mem       25107 non-null  float64\n",
      " 1   used_mem      25107 non-null  float64\n",
      " 2   mem_category  25107 non-null  int64  \n",
      "dtypes: float64(2), int64(1)\n",
      "memory usage: 784.6 KB\n"
     ]
    }
   ],
   "source": [
    "y_train_full.info()"
   ]
  },
  {
   "cell_type": "code",
   "execution_count": 8,
   "id": "74f4b26f-d989-45e0-a8ef-a2adada01ab0",
   "metadata": {},
   "outputs": [],
   "source": [
    "def plot_cm():\n",
    "    plot_confusion_matrix(model, X_val, \n",
    "                          y_val, normalize='true', \n",
    "                          values_format='.2f')"
   ]
  },
  {
   "cell_type": "code",
   "execution_count": 9,
   "id": "91361c35-7141-4cf9-b80e-74c7c55783ca",
   "metadata": {},
   "outputs": [],
   "source": [
    "def print_cr():\n",
    "    print(classification_report(y_val, model.predict(X_val)))"
   ]
  },
  {
   "cell_type": "code",
   "execution_count": 10,
   "id": "0d150ebc-340e-49de-be27-84319c7982f0",
   "metadata": {},
   "outputs": [],
   "source": [
    "def auc():\n",
    "    print(roc_auc_score(y_val, \n",
    "                        model.predict_proba(X_val),\n",
    "                        average='weighted',\n",
    "                        multi_class='ovr'))"
   ]
  },
  {
   "cell_type": "code",
   "execution_count": 11,
   "id": "5ece72f6-c2de-4e4e-b8af-2a9ba1e021a6",
   "metadata": {},
   "outputs": [
    {
     "data": {
      "image/png": "[encoded data removed]",
      "text/plain": [
       "<Figure size 432x288 with 2 Axes>"
      ]
     },
     "metadata": {
      "needs_background": "light"
     },
     "output_type": "display_data"
    }
   ],
   "source": [
    "plot_cm()"
   ]
  },
  {
   "cell_type": "code",
   "execution_count": 12,
   "id": "945d2f61-ca42-4089-9843-e693c71cf304",
   "metadata": {},
   "outputs": [
    {
     "name": "stdout",
     "output_type": "stream",
     "text": [
      "              precision    recall  f1-score   support\n",
      "\n",
      "           0       0.92      0.88      0.90      5653\n",
      "           1       0.86      0.78      0.82      2831\n",
      "           2       0.78      0.87      0.82      2142\n",
      "           3       0.71      0.84      0.77       792\n",
      "           4       0.57      0.67      0.62       410\n",
      "           5       0.83      0.87      0.85       648\n",
      "           6       0.62      0.79      0.70        67\n",
      "           7       0.14      0.67      0.24         3\n",
      "           8       1.00      0.25      0.40         8\n",
      "\n",
      "    accuracy                           0.85     12554\n",
      "   macro avg       0.72      0.74      0.68     12554\n",
      "weighted avg       0.85      0.85      0.85     12554\n",
      "\n"
     ]
    }
   ],
   "source": [
    "print_cr()"
   ]
  },
  {
   "cell_type": "code",
   "execution_count": 13,
   "id": "c9adef0d-65a9-4a09-84f6-07c400e2df49",
   "metadata": {},
   "outputs": [
    {
     "name": "stdout",
     "output_type": "stream",
     "text": [
      "0.9718435717819608\n"
     ]
    }
   ],
   "source": [
    "auc()"
   ]
  },
  {
   "cell_type": "code",
   "execution_count": 45,
   "id": "50b59afc-9e92-4926-bec7-55be68031cba",
   "metadata": {},
   "outputs": [],
   "source": [
    "def predict(entries, scale_factor=1.0):\n",
    "    predictions = []\n",
    "    for cat in model.predict(entries):\n",
    "        mem_val = mem_categories[cat]\n",
    "        mem_val *= 1 + 2*exp((-1*mem_val) / 10000.0)\n",
    "        mem_val = round(mem_val)\n",
    "        predictions.append(mem_val)\n",
    "    return predictions"
   ]
  },
  {
   "cell_type": "code",
   "execution_count": 46,
   "id": "0ae01ff2-e1b3-4d6a-b8c6-e77337653d40",
   "metadata": {},
   "outputs": [],
   "source": [
    "df = y_val_full.copy()\n",
    "df['mem_delta'] = df.apply(lambda row: \n",
    "                           row['req_mem'] - row['used_mem'],\n",
    "                           axis=1)\n"
   ]
  },
  {
   "cell_type": "code",
   "execution_count": 47,
   "id": "2633628f-51cc-446b-b0af-54a9a8c40f73",
   "metadata": {},
   "outputs": [],
   "source": [
    "df['pred_cat'] = model.predict(X_val)\n",
    "df['pred_mem'] = predict(X_val)\n",
    "df['pred_delta'] = df.apply(lambda row: row['pred_mem'] - row['used_mem'],\n",
    "                            axis=1)"
   ]
  },
  {
   "cell_type": "code",
   "execution_count": 48,
   "id": "e1f01839-7907-4c37-8fd4-a6fa8d95dc98",
   "metadata": {},
   "outputs": [
    {
     "data": {
      "text/html": [
       "<div>\n",
       "<style scoped>\n",
       "    .dataframe tbody tr th:only-of-type {\n",
       "        vertical-align: middle;\n",
       "    }\n",
       "\n",
       "    .dataframe tbody tr th {\n",
       "        vertical-align: top;\n",
       "    }\n",
       "\n",
       "    .dataframe thead th {\n",
       "        text-align: right;\n",
       "    }\n",
       "</style>\n",
       "<table border=\"1\" class=\"dataframe\">\n",
       "  <thead>\n",
       "    <tr style=\"text-align: right;\">\n",
       "      <th></th>\n",
       "      <th>req_mem</th>\n",
       "      <th>used_mem</th>\n",
       "      <th>mem_category</th>\n",
       "      <th>mem_delta</th>\n",
       "      <th>pred_cat</th>\n",
       "      <th>pred_mem</th>\n",
       "      <th>pred_delta</th>\n",
       "    </tr>\n",
       "  </thead>\n",
       "  <tbody>\n",
       "    <tr>\n",
       "      <th>6449441</th>\n",
       "      <td>1024.0</td>\n",
       "      <td>34.597656</td>\n",
       "      <td>0</td>\n",
       "      <td>989.402344</td>\n",
       "      <td>0</td>\n",
       "      <td>150</td>\n",
       "      <td>115.402344</td>\n",
       "    </tr>\n",
       "    <tr>\n",
       "      <th>6406395</th>\n",
       "      <td>4096.0</td>\n",
       "      <td>156.234375</td>\n",
       "      <td>2</td>\n",
       "      <td>3939.765625</td>\n",
       "      <td>2</td>\n",
       "      <td>592</td>\n",
       "      <td>435.765625</td>\n",
       "    </tr>\n",
       "    <tr>\n",
       "      <th>6476419</th>\n",
       "      <td>2048.0</td>\n",
       "      <td>156.593750</td>\n",
       "      <td>2</td>\n",
       "      <td>1891.406250</td>\n",
       "      <td>2</td>\n",
       "      <td>592</td>\n",
       "      <td>435.406250</td>\n",
       "    </tr>\n",
       "    <tr>\n",
       "      <th>6224222</th>\n",
       "      <td>20480.0</td>\n",
       "      <td>631.511719</td>\n",
       "      <td>4</td>\n",
       "      <td>19848.488281</td>\n",
       "      <td>4</td>\n",
       "      <td>2810</td>\n",
       "      <td>2178.488281</td>\n",
       "    </tr>\n",
       "    <tr>\n",
       "      <th>6701384</th>\n",
       "      <td>2048.0</td>\n",
       "      <td>161.632812</td>\n",
       "      <td>2</td>\n",
       "      <td>1886.367188</td>\n",
       "      <td>2</td>\n",
       "      <td>592</td>\n",
       "      <td>430.367188</td>\n",
       "    </tr>\n",
       "    <tr>\n",
       "      <th>6524139</th>\n",
       "      <td>2048.0</td>\n",
       "      <td>157.554688</td>\n",
       "      <td>2</td>\n",
       "      <td>1890.445312</td>\n",
       "      <td>2</td>\n",
       "      <td>592</td>\n",
       "      <td>434.445312</td>\n",
       "    </tr>\n",
       "    <tr>\n",
       "      <th>6506880</th>\n",
       "      <td>1024.0</td>\n",
       "      <td>102.515625</td>\n",
       "      <td>2</td>\n",
       "      <td>921.484375</td>\n",
       "      <td>2</td>\n",
       "      <td>592</td>\n",
       "      <td>489.484375</td>\n",
       "    </tr>\n",
       "    <tr>\n",
       "      <th>6202758</th>\n",
       "      <td>2048.0</td>\n",
       "      <td>42.476562</td>\n",
       "      <td>0</td>\n",
       "      <td>2005.523438</td>\n",
       "      <td>0</td>\n",
       "      <td>150</td>\n",
       "      <td>107.523438</td>\n",
       "    </tr>\n",
       "    <tr>\n",
       "      <th>6321888</th>\n",
       "      <td>1024.0</td>\n",
       "      <td>77.828125</td>\n",
       "      <td>1</td>\n",
       "      <td>946.171875</td>\n",
       "      <td>4</td>\n",
       "      <td>2810</td>\n",
       "      <td>2732.171875</td>\n",
       "    </tr>\n",
       "    <tr>\n",
       "      <th>6600560</th>\n",
       "      <td>2048.0</td>\n",
       "      <td>67.222656</td>\n",
       "      <td>1</td>\n",
       "      <td>1980.777344</td>\n",
       "      <td>1</td>\n",
       "      <td>298</td>\n",
       "      <td>230.777344</td>\n",
       "    </tr>\n",
       "  </tbody>\n",
       "</table>\n",
       "</div>"
      ],
      "text/plain": [
       "         req_mem    used_mem  mem_category     mem_delta  pred_cat  pred_mem  \\\n",
       "6449441   1024.0   34.597656             0    989.402344         0       150   \n",
       "6406395   4096.0  156.234375             2   3939.765625         2       592   \n",
       "6476419   2048.0  156.593750             2   1891.406250         2       592   \n",
       "6224222  20480.0  631.511719             4  19848.488281         4      2810   \n",
       "6701384   2048.0  161.632812             2   1886.367188         2       592   \n",
       "6524139   2048.0  157.554688             2   1890.445312         2       592   \n",
       "6506880   1024.0  102.515625             2    921.484375         2       592   \n",
       "6202758   2048.0   42.476562             0   2005.523438         0       150   \n",
       "6321888   1024.0   77.828125             1    946.171875         4      2810   \n",
       "6600560   2048.0   67.222656             1   1980.777344         1       298   \n",
       "\n",
       "          pred_delta  \n",
       "6449441   115.402344  \n",
       "6406395   435.765625  \n",
       "6476419   435.406250  \n",
       "6224222  2178.488281  \n",
       "6701384   430.367188  \n",
       "6524139   434.445312  \n",
       "6506880   489.484375  \n",
       "6202758   107.523438  \n",
       "6321888  2732.171875  \n",
       "6600560   230.777344  "
      ]
     },
     "execution_count": 48,
     "metadata": {},
     "output_type": "execute_result"
    }
   ],
   "source": [
    "df.sample(10)"
   ]
  },
  {
   "cell_type": "code",
   "execution_count": 53,
   "id": "4eb6459b-1772-4f2b-a31e-ba5c9e25a348",
   "metadata": {},
   "outputs": [],
   "source": [
    "def total_loss():\n",
    "    print(\"Total unused memory in GB (original): \"\n",
    "          + f\"{round(df['mem_delta'].sum()/1024)}\")\n",
    "    print(\"Total unused memory in GB (predicted): \"\n",
    "          + f\"{round(df['pred_delta'].sum()/1024)}\")\n",
    "    print(\"Number of jobs using more than predicted: \"\n",
    "          + f\"{df[df.pred_delta < 0].shape[0]}\")\n",
    "    print(\"Sample of jobs using more than predicted: \")\n",
    "    print(df[df.pred_delta < 0].sample(10))"
   ]
  },
  {
   "cell_type": "code",
   "execution_count": 54,
   "id": "4bef6465-d2fe-4413-9898-bb0b93454e7d",
   "metadata": {},
   "outputs": [
    {
     "name": "stdout",
     "output_type": "stream",
     "text": [
      "Total unused memory in GB (original): 66042\n",
      "Total unused memory in GB (predicted): 8474\n",
      "Number of jobs using more than predicted: 91\n",
      "Sample of jobs using more than predicted: \n",
      "         req_mem     used_mem  mem_category     mem_delta  pred_cat  pred_mem  \\\n",
      "6525638  30720.0  3668.066406             6  27051.933594         4      2810   \n",
      "6177199   1024.0   330.847656             3    693.152344         0       150   \n",
      "6368730   2048.0   187.753906             2   1860.246094         0       150   \n",
      "6248713   1024.0   711.457031             4    312.542969         2       592   \n",
      "6220178    512.0   181.378906             2    330.621094         0       150   \n",
      "6395213   4096.0   616.785156             4   3479.214844         2       592   \n",
      "6529489  20480.0   325.253906             3  20154.746094         1       298   \n",
      "6387277  20480.0  4802.363281             6  15677.636719         4      2810   \n",
      "6406380   2048.0   355.339844             3   1692.660156         0       150   \n",
      "6362419   2048.0   355.015625             3   1692.984375         0       150   \n",
      "\n",
      "          pred_delta  \n",
      "6525638  -858.066406  \n",
      "6177199  -180.847656  \n",
      "6368730   -37.753906  \n",
      "6248713  -119.457031  \n",
      "6220178   -31.378906  \n",
      "6395213   -24.785156  \n",
      "6529489   -27.253906  \n",
      "6387277 -1992.363281  \n",
      "6406380  -205.339844  \n",
      "6362419  -205.015625  \n"
     ]
    }
   ],
   "source": [
    "total_loss()"
   ]
  },
  {
   "cell_type": "code",
   "execution_count": null,
   "id": "5f1c4e53-12e8-4a6f-b8f9-8a1fa3e35dda",
   "metadata": {},
   "outputs": [],
   "source": []
  }
 ],
 "metadata": {
  "kernelspec": {
   "display_name": "Python [conda env:root]",
   "language": "python",
   "name": "conda-root-py"
  },
  "language_info": {
   "codemirror_mode": {
    "name": "ipython",
    "version": 3
   },
   "file_extension": ".py",
   "mimetype": "text/x-python",
   "name": "python",
   "nbconvert_exporter": "python",
   "pygments_lexer": "ipython3",
   "version": "3.8.8"
  }
 },
 "nbformat": 4,
 "nbformat_minor": 5
}
