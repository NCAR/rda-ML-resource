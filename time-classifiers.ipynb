{
 "cells": [
  {
   "cell_type": "markdown",
   "id": "99e11c66-6378-4494-bd84-90ffca506a2c",
   "metadata": {},
   "source": [
    "# Intro"
   ]
  },
  {
   "cell_type": "markdown",
   "id": "c512010c-6e20-4a39-bfbf-8e690de8187c",
   "metadata": {},
   "source": [
    "This notebook is used to train classifiers to predict used memory, and then save the trained model along with the data it used. This includes a decision tree, a random forest, a gradient boosted decision tree model, and a logistic regressor."
   ]
  },
  {
   "cell_type": "markdown",
   "id": "65b87cb7-01e5-4bcf-9ae1-d66bb40a2ded",
   "metadata": {},
   "source": [
    "# Notebook options"
   ]
  },
  {
   "cell_type": "markdown",
   "id": "16f1d8f6-521a-40bc-ba3e-8693f4eaaf63",
   "metadata": {},
   "source": [
    "The grid_search parameter determines whether the notebook will execute a grid search for each model to find the best combination of hyperparameters, or whether the notebook will just use some pre-set parameters (which were found in previous grid searches).\n",
    "\n",
    "The save_model parameter determines whether to save a model at the end (currently it saves the random forest model)."
   ]
  },
  {
   "cell_type": "markdown",
   "id": "70dafa0c-a99e-4cfa-adb9-41617e9d7957",
   "metadata": {},
   "source": [
    "The training_mode parameter can either be 'normal', 'test', or 'final'."
   ]
  },
  {
   "cell_type": "code",
   "execution_count": 1,
   "id": "ea92a0f7-d0e4-4ebe-9e9f-76acddb02b79",
   "metadata": {},
   "outputs": [],
   "source": [
    "grid_search = True\n",
    "save_model = True\n",
    "training_mode = 'normal'"
   ]
  },
  {
   "cell_type": "markdown",
   "id": "454ad1f4-51c5-4269-b4c0-250b5415769b",
   "metadata": {},
   "source": [
    "# Imports"
   ]
  },
  {
   "cell_type": "code",
   "execution_count": 2,
   "id": "23c154bd-6209-4f8f-8575-4f0600cfa615",
   "metadata": {},
   "outputs": [],
   "source": [
    "import pandas as pd\n",
    "import numpy as np\n",
    "import math\n",
    "import matplotlib.pyplot as plt\n",
    "from sklearn.model_selection import train_test_split\n",
    "from sklearn.tree import DecisionTreeClassifier\n",
    "from sklearn.ensemble import RandomForestClassifier\n",
    "from sklearn.ensemble import GradientBoostingClassifier\n",
    "from sklearn.linear_model import LogisticRegression\n",
    "from sklearn.experimental import enable_hist_gradient_boosting\n",
    "from sklearn.ensemble import HistGradientBoostingClassifier\n",
    "from hypopt import GridSearch\n",
    "from datetime import datetime\n",
    "from datetime import date\n",
    "from preprocessing import get_df\n",
    "from preprocessing import scale\n",
    "from persistence import model_saver\n",
    "from evaluation import score_model\n",
    "from evaluation import print_feature_importances\n",
    "from evaluation import plot_performance\n",
    "from evaluation import plot_cm\n",
    "from evaluation import print_cr\n",
    "from evaluation import auc\n",
    "import time"
   ]
  },
  {
   "cell_type": "code",
   "execution_count": 3,
   "id": "95c87db0-1e63-417a-8806-742196e40eec",
   "metadata": {},
   "outputs": [],
   "source": [
    "from sklearn.metrics import make_scorer"
   ]
  },
  {
   "cell_type": "code",
   "execution_count": 4,
   "id": "1dc3144c-4215-4dc7-9ef1-b49cf7c25420",
   "metadata": {},
   "outputs": [],
   "source": [
    "df = get_df()"
   ]
  },
  {
   "cell_type": "code",
   "execution_count": 5,
   "id": "a06703a0-59de-4a05-ac47-f1c34e5e93cb",
   "metadata": {},
   "outputs": [
    {
     "name": "stdout",
     "output_type": "stream",
     "text": [
      "<class 'pandas.core.frame.DataFrame'>\n",
      "Int64Index: 50360 entries, 6132011 to 6785810\n",
      "Data columns (total 38 columns):\n",
      " #   Column           Non-Null Count  Dtype              \n",
      "---  ------           --------------  -----              \n",
      " 0   request_type     50360 non-null  object             \n",
      " 1   job_start_at     50360 non-null  datetime64[ns]     \n",
      " 2   job_end_at       50360 non-null  datetime64[ns]     \n",
      " 3   req_mem          50360 non-null  float64            \n",
      " 4   used_mem         50360 non-null  float64            \n",
      " 5   dsnum            48150 non-null  object             \n",
      " 6   rqst_start_at    50327 non-null  datetime64[ns, UTC]\n",
      " 7   rqst_end_at      50248 non-null  datetime64[ns, UTC]\n",
      " 8   dates_init       50360 non-null  bool               \n",
      " 9   slat             32123 non-null  float64            \n",
      " 10  nlat             32123 non-null  float64            \n",
      " 11  wlon             32140 non-null  float64            \n",
      " 12  elon             32140 non-null  float64            \n",
      " 13  gui              50360 non-null  bool               \n",
      " 14  parameters       50194 non-null  object             \n",
      " 15  grid_definition  6902 non-null   object             \n",
      " 16  level            21329 non-null  object             \n",
      " 17  product          20607 non-null  object             \n",
      " 18  station          322 non-null    object             \n",
      " 19  tindex           18416 non-null  float64            \n",
      " 20  format           19638 non-null  object             \n",
      " 21  wall_time        50360 non-null  float64            \n",
      " 22  rqst_timespan    50215 non-null  float64            \n",
      " 23  grid_def_num     50360 non-null  int64              \n",
      " 24  level_num        50360 non-null  int64              \n",
      " 25  product_num      50360 non-null  int64              \n",
      " 26  station_num      50360 non-null  int64              \n",
      " 27  params_num       50360 non-null  int64              \n",
      " 28  rqst_area_rect   50360 non-null  float64            \n",
      " 29  PP               50360 non-null  bool               \n",
      " 30  SP               50360 non-null  bool               \n",
      " 31  BR               50360 non-null  bool               \n",
      " 32  converted        50360 non-null  bool               \n",
      " 33  ds084.1          50360 non-null  bool               \n",
      " 34  ds631.1          50360 non-null  bool               \n",
      " 35  ds083.3          50360 non-null  bool               \n",
      " 36  ds094.0          50360 non-null  bool               \n",
      " 37  ds083.2          50360 non-null  bool               \n",
      "dtypes: bool(11), datetime64[ns, UTC](2), datetime64[ns](2), float64(10), int64(5), object(8)\n",
      "memory usage: 11.3+ MB\n"
     ]
    }
   ],
   "source": [
    "df.info()"
   ]
  },
  {
   "cell_type": "code",
   "execution_count": 6,
   "id": "6ef4c2ba-e0c7-4cf1-a4b1-e746760d25fa",
   "metadata": {},
   "outputs": [
    {
     "data": {
      "text/plain": [
       "6234832    177251.0\n",
       "6236363     86408.0\n",
       "6246421     85921.0\n",
       "6236362     85916.0\n",
       "6246463     85645.0\n",
       "Name: wall_time, dtype: float64"
      ]
     },
     "execution_count": 6,
     "metadata": {},
     "output_type": "execute_result"
    }
   ],
   "source": [
    "df.sort_values(by='wall_time', ascending=False)['wall_time'].head(5)"
   ]
  },
  {
   "cell_type": "code",
   "execution_count": 7,
   "id": "e0f638e5-f702-40f8-b9d5-45c8c94bf232",
   "metadata": {},
   "outputs": [],
   "source": [
    "time_bin_cutoffs = [60, 120, 300, 600, 1800, 3600, 14400, 43200]\n",
    "num_classes = len(time_bin_cutoffs)\n",
    "bin_sizes = [df[df.wall_time < time_bin_cutoffs[0]].shape[0]]\n",
    "for i in range(1, len(time_bin_cutoffs)):\n",
    "    current_bin_size = df[(df.wall_time >= time_bin_cutoffs[i-1])\n",
    "                        & (df.wall_time < time_bin_cutoffs[i])].shape[0]\n",
    "    bin_sizes.append(current_bin_size)"
   ]
  },
  {
   "cell_type": "code",
   "execution_count": 8,
   "id": "13a5ade9-8720-46fc-89db-57c188874fdc",
   "metadata": {},
   "outputs": [],
   "source": [
    "def print_time_categories():\n",
    "    print(f\"0: < {time_bin_cutoffs[0]}s ({bin_sizes[0]} entries)\")\n",
    "    for i in range(1, len(time_bin_cutoffs)):\n",
    "        print(f\"{i}: >= {time_bin_cutoffs[i-1]}s\"\n",
    "              + f\" and < {time_bin_cutoffs[i]}s\"\n",
    "              + f\" ({bin_sizes[i]} entries)\")"
   ]
  },
  {
   "cell_type": "code",
   "execution_count": 9,
   "id": "9cdaf8a6-ecec-4146-a8cf-86cb24945c12",
   "metadata": {},
   "outputs": [
    {
     "name": "stdout",
     "output_type": "stream",
     "text": [
      "0: < 60s (7371 entries)\n",
      "1: >= 60s and < 120s (10720 entries)\n",
      "2: >= 120s and < 300s (8174 entries)\n",
      "3: >= 300s and < 600s (5519 entries)\n",
      "4: >= 600s and < 1800s (7726 entries)\n",
      "5: >= 1800s and < 3600s (4005 entries)\n",
      "6: >= 3600s and < 14400s (5521 entries)\n",
      "7: >= 14400s and < 43200s (1070 entries)\n"
     ]
    }
   ],
   "source": [
    "print_time_categories()"
   ]
  },
  {
   "cell_type": "code",
   "execution_count": 10,
   "id": "b4bccffa-af58-43ca-85bd-b90736b285b5",
   "metadata": {},
   "outputs": [],
   "source": [
    "def time_category(row):\n",
    "    time = min(row['wall_time'], 43199)\n",
    "    if time < time_bin_cutoffs[0]:\n",
    "        return 0\n",
    "    for i in range(1, len(time_bin_cutoffs)):\n",
    "        if time >= time_bin_cutoffs[i-1] and time < time_bin_cutoffs[i]:\n",
    "            return i\n",
    "    return None"
   ]
  },
  {
   "cell_type": "code",
   "execution_count": 11,
   "id": "02823e78-c8f3-4796-adf8-db44c2284dbe",
   "metadata": {},
   "outputs": [],
   "source": [
    "df['time_category'] = df.apply(lambda row: time_category(row), axis=1)"
   ]
  },
  {
   "cell_type": "code",
   "execution_count": 12,
   "id": "49cd37f4-861b-42b6-bcab-5ef6540e6587",
   "metadata": {},
   "outputs": [],
   "source": [
    "df = df[df.rqst_timespan.notnull() & df.rqst_area_rect.notnull()]\n",
    "X_features = ['PP', 'SP', 'BR', 'rqst_timespan', 'rqst_area_rect', 'converted',\n",
    "              'params_num', 'grid_def_num', 'level_num',\n",
    "              'ds084.1', 'ds631.1', 'ds083.3', 'ds094.0', 'ds083.2']\n",
    "y_features = ['wall_time', 'time_category']\n",
    "\n",
    "X = df[X_features]\n",
    "y = df[y_features]"
   ]
  },
  {
   "cell_type": "markdown",
   "id": "bf78d5e7-ca51-4adc-84f8-020a2e00c995",
   "metadata": {},
   "source": [
    "## Train/validation/test split"
   ]
  },
  {
   "cell_type": "code",
   "execution_count": 13,
   "id": "e0ae54b0-125b-4ba3-8f24-61b2cf89595b",
   "metadata": {},
   "outputs": [],
   "source": [
    "train_amt = 0.5\n",
    "val_amt = 0.25\n",
    "test_amt = 0.25"
   ]
  },
  {
   "cell_type": "code",
   "execution_count": 14,
   "id": "3c8ad88f-fc10-47af-9e2a-28a973a5eea1",
   "metadata": {},
   "outputs": [],
   "source": [
    "X_train, X_target, y_train_full, y_target_full = \\\n",
    "                train_test_split(X, y, \n",
    "                test_size=1-train_amt, \n",
    "                random_state = 3)\n",
    "X_val, X_test, y_val_full, y_test_full = \\\n",
    "                train_test_split(X_target, y_target_full,\n",
    "                                 test_size = test_amt/train_amt,\n",
    "                                 random_state = 3)"
   ]
  },
  {
   "cell_type": "code",
   "execution_count": 15,
   "id": "c99acf27-0f46-495e-a807-d198222e7591",
   "metadata": {},
   "outputs": [],
   "source": [
    "y_train = np.ravel(y_train_full['time_category'])\n",
    "y_val = np.ravel(y_val_full['time_category'])\n",
    "y_test = np.ravel(y_test_full['time_category'])"
   ]
  },
  {
   "cell_type": "markdown",
   "id": "51e93f45-8f55-447a-a2ab-6f1170104d06",
   "metadata": {},
   "source": [
    "## Scaling"
   ]
  },
  {
   "cell_type": "code",
   "execution_count": 16,
   "id": "855b00ce-5a00-4ea1-a2c8-0699ce44960b",
   "metadata": {},
   "outputs": [],
   "source": [
    "X_train_norm, X_val_norm, X_test_norm = \\\n",
    "    scale(X_train, X_val, X_test)"
   ]
  },
  {
   "cell_type": "code",
   "execution_count": 17,
   "id": "dfd8c2c1-73b2-45ea-949a-80af8fb72ea7",
   "metadata": {},
   "outputs": [],
   "source": [
    "def balanced_score(y, y_pred, **kwargs):\n",
    "    n_samples = X_train.shape[0]\n",
    "    class_weights = n_samples / (num_classes * (np.bincount(y_train)))\n",
    "    print(class_weights)\n",
    "    score = 0\n",
    "    for i in range(len(y)):\n",
    "        if y[i] == y_pred[i]:\n",
    "            score += class_weights[y[i]]\n",
    "        \n",
    "    return score\n",
    "\n",
    "balanced_scorer = make_scorer(score_func=balanced_score,\n",
    "                              greater_is_better=True)"
   ]
  },
  {
   "cell_type": "code",
   "execution_count": 18,
   "id": "e8af569b-9d25-4b34-9e8d-d3bf99c0dcd8",
   "metadata": {},
   "outputs": [],
   "source": [
    "def custom_score(y, y_pred, **kwargs):\n",
    "    n_samples = X_train.shape[0]\n",
    "    class_weights = np.array([(i+1)**2 for i in range(num_classes)])\n",
    "    #print(class_weights)\n",
    "    score = 0\n",
    "    for i in range(len(y)):\n",
    "        if y[i] == y_pred[i]:\n",
    "            score += class_weights[y[i]]\n",
    "        \n",
    "    return score\n",
    "\n",
    "custom_scorer = make_scorer(score_func=custom_score,\n",
    "                              greater_is_better=True)"
   ]
  },
  {
   "cell_type": "code",
   "execution_count": 19,
   "id": "723f81d5-5754-44ff-bdfc-9f4bc00f0636",
   "metadata": {},
   "outputs": [
    {
     "ename": "TypeError",
     "evalue": "object of type 'NoneType' has no len()",
     "output_type": "error",
     "traceback": [
      "\u001b[0;31m---------------------------------------------------------------------------\u001b[0m",
      "\u001b[0;31mTypeError\u001b[0m                                 Traceback (most recent call last)",
      "\u001b[0;32m<ipython-input-19-a177c3d8ebbb>\u001b[0m in \u001b[0;36m<module>\u001b[0;34m\u001b[0m\n\u001b[0;32m----> 1\u001b[0;31m \u001b[0mcustom_score\u001b[0m\u001b[0;34m(\u001b[0m\u001b[0;32mNone\u001b[0m\u001b[0;34m,\u001b[0m \u001b[0;32mNone\u001b[0m\u001b[0;34m)\u001b[0m\u001b[0;34m\u001b[0m\u001b[0;34m\u001b[0m\u001b[0m\n\u001b[0m",
      "\u001b[0;32m<ipython-input-18-9fe1e46ab89b>\u001b[0m in \u001b[0;36mcustom_score\u001b[0;34m(y, y_pred, **kwargs)\u001b[0m\n\u001b[1;32m      4\u001b[0m     \u001b[0;31m#print(class_weights)\u001b[0m\u001b[0;34m\u001b[0m\u001b[0;34m\u001b[0m\u001b[0;34m\u001b[0m\u001b[0m\n\u001b[1;32m      5\u001b[0m     \u001b[0mscore\u001b[0m \u001b[0;34m=\u001b[0m \u001b[0;36m0\u001b[0m\u001b[0;34m\u001b[0m\u001b[0;34m\u001b[0m\u001b[0m\n\u001b[0;32m----> 6\u001b[0;31m     \u001b[0;32mfor\u001b[0m \u001b[0mi\u001b[0m \u001b[0;32min\u001b[0m \u001b[0mrange\u001b[0m\u001b[0;34m(\u001b[0m\u001b[0mlen\u001b[0m\u001b[0;34m(\u001b[0m\u001b[0my\u001b[0m\u001b[0;34m)\u001b[0m\u001b[0;34m)\u001b[0m\u001b[0;34m:\u001b[0m\u001b[0;34m\u001b[0m\u001b[0;34m\u001b[0m\u001b[0m\n\u001b[0m\u001b[1;32m      7\u001b[0m         \u001b[0;32mif\u001b[0m \u001b[0my\u001b[0m\u001b[0;34m[\u001b[0m\u001b[0mi\u001b[0m\u001b[0;34m]\u001b[0m \u001b[0;34m==\u001b[0m \u001b[0my_pred\u001b[0m\u001b[0;34m[\u001b[0m\u001b[0mi\u001b[0m\u001b[0;34m]\u001b[0m\u001b[0;34m:\u001b[0m\u001b[0;34m\u001b[0m\u001b[0;34m\u001b[0m\u001b[0m\n\u001b[1;32m      8\u001b[0m             \u001b[0mscore\u001b[0m \u001b[0;34m+=\u001b[0m \u001b[0mclass_weights\u001b[0m\u001b[0;34m[\u001b[0m\u001b[0my\u001b[0m\u001b[0;34m[\u001b[0m\u001b[0mi\u001b[0m\u001b[0;34m]\u001b[0m\u001b[0;34m]\u001b[0m\u001b[0;34m\u001b[0m\u001b[0;34m\u001b[0m\u001b[0m\n",
      "\u001b[0;31mTypeError\u001b[0m: object of type 'NoneType' has no len()"
     ]
    }
   ],
   "source": [
    "custom_score(None, None)"
   ]
  },
  {
   "cell_type": "code",
   "execution_count": 20,
   "id": "784640e3-60c0-4105-9af6-6006d752eeca",
   "metadata": {},
   "outputs": [
    {
     "name": "stdout",
     "output_type": "stream",
     "text": [
      "{0: 1.0, 1: 4.0, 2: 9.0, 3: 16.0, 4: 25.0, 5: 36.0, 6: 49.0, 7: 64.0}\n"
     ]
    }
   ],
   "source": [
    "class_weights = {i:float((i+1)**2) for i in range(num_classes)}\n",
    "print(class_weights)"
   ]
  },
  {
   "cell_type": "markdown",
   "id": "5ed5110a-ace6-429b-85be-466614642c09",
   "metadata": {},
   "source": [
    "## Trees, Forest, Gradient Boosts"
   ]
  },
  {
   "cell_type": "markdown",
   "id": "65af00f3-185c-47d9-a64d-ee833aaafde7",
   "metadata": {},
   "source": [
    "### Tree"
   ]
  },
  {
   "cell_type": "code",
   "execution_count": 19,
   "id": "cbb07249-899c-4cda-947f-a050c75d7241",
   "metadata": {},
   "outputs": [],
   "source": [
    "if grid_search:\n",
    "    tree_param_grid = {'random_state':[3], 'max_depth':range(2,20),\n",
    "                       'min_samples_split':range(2,8),\n",
    "                       'class_weight':['balanced']}\n",
    "    tree_gs = GridSearch(model=DecisionTreeClassifier(), \n",
    "                              param_grid=tree_param_grid,\n",
    "                              parallelize=False)\n",
    "    tree_gs.fit(X_train_norm, y_train, X_val_norm, y_val, scoring=balanced_scorer)\n",
    "    print(tree_gs.best_params)\n",
    "    tree = tree_gs.best_estimator_\n",
    "\n",
    "else:\n",
    "    tree = DecisionTreeClassifier(class_weight='balanced',\n",
    "                                  max_depth=19, random_state=3)\n",
    "    tree.fit(X_train_norm, y_train)"
   ]
  },
  {
   "cell_type": "markdown",
   "id": "25a2c8ab-e0db-4b5b-bf27-8e627aad5a75",
   "metadata": {},
   "source": [
    "### Forest"
   ]
  },
  {
   "cell_type": "code",
   "execution_count": 24,
   "id": "1b3e4f7f-95bd-4ae2-84e0-1a071cf7728c",
   "metadata": {},
   "outputs": [
    {
     "name": "stdout",
     "output_type": "stream",
     "text": [
      "Time = 240.61198902130127\n",
      "{'class_weight': {0: 1.0, 1: 4.0, 2: 9.0, 3: 16.0, 4: 25.0, 5: 36.0, 6: 49.0, 7: 64.0}, 'max_depth': 19, 'min_samples_split': 4, 'n_estimators': 100, 'random_state': 3}\n"
     ]
    }
   ],
   "source": [
    "if grid_search:\n",
    "    start = time.time()\n",
    "    forest_param_grid = {'random_state':[3],\n",
    "                               'max_depth':range(2,20),\n",
    "                               'min_samples_split':range(2,10),\n",
    "                               'n_estimators':[50,100],\n",
    "                               'class_weight':[class_weights]}\n",
    "    forest_gs = GridSearch(model=RandomForestClassifier(), \n",
    "                                param_grid=forest_param_grid,\n",
    "                                parallelize=False)\n",
    "    forest_gs.fit(X_train_norm, y_train, X_val_norm, y_val,\n",
    "                  scoring=custom_scorer)\n",
    "    end = time.time()\n",
    "    print(f\"Time = {end-start}\")\n",
    "    print(forest_gs.best_params)\n",
    "    forest = forest_gs.best_estimator_\n",
    "else:\n",
    "    forest = RandomForestClassifier(class_weight=class_weights,\n",
    "                                      max_depth=19,\n",
    "                                      min_samples_split=5,\n",
    "                                      n_estimators=250,\n",
    "                                      random_state=3)\n",
    "    forest.fit(X_train_norm, y_train)"
   ]
  },
  {
   "cell_type": "code",
   "execution_count": 21,
   "id": "89106799-bc1e-43fb-9250-759f8041fbaa",
   "metadata": {},
   "outputs": [],
   "source": [
    "if training_mode == 'test':\n",
    "    new_X_train = np.concatenate((X_train_norm, X_val_norm))\n",
    "    new_y_train = np.ravel(pd.concat([y_train_full,\n",
    "                                      y_val_full])['mem_category'])\n",
    "    forest.fit(new_X_train, new_y_train)\n",
    "elif training_mode == 'final':\n",
    "    new_X_train = np.concatenate((X_train_norm,\n",
    "                                  X_val_norm,\n",
    "                                  X_test_norm))\n",
    "    new_y_train = np.ravel(pd.concat([y_train_full,\n",
    "                                      y_val_full,\n",
    "                                      y_test_full])['mem_category'])\n",
    "    forest.fit(new_X_train, new_y_train)"
   ]
  },
  {
   "cell_type": "markdown",
   "id": "5bb8a78f-723e-49ce-be23-950c05bd84ab",
   "metadata": {},
   "source": [
    "### Gradient boosted trees"
   ]
  },
  {
   "cell_type": "code",
   "execution_count": 22,
   "id": "613558b7-d8b2-474a-91ce-b5f5108b0cf2",
   "metadata": {},
   "outputs": [],
   "source": [
    "if grid_search:\n",
    "    gboost_param_grid = {'random_state':[3],\n",
    "                               'max_depth':range(2,15),\n",
    "                               'n_estimators':[50,100,150,200]}\n",
    "    gboost_gs = GridSearch(model=GradientBoostingClassifier(), \n",
    "                                param_grid=gboost_param_grid,\n",
    "                                parallelize=False)\n",
    "    gboost_gs.fit(X_train_norm, y_train, X_val_norm, y_val)\n",
    "    print(class_gboost_gs.best_params)\n",
    "    class_gboost = class_gboost_gs.best_estimator_\n",
    "else:\n",
    "    gboost = GradientBoostingClassifier(random_state=3,\n",
    "                                        max_depth=14,\n",
    "                                        n_estimators=150)\n",
    "    #gboost.fit(X_train_norm, y_train)"
   ]
  },
  {
   "cell_type": "code",
   "execution_count": 23,
   "id": "efe23aa1-f39e-41ba-a975-18d473dab098",
   "metadata": {},
   "outputs": [
    {
     "name": "stdout",
     "output_type": "stream",
     "text": [
      "{'max_depth': 16, 'max_iter': 150, 'min_samples_leaf': 15, 'random_state': 3}\n"
     ]
    }
   ],
   "source": [
    "if grid_search:\n",
    "    hist_gboost_param_grid = {'random_state':[3],\n",
    "                               'max_depth':range(2,20),\n",
    "                               'min_samples_leaf':range(15,35,5),\n",
    "                               'max_iter':[50,100,150]}\n",
    "    hist_gboost_gs = GridSearch(model=HistGradientBoostingClassifier(), \n",
    "                                param_grid=hist_gboost_param_grid,\n",
    "                                parallelize=False)\n",
    "    hist_gboost_gs.fit(X_train_norm, y_train, X_val_norm, y_val)\n",
    "    print(hist_gboost_gs.best_params)\n",
    "    hist_gboost = hist_gboost_gs.best_estimator_\n",
    "else:\n",
    "    hist_gboost = HistGradientBoostingClassifier(random_state=3,\n",
    "                                        max_depth=16,\n",
    "                                        max_iter=150,\n",
    "                                        min_samples_leaf=15)\n",
    "    #gboost.fit(X_train_norm, y_train)"
   ]
  },
  {
   "cell_type": "markdown",
   "id": "f011d694-fa96-4dd8-870a-e3395096bce3",
   "metadata": {},
   "source": [
    "## Linear regressors"
   ]
  },
  {
   "cell_type": "code",
   "execution_count": 23,
   "id": "68999ddf-a8ec-47e4-a245-a7f09475bcfb",
   "metadata": {},
   "outputs": [
    {
     "data": {
      "text/plain": [
       "LogisticRegression(class_weight='balanced', max_iter=1000)"
      ]
     },
     "execution_count": 23,
     "metadata": {},
     "output_type": "execute_result"
    }
   ],
   "source": [
    "logist = LogisticRegression(max_iter=1000, class_weight='balanced')\n",
    "logist.fit(X_train_norm, y_train)"
   ]
  },
  {
   "cell_type": "code",
   "execution_count": 27,
   "id": "0cb0e480-e893-481e-bd8a-aadf7ea4b616",
   "metadata": {},
   "outputs": [],
   "source": [
    "notes = \"Time class forest, filling missing lat/lon with max value. \" \\\n",
    "         + \"Trained on train data only. \" \\\n",
    "         + \"Grid searched on Casper Batch job. \" \\\n",
    "         + \"X values NOT scaled. \" \\\n",
    "         + \"Uses custom class weights.\""
   ]
  },
  {
   "cell_type": "code",
   "execution_count": 28,
   "id": "d82c4723-693a-451d-9772-8ce7b193a538",
   "metadata": {},
   "outputs": [],
   "source": [
    "if save_model:\n",
    "    ms = model_saver('time_forest', notes,\n",
    "                   forest, df, \n",
    "                   X_features,\n",
    "                   X_train, y_train_full,\n",
    "                   X_val, y_val_full,\n",
    "                   X_test, y_test_full)\n",
    "    ms.save()"
   ]
  },
  {
   "cell_type": "code",
   "execution_count": 25,
   "id": "6cec308b-a890-403f-aa8c-997bf4a5e82b",
   "metadata": {},
   "outputs": [
    {
     "data": {
      "image/png": "[encoded data removed]",
      "text/plain": [
       "<Figure size 432x288 with 2 Axes>"
      ]
     },
     "metadata": {
      "needs_background": "light"
     },
     "output_type": "display_data"
    }
   ],
   "source": [
    "plot_cm(X_val=X_val_norm, y_val=y_val, model=forest)"
   ]
  },
  {
   "cell_type": "code",
   "execution_count": 26,
   "id": "3a565c84-08da-434e-b331-0c1cb92aa56b",
   "metadata": {},
   "outputs": [
    {
     "name": "stdout",
     "output_type": "stream",
     "text": [
      "              precision    recall  f1-score   support\n",
      "\n",
      "           0       0.93      0.44      0.60      1846\n",
      "           1       0.70      0.86      0.77      2659\n",
      "           2       0.74      0.79      0.77      2059\n",
      "           3       0.72      0.67      0.70      1385\n",
      "           4       0.76      0.82      0.79      1920\n",
      "           5       0.73      0.75      0.74       975\n",
      "           6       0.76      0.85      0.80      1405\n",
      "           7       0.66      0.66      0.66       305\n",
      "\n",
      "    accuracy                           0.75     12554\n",
      "   macro avg       0.75      0.73      0.73     12554\n",
      "weighted avg       0.76      0.75      0.74     12554\n",
      "\n"
     ]
    }
   ],
   "source": [
    "print_cr(X_val_norm, y_val, forest)"
   ]
  },
  {
   "cell_type": "code",
   "execution_count": null,
   "id": "a689bd43-12f0-4843-8476-14eba73107d6",
   "metadata": {},
   "outputs": [],
   "source": []
  }
 ],
 "metadata": {
  "kernelspec": {
   "display_name": "fixed-python-path",
   "language": "python",
   "name": "fixed-python-path"
  },
  "language_info": {
   "codemirror_mode": {
    "name": "ipython",
    "version": 3
   },
   "file_extension": ".py",
   "mimetype": "text/x-python",
   "name": "python",
   "nbconvert_exporter": "python",
   "pygments_lexer": "ipython3",
   "version": "3.8.8"
  }
 },
 "nbformat": 4,
 "nbformat_minor": 5
}
