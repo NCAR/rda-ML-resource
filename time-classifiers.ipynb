{
 "cells": [
  {
   "cell_type": "markdown",
   "id": "377aaad7-048e-4718-9603-765c74fddedf",
   "metadata": {},
   "source": [
    "# Intro"
   ]
  },
  {
   "cell_type": "markdown",
   "id": "0acbc609-c895-4df5-975f-5993bb48c4c7",
   "metadata": {},
   "source": [
    "This notebook is used to \n",
    "\n",
    "1. Train classifiers to predict used wall time, and then \n",
    "\n",
    "2. Save the trained model along with the data it used. \n",
    "\n",
    "This includes a decision tree, a random forest, a gradient boosted decision tree model, and a logistic regressor.\n",
    "\n",
    "Fully and carefully evaluating the models should be done in test-model.ipynb, but there are some functions here to give a quick idea of whether the models are worth saving."
   ]
  },
  {
   "cell_type": "markdown",
   "id": "046d1673-8862-4717-ad3c-c87785ea3daa",
   "metadata": {},
   "source": [
    "# Notebook options"
   ]
  },
  {
   "cell_type": "markdown",
   "id": "93c74fee-ce97-46ac-b02b-00f55243a1b8",
   "metadata": {},
   "source": [
    "There are 4 options for each model:\n",
    "\n",
    "1. 'train_model': Whether the notebook will train this type of model at all. If False, all other options can be ignored.\n",
    "\n",
    "2. 'grid_search': Whether the notebook will execute a grid search to find the best combination of hyperparameters. If False, the notebook will just use some pre-set parameters (which were found in previous grid searches).\n",
    "\n",
    "3. 'training_mode': Either 'normal', 'test', or 'final'. Data is always split 50-25-25 into training, validation, and test sets. Models are always trained on the training set to begin with. This option indicates whether the model will train on the training data only ('normal' mode), the training data and the validation data ('test' mode), or all three datasets ('final' mode). Note that any extra training data (from validation/test sets) is only introduced at the very end, after the scaling of the X values, and after the grid search.\n",
    "\n",
    "4. 'save_model': Whether the model will be saved after fitting to the data. \n",
    "\n",
    "The random forest model has a fifth option:\n",
    "\n",
    "5. 'n_jobs': How many jobs to run in parallel for training. Only used during the grid search (otherwise this setting would persist when the model is saved). "
   ]
  },
  {
   "cell_type": "code",
   "execution_count": 26,
   "id": "ea92a0f7-d0e4-4ebe-9e9f-76acddb02b79",
   "metadata": {},
   "outputs": [],
   "source": [
    "options = {'tree':   {'train_model': False,\n",
    "                      'grid_search': True,\n",
    "                      'training_mode': 'normal',\n",
    "                      'save_model': False},\n",
    "           'forest': {'train_model': True,\n",
    "                      'grid_search': True,\n",
    "                      'training_mode': 'final',\n",
    "                      'save_model': True,\n",
    "                      'n_jobs': 1},\n",
    "           'gboost': {'train_model': False,\n",
    "                      'grid_search': False,\n",
    "                      'training_mode': 'final',\n",
    "                      'save_model': False},\n",
    "           'logist': {'train_model': True,\n",
    "                      'grid_search': True,\n",
    "                      'training_mode': 'normal',\n",
    "                      'save_model': False}\n",
    "          }\n",
    "\n",
    "tree_options = options['tree']\n",
    "forest_options = options['forest']\n",
    "gboost_options = options['gboost']\n",
    "logist_options = options['logist']"
   ]
  },
  {
   "cell_type": "markdown",
   "id": "454ad1f4-51c5-4269-b4c0-250b5415769b",
   "metadata": {},
   "source": [
    "# Imports"
   ]
  },
  {
   "cell_type": "code",
   "execution_count": 2,
   "id": "23c154bd-6209-4f8f-8575-4f0600cfa615",
   "metadata": {},
   "outputs": [
    {
     "name": "stderr",
     "output_type": "stream",
     "text": [
      "/glade/u/home/jdubeau/github/rda-ML-resource/venv/lib/python3.8/site-packages/hypopt/model_selection.py:39: UserWarning: If you want to see estimated completion times\n",
      "    while running methods in cleanlab.pruning, install tqdm\n",
      "    via \"pip install tqdm\".\n",
      "  warnings.warn(w)\n"
     ]
    }
   ],
   "source": [
    "import pandas as pd\n",
    "import numpy as np\n",
    "import math\n",
    "import time\n",
    "from sklearn.model_selection import train_test_split\n",
    "from sklearn.tree import DecisionTreeClassifier\n",
    "from sklearn.ensemble import RandomForestClassifier, \\\n",
    "                             GradientBoostingClassifier\n",
    "from sklearn.linear_model import LogisticRegression\n",
    "from sklearn.metrics import make_scorer\n",
    "from hypopt import GridSearch\n",
    "from preprocessing import get_df, scale, make_category_col\n",
    "from evaluation import score_model, \\\n",
    "                       print_feature_importances, \\\n",
    "                       plot_cm, \\\n",
    "                       print_cr, \\\n",
    "                       auc\n",
    "from persistence import model_saver"
   ]
  },
  {
   "cell_type": "markdown",
   "id": "70259f52-f6e9-4630-abe1-7bac84f8870e",
   "metadata": {},
   "source": [
    "# Preprocessing"
   ]
  },
  {
   "cell_type": "markdown",
   "id": "8824b684-ec2e-46bc-9246-84d10478d038",
   "metadata": {},
   "source": [
    "## General"
   ]
  },
  {
   "cell_type": "markdown",
   "id": "b81f6633-2216-4a72-9313-45b466d5d817",
   "metadata": {},
   "source": [
    "Much of the general preprocessing work (used for both memory and time models) is handled in preprocessing.py. This includes adding composite features and handling missing values."
   ]
  },
  {
   "cell_type": "code",
   "execution_count": 3,
   "id": "f1bb21ba-68c8-4a48-a95e-e56985f6ba9f",
   "metadata": {},
   "outputs": [
    {
     "name": "stdout",
     "output_type": "stream",
     "text": [
      "<class 'pandas.core.frame.DataFrame'>\n",
      "Int64Index: 50360 entries, 6132011 to 6785810\n",
      "Data columns (total 39 columns):\n",
      " #   Column           Non-Null Count  Dtype              \n",
      "---  ------           --------------  -----              \n",
      " 0   rinfo            50360 non-null  object             \n",
      " 1   request_type     50360 non-null  object             \n",
      " 2   job_start_at     50360 non-null  datetime64[ns]     \n",
      " 3   job_end_at       50360 non-null  datetime64[ns]     \n",
      " 4   req_mem          50360 non-null  float64            \n",
      " 5   used_mem         50360 non-null  float64            \n",
      " 6   dsnum            48150 non-null  object             \n",
      " 7   rqst_start_at    50327 non-null  datetime64[ns, UTC]\n",
      " 8   rqst_end_at      50248 non-null  datetime64[ns, UTC]\n",
      " 9   dates_init       50360 non-null  bool               \n",
      " 10  slat             32123 non-null  float64            \n",
      " 11  nlat             32123 non-null  float64            \n",
      " 12  wlon             32140 non-null  float64            \n",
      " 13  elon             32140 non-null  float64            \n",
      " 14  gui              50360 non-null  bool               \n",
      " 15  parameters       50194 non-null  object             \n",
      " 16  grid_definition  6902 non-null   object             \n",
      " 17  level            21329 non-null  object             \n",
      " 18  product          20607 non-null  object             \n",
      " 19  station          322 non-null    object             \n",
      " 20  tindex           18416 non-null  float64            \n",
      " 21  format           19638 non-null  object             \n",
      " 22  wall_time        50360 non-null  float64            \n",
      " 23  rqst_timespan    50360 non-null  float64            \n",
      " 24  grid_def_num     50360 non-null  int64              \n",
      " 25  level_num        50360 non-null  int64              \n",
      " 26  product_num      50360 non-null  int64              \n",
      " 27  station_num      50360 non-null  int64              \n",
      " 28  params_num       50360 non-null  int64              \n",
      " 29  rqst_area_rect   50360 non-null  float64            \n",
      " 30  PP               50360 non-null  bool               \n",
      " 31  SP               50360 non-null  bool               \n",
      " 32  BR               50360 non-null  bool               \n",
      " 33  converted        50360 non-null  bool               \n",
      " 34  ds084.1          50360 non-null  bool               \n",
      " 35  ds631.1          50360 non-null  bool               \n",
      " 36  ds083.3          50360 non-null  bool               \n",
      " 37  ds094.0          50360 non-null  bool               \n",
      " 38  ds083.2          50360 non-null  bool               \n",
      "dtypes: bool(11), datetime64[ns, UTC](2), datetime64[ns](2), float64(10), int64(5), object(9)\n",
      "memory usage: 11.7+ MB\n"
     ]
    }
   ],
   "source": [
    "df = get_df()\n",
    "\n",
    "df.info()"
   ]
  },
  {
   "cell_type": "markdown",
   "id": "1413a1d8-5f4e-4fe1-8bdf-4425afe82ed4",
   "metadata": {},
   "source": [
    "## Categorization"
   ]
  },
  {
   "cell_type": "markdown",
   "id": "65fbe3a2-dfba-42d8-9f08-cd2f6622dd2d",
   "metadata": {},
   "source": [
    "The coming blocks add a 'mem_category' column to the dataframe based on the categories we input in the next cell. The function make_category_col comes from preprocessing.py.\n",
    "\n",
    "The dictionary categories_dict holds the upper bound for each category of memory in megabytes."
   ]
  },
  {
   "cell_type": "code",
   "execution_count": 4,
   "id": "e0f638e5-f702-40f8-b9d5-45c8c94bf232",
   "metadata": {},
   "outputs": [],
   "source": [
    "categories_dict = {0:60, 1:120, 2:300, \n",
    "                   3:600, 4:1800, 5:3600,\n",
    "                   6:14400, 7:43200}\n",
    "\n",
    "num_classes = len(categories_dict)"
   ]
  },
  {
   "cell_type": "code",
   "execution_count": 5,
   "id": "1a15f696-da54-4dae-8ca1-e47d6181b30e",
   "metadata": {},
   "outputs": [],
   "source": [
    "df = make_category_col(df, 'time', categories_dict)"
   ]
  },
  {
   "cell_type": "code",
   "execution_count": 6,
   "id": "1780c8f4-d8d1-4505-aa47-390193269b6a",
   "metadata": {},
   "outputs": [],
   "source": [
    "def replace_null_category(row):\n",
    "    val = row['time_category']\n",
    "    if not pd.isnull(val):\n",
    "        return int(val)\n",
    "    else:\n",
    "        return num_classes - 1 #highest category\n",
    "    \n",
    "df['time_category'] = df.apply(lambda row: replace_null_category(row),\n",
    "                               axis=1)"
   ]
  },
  {
   "cell_type": "markdown",
   "id": "e84eef94-2e3e-43f5-803d-e790f3343fa5",
   "metadata": {},
   "source": [
    "The next cell is here to confirm that the categories were calculated correctly."
   ]
  },
  {
   "cell_type": "code",
   "execution_count": 7,
   "id": "273f23c7-7d56-4475-83f9-71499cfbe0ac",
   "metadata": {},
   "outputs": [
    {
     "data": {
      "text/html": [
       "<div>\n",
       "<style scoped>\n",
       "    .dataframe tbody tr th:only-of-type {\n",
       "        vertical-align: middle;\n",
       "    }\n",
       "\n",
       "    .dataframe tbody tr th {\n",
       "        vertical-align: top;\n",
       "    }\n",
       "\n",
       "    .dataframe thead th {\n",
       "        text-align: right;\n",
       "    }\n",
       "</style>\n",
       "<table border=\"1\" class=\"dataframe\">\n",
       "  <thead>\n",
       "    <tr style=\"text-align: right;\">\n",
       "      <th></th>\n",
       "      <th>wall_time</th>\n",
       "      <th>time_category</th>\n",
       "    </tr>\n",
       "  </thead>\n",
       "  <tbody>\n",
       "    <tr>\n",
       "      <th>6407272</th>\n",
       "      <td>417.0</td>\n",
       "      <td>3</td>\n",
       "    </tr>\n",
       "    <tr>\n",
       "      <th>6409783</th>\n",
       "      <td>88.0</td>\n",
       "      <td>1</td>\n",
       "    </tr>\n",
       "    <tr>\n",
       "      <th>6453074</th>\n",
       "      <td>70.0</td>\n",
       "      <td>1</td>\n",
       "    </tr>\n",
       "    <tr>\n",
       "      <th>6516356</th>\n",
       "      <td>416.0</td>\n",
       "      <td>3</td>\n",
       "    </tr>\n",
       "    <tr>\n",
       "      <th>6495926</th>\n",
       "      <td>148.0</td>\n",
       "      <td>2</td>\n",
       "    </tr>\n",
       "    <tr>\n",
       "      <th>6420464</th>\n",
       "      <td>91.0</td>\n",
       "      <td>1</td>\n",
       "    </tr>\n",
       "    <tr>\n",
       "      <th>6517567</th>\n",
       "      <td>45.0</td>\n",
       "      <td>0</td>\n",
       "    </tr>\n",
       "    <tr>\n",
       "      <th>6244521</th>\n",
       "      <td>1106.0</td>\n",
       "      <td>4</td>\n",
       "    </tr>\n",
       "    <tr>\n",
       "      <th>6444547</th>\n",
       "      <td>627.0</td>\n",
       "      <td>4</td>\n",
       "    </tr>\n",
       "    <tr>\n",
       "      <th>6728211</th>\n",
       "      <td>45.0</td>\n",
       "      <td>0</td>\n",
       "    </tr>\n",
       "  </tbody>\n",
       "</table>\n",
       "</div>"
      ],
      "text/plain": [
       "         wall_time  time_category\n",
       "6407272      417.0              3\n",
       "6409783       88.0              1\n",
       "6453074       70.0              1\n",
       "6516356      416.0              3\n",
       "6495926      148.0              2\n",
       "6420464       91.0              1\n",
       "6517567       45.0              0\n",
       "6244521     1106.0              4\n",
       "6444547      627.0              4\n",
       "6728211       45.0              0"
      ]
     },
     "execution_count": 7,
     "metadata": {},
     "output_type": "execute_result"
    }
   ],
   "source": [
    "df[['wall_time', 'time_category']].sample(10)"
   ]
  },
  {
   "cell_type": "markdown",
   "id": "79e43666-2d9e-407c-9e02-484922ea6371",
   "metadata": {},
   "source": [
    "The next cell shows how many entries occupy each category."
   ]
  },
  {
   "cell_type": "code",
   "execution_count": 8,
   "id": "980a4947-73d4-4663-bc81-c17337738bb4",
   "metadata": {},
   "outputs": [
    {
     "name": "stdout",
     "output_type": "stream",
     "text": [
      "0: < 60MB (7371 entries)\n",
      "1: >= 60MB and < 120MB (10720 entries)\n",
      "2: >= 120MB and < 300MB (8174 entries)\n",
      "3: >= 300MB and < 600MB (5519 entries)\n",
      "4: >= 600MB and < 1800MB (7726 entries)\n",
      "5: >= 1800MB and < 3600MB (4005 entries)\n",
      "6: >= 3600MB and < 14400MB (5521 entries)\n",
      "7: >= 14400MB and < 43200MB (1324 entries)\n"
     ]
    }
   ],
   "source": [
    "def print_category_counts():\n",
    "    bin_sizes = np.bincount(df['time_category'])\n",
    "    print(f\"0: < {categories_dict[0]}MB ({bin_sizes[0]} entries)\")\n",
    "    for i in range(1, num_classes):\n",
    "        print(f\"{i}: >= {categories_dict[i-1]}MB\"\n",
    "              + f\" and < {categories_dict[i]}MB\"\n",
    "              + f\" ({bin_sizes[i]} entries)\")\n",
    "        \n",
    "print_category_counts()"
   ]
  },
  {
   "cell_type": "markdown",
   "id": "3a2cf222-e9cb-41dc-a7ce-3ca0d710af30",
   "metadata": {},
   "source": [
    "## Feature selection"
   ]
  },
  {
   "cell_type": "markdown",
   "id": "f99e3780-849f-44ac-86f9-d60654890894",
   "metadata": {},
   "source": [
    "All columns in X_features will be used to make predictions. \n",
    "\n",
    "Note that we only want to predict one of the columns in y_features (namely time_category), but we keep the related information wall_time there for future testing."
   ]
  },
  {
   "cell_type": "code",
   "execution_count": 9,
   "id": "49cd37f4-861b-42b6-bcab-5ef6540e6587",
   "metadata": {},
   "outputs": [],
   "source": [
    "X_features = ['PP', 'SP', 'BR', 'rqst_timespan', 'rqst_area_rect', 'converted',\n",
    "              'params_num', 'grid_def_num', 'level_num',\n",
    "              'ds084.1', 'ds631.1', 'ds083.3', 'ds094.0', 'ds083.2']\n",
    "y_features = ['wall_time', 'time_category']\n",
    "\n",
    "X = df[X_features]\n",
    "y = df[y_features]"
   ]
  },
  {
   "cell_type": "markdown",
   "id": "bf78d5e7-ca51-4adc-84f8-020a2e00c995",
   "metadata": {},
   "source": [
    "## Train/validation/test split"
   ]
  },
  {
   "cell_type": "markdown",
   "id": "eccde234-5f2f-4c51-88e1-02757843dc64",
   "metadata": {},
   "source": [
    "We split the data into training, validation, and testing sets according to the proportions in the next cell."
   ]
  },
  {
   "cell_type": "code",
   "execution_count": 10,
   "id": "e0ae54b0-125b-4ba3-8f24-61b2cf89595b",
   "metadata": {},
   "outputs": [],
   "source": [
    "train_amt = 0.5\n",
    "val_amt = 0.25\n",
    "test_amt = 0.25"
   ]
  },
  {
   "cell_type": "code",
   "execution_count": 11,
   "id": "3c8ad88f-fc10-47af-9e2a-28a973a5eea1",
   "metadata": {},
   "outputs": [],
   "source": [
    "X_train, X_target, y_train_full, y_target_full = \\\n",
    "                train_test_split(X, y, \n",
    "                test_size=1-train_amt, \n",
    "                random_state = 3)\n",
    "X_val, X_test, y_val_full, y_test_full = \\\n",
    "                train_test_split(X_target, y_target_full,\n",
    "                                 test_size = test_amt/train_amt,\n",
    "                                 random_state = 3)"
   ]
  },
  {
   "cell_type": "code",
   "execution_count": 12,
   "id": "c99acf27-0f46-495e-a807-d198222e7591",
   "metadata": {},
   "outputs": [],
   "source": [
    "y_train = np.ravel(y_train_full['time_category'])\n",
    "y_val = np.ravel(y_val_full['time_category'])\n",
    "y_test = np.ravel(y_test_full['time_category'])"
   ]
  },
  {
   "cell_type": "markdown",
   "id": "51e93f45-8f55-447a-a2ab-6f1170104d06",
   "metadata": {},
   "source": [
    "## Scaling"
   ]
  },
  {
   "cell_type": "markdown",
   "id": "6df3fc6b-51d3-4d6d-a714-e898edcf1ed5",
   "metadata": {},
   "source": [
    "The scaling function is from preprocessing.py -- it scales the training, validation, and test input data according to the statistics of the training set only. (This is to prevent data leakage.)"
   ]
  },
  {
   "cell_type": "code",
   "execution_count": 13,
   "id": "855b00ce-5a00-4ea1-a2c8-0699ce44960b",
   "metadata": {
    "tags": []
   },
   "outputs": [],
   "source": [
    "X_train_norm, X_val_norm, X_test_norm = \\\n",
    "    scale(X_train, X_val, X_test)"
   ]
  },
  {
   "cell_type": "markdown",
   "id": "50978d84-39fd-41a5-9eb9-c5e92b8accdf",
   "metadata": {},
   "source": [
    "The data sets at our disposal now are:\n",
    "\n",
    "X_train, X_val, X_test: unscaled input data\n",
    "\n",
    "X_train_norm, X_val_norm, X_test_norm: scaled input data\n",
    "\n",
    "y_train, y_val, y_test: only the output data we want to predict\n",
    "\n",
    "y_train_full, y_val_full, y_test_full: the output data plus some additional info"
   ]
  },
  {
   "cell_type": "markdown",
   "id": "fd190f44-8760-4e51-9b21-525a000fceb1",
   "metadata": {},
   "source": [
    "# Training"
   ]
  },
  {
   "cell_type": "markdown",
   "id": "5190edd5-d709-4a41-b63e-c6cddf0abee7",
   "metadata": {},
   "source": [
    "The next two cells create scorer objects (sklearn.metrics._scorer._PredictScorer) which are used during grid searches."
   ]
  },
  {
   "cell_type": "markdown",
   "id": "dba68d84-a1a2-4484-9d27-f76e36f1fb97",
   "metadata": {},
   "source": [
    "The scorer created in this cell, balanced_scorer, replicates how the models automatically score themselves on the training set when class_weight='balanced' is passed as a parameter."
   ]
  },
  {
   "cell_type": "code",
   "execution_count": 14,
   "id": "dfd8c2c1-73b2-45ea-949a-80af8fb72ea7",
   "metadata": {},
   "outputs": [],
   "source": [
    "def balanced_score(y, y_pred, **kwargs):\n",
    "    n_samples = X_train.shape[0]\n",
    "    class_weights = n_samples / (num_classes * (np.bincount(y_train)))\n",
    "\n",
    "    score = 0\n",
    "    for i in range(len(y)):\n",
    "        if y[i] == y_pred[i]:\n",
    "            score += class_weights[y[i]]\n",
    "        \n",
    "    return score\n",
    "\n",
    "balanced_scorer = make_scorer(score_func=balanced_score,\n",
    "                              greater_is_better=True)"
   ]
  },
  {
   "cell_type": "markdown",
   "id": "5ed5110a-ace6-429b-85be-466614642c09",
   "metadata": {},
   "source": [
    "## Trees and ensembles of trees"
   ]
  },
  {
   "cell_type": "markdown",
   "id": "65af00f3-185c-47d9-a64d-ee833aaafde7",
   "metadata": {},
   "source": [
    "### Tree"
   ]
  },
  {
   "cell_type": "code",
   "execution_count": 15,
   "id": "cbb07249-899c-4cda-947f-a050c75d7241",
   "metadata": {},
   "outputs": [],
   "source": [
    "if tree_options['train_model'] and tree_options['grid_search']:\n",
    "    start = time.time()\n",
    "    tree_param_grid = {'random_state':[3], \n",
    "                       'max_depth':range(2,15),\n",
    "                       'min_samples_split':range(2,10),\n",
    "                       'class_weight':['balanced']}\n",
    "    tree_gs = GridSearch(model=DecisionTreeClassifier(), \n",
    "                              param_grid=tree_param_grid,\n",
    "                              parallelize=False)\n",
    "    tree_gs.fit(X_train_norm, y_train, \n",
    "                X_val_norm, y_val, \n",
    "                scoring=balanced_scorer)\n",
    "    \n",
    "    print(tree_gs.best_params)\n",
    "    tree = tree_gs.best_estimator_\n",
    "    \n",
    "    end = time.time()\n",
    "    print(f\"Time = {end-start}\")\n",
    "\n",
    "elif tree_options['train_model']:\n",
    "    tree = DecisionTreeClassifier(class_weight='balanced',\n",
    "                                  max_depth=14,\n",
    "                                  min_samples_split=2,\n",
    "                                  random_state=3)\n",
    "    tree.fit(X_train_norm, y_train)\n",
    "else:\n",
    "    tree = DecisionTreeClassifier()"
   ]
  },
  {
   "cell_type": "markdown",
   "id": "25a2c8ab-e0db-4b5b-bf27-8e627aad5a75",
   "metadata": {},
   "source": [
    "### Forest"
   ]
  },
  {
   "cell_type": "code",
   "execution_count": 16,
   "id": "1b3e4f7f-95bd-4ae2-84e0-1a071cf7728c",
   "metadata": {},
   "outputs": [
    {
     "name": "stdout",
     "output_type": "stream",
     "text": [
      "Time = 1557.5997319221497\n",
      "{'class_weight': 'balanced', 'max_depth': 18, 'min_samples_split': 5, 'n_estimators': 175, 'n_jobs': 1, 'random_state': 3}\n"
     ]
    }
   ],
   "source": [
    "if forest_options['train_model'] and forest_options['grid_search']:\n",
    "    start = time.time()\n",
    "    forest_param_grid = {'random_state':[3],\n",
    "                         'max_depth':range(2,20),\n",
    "                         'min_samples_split':range(5,35,5),\n",
    "                         'n_estimators':range(50,250,25),\n",
    "                         'n_jobs':[forest_options['n_jobs']],\n",
    "                         'class_weight':['balanced']}\n",
    "    forest_gs = GridSearch(model=RandomForestClassifier(), \n",
    "                                param_grid=forest_param_grid,\n",
    "                                parallelize=False)\n",
    "    forest_gs.fit(X_train_norm, y_train, X_val_norm, y_val)\n",
    "    end = time.time()\n",
    "    print(f\"Time = {end-start}\")\n",
    "    print(forest_gs.best_params)\n",
    "    forest = forest_gs.best_estimator_\n",
    "elif forest_options['train_model']:\n",
    "    forest = RandomForestClassifier(class_weight='balanced',\n",
    "                                      max_depth=18,\n",
    "                                      min_samples_split=5,\n",
    "                                      n_estimators=175,\n",
    "                                      random_state=3)\n",
    "    forest.fit(X_train_norm, y_train)\n",
    "else:\n",
    "    forest = RandomForestClassifier()"
   ]
  },
  {
   "cell_type": "markdown",
   "id": "ea4fb879-8f91-4085-899c-be4736bbd77f",
   "metadata": {},
   "source": [
    "Scikit-learn currently has no class_weight parameter for GradientBoostingClassifier, so we use the default scoring metric in training and in the grid search."
   ]
  },
  {
   "cell_type": "code",
   "execution_count": 17,
   "id": "613558b7-d8b2-474a-91ce-b5f5108b0cf2",
   "metadata": {},
   "outputs": [],
   "source": [
    "if gboost_options['train_model'] and gboost_options['grid_search']:\n",
    "    start = time.time()\n",
    "    gboost_param_grid = {'random_state':[3],\n",
    "                         'max_depth':range(2,20),\n",
    "                         'n_estimators':range(50,300,50)}\n",
    "    gboost_gs = GridSearch(model=GradientBoostingClassifier(), \n",
    "                                param_grid=gboost_param_grid,\n",
    "                                parallelize=False)\n",
    "    gboost_gs.fit(X_train_norm, y_train, X_val_norm, y_val)\n",
    "    \n",
    "    print(gboost_gs.best_params)\n",
    "    gboost = gboost_gs.best_estimator_\n",
    "    \n",
    "    end = time.time()\n",
    "    print(f\"Time = {end-start}\")\n",
    "elif gboost_options['train_model']:\n",
    "    gboost = GradientBoostingClassifier(random_state=3,\n",
    "                                        max_depth=14,\n",
    "                                        n_estimators=150)\n",
    "    gboost.fit(X_train_norm, y_train)\n",
    "else:\n",
    "    gboost = GradientBoostingClassifier()"
   ]
  },
  {
   "cell_type": "markdown",
   "id": "f011d694-fa96-4dd8-870a-e3395096bce3",
   "metadata": {},
   "source": [
    "## Logistic Regression"
   ]
  },
  {
   "cell_type": "code",
   "execution_count": 18,
   "id": "68999ddf-a8ec-47e4-a245-a7f09475bcfb",
   "metadata": {},
   "outputs": [
    {
     "name": "stderr",
     "output_type": "stream",
     "text": [
      "/glade/u/home/jdubeau/github/rda-ML-resource/venv/lib/python3.8/site-packages/sklearn/linear_model/_logistic.py:1322: UserWarning: Setting penalty='none' will ignore the C and l1_ratio parameters\n",
      "  warnings.warn(\n",
      "/glade/u/home/jdubeau/github/rda-ML-resource/venv/lib/python3.8/site-packages/sklearn/linear_model/_sag.py:328: ConvergenceWarning: The max_iter was reached which means the coef_ did not converge\n",
      "  warnings.warn(\"The max_iter was reached which means \"\n",
      "/glade/u/home/jdubeau/github/rda-ML-resource/venv/lib/python3.8/site-packages/sklearn/linear_model/_sag.py:328: ConvergenceWarning: The max_iter was reached which means the coef_ did not converge\n",
      "  warnings.warn(\"The max_iter was reached which means \"\n",
      "/glade/u/home/jdubeau/github/rda-ML-resource/venv/lib/python3.8/site-packages/sklearn/linear_model/_sag.py:328: ConvergenceWarning: The max_iter was reached which means the coef_ did not converge\n",
      "  warnings.warn(\"The max_iter was reached which means \"\n",
      "/glade/u/home/jdubeau/github/rda-ML-resource/venv/lib/python3.8/site-packages/sklearn/linear_model/_sag.py:328: ConvergenceWarning: The max_iter was reached which means the coef_ did not converge\n",
      "  warnings.warn(\"The max_iter was reached which means \"\n",
      "/glade/u/home/jdubeau/github/rda-ML-resource/venv/lib/python3.8/site-packages/sklearn/linear_model/_logistic.py:1322: UserWarning: Setting penalty='none' will ignore the C and l1_ratio parameters\n",
      "  warnings.warn(\n"
     ]
    },
    {
     "name": "stdout",
     "output_type": "stream",
     "text": [
      "{'C': 0.1, 'class_weight': 'balanced', 'max_iter': 200, 'penalty': 'l1', 'solver': 'saga'}\n",
      "Time = 29.29653263092041\n"
     ]
    },
    {
     "name": "stderr",
     "output_type": "stream",
     "text": [
      "/glade/u/home/jdubeau/github/rda-ML-resource/venv/lib/python3.8/site-packages/sklearn/linear_model/_sag.py:328: ConvergenceWarning: The max_iter was reached which means the coef_ did not converge\n",
      "  warnings.warn(\"The max_iter was reached which means \"\n"
     ]
    }
   ],
   "source": [
    "if logist_options['train_model'] and logist_options['grid_search']:\n",
    "    start = time.time()\n",
    "    logist_param_grid = {'penalty':['l1', 'l2', 'none'],\n",
    "                         'C':[0.1, 1, 10],\n",
    "                         'max_iter':[200],\n",
    "                         'class_weight':['balanced'],\n",
    "                         'solver':['saga']}\n",
    "    logist_gs = GridSearch(model=LogisticRegression(), \n",
    "                                param_grid=logist_param_grid,\n",
    "                                parallelize=False)\n",
    "    logist_gs.fit(X_train_norm, y_train, \n",
    "                  X_val_norm, y_val,\n",
    "                  scoring=balanced_scorer)\n",
    "    \n",
    "    print(logist_gs.best_params)\n",
    "    logist = logist_gs.best_estimator_\n",
    "    \n",
    "    end = time.time()\n",
    "    print(f\"Time = {end-start}\")\n",
    "\n",
    "elif logist_options['train_model']:\n",
    "    logist = LogisticRegression(max_iter=200,\n",
    "                                class_weight='balanced',\n",
    "                                penalty='l1',\n",
    "                                solver='saga',\n",
    "                                C=0.1)\n",
    "    logist.fit(X_train_norm, y_train)\n",
    "else:\n",
    "    logist = LogisticRegression()"
   ]
  },
  {
   "cell_type": "markdown",
   "id": "73fc9ebc-0456-4ad2-b87b-e18d1778e631",
   "metadata": {},
   "source": [
    "# Extra training"
   ]
  },
  {
   "cell_type": "markdown",
   "id": "916882ba-3b70-4779-a4a6-2c9670d84ed9",
   "metadata": {},
   "source": [
    "This section trains the models on extra data if their training_mode option is set to either 'test' or 'final'."
   ]
  },
  {
   "cell_type": "code",
   "execution_count": 27,
   "id": "f470becc-b978-4aa9-b8da-799cdc2aae22",
   "metadata": {},
   "outputs": [],
   "source": [
    "models_dict = {'tree': tree,\n",
    "               'forest': forest,\n",
    "               'gboost': gboost,\n",
    "               'logist': logist}"
   ]
  },
  {
   "cell_type": "code",
   "execution_count": 28,
   "id": "ca94a009-721a-43ff-b34b-879257a5d6a8",
   "metadata": {},
   "outputs": [],
   "source": [
    "test_mode_X_train_norm = np.concatenate((X_train_norm, X_val_norm))\n",
    "test_mode_y_train = np.ravel(pd.concat([y_train_full,\n",
    "                                  y_val_full])['time_category'])\n",
    "\n",
    "final_mode_X_train_norm = np.concatenate((X_train_norm,\n",
    "                              X_val_norm,\n",
    "                              X_test_norm))\n",
    "final_mode_y_train = np.ravel(pd.concat([y_train_full,\n",
    "                                  y_val_full,\n",
    "                                  y_test_full])['time_category'])"
   ]
  },
  {
   "cell_type": "code",
   "execution_count": 29,
   "id": "a5983e56-09cd-4db4-afe8-126c112435f6",
   "metadata": {},
   "outputs": [],
   "source": [
    "for model_name in models_dict:\n",
    "    if options[model_name]['train_model']:\n",
    "        if options[model_name]['training_mode'] == 'test':\n",
    "            models_dict[model_name].fit(test_mode_X_train_norm,\n",
    "                                        test_mode_y_train)\n",
    "        elif options[model_name]['training_mode'] == 'final':\n",
    "            models_dict[model_name].fit(final_mode_X_train_norm,\n",
    "                                        final_mode_y_train)"
   ]
  },
  {
   "cell_type": "markdown",
   "id": "b8b23d8b-01d7-44e0-9b8c-e3e00a4c81c8",
   "metadata": {},
   "source": [
    "# Evaluation"
   ]
  },
  {
   "cell_type": "markdown",
   "id": "17eea39e-b4cf-46d3-aa2d-7cd383530c78",
   "metadata": {},
   "source": [
    "Here we make some simple graphs and reports to give an idea whether our models are worth saving. Note that all figures and reports are done using the validation data -- if the models are set to 'test' or 'final' training modes, they will have already trained on this data!"
   ]
  },
  {
   "cell_type": "code",
   "execution_count": 30,
   "id": "e807a1eb-57dc-44f1-ae7d-f9b655e4e028",
   "metadata": {},
   "outputs": [
    {
     "data": {
      "text/plain": [
       "<Figure size 432x288 with 0 Axes>"
      ]
     },
     "metadata": {},
     "output_type": "display_data"
    },
    {
     "data": {
      "image/png": "[encoded data removed]",
      "text/plain": [
       "<Figure size 432x288 with 2 Axes>"
      ]
     },
     "metadata": {
      "needs_background": "light"
     },
     "output_type": "display_data"
    },
    {
     "data": {
      "text/plain": [
       "<Figure size 432x288 with 0 Axes>"
      ]
     },
     "metadata": {},
     "output_type": "display_data"
    },
    {
     "data": {
      "image/png": "[encoded data removed]",
      "text/plain": [
       "<Figure size 432x288 with 2 Axes>"
      ]
     },
     "metadata": {
      "needs_background": "light"
     },
     "output_type": "display_data"
    }
   ],
   "source": [
    "for model_name in models_dict:\n",
    "    if options[model_name]['train_model']:\n",
    "        plot_cm(X_val=X_val_norm, y_val=y_val,\n",
    "                model_name=model_name, \n",
    "                model=models_dict[model_name])"
   ]
  },
  {
   "cell_type": "code",
   "execution_count": 31,
   "id": "387a19fd-6828-4eee-a678-e0551007a5f8",
   "metadata": {},
   "outputs": [
    {
     "name": "stdout",
     "output_type": "stream",
     "text": [
      "Classification report: forest\n",
      "              precision    recall  f1-score   support\n",
      "\n",
      "           0       0.74      0.75      0.74      1817\n",
      "           1       0.79      0.76      0.77      2590\n",
      "           2       0.84      0.86      0.85      2088\n",
      "           3       0.78      0.80      0.79      1428\n",
      "           4       0.90      0.82      0.86      1964\n",
      "           5       0.77      0.87      0.82       963\n",
      "           6       0.88      0.78      0.83      1404\n",
      "           7       0.58      0.94      0.72       336\n",
      "\n",
      "    accuracy                           0.80     12590\n",
      "   macro avg       0.79      0.82      0.80     12590\n",
      "weighted avg       0.81      0.80      0.81     12590\n",
      "\n",
      "Classification report: logist\n",
      "              precision    recall  f1-score   support\n",
      "\n",
      "           0       0.29      0.25      0.27      1817\n",
      "           1       0.60      0.48      0.53      2590\n",
      "           2       0.26      0.33      0.29      2088\n",
      "           3       0.21      0.19      0.20      1428\n",
      "           4       0.31      0.10      0.15      1964\n",
      "           5       0.22      0.23      0.22       963\n",
      "           6       0.28      0.31      0.30      1404\n",
      "           7       0.10      0.55      0.17       336\n",
      "\n",
      "    accuracy                           0.29     12590\n",
      "   macro avg       0.29      0.31      0.27     12590\n",
      "weighted avg       0.33      0.29      0.30     12590\n",
      "\n"
     ]
    }
   ],
   "source": [
    "for model_name in models_dict:\n",
    "    if options[model_name]['train_model']:\n",
    "        print(f\"Classification report: {model_name}\")\n",
    "        print_cr(X_val_norm, y_val, models_dict[model_name])"
   ]
  },
  {
   "cell_type": "markdown",
   "id": "8a569892-08a1-4df8-8bc9-2aaa770c73ef",
   "metadata": {},
   "source": [
    "# Persistence"
   ]
  },
  {
   "cell_type": "markdown",
   "id": "04db76e9-64d8-45df-906f-91a9ad83656d",
   "metadata": {},
   "source": [
    "This section saves the models using the model_saver object from persistence.py. We begin by creating a 'notes' string for each model we intend to save, which by default just specifies which notebook options were used for that model."
   ]
  },
  {
   "cell_type": "code",
   "execution_count": 32,
   "id": "a3ffd865-85e4-457d-9409-f495ca6626e3",
   "metadata": {},
   "outputs": [
    {
     "name": "stdout",
     "output_type": "stream",
     "text": [
      "{'forest': 'Random Forest Classifier. Trained on training, validation, and testing data. Grid search performed. X values NOT scaled.'}\n"
     ]
    }
   ],
   "source": [
    "full_model_names = {'tree': 'Decision Tree Classifier',\n",
    "                    'forest': 'Random Forest Classifier',\n",
    "                    'gboost': 'Gradient Boosting Classifier',\n",
    "                    'logist': 'Logistic Regression'}\n",
    "\n",
    "training_data_names = {'normal': 'training',\n",
    "                       'test': 'training and validation',\n",
    "                       'final': 'training, validation, and testing'}\n",
    "\n",
    "model_notes = {}\n",
    "\n",
    "for model_name in models_dict:\n",
    "    if options[model_name]['train_model'] and options[model_name]['save_model']:\n",
    "        data_name = training_data_names[options[model_name]['training_mode']]\n",
    "        grid_search = options[model_name]['grid_search']\n",
    "        notes = f\"{full_model_names[model_name]}. \" \\\n",
    "                 + f\"Trained on {data_name} data. \" \\\n",
    "                 + f\"Grid search {'not ' if not grid_search else ''}performed. \" \\\n",
    "                 + \"X values NOT scaled.\"\n",
    "        model_notes[model_name] = notes\n",
    "        \n",
    "print(model_notes)"
   ]
  },
  {
   "cell_type": "markdown",
   "id": "96021906-4632-426a-95ec-21a8a437c8ef",
   "metadata": {},
   "source": [
    "Now we save all the desired models. Note that by passing folder_path=None as a parameter to the model_saver object, models will be saved at the default path found in persistence.py, that is, /glade/work/jdubeau/model-saves/.\n",
    "\n",
    "This creates a folder for each model, e.g. /glade/work/jdubeau/model-saves/time_class_forest_test2021-07-01-16:04/"
   ]
  },
  {
   "cell_type": "code",
   "execution_count": 33,
   "id": "e75905c5-ff50-431c-9b13-f732f2569ca0",
   "metadata": {},
   "outputs": [],
   "source": [
    "for model_name in models_dict:\n",
    "    if options[model_name]['train_model'] and options[model_name]['save_model']:\n",
    "        save_name = 'time_class_' \\\n",
    "                    + model_name \\\n",
    "                    + '_' \\\n",
    "                    + options[model_name]['training_mode']\n",
    "        ms = model_saver(save_name, \n",
    "                         model_notes[model_name],\n",
    "                         models_dict[model_name], \n",
    "                         df, \n",
    "                         categories_dict,\n",
    "                         X_features,\n",
    "                         X_train, y_train_full,\n",
    "                         X_val, y_val_full,\n",
    "                         X_test, y_test_full,\n",
    "                         folder_path=None)\n",
    "        ms.save()"
   ]
  }
 ],
 "metadata": {
  "kernelspec": {
   "display_name": "Python (venv)",
   "language": "python",
   "name": "venv"
  },
  "language_info": {
   "codemirror_mode": {
    "name": "ipython",
    "version": 3
   },
   "file_extension": ".py",
   "mimetype": "text/x-python",
   "name": "python",
   "nbconvert_exporter": "python",
   "pygments_lexer": "ipython3",
   "version": "3.8.8"
  }
 },
 "nbformat": 4,
 "nbformat_minor": 5
}
