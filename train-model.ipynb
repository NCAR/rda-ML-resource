{
 "cells": [
  {
   "cell_type": "markdown",
   "id": "295f06f3-de7f-49c0-82cb-12b70d1b7ade",
   "metadata": {},
   "source": [
    "# Imports"
   ]
  },
  {
   "cell_type": "code",
   "execution_count": 2,
   "id": "inclusive-sleeping",
   "metadata": {},
   "outputs": [],
   "source": [
    "import pandas as pd\n",
    "import numpy as np\n",
    "import math\n",
    "import matplotlib.pyplot as plt\n",
    "from sklearn.model_selection import train_test_split\n",
    "from sklearn.tree import DecisionTreeRegressor\n",
    "from sklearn.tree import DecisionTreeClassifier\n",
    "from sklearn.ensemble import RandomForestRegressor\n",
    "from sklearn.ensemble import RandomForestClassifier\n",
    "from sklearn.ensemble import GradientBoostingRegressor\n",
    "from sklearn.ensemble import GradientBoostingClassifier\n",
    "from sklearn.multiclass import OneVsRestClassifier\n",
    "from sklearn.metrics import mean_squared_error\n",
    "from sklearn.metrics import confusion_matrix\n",
    "from sklearn.metrics import plot_confusion_matrix\n",
    "from sklearn.metrics import precision_recall_curve\n",
    "from sklearn.metrics import plot_precision_recall_curve\n",
    "from sklearn.metrics import classification_report\n",
    "from sklearn.metrics import roc_auc_score\n",
    "from sklearn.preprocessing import StandardScaler\n",
    "from sklearn.preprocessing import label_binarize\n",
    "from sklearn.linear_model import LinearRegression\n",
    "from sklearn.linear_model import Ridge\n",
    "from sklearn.linear_model import Lasso\n",
    "from sklearn.linear_model import LogisticRegression\n",
    "from hypopt import GridSearch"
   ]
  },
  {
   "cell_type": "code",
   "execution_count": 3,
   "id": "circular-pattern",
   "metadata": {},
   "outputs": [],
   "source": [
    "pd.options.display.max_columns = None\n",
    "pd.options.display.max_rows = 75\n",
    "\n",
    "from matplotlib import rcParams\n",
    "rcParams.update({'figure.autolayout': True})"
   ]
  },
  {
   "cell_type": "markdown",
   "id": "8c98004f-9e90-4d0a-81d4-35d6897fc737",
   "metadata": {},
   "source": [
    "# Preprocessing"
   ]
  },
  {
   "cell_type": "code",
   "execution_count": 4,
   "id": "eight-dispatch",
   "metadata": {},
   "outputs": [
    {
     "name": "stdout",
     "output_type": "stream",
     "text": [
      "<class 'pandas.core.frame.DataFrame'>\n",
      "Int64Index: 50360 entries, 6132011 to 6785810\n",
      "Data columns (total 20 columns):\n",
      " #   Column           Non-Null Count  Dtype              \n",
      "---  ------           --------------  -----              \n",
      " 0   request_type     50360 non-null  object             \n",
      " 1   job_start_at     50360 non-null  datetime64[ns]     \n",
      " 2   job_end_at       50360 non-null  datetime64[ns]     \n",
      " 3   used_mem         50360 non-null  float64            \n",
      " 4   dsnum            48150 non-null  object             \n",
      " 5   rqst_start_at    50327 non-null  datetime64[ns, UTC]\n",
      " 6   rqst_end_at      50248 non-null  datetime64[ns, UTC]\n",
      " 7   dates_init       50360 non-null  bool               \n",
      " 8   slat             32123 non-null  float64            \n",
      " 9   nlat             32123 non-null  float64            \n",
      " 10  wlon             32140 non-null  float64            \n",
      " 11  elon             32140 non-null  float64            \n",
      " 12  gui              50360 non-null  bool               \n",
      " 13  parameters       50194 non-null  object             \n",
      " 14  grid_definition  6902 non-null   object             \n",
      " 15  level            21329 non-null  object             \n",
      " 16  product          20607 non-null  object             \n",
      " 17  station          322 non-null    object             \n",
      " 18  tindex           18416 non-null  float64            \n",
      " 19  format           19638 non-null  object             \n",
      "dtypes: bool(2), datetime64[ns, UTC](2), datetime64[ns](2), float64(6), object(8)\n",
      "memory usage: 7.4+ MB\n"
     ]
    }
   ],
   "source": [
    "training_path = '/glade/work/jdubeau/job-metrics-training.json'\n",
    "data_types = {'dsnum':'object'}\n",
    "\n",
    "df = pd.read_json(training_path, dtype = data_types)\n",
    "df.info()"
   ]
  },
  {
   "cell_type": "markdown",
   "id": "competent-appliance",
   "metadata": {},
   "source": [
    "## Adding new features"
   ]
  },
  {
   "cell_type": "markdown",
   "id": "welsh-poster",
   "metadata": {},
   "source": [
    "Adding wall time (time from job start to job end).\n",
    "This will be measured in seconds."
   ]
  },
  {
   "cell_type": "code",
   "execution_count": 5,
   "id": "subjective-birmingham",
   "metadata": {},
   "outputs": [],
   "source": [
    "def calculate_walltime(row):\n",
    "    end = row['job_end_at']\n",
    "    start = row['job_start_at']\n",
    "    return (end - start) / np.timedelta64(1, 's')\n",
    "\n",
    "df['wall_time'] = df.apply(lambda row: calculate_walltime(row),\n",
    "                            axis = 1)\n"
   ]
  },
  {
   "cell_type": "markdown",
   "id": "wooden-diving",
   "metadata": {},
   "source": [
    "Adding request timespan (length of time requested in the data).\n",
    "This will be measured in days."
   ]
  },
  {
   "cell_type": "code",
   "execution_count": 6,
   "id": "perfect-legislation",
   "metadata": {},
   "outputs": [],
   "source": [
    "df['rqst_timespan'] = df.apply(lambda row:\n",
    "                               (row['rqst_end_at'] - row['rqst_start_at']) / np.timedelta64(1, 'D'),\n",
    "                               axis = 1)\n"
   ]
  },
  {
   "cell_type": "markdown",
   "id": "toxic-myrtle",
   "metadata": {},
   "source": [
    "Adding a number of features which are just the length of a list. This includes \n",
    "number of grid definitions, number of levels, number of products, and number\n",
    "of stations."
   ]
  },
  {
   "cell_type": "code",
   "execution_count": 7,
   "id": "behind-messaging",
   "metadata": {},
   "outputs": [],
   "source": [
    "def list_length_feature(feature, row, sep = ','):\n",
    "    if row[feature] != None:\n",
    "        return len(row[feature].split(sep))\n",
    "    else:\n",
    "        return 0"
   ]
  },
  {
   "cell_type": "code",
   "execution_count": 8,
   "id": "respected-cursor",
   "metadata": {},
   "outputs": [],
   "source": [
    "df['grid_def_num'] = df.apply(lambda row: list_length_feature('grid_definition', row), axis = 1)\n",
    "df['level_num'] = df.apply(lambda row: list_length_feature('level', row), axis = 1)\n",
    "df['product_num'] = df.apply(lambda row: list_length_feature('product', row), axis = 1)\n",
    "df['station_num'] = df.apply(lambda row: list_length_feature('station', row, sep = ' '), axis = 1)"
   ]
  },
  {
   "cell_type": "markdown",
   "id": "emerging-crisis",
   "metadata": {},
   "source": [
    "Number of parameters is similar to the four features above, but the parameters could be separated by either spaces or commas."
   ]
  },
  {
   "cell_type": "code",
   "execution_count": 9,
   "id": "cosmetic-immigration",
   "metadata": {},
   "outputs": [],
   "source": [
    "def make_params_num(row):\n",
    "    if row['parameters'] != None:\n",
    "        sep = ',' if ',' in row['parameters'] else ' '\n",
    "        return list_length_feature('parameters', row, sep = sep)\n",
    "    else:\n",
    "        return 0\n",
    "\n",
    "df['params_num'] = df.apply(lambda row: make_params_num(row), axis = 1)"
   ]
  },
  {
   "cell_type": "markdown",
   "id": "accessory-gilbert",
   "metadata": {},
   "source": [
    "We also add the rectangle area of the subset of data requested."
   ]
  },
  {
   "cell_type": "code",
   "execution_count": 10,
   "id": "announced-slave",
   "metadata": {},
   "outputs": [],
   "source": [
    "def request_area(row):\n",
    "    return abs((row['nlat'] - row['slat']) * (row['elon'] - row['wlon']))\n",
    "\n",
    "df['rqst_area_rect'] = df.apply(lambda row: request_area(row), axis = 1)"
   ]
  },
  {
   "cell_type": "markdown",
   "id": "upper-irrigation",
   "metadata": {},
   "source": [
    "We add three columns which encode what type of request the job was.\n",
    "(Purge requests can be identified from the other three columns -- \n",
    "they are neither PP, SP, nor BR.)"
   ]
  },
  {
   "cell_type": "code",
   "execution_count": 11,
   "id": "crucial-rover",
   "metadata": {},
   "outputs": [],
   "source": [
    "for rtype in ['PP', 'SP', 'BR']:\n",
    "    df[rtype] = df.apply(lambda row: True if row['request_type'] == rtype else False, axis = 1)"
   ]
  },
  {
   "cell_type": "markdown",
   "id": "located-animation",
   "metadata": {},
   "source": [
    "Next we add a boolean column representing whether the data was converted to a different format (which is true if and only if a value for \"format\" was present in the rinfo string)."
   ]
  },
  {
   "cell_type": "code",
   "execution_count": 12,
   "id": "weird-airline",
   "metadata": {},
   "outputs": [],
   "source": [
    "df['converted'] = df.apply(lambda row: True if row['format'] != None else False,\n",
    "                           axis = 1)"
   ]
  },
  {
   "cell_type": "markdown",
   "id": "reverse-entertainment",
   "metadata": {},
   "source": [
    "Now we add boolean columns to encode the dataset: one column for each of the \n",
    "five most common datasets (so a False value in all five columsn means \"other.\")"
   ]
  },
  {
   "cell_type": "code",
   "execution_count": 13,
   "id": "wooden-signal",
   "metadata": {},
   "outputs": [],
   "source": [
    "most_common = df['dsnum'].value_counts()[:5].index.tolist()\n",
    "\n",
    "for common_id in most_common:\n",
    "    column_name = 'ds' + common_id\n",
    "    df[column_name] = df.apply(lambda row: row['dsnum'] == common_id, axis = 1)\n"
   ]
  },
  {
   "cell_type": "markdown",
   "id": "4222c036-05c7-41e3-b364-b42a6446b924",
   "metadata": {},
   "source": [
    "## Handling missing values"
   ]
  },
  {
   "cell_type": "markdown",
   "id": "3b383c98-a93c-4eb1-b4bd-f3ac8d5fc0a3",
   "metadata": {},
   "source": [
    "If rqst_area_rect is null, just fill it with zero (experimental)"
   ]
  },
  {
   "cell_type": "code",
   "execution_count": 14,
   "id": "033cbad3-7417-4a14-a6ea-098db284c0a9",
   "metadata": {},
   "outputs": [],
   "source": [
    "df['rqst_area_rect'] = df.apply(lambda row: \n",
    "                                0 if row['rqst_area_rect'] != row['rqst_area_rect'] \n",
    "                                else row['rqst_area_rect'], \n",
    "                                axis=1)"
   ]
  },
  {
   "cell_type": "markdown",
   "id": "011574da-164e-43e5-a71d-cf18b33b0941",
   "metadata": {},
   "source": [
    "# Exploration / visualization"
   ]
  },
  {
   "cell_type": "code",
   "execution_count": 15,
   "id": "84ec6de8-e314-453f-9d5f-a172ba312e7f",
   "metadata": {},
   "outputs": [
    {
     "name": "stdout",
     "output_type": "stream",
     "text": [
      "<class 'pandas.core.frame.DataFrame'>\n",
      "Int64Index: 50360 entries, 6132011 to 6785810\n",
      "Data columns (total 37 columns):\n",
      " #   Column           Non-Null Count  Dtype              \n",
      "---  ------           --------------  -----              \n",
      " 0   request_type     50360 non-null  object             \n",
      " 1   job_start_at     50360 non-null  datetime64[ns]     \n",
      " 2   job_end_at       50360 non-null  datetime64[ns]     \n",
      " 3   used_mem         50360 non-null  float64            \n",
      " 4   dsnum            48150 non-null  object             \n",
      " 5   rqst_start_at    50327 non-null  datetime64[ns, UTC]\n",
      " 6   rqst_end_at      50248 non-null  datetime64[ns, UTC]\n",
      " 7   dates_init       50360 non-null  bool               \n",
      " 8   slat             32123 non-null  float64            \n",
      " 9   nlat             32123 non-null  float64            \n",
      " 10  wlon             32140 non-null  float64            \n",
      " 11  elon             32140 non-null  float64            \n",
      " 12  gui              50360 non-null  bool               \n",
      " 13  parameters       50194 non-null  object             \n",
      " 14  grid_definition  6902 non-null   object             \n",
      " 15  level            21329 non-null  object             \n",
      " 16  product          20607 non-null  object             \n",
      " 17  station          322 non-null    object             \n",
      " 18  tindex           18416 non-null  float64            \n",
      " 19  format           19638 non-null  object             \n",
      " 20  wall_time        50360 non-null  float64            \n",
      " 21  rqst_timespan    50215 non-null  float64            \n",
      " 22  grid_def_num     50360 non-null  int64              \n",
      " 23  level_num        50360 non-null  int64              \n",
      " 24  product_num      50360 non-null  int64              \n",
      " 25  station_num      50360 non-null  int64              \n",
      " 26  params_num       50360 non-null  int64              \n",
      " 27  rqst_area_rect   50360 non-null  float64            \n",
      " 28  PP               50360 non-null  bool               \n",
      " 29  SP               50360 non-null  bool               \n",
      " 30  BR               50360 non-null  bool               \n",
      " 31  converted        50360 non-null  bool               \n",
      " 32  ds084.1          50360 non-null  bool               \n",
      " 33  ds631.1          50360 non-null  bool               \n",
      " 34  ds083.3          50360 non-null  bool               \n",
      " 35  ds094.0          50360 non-null  bool               \n",
      " 36  ds083.2          50360 non-null  bool               \n",
      "dtypes: bool(11), datetime64[ns, UTC](2), datetime64[ns](2), float64(9), int64(5), object(8)\n",
      "memory usage: 10.9+ MB\n"
     ]
    }
   ],
   "source": [
    "df.info()"
   ]
  },
  {
   "cell_type": "code",
   "execution_count": 15,
   "id": "8afddf04-e5cc-4fb8-a25a-7742aeb0d78c",
   "metadata": {},
   "outputs": [
    {
     "data": {
      "image/png": "[encoded data removed]",
      "text/plain": [
       "<Figure size 432x288 with 1 Axes>"
      ]
     },
     "metadata": {
      "needs_background": "light"
     },
     "output_type": "display_data"
    }
   ],
   "source": [
    "plt.hist(np.log10(df['used_mem']), bins=50)\n",
    "plt.show()"
   ]
  },
  {
   "cell_type": "code",
   "execution_count": 16,
   "id": "15347f25-8adb-41ef-8fdb-3533b8ae915c",
   "metadata": {},
   "outputs": [
    {
     "data": {
      "image/png": "[encoded data removed]",
      "text/plain": [
       "<Figure size 432x288 with 1 Axes>"
      ]
     },
     "metadata": {
      "needs_background": "light"
     },
     "output_type": "display_data"
    }
   ],
   "source": [
    "plt.scatter(range(df.shape[0]), df['used_mem'], s=1, color='rosybrown')\n",
    "plt.xlabel('')\n",
    "plt.show()"
   ]
  },
  {
   "cell_type": "code",
   "execution_count": 17,
   "id": "9d174b7a-5eb8-4d20-9dc4-cf9a20b34ac0",
   "metadata": {},
   "outputs": [
    {
     "data": {
      "text/plain": [
       "303"
      ]
     },
     "execution_count": 17,
     "metadata": {},
     "output_type": "execute_result"
    }
   ],
   "source": [
    "df[df.used_mem > 2000].shape[0]"
   ]
  },
  {
   "cell_type": "code",
   "execution_count": 18,
   "id": "d522db38-a1c7-4922-9e6a-d43b9a6f4576",
   "metadata": {},
   "outputs": [
    {
     "data": {
      "image/png": "[encoded data removed]",
      "text/plain": [
       "<Figure size 432x288 with 1 Axes>"
      ]
     },
     "metadata": {
      "needs_background": "light"
     },
     "output_type": "display_data"
    }
   ],
   "source": [
    "plt.hist(df['wall_time'], bins=50)\n",
    "plt.show()"
   ]
  },
  {
   "cell_type": "code",
   "execution_count": 19,
   "id": "f3f3f650-8d40-4afd-8721-d8c59c4a9858",
   "metadata": {},
   "outputs": [
    {
     "data": {
      "image/png": "[encoded data removed]",
      "text/plain": [
       "<Figure size 432x288 with 1 Axes>"
      ]
     },
     "metadata": {
      "needs_background": "light"
     },
     "output_type": "display_data"
    }
   ],
   "source": [
    "plt.scatter(df.index, df['wall_time'], s=1)\n",
    "plt.show()"
   ]
  },
  {
   "cell_type": "code",
   "execution_count": 20,
   "id": "c5b51cab-d1ad-4212-8a37-800602bc07c0",
   "metadata": {},
   "outputs": [
    {
     "data": {
      "text/plain": [
       "388"
      ]
     },
     "execution_count": 20,
     "metadata": {},
     "output_type": "execute_result"
    }
   ],
   "source": [
    "df[df.wall_time > 25000].shape[0]"
   ]
  },
  {
   "cell_type": "markdown",
   "id": "interim-athletics",
   "metadata": {
    "tags": [],
    "toc-hr-collapsed": true
   },
   "source": [
    "# Wall time model"
   ]
  },
  {
   "cell_type": "markdown",
   "id": "540b50d0-95e5-4b88-b786-89771f8d3c31",
   "metadata": {
    "toc-hr-collapsed": true
   },
   "source": [
    "## Feature selection"
   ]
  },
  {
   "cell_type": "code",
   "execution_count": null,
   "id": "transparent-participant",
   "metadata": {},
   "outputs": [],
   "source": [
    "time_df = df[df.rqst_timespan.notnull() & df.rqst_area_rect.notnull()]\n",
    "time_X_features = ['PP', 'SP', 'BR', 'rqst_timespan', 'rqst_area_rect', 'converted',\n",
    "              'params_num', 'grid_def_num', 'level_num',\n",
    "              'ds084.1', 'ds631.1', 'ds083.3', 'ds094.0', 'ds083.2']\n",
    "time_y_features = ['wall_time']\n",
    "\n",
    "time_X = time_df[time_X_features]\n",
    "time_y = time_df[time_y_features]"
   ]
  },
  {
   "cell_type": "markdown",
   "id": "blocked-grant",
   "metadata": {},
   "source": [
    "## Train/validation/test split"
   ]
  },
  {
   "cell_type": "code",
   "execution_count": null,
   "id": "damaged-madonna",
   "metadata": {},
   "outputs": [],
   "source": [
    "time_train_amt = 0.5\n",
    "time_val_amt = 0.25\n",
    "time_test_amt = 0.25"
   ]
  },
  {
   "cell_type": "code",
   "execution_count": null,
   "id": "olympic-luxembourg",
   "metadata": {},
   "outputs": [],
   "source": [
    "time_X_train, time_X_target, time_y_train, time_y_target = \\\n",
    "                train_test_split(time_X, time_y, \n",
    "                test_size=1-time_train_amt, \n",
    "                random_state = 3)\n",
    "time_X_val, time_X_test, time_y_val, time_y_test = \\\n",
    "                train_test_split(time_X_target, time_y_target,\n",
    "                                 test_size = time_test_amt/time_train_amt,\n",
    "                                 random_state = 3)\n"
   ]
  },
  {
   "cell_type": "code",
   "execution_count": null,
   "id": "integrated-remove",
   "metadata": {},
   "outputs": [],
   "source": [
    "time_y_train = np.ravel(time_y_train)\n",
    "time_y_val = np.ravel(time_y_val)\n",
    "time_y_test = np.ravel(time_y_test)"
   ]
  },
  {
   "cell_type": "markdown",
   "id": "thermal-exclusive",
   "metadata": {},
   "source": [
    "## Scaling"
   ]
  },
  {
   "cell_type": "code",
   "execution_count": null,
   "id": "worth-relationship",
   "metadata": {},
   "outputs": [],
   "source": [
    "time_scaler = StandardScaler()\n",
    "time_scaler.fit(time_X_train)\n",
    "\n",
    "time_X_train_norm = time_scaler.transform(time_X_train)\n",
    "time_X_val_norm = time_scaler.transform(time_X_val)\n",
    "time_X_test_norm = time_scaler.transform(time_X_test)"
   ]
  },
  {
   "cell_type": "markdown",
   "id": "b5e12ec5-4ad9-4bc0-a726-22ca56d9a748",
   "metadata": {
    "toc-hr-collapsed": true
   },
   "source": [
    "## Trees, Forest, Gradient Boosts"
   ]
  },
  {
   "cell_type": "markdown",
   "id": "iraqi-disney",
   "metadata": {},
   "source": [
    "### Tree"
   ]
  },
  {
   "cell_type": "code",
   "execution_count": null,
   "id": "infectious-church",
   "metadata": {},
   "outputs": [],
   "source": [
    "time_tree_param_grid = {'random_state':[3], 'max_depth':range(2,15)}\n",
    "time_tree_gs = GridSearch(model=DecisionTreeRegressor(), \n",
    "                          param_grid=time_tree_param_grid,\n",
    "                          parallelize=False)\n",
    "time_tree_gs.fit(time_X_train_norm, time_y_train, time_X_val_norm, time_y_val)"
   ]
  },
  {
   "cell_type": "code",
   "execution_count": null,
   "id": "1b380d7f-9ecb-4f05-87d8-e7fa43b27b40",
   "metadata": {},
   "outputs": [],
   "source": [
    "time_tree_gs.best_params"
   ]
  },
  {
   "cell_type": "code",
   "execution_count": null,
   "id": "1df01bed-f3bf-4d05-9a68-a337766ac91d",
   "metadata": {},
   "outputs": [],
   "source": [
    "time_tree = DecisionTreeRegressor(**time_tree_gs.best_params)\n",
    "#time_tree_params = {'max_depth': 14, 'random_state': 3}\n",
    "time_tree = DecisionTreeRegressor(**time_tree_params)\n",
    "time_tree.fit(time_X_train_norm, time_y_train)"
   ]
  },
  {
   "cell_type": "markdown",
   "id": "13d2ee3a-3de4-44de-b139-dfedaeee9659",
   "metadata": {},
   "source": [
    "### Forest"
   ]
  },
  {
   "cell_type": "code",
   "execution_count": null,
   "id": "imported-globe",
   "metadata": {},
   "outputs": [],
   "source": [
    "time_forest_param_grid = {'random_state':[3], 'max_depth':range(2,15),\n",
    "                     'n_estimators':[100,200,300,500]}\n",
    "time_forest_gs = GridSearch(model=RandomForestRegressor(), \n",
    "                            param_grid=time_forest_param_grid,\n",
    "                            parallelize=False)\n",
    "time_forest_gs.fit(time_X_train_norm, time_y_train, time_X_val_norm, time_y_val)"
   ]
  },
  {
   "cell_type": "code",
   "execution_count": null,
   "id": "similar-possibility",
   "metadata": {},
   "outputs": [],
   "source": [
    "time_forest_gs.best_params"
   ]
  },
  {
   "cell_type": "code",
   "execution_count": null,
   "id": "located-energy",
   "metadata": {},
   "outputs": [],
   "source": [
    "time_forest = RandomForestRegressor(**time_forest_gs.best_params)\n",
    "time_forest_params = {'max_depth': 14, 'n_estimators': 500, 'random_state': 3}\n",
    "#time_forest = RandomForestRegressor(**time_forest_params)\n",
    "time_forest.fit(time_X_train_norm, time_y_train)"
   ]
  },
  {
   "cell_type": "markdown",
   "id": "faf76739-27cc-404e-afca-7d2377c9f74c",
   "metadata": {},
   "source": [
    "### Gradient boosted trees"
   ]
  },
  {
   "cell_type": "code",
   "execution_count": null,
   "id": "fifteen-istanbul",
   "metadata": {},
   "outputs": [],
   "source": [
    "time_gboost_param_grid = {'random_state':[3], \n",
    "                          'max_depth':range(2,15),\n",
    "                          'n_estimators':[100,200,300,500]}\n",
    "time_gboost_gs = GridSearch(model=GradientBoostingRegressor(),\n",
    "                            param_grid=time_gboost_param_grid,\n",
    "                            parallelize=False)\n",
    "time_gboost_gs.fit(time_X_train_norm, time_y_train, time_X_val_norm, time_y_val)"
   ]
  },
  {
   "cell_type": "code",
   "execution_count": null,
   "id": "f5588749-8844-414b-9bf0-599a06c93ec0",
   "metadata": {},
   "outputs": [],
   "source": [
    "time_gboost_gs.best_params"
   ]
  },
  {
   "cell_type": "code",
   "execution_count": null,
   "id": "912ef36d-04cd-421d-ab3f-80b9a5b3b13f",
   "metadata": {},
   "outputs": [],
   "source": [
    "time_gboost = GradientBoostingRegressor(**time_gboost_gs.best_params)\n",
    "time_gboost_params = {'max_depth': 9, 'n_estimators': 200, 'random_state': 3}\n",
    "#time_gboost = GradientBoostingRegressor(**time_gboost_params)\n",
    "time_gboost.fit(time_X_train_norm, time_y_train)"
   ]
  },
  {
   "cell_type": "markdown",
   "id": "6b008359-1211-459e-a0a2-3f28402c6d4f",
   "metadata": {
    "toc-hr-collapsed": true
   },
   "source": [
    "## Linear regressors"
   ]
  },
  {
   "cell_type": "markdown",
   "id": "ideal-warren",
   "metadata": {},
   "source": [
    "### Basic linear regression"
   ]
  },
  {
   "cell_type": "code",
   "execution_count": null,
   "id": "absolute-territory",
   "metadata": {},
   "outputs": [],
   "source": [
    "linear = LinearRegression().fit(time_X_train_norm, time_y_train)"
   ]
  },
  {
   "cell_type": "code",
   "execution_count": null,
   "id": "annoying-bowling",
   "metadata": {},
   "outputs": [],
   "source": [
    "linear.coef_"
   ]
  },
  {
   "cell_type": "markdown",
   "id": "ebe844e4-1fcb-4c84-8d6b-216fe4c60ee7",
   "metadata": {},
   "source": [
    "### Ridge regression"
   ]
  },
  {
   "cell_type": "code",
   "execution_count": null,
   "id": "breathing-trance",
   "metadata": {},
   "outputs": [],
   "source": [
    "ridge10 = Ridge(alpha=10).fit(time_X_train_norm, time_y_train)\n",
    "ridge1 = Ridge(alpha=1).fit(time_X_train_norm, time_y_train)\n",
    "ridge01 = Ridge(alpha=0.1).fit(time_X_train_norm, time_y_train)"
   ]
  },
  {
   "cell_type": "code",
   "execution_count": null,
   "id": "public-rotation",
   "metadata": {},
   "outputs": [],
   "source": [
    "ridge10.coef_"
   ]
  },
  {
   "cell_type": "markdown",
   "id": "18344f60-709a-4dd5-bcf3-e11c432d761c",
   "metadata": {},
   "source": [
    "### Lasso regression"
   ]
  },
  {
   "cell_type": "code",
   "execution_count": null,
   "id": "ethical-network",
   "metadata": {},
   "outputs": [],
   "source": [
    "lasso = Lasso(alpha=0.01, max_iter=100000).fit(time_X_train_norm, time_y_train)"
   ]
  },
  {
   "cell_type": "code",
   "execution_count": null,
   "id": "working-reggae",
   "metadata": {},
   "outputs": [],
   "source": [
    "lasso.coef_"
   ]
  },
  {
   "cell_type": "markdown",
   "id": "infinite-relief",
   "metadata": {
    "toc-hr-collapsed": true
   },
   "source": [
    "# Used memory model"
   ]
  },
  {
   "cell_type": "code",
   "execution_count": null,
   "id": "lucky-train",
   "metadata": {},
   "outputs": [],
   "source": [
    "mem_df = df[df.rqst_timespan.notnull() & df.rqst_area_rect.notnull()]\n",
    "mem_X_features = ['PP', 'SP', 'BR', 'rqst_timespan', 'rqst_area_rect', 'converted',\n",
    "              'params_num', 'grid_def_num', 'level_num',\n",
    "              'ds084.1', 'ds631.1', 'ds083.3', 'ds094.0', 'ds083.2']\n",
    "mem_y_features = ['used_mem']\n",
    "\n",
    "mem_X = mem_df[mem_X_features]\n",
    "mem_y = mem_df[mem_y_features]"
   ]
  },
  {
   "cell_type": "markdown",
   "id": "photographic-learning",
   "metadata": {},
   "source": [
    "## Train/validation/test split"
   ]
  },
  {
   "cell_type": "code",
   "execution_count": null,
   "id": "worst-cowboy",
   "metadata": {},
   "outputs": [],
   "source": [
    "mem_train_amt = 0.5\n",
    "mem_val_amt = 0.25\n",
    "mem_test_amt = 0.25"
   ]
  },
  {
   "cell_type": "code",
   "execution_count": null,
   "id": "incorrect-festival",
   "metadata": {},
   "outputs": [],
   "source": [
    "mem_X_train, mem_X_target, mem_y_train, mem_y_target = \\\n",
    "                        train_test_split(mem_X, mem_y, \n",
    "                                         test_size=1-mem_train_amt, \n",
    "                                         random_state = 3)\n",
    "mem_X_val, mem_X_test, mem_y_val, mem_y_test = \\\n",
    "                        train_test_split(mem_X_target, mem_y_target,\n",
    "                                         test_size = mem_test_amt/mem_train_amt,\n",
    "                                         random_state = 3)\n"
   ]
  },
  {
   "cell_type": "code",
   "execution_count": null,
   "id": "boring-palestine",
   "metadata": {},
   "outputs": [],
   "source": [
    "mem_y_train = np.ravel(mem_y_train)\n",
    "mem_y_val = np.ravel(mem_y_val)\n",
    "mem_y_test = np.ravel(mem_y_test)"
   ]
  },
  {
   "cell_type": "markdown",
   "id": "still-party",
   "metadata": {},
   "source": [
    "## Scaling"
   ]
  },
  {
   "cell_type": "code",
   "execution_count": null,
   "id": "gentle-spell",
   "metadata": {},
   "outputs": [],
   "source": [
    "mem_scaler = StandardScaler()\n",
    "mem_scaler.fit(mem_X_train)\n",
    "\n",
    "mem_X_train_norm = mem_scaler.transform(mem_X_train)\n",
    "mem_X_val_norm = mem_scaler.transform(mem_X_val)\n",
    "mem_X_test_norm = mem_scaler.transform(mem_X_test)"
   ]
  },
  {
   "cell_type": "markdown",
   "id": "linear-familiar",
   "metadata": {},
   "source": [
    "## Trees, Forest, Gradient Boosts"
   ]
  },
  {
   "cell_type": "markdown",
   "id": "05c56ed4-d4ea-4053-9fc1-f1ca702fd17d",
   "metadata": {},
   "source": [
    "### Tree"
   ]
  },
  {
   "cell_type": "code",
   "execution_count": null,
   "id": "commercial-brisbane",
   "metadata": {},
   "outputs": [],
   "source": [
    "mem_tree_param_grid = {'random_state':[3], 'max_depth':range(2,15)}\n",
    "mem_tree_gs = GridSearch(model=DecisionTreeRegressor(), \n",
    "                         param_grid=mem_tree_param_grid,\n",
    "                         parallelize=False)\n",
    "mem_tree_gs.fit(mem_X_train_norm, mem_y_train, mem_X_val_norm, mem_y_val)\n"
   ]
  },
  {
   "cell_type": "code",
   "execution_count": null,
   "id": "20273b1d-4961-48d2-9011-71dc5220c9c8",
   "metadata": {},
   "outputs": [],
   "source": [
    "mem_tree_gs.best_params"
   ]
  },
  {
   "cell_type": "code",
   "execution_count": null,
   "id": "ca6c1ab5-0f11-4ab9-b6c0-15f1b85474f6",
   "metadata": {},
   "outputs": [],
   "source": [
    "mem_tree_params = {'max_depth': 11, 'random_state': 3}\n",
    "mem_tree = DecisionTreeRegressor(**mem_tree_gs.best_params)\n",
    "#mem_tree = DecisionTreeRegressor(**mem_tree_params)\n",
    "mem_tree.fit(mem_X_train_norm, mem_y_train)"
   ]
  },
  {
   "cell_type": "markdown",
   "id": "a890fc56-d434-4b7a-ae86-33bfdef83f6d",
   "metadata": {},
   "source": [
    "### Forest"
   ]
  },
  {
   "cell_type": "code",
   "execution_count": null,
   "id": "expired-ireland",
   "metadata": {},
   "outputs": [],
   "source": [
    "mem_forest_param_grid = {'random_state':[3], 'max_depth':range(2,15),\n",
    "                     'n_estimators':[100,200,300,500]}\n",
    "mem_forest_gs = GridSearch(model=RandomForestRegressor(), \n",
    "                           param_grid=mem_forest_param_grid,\n",
    "                           parallelize=False)\n",
    "mem_forest_gs.fit(mem_X_train_norm, mem_y_train, mem_X_val_norm, mem_y_val)"
   ]
  },
  {
   "cell_type": "code",
   "execution_count": null,
   "id": "average-favorite",
   "metadata": {},
   "outputs": [],
   "source": [
    "mem_forest_gs.best_params"
   ]
  },
  {
   "cell_type": "code",
   "execution_count": null,
   "id": "pressing-experiment",
   "metadata": {},
   "outputs": [],
   "source": [
    "mem_forest = RandomForestRegressor(**mem_forest_gs.best_params)\n",
    "mem_forest_params = {'max_depth': 13, 'n_estimators': 100, 'random_state': 3}\n",
    "#mem_forest = RandomForestRegressor(**mem_forest_params)\n",
    "mem_forest.fit(mem_X_train_norm, mem_y_train)"
   ]
  },
  {
   "cell_type": "markdown",
   "id": "8539033c-71fa-4c2e-af06-f718af0e799d",
   "metadata": {},
   "source": [
    "### Gradient boosted trees"
   ]
  },
  {
   "cell_type": "code",
   "execution_count": null,
   "id": "9df32d02-bf81-469c-b06d-0f55c138c4d7",
   "metadata": {},
   "outputs": [],
   "source": [
    "mem_gboost_param_grid = {'random_state':[3], \n",
    "                          'max_depth':range(2,15),\n",
    "                          'n_estimators':[100,200,300,500]}\n",
    "mem_gboost_gs = GridSearch(model=GradientBoostingRegressor(),\n",
    "                            param_grid=mem_gboost_param_grid,\n",
    "                            parallelize=False)\n",
    "mem_gboost_gs.fit(mem_X_train_norm, mem_y_train, mem_X_val_norm, mem_y_val)"
   ]
  },
  {
   "cell_type": "code",
   "execution_count": null,
   "id": "79f2d77d-c5b4-4501-bffe-51a9d85b98a0",
   "metadata": {},
   "outputs": [],
   "source": [
    "mem_gboost_gs.best_params"
   ]
  },
  {
   "cell_type": "markdown",
   "id": "aa6395c6-8dbb-4645-8ce7-58c76dae9b31",
   "metadata": {},
   "source": [
    "# Classification problem"
   ]
  },
  {
   "cell_type": "markdown",
   "id": "80bf6d74-6d74-46e3-92ae-b47607b0b1ff",
   "metadata": {},
   "source": [
    "## Memory categories"
   ]
  },
  {
   "cell_type": "code",
   "execution_count": 16,
   "id": "096f2465-abc8-4a69-83d6-4802939c955b",
   "metadata": {},
   "outputs": [],
   "source": [
    "mem_bin_cutoffs = [50, 100, 200, 500, 1000, 2000, 10000, 20000, 50000, 100000]\n",
    "\n",
    "bin_sizes = [df[df.used_mem < mem_bin_cutoffs[0]].shape[0]]\n",
    "for i in range(1, len(mem_bin_cutoffs)):\n",
    "    current_bin_size = df[(df.used_mem >= mem_bin_cutoffs[i-1])\n",
    "                        & (df.used_mem < mem_bin_cutoffs[i])].shape[0]\n",
    "    bin_sizes.append(current_bin_size)\n"
   ]
  },
  {
   "cell_type": "code",
   "execution_count": 17,
   "id": "94d649af-8ee2-4e38-9741-97427b1ab895",
   "metadata": {},
   "outputs": [],
   "source": [
    "def print_mem_categories():\n",
    "    print(f\"0: < {mem_bin_cutoffs[0]}MB ({bin_sizes[0]} entries)\")\n",
    "    for i in range(1, len(mem_bin_cutoffs)):\n",
    "        print(f\"{i}: >= {mem_bin_cutoffs[i-1]}MB\"\n",
    "              + f\" and < {mem_bin_cutoffs[i]}MB\"\n",
    "              + f\" ({bin_sizes[i]} entries)\")"
   ]
  },
  {
   "cell_type": "code",
   "execution_count": 18,
   "id": "fa213c19-d7b6-45c4-bb8a-2e26cf2c0548",
   "metadata": {},
   "outputs": [
    {
     "name": "stdout",
     "output_type": "stream",
     "text": [
      "0: < 50MB (22965 entries)\n",
      "1: >= 50MB and < 100MB (11126 entries)\n",
      "2: >= 100MB and < 200MB (8623 entries)\n",
      "3: >= 200MB and < 500MB (3169 entries)\n",
      "4: >= 500MB and < 1000MB (1639 entries)\n",
      "5: >= 1000MB and < 2000MB (2535 entries)\n",
      "6: >= 2000MB and < 10000MB (248 entries)\n",
      "7: >= 10000MB and < 20000MB (33 entries)\n",
      "8: >= 20000MB and < 50000MB (22 entries)\n",
      "9: >= 50000MB and < 100000MB (0 entries)\n"
     ]
    }
   ],
   "source": [
    "print_mem_categories()"
   ]
  },
  {
   "cell_type": "code",
   "execution_count": 19,
   "id": "5f3c03f3-4e5b-4c0e-867f-81ab53da4360",
   "metadata": {},
   "outputs": [],
   "source": [
    "def mem_category(row):\n",
    "    mem = row['used_mem']\n",
    "    if mem < mem_bin_cutoffs[0]:\n",
    "        return 0\n",
    "    for i in range(1, len(mem_bin_cutoffs)):\n",
    "        if mem >= mem_bin_cutoffs[i-1] and mem < mem_bin_cutoffs[i]:\n",
    "            return i\n",
    "    return None"
   ]
  },
  {
   "cell_type": "code",
   "execution_count": 20,
   "id": "78ff4acc-5682-4d0f-8d30-dd8272fc7409",
   "metadata": {},
   "outputs": [],
   "source": [
    "df['mem_category'] = df.apply(lambda row: mem_category(row), axis=1)"
   ]
  },
  {
   "cell_type": "markdown",
   "id": "7e3ec598-4a56-4147-add9-7b13ce2aaacf",
   "metadata": {},
   "source": [
    "## Feature selection"
   ]
  },
  {
   "cell_type": "code",
   "execution_count": 21,
   "id": "01314cbc-2a7b-4299-ab9a-ef05f3a68a75",
   "metadata": {},
   "outputs": [],
   "source": [
    "class_df = df[df.rqst_timespan.notnull() & df.rqst_area_rect.notnull()]\n",
    "class_X_features = ['PP', 'SP', 'BR', 'rqst_timespan', 'rqst_area_rect', 'converted',\n",
    "              'params_num', 'grid_def_num', 'level_num',\n",
    "              'ds084.1', 'ds631.1', 'ds083.3', 'ds094.0', 'ds083.2']\n",
    "class_y_features = ['mem_category']\n",
    "\n",
    "class_X = class_df[class_X_features]\n",
    "class_y = class_df[class_y_features]"
   ]
  },
  {
   "cell_type": "markdown",
   "id": "c5bc5a19-d728-437e-ba16-dacb82098ac4",
   "metadata": {},
   "source": [
    "## Train/validation/test split"
   ]
  },
  {
   "cell_type": "code",
   "execution_count": 22,
   "id": "5c6b06aa-0d1b-4a78-81bb-2deb840b7956",
   "metadata": {},
   "outputs": [],
   "source": [
    "class_train_amt = 0.5\n",
    "class_val_amt = 0.25\n",
    "class_test_amt = 0.25"
   ]
  },
  {
   "cell_type": "code",
   "execution_count": 39,
   "id": "a173d973-58ef-4691-998b-349bbda61124",
   "metadata": {},
   "outputs": [],
   "source": [
    "class_X_train, class_X_target, class_y_train, class_y_target = \\\n",
    "                train_test_split(class_X, class_y, \n",
    "                test_size=1-class_train_amt, \n",
    "                random_state = 3)\n",
    "class_X_val, class_X_test, class_y_val, class_y_test = \\\n",
    "                train_test_split(class_X_target, class_y_target,\n",
    "                                 test_size = class_test_amt/class_train_amt,\n",
    "                                 random_state = 3)"
   ]
  },
  {
   "cell_type": "code",
   "execution_count": 40,
   "id": "99189c34-e022-49de-9bb2-f1d6c8fadb2a",
   "metadata": {},
   "outputs": [],
   "source": [
    "class_y_train = np.ravel(class_y_train)\n",
    "class_y_val = np.ravel(class_y_val)\n",
    "class_y_test = np.ravel(class_y_test)"
   ]
  },
  {
   "cell_type": "markdown",
   "id": "d8fb1e2e-4a06-47e4-bfb1-8d7f619fc124",
   "metadata": {},
   "source": [
    "## Scaling"
   ]
  },
  {
   "cell_type": "code",
   "execution_count": 41,
   "id": "77bf0ac5-311f-4894-9f41-0944b71e746b",
   "metadata": {},
   "outputs": [],
   "source": [
    "class_scaler = StandardScaler()\n",
    "class_scaler.fit(class_X_train)\n",
    "\n",
    "class_X_train_norm = class_scaler.transform(class_X_train)\n",
    "class_X_val_norm = class_scaler.transform(class_X_val)\n",
    "class_X_test_norm = class_scaler.transform(class_X_test)"
   ]
  },
  {
   "cell_type": "markdown",
   "id": "790ad2cc-4806-4c48-8eea-97176ac0abf8",
   "metadata": {},
   "source": [
    "## Trees, Forest, Gradient Boosts"
   ]
  },
  {
   "cell_type": "markdown",
   "id": "a42b026c-b289-4de6-8fde-044a6757a133",
   "metadata": {},
   "source": [
    "### Tree"
   ]
  },
  {
   "cell_type": "code",
   "execution_count": 38,
   "id": "f93e07e5-c8ec-403f-a5bc-25d53a17be2e",
   "metadata": {},
   "outputs": [
    {
     "data": {
      "text/plain": [
       "DecisionTreeClassifier(class_weight='balanced', max_depth=19, random_state=3)"
      ]
     },
     "execution_count": 38,
     "metadata": {},
     "output_type": "execute_result"
    }
   ],
   "source": [
    "class_tree_param_grid = {'random_state':[3], 'max_depth':range(2,20), 'class_weight':['balanced']}\n",
    "class_tree_gs = GridSearch(model=DecisionTreeClassifier(), \n",
    "                          param_grid=class_tree_param_grid,\n",
    "                          parallelize=False)\n",
    "class_tree_gs.fit(class_X_train_norm, class_y_train, class_X_val_norm, class_y_val)"
   ]
  },
  {
   "cell_type": "code",
   "execution_count": 39,
   "id": "e6039a1b-e2d2-4543-b363-0cea25ab264e",
   "metadata": {},
   "outputs": [
    {
     "data": {
      "text/plain": [
       "{'class_weight': 'balanced', 'max_depth': 19, 'random_state': 3}"
      ]
     },
     "execution_count": 39,
     "metadata": {},
     "output_type": "execute_result"
    }
   ],
   "source": [
    "class_tree_gs.best_params"
   ]
  },
  {
   "cell_type": "code",
   "execution_count": 40,
   "id": "fab7bfb9-87a9-4be8-a2a0-68e5acddaa8d",
   "metadata": {},
   "outputs": [],
   "source": [
    "class_tree = class_tree_gs.best_estimator_"
   ]
  },
  {
   "cell_type": "markdown",
   "id": "0c3b1014-6a20-4ef9-9981-cb5bb660067c",
   "metadata": {},
   "source": [
    "### Forest"
   ]
  },
  {
   "cell_type": "code",
   "execution_count": 42,
   "id": "0e849f75-b1ed-463a-ac80-257298c67bb2",
   "metadata": {},
   "outputs": [
    {
     "data": {
      "text/plain": [
       "RandomForestClassifier(class_weight='balanced', max_depth=14, n_estimators=500,\n",
       "                       random_state=3)"
      ]
     },
     "execution_count": 42,
     "metadata": {},
     "output_type": "execute_result"
    }
   ],
   "source": [
    "class_forest_param_grid = {'random_state':[3], 'max_depth':range(2,15),\n",
    "                     'n_estimators':[100,200,300,500], 'class_weight':['balanced']}\n",
    "class_forest_gs = GridSearch(model=RandomForestClassifier(), \n",
    "                            param_grid=class_forest_param_grid,\n",
    "                            parallelize=False)\n",
    "class_forest_gs.fit(class_X_train_norm, class_y_train, class_X_val_norm, class_y_val)"
   ]
  },
  {
   "cell_type": "code",
   "execution_count": 43,
   "id": "2e9e309b-7f6d-4d2f-b6fa-b21e90fb3840",
   "metadata": {},
   "outputs": [
    {
     "data": {
      "text/plain": [
       "{'class_weight': 'balanced',\n",
       " 'max_depth': 14,\n",
       " 'n_estimators': 300,\n",
       " 'random_state': 3}"
      ]
     },
     "execution_count": 43,
     "metadata": {},
     "output_type": "execute_result"
    }
   ],
   "source": [
    "class_forest_gs.best_params"
   ]
  },
  {
   "cell_type": "code",
   "execution_count": 44,
   "id": "420e5e13-666c-463c-9d14-7961eff6ed71",
   "metadata": {},
   "outputs": [],
   "source": [
    "class_forest = class_forest_gs.best_estimator_"
   ]
  },
  {
   "cell_type": "markdown",
   "id": "f08eae47-da79-4973-93c2-e6bc792b8d64",
   "metadata": {},
   "source": [
    "### Gradient boosted trees"
   ]
  },
  {
   "cell_type": "code",
   "execution_count": null,
   "id": "fbb71164-f525-4252-bae0-51af11ab8e82",
   "metadata": {},
   "outputs": [],
   "source": [
    "class_gboost_param_grid = {'random_state':[3], 'max_depth':range(2,15),\n",
    "                     'n_estimators':[100,200,300,500]}\n",
    "class_gboost_gs = GridSearch(model=GradientBoostingClassifier(), \n",
    "                            param_grid=class_gboost_param_grid,\n",
    "                            parallelize=False)\n",
    "class_gboost_gs.fit(class_X_train_norm, class_y_train, class_X_val_norm, class_y_val)"
   ]
  },
  {
   "cell_type": "code",
   "execution_count": null,
   "id": "b9064a10-a967-42db-a7bb-b2b247b84c42",
   "metadata": {},
   "outputs": [],
   "source": [
    "class_gboost_gs.best_params"
   ]
  },
  {
   "cell_type": "code",
   "execution_count": null,
   "id": "114d151a-e135-4841-9a08-3325b839f5f7",
   "metadata": {},
   "outputs": [],
   "source": [
    "class_gboost = class_gboost_gs.best_estimator_"
   ]
  },
  {
   "cell_type": "code",
   "execution_count": 44,
   "id": "0de853d7-2aae-4c4b-841b-35a540254cf1",
   "metadata": {},
   "outputs": [
    {
     "data": {
      "text/plain": [
       "GradientBoostingClassifier(max_depth=14, n_estimators=150, random_state=3)"
      ]
     },
     "execution_count": 44,
     "metadata": {},
     "output_type": "execute_result"
    }
   ],
   "source": [
    "class_gboost = GradientBoostingClassifier(random_state=3, max_depth=14, n_estimators=150)\n",
    "class_gboost.fit(class_X_train_norm, class_y_train)"
   ]
  },
  {
   "cell_type": "markdown",
   "id": "d1d75672-09b7-4165-b7ca-f332373d80ca",
   "metadata": {},
   "source": [
    "## Linear regressors"
   ]
  },
  {
   "cell_type": "code",
   "execution_count": 29,
   "id": "d739c17a-885c-4d11-8bad-8baad1a9ba2c",
   "metadata": {},
   "outputs": [
    {
     "data": {
      "text/plain": [
       "LogisticRegression(class_weight='balanced', max_iter=1000)"
      ]
     },
     "execution_count": 29,
     "metadata": {},
     "output_type": "execute_result"
    }
   ],
   "source": [
    "logist = LogisticRegression(max_iter=1000, class_weight='balanced')\n",
    "logist.fit(class_X_train_norm, class_y_train)"
   ]
  },
  {
   "cell_type": "markdown",
   "id": "affiliated-routine",
   "metadata": {},
   "source": [
    "# Model evaluation"
   ]
  },
  {
   "cell_type": "code",
   "execution_count": 30,
   "id": "7ba49d67-c289-4bd5-a167-2ed8b7d653e8",
   "metadata": {},
   "outputs": [],
   "source": [
    "def score_model(target, model):\n",
    "    if target == 'time':\n",
    "        train_score = round(model.score(time_X_train_norm, time_y_train), 4)\n",
    "        val_score = round(model.score(time_X_val_norm, time_y_val), 4)\n",
    "    elif target == 'mem':\n",
    "        train_score = round(model.score(mem_X_train_norm, mem_y_train), 4)\n",
    "        val_score = round(model.score(mem_X_val_norm, mem_y_val), 4)\n",
    "    elif target == 'class':\n",
    "        train_score = round(model.score(class_X_train_norm, class_y_train), 4)\n",
    "        val_score = round(model.score(class_X_val_norm, class_y_val), 4)\n",
    "    print(f\"Training score: {train_score}\")\n",
    "    print(f\"Validation score: {val_score}\")"
   ]
  },
  {
   "cell_type": "code",
   "execution_count": 31,
   "id": "regular-white",
   "metadata": {},
   "outputs": [],
   "source": [
    "def print_feature_importances(target, model):\n",
    "    if target == 'time':\n",
    "        X_features = time_X_features\n",
    "    elif target == 'mem':\n",
    "        X_features = mem_X_features\n",
    "    elif target == 'class':\n",
    "        X_features = class_X_features\n",
    "        \n",
    "    name_val_pairs = list(zip(X_features, \n",
    "                              [round(100*val,3) \n",
    "                               for val in model.feature_importances_]\n",
    "                              ))\n",
    "    \n",
    "    print('\\n'.join([str(item) for item in name_val_pairs]))"
   ]
  },
  {
   "cell_type": "code",
   "execution_count": 32,
   "id": "sudden-circuit",
   "metadata": {},
   "outputs": [],
   "source": [
    "def plot_performance(target, model, scale='linear', goal_line=True):\n",
    "    ax = plt.gca()\n",
    "    \n",
    "    if target == 'time':\n",
    "        pred = model.predict(time_X_val_norm)\n",
    "        val = time_y_val\n",
    "        \n",
    "    else:\n",
    "        pred = model.predict(mem_X_val_norm)\n",
    "        val = mem_y_val\n",
    "        \n",
    "    ax.scatter(pred, val, color='blueviolet', s=1.2)\n",
    "        \n",
    "    if goal_line:\n",
    "        max_value = int(max(np.amax(pred), np.amax(val)))\n",
    "        x = np.array(range(0,max_value))\n",
    "        plt.plot(x, x, color='blue')\n",
    "        \n",
    "    plt.xscale(scale)\n",
    "    plt.yscale(scale)\n",
    "    plt.xlabel(\"Predicted value\")\n",
    "    plt.ylabel(\"Actual value\")"
   ]
  },
  {
   "cell_type": "code",
   "execution_count": 33,
   "id": "a20a17d7-1a1f-4a53-bfbb-9c72ad65037e",
   "metadata": {},
   "outputs": [],
   "source": [
    "def plot_cm(model):\n",
    "    plot_confusion_matrix(model, class_X_val_norm, \n",
    "                          class_y_val, normalize='true', \n",
    "                          values_format='.2f')"
   ]
  },
  {
   "cell_type": "code",
   "execution_count": 34,
   "id": "c8556009-3a6c-4421-8677-9635a3527f44",
   "metadata": {},
   "outputs": [],
   "source": [
    "def print_cr(model):\n",
    "    print(classification_report(class_y_val, model.predict(class_X_val_norm)))"
   ]
  },
  {
   "cell_type": "code",
   "execution_count": 35,
   "id": "68df5456-90bd-4ecb-a952-55f9b71a36b1",
   "metadata": {},
   "outputs": [],
   "source": [
    "def auc(model):\n",
    "    print(roc_auc_score(class_y_val, \n",
    "                        model.predict_proba(class_X_val_norm),\n",
    "                        average='weighted',\n",
    "                        multi_class='ovr'))"
   ]
  },
  {
   "cell_type": "code",
   "execution_count": 38,
   "id": "71475c70-31d6-4c1b-b4dd-066e1e1fd58f",
   "metadata": {},
   "outputs": [
    {
     "name": "stdout",
     "output_type": "stream",
     "text": [
      "0.8438682750965785\n"
     ]
    }
   ],
   "source": [
    "auc(logist)"
   ]
  },
  {
   "cell_type": "code",
   "execution_count": null,
   "id": "4e96b950-9621-4ee4-a2f0-d1d4940fbfeb",
   "metadata": {},
   "outputs": [],
   "source": [
    "score_model('class', class_forest)"
   ]
  },
  {
   "cell_type": "code",
   "execution_count": null,
   "id": "59e40d20-9b4e-4a29-8148-e818741e7192",
   "metadata": {},
   "outputs": [],
   "source": [
    "score_model('time', time_gboost)"
   ]
  },
  {
   "cell_type": "code",
   "execution_count": 37,
   "id": "964d4e7c-b143-4b10-bcb5-20a87fb91b7b",
   "metadata": {},
   "outputs": [
    {
     "data": {
      "image/png": "[encoded data removed]",
      "text/plain": [
       "<Figure size 432x288 with 2 Axes>"
      ]
     },
     "metadata": {
      "needs_background": "light"
     },
     "output_type": "display_data"
    }
   ],
   "source": [
    "plot_cm(class_forest)"
   ]
  },
  {
   "cell_type": "code",
   "execution_count": 52,
   "id": "d5f0169c-b48d-4b3d-a8b3-1114aaf3102a",
   "metadata": {},
   "outputs": [
    {
     "data": {
      "image/png": "[encoded data removed]",
      "text/plain": [
       "<Figure size 432x288 with 2 Axes>"
      ]
     },
     "metadata": {
      "needs_background": "light"
     },
     "output_type": "display_data"
    }
   ],
   "source": [
    "plot_cm(class_gboost)"
   ]
  },
  {
   "cell_type": "code",
   "execution_count": null,
   "id": "a61588f6-a7af-48cd-b356-b3249c99b5ce",
   "metadata": {},
   "outputs": [],
   "source": [
    "print_cr(class_gboost)"
   ]
  },
  {
   "cell_type": "code",
   "execution_count": null,
   "id": "95b80487-30ee-4d1b-a204-afbfc9aead50",
   "metadata": {},
   "outputs": [],
   "source": [
    "print_feature_importances('class', class_gboost)"
   ]
  },
  {
   "cell_type": "code",
   "execution_count": null,
   "id": "b5c088f0-6ac5-4018-9f88-e2fd98529dbb",
   "metadata": {},
   "outputs": [],
   "source": [
    "score_model('mem', mem_gboost)"
   ]
  },
  {
   "cell_type": "code",
   "execution_count": null,
   "id": "d3ac351f-fb44-4dd8-a5c7-ab46660de1d0",
   "metadata": {},
   "outputs": [],
   "source": [
    "plot_performance('time', time_forest, scale='linear')"
   ]
  }
 ],
 "metadata": {
  "kernelspec": {
   "display_name": "Python [conda env:root]",
   "language": "python",
   "name": "conda-root-py"
  },
  "language_info": {
   "codemirror_mode": {
    "name": "ipython",
    "version": 3
   },
   "file_extension": ".py",
   "mimetype": "text/x-python",
   "name": "python",
   "nbconvert_exporter": "python",
   "pygments_lexer": "ipython3",
   "version": "3.8.8"
  }
 },
 "nbformat": 4,
 "nbformat_minor": 5
}
