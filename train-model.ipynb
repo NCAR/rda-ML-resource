{
 "cells": [
  {
   "cell_type": "code",
   "execution_count": 1,
   "id": "inclusive-sleeping",
   "metadata": {},
   "outputs": [],
   "source": [
    "import pandas as pd\n",
    "import numpy as np\n",
    "import math\n",
    "import matplotlib.pyplot as plt\n",
    "from sklearn.model_selection import train_test_split\n",
    "from sklearn.tree import DecisionTreeRegressor\n",
    "from sklearn.ensemble import RandomForestRegressor\n",
    "from sklearn.metrics import mean_squared_error\n",
    "from sklearn.preprocessing import StandardScaler\n",
    "from sklearn.linear_model import LinearRegression\n",
    "from sklearn.linear_model import Ridge\n",
    "from sklearn.linear_model import Lasso\n",
    "from sklearn.ensemble import GradientBoostingRegressor\n",
    "from hypopt import GridSearch"
   ]
  },
  {
   "cell_type": "code",
   "execution_count": 2,
   "id": "circular-pattern",
   "metadata": {},
   "outputs": [],
   "source": [
    "pd.options.display.max_columns = None\n",
    "pd.options.display.max_rows = 75\n",
    "\n",
    "from matplotlib import rcParams\n",
    "rcParams.update({'figure.autolayout': True})"
   ]
  },
  {
   "cell_type": "markdown",
   "id": "8c98004f-9e90-4d0a-81d4-35d6897fc737",
   "metadata": {},
   "source": [
    "# Preprocessing"
   ]
  },
  {
   "cell_type": "code",
   "execution_count": 3,
   "id": "eight-dispatch",
   "metadata": {},
   "outputs": [
    {
     "name": "stdout",
     "output_type": "stream",
     "text": [
      "<class 'pandas.core.frame.DataFrame'>\n",
      "Int64Index: 50360 entries, 6132011 to 6785810\n",
      "Data columns (total 20 columns):\n",
      " #   Column           Non-Null Count  Dtype              \n",
      "---  ------           --------------  -----              \n",
      " 0   request_type     50360 non-null  object             \n",
      " 1   job_start_at     50360 non-null  datetime64[ns]     \n",
      " 2   job_end_at       50360 non-null  datetime64[ns]     \n",
      " 3   used_mem         50360 non-null  float64            \n",
      " 4   dsnum            48150 non-null  object             \n",
      " 5   rqst_start_at    50327 non-null  datetime64[ns, UTC]\n",
      " 6   rqst_end_at      50248 non-null  datetime64[ns, UTC]\n",
      " 7   dates_init       50360 non-null  bool               \n",
      " 8   slat             32123 non-null  float64            \n",
      " 9   nlat             32123 non-null  float64            \n",
      " 10  wlon             32140 non-null  float64            \n",
      " 11  elon             32140 non-null  float64            \n",
      " 12  gui              50360 non-null  bool               \n",
      " 13  parameters       50194 non-null  object             \n",
      " 14  grid_definition  6902 non-null   object             \n",
      " 15  level            21329 non-null  object             \n",
      " 16  product          20607 non-null  object             \n",
      " 17  station          322 non-null    object             \n",
      " 18  tindex           18416 non-null  float64            \n",
      " 19  format           19638 non-null  object             \n",
      "dtypes: bool(2), datetime64[ns, UTC](2), datetime64[ns](2), float64(6), object(8)\n",
      "memory usage: 7.4+ MB\n"
     ]
    }
   ],
   "source": [
    "training_path = '/glade/work/jdubeau/job-metrics-training.json'\n",
    "data_types = {'dsnum':'object'}\n",
    "\n",
    "df = pd.read_json(training_path, dtype = data_types)\n",
    "df.info()"
   ]
  },
  {
   "cell_type": "markdown",
   "id": "competent-appliance",
   "metadata": {},
   "source": [
    "## Adding new features"
   ]
  },
  {
   "cell_type": "markdown",
   "id": "welsh-poster",
   "metadata": {},
   "source": [
    "Adding wall time (time from job start to job end).\n",
    "This will be measured in seconds."
   ]
  },
  {
   "cell_type": "code",
   "execution_count": 4,
   "id": "subjective-birmingham",
   "metadata": {},
   "outputs": [],
   "source": [
    "def calculate_walltime(row):\n",
    "    end = row['job_end_at']\n",
    "    start = row['job_start_at']\n",
    "    return (end - start) / np.timedelta64(1, 's')\n",
    "\n",
    "df['wall_time'] = df.apply(lambda row: calculate_walltime(row),\n",
    "                            axis = 1)\n"
   ]
  },
  {
   "cell_type": "markdown",
   "id": "wooden-diving",
   "metadata": {},
   "source": [
    "Adding request timespan (length of time requested in the data).\n",
    "This will be measured in days."
   ]
  },
  {
   "cell_type": "code",
   "execution_count": 5,
   "id": "perfect-legislation",
   "metadata": {},
   "outputs": [],
   "source": [
    "df['rqst_timespan'] = df.apply(lambda row:\n",
    "                               (row['rqst_end_at'] - row['rqst_start_at']) / np.timedelta64(1, 'D'),\n",
    "                               axis = 1)\n"
   ]
  },
  {
   "cell_type": "markdown",
   "id": "toxic-myrtle",
   "metadata": {},
   "source": [
    "Adding a number of features which are just the length of a list. This includes \n",
    "number of grid definitions, number of levels, number of products, and number\n",
    "of stations."
   ]
  },
  {
   "cell_type": "code",
   "execution_count": 6,
   "id": "behind-messaging",
   "metadata": {},
   "outputs": [],
   "source": [
    "def list_length_feature(feature, row, sep = ','):\n",
    "    if row[feature] != None:\n",
    "        return len(row[feature].split(sep))\n",
    "    else:\n",
    "        return 0"
   ]
  },
  {
   "cell_type": "code",
   "execution_count": 7,
   "id": "respected-cursor",
   "metadata": {},
   "outputs": [],
   "source": [
    "df['grid_def_num'] = df.apply(lambda row: list_length_feature('grid_definition', row), axis = 1)\n",
    "df['level_num'] = df.apply(lambda row: list_length_feature('level', row), axis = 1)\n",
    "df['product_num'] = df.apply(lambda row: list_length_feature('product', row), axis = 1)\n",
    "df['station_num'] = df.apply(lambda row: list_length_feature('station', row, sep = ' '), axis = 1)"
   ]
  },
  {
   "cell_type": "markdown",
   "id": "emerging-crisis",
   "metadata": {},
   "source": [
    "Number of parameters is similar to the four features above, but the parameters could be separated by either spaces or commas."
   ]
  },
  {
   "cell_type": "code",
   "execution_count": 8,
   "id": "cosmetic-immigration",
   "metadata": {},
   "outputs": [],
   "source": [
    "def make_params_num(row):\n",
    "    if row['parameters'] != None:\n",
    "        sep = ',' if ',' in row['parameters'] else ' '\n",
    "        return list_length_feature('parameters', row, sep = sep)\n",
    "    else:\n",
    "        return 0\n",
    "\n",
    "df['params_num'] = df.apply(lambda row: make_params_num(row), axis = 1)"
   ]
  },
  {
   "cell_type": "markdown",
   "id": "accessory-gilbert",
   "metadata": {},
   "source": [
    "We also add the rectangle area of the subset of data requested."
   ]
  },
  {
   "cell_type": "code",
   "execution_count": 9,
   "id": "announced-slave",
   "metadata": {},
   "outputs": [],
   "source": [
    "def request_area(row):\n",
    "    return abs((row['nlat'] - row['slat']) * (row['elon'] - row['wlon']))\n",
    "\n",
    "df['rqst_area_rect'] = df.apply(lambda row: request_area(row), axis = 1)"
   ]
  },
  {
   "cell_type": "markdown",
   "id": "upper-irrigation",
   "metadata": {},
   "source": [
    "We add three columns which encode what type of request the job was.\n",
    "(Purge requests can be identified from the other three columns -- \n",
    "they are neither PP, SP, nor BR.)"
   ]
  },
  {
   "cell_type": "code",
   "execution_count": 10,
   "id": "crucial-rover",
   "metadata": {},
   "outputs": [],
   "source": [
    "for rtype in ['PP', 'SP', 'BR']:\n",
    "    df[rtype] = df.apply(lambda row: True if row['request_type'] == rtype else False, axis = 1)"
   ]
  },
  {
   "cell_type": "markdown",
   "id": "located-animation",
   "metadata": {},
   "source": [
    "Next we add a boolean column representing whether the data was converted to a different format (which is true if and only if a value for \"format\" was present in the rinfo string)."
   ]
  },
  {
   "cell_type": "code",
   "execution_count": 11,
   "id": "weird-airline",
   "metadata": {},
   "outputs": [],
   "source": [
    "df['converted'] = df.apply(lambda row: True if row['format'] != None else False,\n",
    "                           axis = 1)"
   ]
  },
  {
   "cell_type": "markdown",
   "id": "reverse-entertainment",
   "metadata": {},
   "source": [
    "Now we add boolean columns to encode the dataset: one column for each of the \n",
    "five most common datasets (so a False value in all five columsn means \"other.\")"
   ]
  },
  {
   "cell_type": "code",
   "execution_count": 12,
   "id": "wooden-signal",
   "metadata": {},
   "outputs": [],
   "source": [
    "most_common = df['dsnum'].value_counts()[:5].index.tolist()\n",
    "\n",
    "for common_id in most_common:\n",
    "    column_name = 'ds' + common_id\n",
    "    df[column_name] = df.apply(lambda row: row['dsnum'] == common_id, axis = 1)\n"
   ]
  },
  {
   "cell_type": "markdown",
   "id": "4222c036-05c7-41e3-b364-b42a6446b924",
   "metadata": {},
   "source": [
    "## Handling missing values"
   ]
  },
  {
   "cell_type": "markdown",
   "id": "3b383c98-a93c-4eb1-b4bd-f3ac8d5fc0a3",
   "metadata": {},
   "source": [
    "If rqst_area_rect is null, just fill it with zero (experimental)"
   ]
  },
  {
   "cell_type": "code",
   "execution_count": 17,
   "id": "033cbad3-7417-4a14-a6ea-098db284c0a9",
   "metadata": {},
   "outputs": [],
   "source": [
    "df['rqst_area_rect'] = df.apply(lambda row: \n",
    "                                0 if row['rqst_area_rect'] != row['rqst_area_rect'] \n",
    "                                else row['rqst_area_rect'], \n",
    "                                axis=1)"
   ]
  },
  {
   "cell_type": "markdown",
   "id": "011574da-164e-43e5-a71d-cf18b33b0941",
   "metadata": {},
   "source": [
    "# Exploration / visualization"
   ]
  },
  {
   "cell_type": "code",
   "execution_count": 78,
   "id": "84ec6de8-e314-453f-9d5f-a172ba312e7f",
   "metadata": {},
   "outputs": [
    {
     "name": "stdout",
     "output_type": "stream",
     "text": [
      "<class 'pandas.core.frame.DataFrame'>\n",
      "Int64Index: 50360 entries, 6132011 to 6785810\n",
      "Data columns (total 37 columns):\n",
      " #   Column           Non-Null Count  Dtype              \n",
      "---  ------           --------------  -----              \n",
      " 0   request_type     50360 non-null  object             \n",
      " 1   job_start_at     50360 non-null  datetime64[ns]     \n",
      " 2   job_end_at       50360 non-null  datetime64[ns]     \n",
      " 3   used_mem         50360 non-null  float64            \n",
      " 4   dsnum            48150 non-null  object             \n",
      " 5   rqst_start_at    50327 non-null  datetime64[ns, UTC]\n",
      " 6   rqst_end_at      50248 non-null  datetime64[ns, UTC]\n",
      " 7   dates_init       50360 non-null  bool               \n",
      " 8   slat             32123 non-null  float64            \n",
      " 9   nlat             32123 non-null  float64            \n",
      " 10  wlon             32140 non-null  float64            \n",
      " 11  elon             32140 non-null  float64            \n",
      " 12  gui              50360 non-null  bool               \n",
      " 13  parameters       50194 non-null  object             \n",
      " 14  grid_definition  6902 non-null   object             \n",
      " 15  level            21329 non-null  object             \n",
      " 16  product          20607 non-null  object             \n",
      " 17  station          322 non-null    object             \n",
      " 18  tindex           18416 non-null  float64            \n",
      " 19  format           19638 non-null  object             \n",
      " 20  wall_time        50360 non-null  float64            \n",
      " 21  rqst_timespan    50215 non-null  float64            \n",
      " 22  grid_def_num     50360 non-null  int64              \n",
      " 23  level_num        50360 non-null  int64              \n",
      " 24  product_num      50360 non-null  int64              \n",
      " 25  station_num      50360 non-null  int64              \n",
      " 26  params_num       50360 non-null  int64              \n",
      " 27  rqst_area_rect   50360 non-null  float64            \n",
      " 28  PP               50360 non-null  bool               \n",
      " 29  SP               50360 non-null  bool               \n",
      " 30  BR               50360 non-null  bool               \n",
      " 31  converted        50360 non-null  bool               \n",
      " 32  ds084.1          50360 non-null  bool               \n",
      " 33  ds631.1          50360 non-null  bool               \n",
      " 34  ds083.3          50360 non-null  bool               \n",
      " 35  ds094.0          50360 non-null  bool               \n",
      " 36  ds083.2          50360 non-null  bool               \n",
      "dtypes: bool(11), datetime64[ns, UTC](2), datetime64[ns](2), float64(9), int64(5), object(8)\n",
      "memory usage: 10.9+ MB\n"
     ]
    }
   ],
   "source": [
    "df.info()"
   ]
  },
  {
   "cell_type": "code",
   "execution_count": null,
   "id": "8afddf04-e5cc-4fb8-a25a-7742aeb0d78c",
   "metadata": {},
   "outputs": [],
   "source": []
  },
  {
   "cell_type": "markdown",
   "id": "interim-athletics",
   "metadata": {},
   "source": [
    "# Wall time model"
   ]
  },
  {
   "cell_type": "markdown",
   "id": "540b50d0-95e5-4b88-b786-89771f8d3c31",
   "metadata": {
    "toc-hr-collapsed": true
   },
   "source": [
    "## Feature selection"
   ]
  },
  {
   "cell_type": "code",
   "execution_count": 18,
   "id": "transparent-participant",
   "metadata": {},
   "outputs": [],
   "source": [
    "time_df = df[df.rqst_timespan.notnull() & df.rqst_area_rect.notnull()]\n",
    "time_X_features = ['PP', 'SP', 'BR', 'rqst_timespan', 'rqst_area_rect', 'converted',\n",
    "              'params_num', 'grid_def_num', 'level_num',\n",
    "              'ds084.1', 'ds631.1', 'ds083.3', 'ds094.0', 'ds083.2']\n",
    "time_y_features = ['wall_time']\n",
    "\n",
    "time_X = time_df[time_X_features]\n",
    "time_y = time_df[time_y_features]"
   ]
  },
  {
   "cell_type": "markdown",
   "id": "blocked-grant",
   "metadata": {},
   "source": [
    "## Train/validation/test split"
   ]
  },
  {
   "cell_type": "code",
   "execution_count": 19,
   "id": "damaged-madonna",
   "metadata": {},
   "outputs": [],
   "source": [
    "time_train_amt = 0.5\n",
    "time_val_amt = 0.25\n",
    "time_test_amt = 0.25"
   ]
  },
  {
   "cell_type": "code",
   "execution_count": 20,
   "id": "olympic-luxembourg",
   "metadata": {},
   "outputs": [],
   "source": [
    "time_X_train, time_X_target, time_y_train, time_y_target = \\\n",
    "                train_test_split(time_X, time_y, \n",
    "                test_size=1-time_train_amt, \n",
    "                random_state = 3)\n",
    "time_X_val, time_X_test, time_y_val, time_y_test = \\\n",
    "                train_test_split(time_X_target, time_y_target,\n",
    "                                 test_size = time_test_amt/time_train_amt,\n",
    "                                 random_state = 3)\n"
   ]
  },
  {
   "cell_type": "code",
   "execution_count": 21,
   "id": "integrated-remove",
   "metadata": {},
   "outputs": [],
   "source": [
    "time_y_train = np.ravel(time_y_train)\n",
    "time_y_val = np.ravel(time_y_val)\n",
    "time_y_test = np.ravel(time_y_test)"
   ]
  },
  {
   "cell_type": "markdown",
   "id": "thermal-exclusive",
   "metadata": {},
   "source": [
    "## Scaling"
   ]
  },
  {
   "cell_type": "code",
   "execution_count": 22,
   "id": "worth-relationship",
   "metadata": {},
   "outputs": [],
   "source": [
    "time_scaler = StandardScaler()\n",
    "time_scaler.fit(time_X_train)\n",
    "\n",
    "time_X_train_norm = time_scaler.transform(time_X_train)\n",
    "time_X_val_norm = time_scaler.transform(time_X_val)\n",
    "time_X_test_norm = time_scaler.transform(time_X_test)"
   ]
  },
  {
   "cell_type": "markdown",
   "id": "b5e12ec5-4ad9-4bc0-a726-22ca56d9a748",
   "metadata": {},
   "source": [
    "## Trees, Forest, Gradient Boosts"
   ]
  },
  {
   "cell_type": "markdown",
   "id": "iraqi-disney",
   "metadata": {},
   "source": [
    "### Tree"
   ]
  },
  {
   "cell_type": "code",
   "execution_count": 43,
   "id": "infectious-church",
   "metadata": {},
   "outputs": [
    {
     "data": {
      "text/plain": [
       "DecisionTreeRegressor(max_depth=14, random_state=3)"
      ]
     },
     "execution_count": 43,
     "metadata": {},
     "output_type": "execute_result"
    }
   ],
   "source": [
    "time_tree_param_grid = {'random_state':[3], 'max_depth':range(2,15)}\n",
    "time_tree_gs = GridSearch(model=DecisionTreeRegressor(), \n",
    "                          param_grid=time_tree_param_grid,\n",
    "                          parallelize=False)\n",
    "time_tree_gs.fit(time_X_train_norm, time_y_train, time_X_val_norm, time_y_val)"
   ]
  },
  {
   "cell_type": "code",
   "execution_count": 44,
   "id": "1b380d7f-9ecb-4f05-87d8-e7fa43b27b40",
   "metadata": {},
   "outputs": [
    {
     "data": {
      "text/plain": [
       "{'max_depth': 14, 'random_state': 3}"
      ]
     },
     "execution_count": 44,
     "metadata": {},
     "output_type": "execute_result"
    }
   ],
   "source": [
    "time_tree_gs.best_params"
   ]
  },
  {
   "cell_type": "code",
   "execution_count": 45,
   "id": "1df01bed-f3bf-4d05-9a68-a337766ac91d",
   "metadata": {},
   "outputs": [
    {
     "data": {
      "text/plain": [
       "DecisionTreeRegressor(max_depth=14, random_state=3)"
      ]
     },
     "execution_count": 45,
     "metadata": {},
     "output_type": "execute_result"
    }
   ],
   "source": [
    "time_tree = DecisionTreeRegressor(**time_tree_gs.best_params)\n",
    "#time_tree_params = {'max_depth': 14, 'random_state': 3}\n",
    "time_tree = DecisionTreeRegressor(**time_tree_params)\n",
    "time_tree.fit(time_X_train_norm, time_y_train)"
   ]
  },
  {
   "cell_type": "markdown",
   "id": "13d2ee3a-3de4-44de-b139-dfedaeee9659",
   "metadata": {},
   "source": [
    "### Forest"
   ]
  },
  {
   "cell_type": "code",
   "execution_count": 46,
   "id": "imported-globe",
   "metadata": {},
   "outputs": [
    {
     "data": {
      "text/plain": [
       "RandomForestRegressor(max_depth=14, n_estimators=500, random_state=3)"
      ]
     },
     "execution_count": 46,
     "metadata": {},
     "output_type": "execute_result"
    }
   ],
   "source": [
    "time_forest_param_grid = {'random_state':[3], 'max_depth':range(2,15),\n",
    "                     'n_estimators':[100,200,300,500]}\n",
    "time_forest_gs = GridSearch(model=RandomForestRegressor(), \n",
    "                            param_grid=time_forest_param_grid,\n",
    "                            parallelize=False)\n",
    "time_forest_gs.fit(time_X_train_norm, time_y_train, time_X_val_norm, time_y_val)"
   ]
  },
  {
   "cell_type": "code",
   "execution_count": 47,
   "id": "similar-possibility",
   "metadata": {},
   "outputs": [
    {
     "data": {
      "text/plain": [
       "{'max_depth': 14, 'n_estimators': 500, 'random_state': 3}"
      ]
     },
     "execution_count": 47,
     "metadata": {},
     "output_type": "execute_result"
    }
   ],
   "source": [
    "time_forest_gs.best_params"
   ]
  },
  {
   "cell_type": "code",
   "execution_count": 48,
   "id": "located-energy",
   "metadata": {},
   "outputs": [
    {
     "data": {
      "text/plain": [
       "RandomForestRegressor(max_depth=14, n_estimators=500, random_state=3)"
      ]
     },
     "execution_count": 48,
     "metadata": {},
     "output_type": "execute_result"
    }
   ],
   "source": [
    "time_forest = RandomForestRegressor(**time_forest_gs.best_params)\n",
    "time_forest_params = {'max_depth': 14, 'n_estimators': 500, 'random_state': 3}\n",
    "#time_forest = RandomForestRegressor(**time_forest_params)\n",
    "time_forest.fit(time_X_train_norm, time_y_train)"
   ]
  },
  {
   "cell_type": "markdown",
   "id": "faf76739-27cc-404e-afca-7d2377c9f74c",
   "metadata": {},
   "source": [
    "### Gradient boosted trees"
   ]
  },
  {
   "cell_type": "code",
   "execution_count": 49,
   "id": "fifteen-istanbul",
   "metadata": {},
   "outputs": [
    {
     "data": {
      "text/plain": [
       "GradientBoostingRegressor(max_depth=14, n_estimators=500, random_state=3)"
      ]
     },
     "execution_count": 49,
     "metadata": {},
     "output_type": "execute_result"
    }
   ],
   "source": [
    "time_gboost_param_grid = {'random_state':[3], \n",
    "                          'max_depth':range(2,15),\n",
    "                          'n_estimators':[100,200,300,500]}\n",
    "time_gboost_gs = GridSearch(model=GradientBoostingRegressor(),\n",
    "                            param_grid=time_gboost_param_grid,\n",
    "                            parallelize=False)\n",
    "time_gboost_gs.fit(time_X_train_norm, time_y_train, time_X_val_norm, time_y_val)"
   ]
  },
  {
   "cell_type": "code",
   "execution_count": 50,
   "id": "f5588749-8844-414b-9bf0-599a06c93ec0",
   "metadata": {},
   "outputs": [
    {
     "data": {
      "text/plain": [
       "{'max_depth': 9, 'n_estimators': 100, 'random_state': 3}"
      ]
     },
     "execution_count": 50,
     "metadata": {},
     "output_type": "execute_result"
    }
   ],
   "source": [
    "time_gboost_gs.best_params"
   ]
  },
  {
   "cell_type": "code",
   "execution_count": 51,
   "id": "912ef36d-04cd-421d-ab3f-80b9a5b3b13f",
   "metadata": {},
   "outputs": [
    {
     "data": {
      "text/plain": [
       "GradientBoostingRegressor(max_depth=9, random_state=3)"
      ]
     },
     "execution_count": 51,
     "metadata": {},
     "output_type": "execute_result"
    }
   ],
   "source": [
    "time_gboost = GradientBoostingRegressor(**time_gboost_gs.best_params)\n",
    "time_gboost_params = {'max_depth': 9, 'n_estimators': 200, 'random_state': 3}\n",
    "#time_gboost = GradientBoostingRegressor(**time_gboost_params)\n",
    "time_gboost.fit(time_X_train_norm, time_y_train)"
   ]
  },
  {
   "cell_type": "markdown",
   "id": "6b008359-1211-459e-a0a2-3f28402c6d4f",
   "metadata": {
    "toc-hr-collapsed": true
   },
   "source": [
    "## Linear regressors"
   ]
  },
  {
   "cell_type": "markdown",
   "id": "ideal-warren",
   "metadata": {},
   "source": [
    "### Basic linear regression"
   ]
  },
  {
   "cell_type": "code",
   "execution_count": 79,
   "id": "absolute-territory",
   "metadata": {},
   "outputs": [],
   "source": [
    "linear = LinearRegression().fit(time_X_train_norm, time_y_train)"
   ]
  },
  {
   "cell_type": "code",
   "execution_count": 80,
   "id": "annoying-bowling",
   "metadata": {},
   "outputs": [
    {
     "data": {
      "text/plain": [
       "array([-3.08079625e+14, -1.98081955e+14, -2.54545409e+14,  4.09936246e+02,\n",
       "        9.24035133e+02,  5.35986768e+02,  3.32524213e+02, -5.40387383e+02,\n",
       "        1.44827068e+02, -9.60060109e+01, -8.36605917e+02, -4.69981956e+02,\n",
       "       -2.87397389e+02, -5.13149092e+02])"
      ]
     },
     "execution_count": 80,
     "metadata": {},
     "output_type": "execute_result"
    }
   ],
   "source": [
    "linear.coef_"
   ]
  },
  {
   "cell_type": "markdown",
   "id": "ebe844e4-1fcb-4c84-8d6b-216fe4c60ee7",
   "metadata": {},
   "source": [
    "### Ridge regression"
   ]
  },
  {
   "cell_type": "code",
   "execution_count": 81,
   "id": "breathing-trance",
   "metadata": {},
   "outputs": [],
   "source": [
    "ridge10 = Ridge(alpha=10).fit(time_X_train_norm, time_y_train)\n",
    "ridge1 = Ridge(alpha=1).fit(time_X_train_norm, time_y_train)\n",
    "ridge01 = Ridge(alpha=0.1).fit(time_X_train_norm, time_y_train)"
   ]
  },
  {
   "cell_type": "code",
   "execution_count": 82,
   "id": "public-rotation",
   "metadata": {},
   "outputs": [
    {
     "data": {
      "text/plain": [
       "array([ 238.41904502, -327.61101366,  -33.6215843 ,  410.04491288,\n",
       "        923.84245443,  535.69893656,  332.02432887, -539.81108984,\n",
       "        144.72743864,  -95.18195939, -835.71471171, -469.27537967,\n",
       "       -287.28410071, -512.4821674 ])"
      ]
     },
     "execution_count": 82,
     "metadata": {},
     "output_type": "execute_result"
    }
   ],
   "source": [
    "ridge10.coef_"
   ]
  },
  {
   "cell_type": "markdown",
   "id": "18344f60-709a-4dd5-bcf3-e11c432d761c",
   "metadata": {},
   "source": [
    "### Lasso regression"
   ]
  },
  {
   "cell_type": "code",
   "execution_count": 83,
   "id": "ethical-network",
   "metadata": {},
   "outputs": [],
   "source": [
    "lasso = Lasso(alpha=0.01, max_iter=100000).fit(time_X_train_norm, time_y_train)"
   ]
  },
  {
   "cell_type": "code",
   "execution_count": 84,
   "id": "working-reggae",
   "metadata": {},
   "outputs": [
    {
     "data": {
      "text/plain": [
       "array([ 279.36155795, -301.48185274,   -0.        ,  410.08392359,\n",
       "        924.07130643,  536.04727082,  332.52449962, -540.33185348,\n",
       "        144.83334318,  -95.69897379, -836.42658642, -469.81757402,\n",
       "       -287.34595195, -512.98899119])"
      ]
     },
     "execution_count": 84,
     "metadata": {},
     "output_type": "execute_result"
    }
   ],
   "source": [
    "lasso.coef_"
   ]
  },
  {
   "cell_type": "markdown",
   "id": "infinite-relief",
   "metadata": {},
   "source": [
    "# Used memory model"
   ]
  },
  {
   "cell_type": "code",
   "execution_count": 52,
   "id": "lucky-train",
   "metadata": {},
   "outputs": [],
   "source": [
    "mem_df = df[df.rqst_timespan.notnull() & df.rqst_area_rect.notnull()]\n",
    "mem_X_features = ['PP', 'SP', 'BR', 'rqst_timespan', 'rqst_area_rect', 'converted',\n",
    "              'params_num', 'grid_def_num', 'level_num',\n",
    "              'ds084.1', 'ds631.1', 'ds083.3', 'ds094.0', 'ds083.2']\n",
    "mem_y_features = ['used_mem']\n",
    "\n",
    "mem_X = mem_df[mem_X_features]\n",
    "mem_y = mem_df[mem_y_features]"
   ]
  },
  {
   "cell_type": "markdown",
   "id": "photographic-learning",
   "metadata": {},
   "source": [
    "## Train/validation/test split"
   ]
  },
  {
   "cell_type": "code",
   "execution_count": 53,
   "id": "worst-cowboy",
   "metadata": {},
   "outputs": [],
   "source": [
    "mem_train_amt = 0.5\n",
    "mem_val_amt = 0.25\n",
    "mem_test_amt = 0.25"
   ]
  },
  {
   "cell_type": "code",
   "execution_count": 54,
   "id": "incorrect-festival",
   "metadata": {},
   "outputs": [],
   "source": [
    "mem_X_train, mem_X_target, mem_y_train, mem_y_target = \\\n",
    "                        train_test_split(mem_X, mem_y, \n",
    "                                         test_size=1-mem_train_amt, \n",
    "                                         random_state = 3)\n",
    "mem_X_val, mem_X_test, mem_y_val, mem_y_test = \\\n",
    "                        train_test_split(mem_X_target, mem_y_target,\n",
    "                                         test_size = mem_test_amt/mem_train_amt,\n",
    "                                         random_state = 3)\n"
   ]
  },
  {
   "cell_type": "code",
   "execution_count": 55,
   "id": "boring-palestine",
   "metadata": {},
   "outputs": [],
   "source": [
    "mem_y_train = np.ravel(mem_y_train)\n",
    "mem_y_val = np.ravel(mem_y_val)\n",
    "mem_y_test = np.ravel(mem_y_test)"
   ]
  },
  {
   "cell_type": "markdown",
   "id": "still-party",
   "metadata": {},
   "source": [
    "## Scaling"
   ]
  },
  {
   "cell_type": "code",
   "execution_count": 56,
   "id": "gentle-spell",
   "metadata": {},
   "outputs": [],
   "source": [
    "mem_scaler = StandardScaler()\n",
    "mem_scaler.fit(mem_X_train)\n",
    "\n",
    "mem_X_train_norm = mem_scaler.transform(mem_X_train)\n",
    "mem_X_val_norm = mem_scaler.transform(mem_X_val)\n",
    "mem_X_test_norm = mem_scaler.transform(mem_X_test)"
   ]
  },
  {
   "cell_type": "markdown",
   "id": "linear-familiar",
   "metadata": {},
   "source": [
    "## Trees, Forest, Gradient Boosts"
   ]
  },
  {
   "cell_type": "markdown",
   "id": "05c56ed4-d4ea-4053-9fc1-f1ca702fd17d",
   "metadata": {},
   "source": [
    "### Tree"
   ]
  },
  {
   "cell_type": "code",
   "execution_count": 57,
   "id": "commercial-brisbane",
   "metadata": {},
   "outputs": [
    {
     "data": {
      "text/plain": [
       "DecisionTreeRegressor(max_depth=14, random_state=3)"
      ]
     },
     "execution_count": 57,
     "metadata": {},
     "output_type": "execute_result"
    }
   ],
   "source": [
    "mem_tree_param_grid = {'random_state':[3], 'max_depth':range(2,15)}\n",
    "mem_tree_gs = GridSearch(model=DecisionTreeRegressor(), \n",
    "                         param_grid=mem_tree_param_grid,\n",
    "                         parallelize=False)\n",
    "mem_tree_gs.fit(mem_X_train_norm, mem_y_train, mem_X_val_norm, mem_y_val)\n"
   ]
  },
  {
   "cell_type": "code",
   "execution_count": 58,
   "id": "20273b1d-4961-48d2-9011-71dc5220c9c8",
   "metadata": {},
   "outputs": [
    {
     "data": {
      "text/plain": [
       "{'max_depth': 13, 'random_state': 3}"
      ]
     },
     "execution_count": 58,
     "metadata": {},
     "output_type": "execute_result"
    }
   ],
   "source": [
    "mem_tree_gs.best_params"
   ]
  },
  {
   "cell_type": "code",
   "execution_count": 59,
   "id": "ca6c1ab5-0f11-4ab9-b6c0-15f1b85474f6",
   "metadata": {},
   "outputs": [
    {
     "data": {
      "text/plain": [
       "DecisionTreeRegressor(max_depth=13, random_state=3)"
      ]
     },
     "execution_count": 59,
     "metadata": {},
     "output_type": "execute_result"
    }
   ],
   "source": [
    "mem_tree_params = {'max_depth': 11, 'random_state': 3}\n",
    "mem_tree = DecisionTreeRegressor(**mem_tree_gs.best_params)\n",
    "#mem_tree = DecisionTreeRegressor(**mem_tree_params)\n",
    "mem_tree.fit(mem_X_train_norm, mem_y_train)"
   ]
  },
  {
   "cell_type": "markdown",
   "id": "a890fc56-d434-4b7a-ae86-33bfdef83f6d",
   "metadata": {},
   "source": [
    "### Forest"
   ]
  },
  {
   "cell_type": "code",
   "execution_count": 60,
   "id": "expired-ireland",
   "metadata": {},
   "outputs": [
    {
     "data": {
      "text/plain": [
       "RandomForestRegressor(max_depth=14, n_estimators=500, random_state=3)"
      ]
     },
     "execution_count": 60,
     "metadata": {},
     "output_type": "execute_result"
    }
   ],
   "source": [
    "mem_forest_param_grid = {'random_state':[3], 'max_depth':range(2,15),\n",
    "                     'n_estimators':[100,200,300,500]}\n",
    "mem_forest_gs = GridSearch(model=RandomForestRegressor(), \n",
    "                           param_grid=mem_forest_param_grid,\n",
    "                           parallelize=False)\n",
    "mem_forest_gs.fit(mem_X_train_norm, mem_y_train, mem_X_val_norm, mem_y_val)"
   ]
  },
  {
   "cell_type": "code",
   "execution_count": 61,
   "id": "average-favorite",
   "metadata": {},
   "outputs": [
    {
     "data": {
      "text/plain": [
       "{'max_depth': 9, 'n_estimators': 200, 'random_state': 3}"
      ]
     },
     "execution_count": 61,
     "metadata": {},
     "output_type": "execute_result"
    }
   ],
   "source": [
    "mem_forest_gs.best_params"
   ]
  },
  {
   "cell_type": "code",
   "execution_count": 62,
   "id": "pressing-experiment",
   "metadata": {},
   "outputs": [
    {
     "data": {
      "text/plain": [
       "RandomForestRegressor(max_depth=9, n_estimators=200, random_state=3)"
      ]
     },
     "execution_count": 62,
     "metadata": {},
     "output_type": "execute_result"
    }
   ],
   "source": [
    "mem_forest = RandomForestRegressor(**mem_forest_gs.best_params)\n",
    "mem_forest_params = {'max_depth': 13, 'n_estimators': 100, 'random_state': 3}\n",
    "#mem_forest = RandomForestRegressor(**mem_forest_params)\n",
    "mem_forest.fit(mem_X_train_norm, mem_y_train)"
   ]
  },
  {
   "cell_type": "markdown",
   "id": "8539033c-71fa-4c2e-af06-f718af0e799d",
   "metadata": {},
   "source": [
    "### Gradient boosted trees"
   ]
  },
  {
   "cell_type": "code",
   "execution_count": 63,
   "id": "9df32d02-bf81-469c-b06d-0f55c138c4d7",
   "metadata": {},
   "outputs": [
    {
     "data": {
      "text/plain": [
       "GradientBoostingRegressor(max_depth=14, n_estimators=500, random_state=3)"
      ]
     },
     "execution_count": 63,
     "metadata": {},
     "output_type": "execute_result"
    }
   ],
   "source": [
    "mem_gboost_param_grid = {'random_state':[3], \n",
    "                          'max_depth':range(2,15),\n",
    "                          'n_estimators':[100,200,300,500]}\n",
    "mem_gboost_gs = GridSearch(model=GradientBoostingRegressor(),\n",
    "                            param_grid=mem_gboost_param_grid,\n",
    "                            parallelize=False)\n",
    "mem_gboost_gs.fit(mem_X_train_norm, mem_y_train, mem_X_val_norm, mem_y_val)"
   ]
  },
  {
   "cell_type": "code",
   "execution_count": 64,
   "id": "79f2d77d-c5b4-4501-bffe-51a9d85b98a0",
   "metadata": {},
   "outputs": [
    {
     "data": {
      "text/plain": [
       "{'max_depth': 4, 'n_estimators': 500, 'random_state': 3}"
      ]
     },
     "execution_count": 64,
     "metadata": {},
     "output_type": "execute_result"
    }
   ],
   "source": [
    "mem_gboost_gs.best_params"
   ]
  },
  {
   "cell_type": "code",
   "execution_count": 65,
   "id": "f01b1854-62a9-44aa-8b0f-aae1280e0881",
   "metadata": {},
   "outputs": [
    {
     "data": {
      "text/plain": [
       "GradientBoostingRegressor(max_depth=4, n_estimators=500, random_state=3)"
      ]
     },
     "execution_count": 65,
     "metadata": {},
     "output_type": "execute_result"
    }
   ],
   "source": [
    "mem_gboost = GradientBoostingRegressor(**mem_gboost_gs.best_params)\n",
    "mem_gboost_params = {'max_depth': 3, 'n_estimators': 300, 'random_state': 3}\n",
    "#mem_gboost = GradientBoostingRegressor(**mem_gboost_params)\n",
    "mem_gboost.fit(mem_X_train_norm, mem_y_train)"
   ]
  },
  {
   "cell_type": "markdown",
   "id": "affiliated-routine",
   "metadata": {},
   "source": [
    "# Model evaluation"
   ]
  },
  {
   "cell_type": "code",
   "execution_count": 36,
   "id": "7ba49d67-c289-4bd5-a167-2ed8b7d653e8",
   "metadata": {},
   "outputs": [],
   "source": [
    "def score_model(target, model):\n",
    "    if target == 'time':\n",
    "        train_score = round(model.score(time_X_train_norm, time_y_train), 4)\n",
    "        val_score = round(model.score(time_X_val_norm, time_y_val), 4)\n",
    "    elif target == 'mem':\n",
    "        train_score = round(model.score(mem_X_train_norm, mem_y_train), 4)\n",
    "        val_score = round(model.score(mem_X_val_norm, mem_y_val), 4)\n",
    "    print(f\"Training score: {train_score}\")\n",
    "    print(f\"Validation score: {val_score}\")"
   ]
  },
  {
   "cell_type": "code",
   "execution_count": 74,
   "id": "regular-white",
   "metadata": {},
   "outputs": [],
   "source": [
    "def print_feature_importances(model):\n",
    "    \"\"\"Assumes model is either a tree or a forest regressor.\"\"\"\n",
    "    \n",
    "    name_val_pairs = list(zip(X_features, [round(100*val,3) for val in model.feature_importances_]))\n",
    "    #for pair in name_val_pairs:\n",
    "        #pair[1] = round(pair[1], 3)\n",
    "    print('\\n'.join([str(item) for item in name_val_pairs]))"
   ]
  },
  {
   "cell_type": "code",
   "execution_count": 90,
   "id": "sudden-circuit",
   "metadata": {},
   "outputs": [],
   "source": [
    "def plot_performance(target, model, scale='linear', goal_line=True):\n",
    "    ax = plt.gca()\n",
    "    \n",
    "    if target == 'time':\n",
    "        pred = model.predict(time_X_val_norm)\n",
    "        val = time_y_val\n",
    "        \n",
    "    else:\n",
    "        pred = model.predict(mem_X_val_norm)\n",
    "        val = mem_y_val\n",
    "        \n",
    "    ax.scatter(pred, val, color='blueviolet', s=1.2)\n",
    "        \n",
    "    if goal_line:\n",
    "        max_value = int(max(np.amax(pred), np.amax(val)))\n",
    "        x = np.array(range(0,max_value))\n",
    "        plt.plot(x, x, color='blue')\n",
    "        \n",
    "    plt.xscale(scale)\n",
    "    plt.yscale(scale)\n",
    "    plt.xlabel(\"Predicted value\")\n",
    "    plt.ylabel(\"Actual value\")"
   ]
  },
  {
   "cell_type": "code",
   "execution_count": 85,
   "id": "59e40d20-9b4e-4a29-8148-e818741e7192",
   "metadata": {},
   "outputs": [
    {
     "name": "stdout",
     "output_type": "stream",
     "text": [
      "Training score: 0.0657\n",
      "Validation score: 0.0754\n"
     ]
    }
   ],
   "source": [
    "score_model('time', linear)"
   ]
  },
  {
   "cell_type": "code",
   "execution_count": 72,
   "id": "b5c088f0-6ac5-4018-9f88-e2fd98529dbb",
   "metadata": {},
   "outputs": [
    {
     "name": "stdout",
     "output_type": "stream",
     "text": [
      "Training score: 0.9253\n",
      "Validation score: 0.433\n"
     ]
    }
   ],
   "source": [
    "score_model('mem', mem_gboost)"
   ]
  },
  {
   "cell_type": "code",
   "execution_count": 91,
   "id": "d3ac351f-fb44-4dd8-a5c7-ab46660de1d0",
   "metadata": {},
   "outputs": [
    {
     "data": {
      "image/png": "[encoded data removed]",
      "text/plain": [
       "<Figure size 432x288 with 1 Axes>"
      ]
     },
     "metadata": {
      "needs_background": "light"
     },
     "output_type": "display_data"
    }
   ],
   "source": [
    "plot_performance('time', time_forest, scale='linear')"
   ]
  },
  {
   "cell_type": "code",
   "execution_count": null,
   "id": "b5d82fde-4c6b-4a00-89e4-d25b87c59451",
   "metadata": {},
   "outputs": [],
   "source": []
  }
 ],
 "metadata": {
  "kernelspec": {
   "display_name": "Python [conda env:root]",
   "language": "python",
   "name": "conda-root-py"
  },
  "language_info": {
   "codemirror_mode": {
    "name": "ipython",
    "version": 3
   },
   "file_extension": ".py",
   "mimetype": "text/x-python",
   "name": "python",
   "nbconvert_exporter": "python",
   "pygments_lexer": "ipython3",
   "version": "3.8.8"
  }
 },
 "nbformat": 4,
 "nbformat_minor": 5
}
